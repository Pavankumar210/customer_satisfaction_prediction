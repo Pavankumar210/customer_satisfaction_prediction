{
  "cells": [
    {
      "cell_type": "markdown",
      "metadata": {
        "id": "p3CISYpezFH0"
      },
      "source": [
        "## Data Preprocessing,Feature Engineering And Feature Selection"
      ]
    },
    {
      "cell_type": "code",
      "execution_count": null,
      "metadata": {
        "id": "oEewfbOMzBKc"
      },
      "outputs": [],
      "source": [
        "#Importing Liraries\n",
        "\n",
        "# Importing Libraries\n",
        "import warnings\n",
        "warnings.filterwarnings(\"ignore\")\n",
        "\n",
        "from tqdm import tqdm\n",
        "import shutil\n",
        "import os\n",
        "import numpy as np\n",
        "import pandas as pd\n",
        "from datetime import datetime\n",
        "import matplotlib\n",
        "matplotlib.use(u'nbAgg')\n",
        "import matplotlib.pyplot as plt\n",
        "%matplotlib inline\n",
        "import seaborn as sns\n",
        "import pickle\n",
        "import random\n",
        "from scipy.stats import randint as sp_randint\n",
        "from scipy.stats import uniform\n",
        "from scipy.sparse import hstack\n",
        "from wordcloud import WordCloud\n",
        "\n",
        "\n",
        "# Utilities\n",
        "#from viz_utils import *\n",
        "#from custom_transformers import *\n",
        "#from ml_utils import *\n",
        "\n",
        "# DataPrep\n",
        "import re\n",
        "from nltk.corpus import stopwords\n",
        "from nltk.stem import RSLPStemmer\n",
        "from sklearn.feature_extraction.text import CountVectorizer, TfidfVectorizer\n",
        "from sklearn.preprocessing import Normalizer\n",
        "\n",
        "# Modeling\n",
        "\n",
        "from sklearn.model_selection import train_test_split\n",
        "from xgboost import XGBClassifier\n",
        "from lightgbm import LGBMClassifier\n",
        "from sklearn.model_selection import RandomizedSearchCV,GridSearchCV\n",
        "from sklearn.tree import DecisionTreeClassifier\n",
        "from sklearn.calibration import CalibratedClassifierCV\n",
        "from sklearn.linear_model import SGDClassifier,LogisticRegression\n",
        "from sklearn.neighbors import KNeighborsClassifier\n",
        "from sklearn.ensemble import RandomForestClassifier, StackingClassifier, VotingClassifier, AdaBoostClassifier\n",
        "#Metrics\n",
        "from sklearn.metrics import log_loss,accuracy_score, confusion_matrix, f1_score\n",
        "\n",
        "\n",
        "\n",
        "\n",
        "\n",
        "#Importing the Libraries\n",
        "from tensorflow.keras.layers import LeakyReLU\n",
        "from tensorflow.keras.models import Model\n",
        "from tensorflow.keras.layers import Input\n",
        "from tensorflow.keras.layers import Dense\n",
        "from tensorflow.keras.layers import BatchNormalization\n",
        "from tensorflow.keras.models import load_model\n",
        "\n",
        "\n"
      ]
    },
    {
      "cell_type": "code",
      "execution_count": null,
      "metadata": {
        "colab": {
          "base_uri": "https://localhost:8080/",
          "height": 328
        },
        "id": "iXDbBMdULD5t",
        "outputId": "f86eb867-0657-4af6-cace-006b8badb80b"
      },
      "outputs": [
        {
          "output_type": "error",
          "ename": "MessageError",
          "evalue": "ignored",
          "traceback": [
            "\u001b[0;31m---------------------------------------------------------------------------\u001b[0m",
            "\u001b[0;31mMessageError\u001b[0m                              Traceback (most recent call last)",
            "\u001b[0;32m<ipython-input-3-d5df0069828e>\u001b[0m in \u001b[0;36m<module>\u001b[0;34m\u001b[0m\n\u001b[1;32m      1\u001b[0m \u001b[0;32mfrom\u001b[0m \u001b[0mgoogle\u001b[0m\u001b[0;34m.\u001b[0m\u001b[0mcolab\u001b[0m \u001b[0;32mimport\u001b[0m \u001b[0mdrive\u001b[0m\u001b[0;34m\u001b[0m\u001b[0;34m\u001b[0m\u001b[0m\n\u001b[0;32m----> 2\u001b[0;31m \u001b[0mdrive\u001b[0m\u001b[0;34m.\u001b[0m\u001b[0mmount\u001b[0m\u001b[0;34m(\u001b[0m\u001b[0;34m'/content/drive'\u001b[0m\u001b[0;34m)\u001b[0m\u001b[0;34m\u001b[0m\u001b[0;34m\u001b[0m\u001b[0m\n\u001b[0m",
            "\u001b[0;32m/usr/local/lib/python3.7/dist-packages/google/colab/drive.py\u001b[0m in \u001b[0;36mmount\u001b[0;34m(mountpoint, force_remount, timeout_ms)\u001b[0m\n\u001b[1;32m    103\u001b[0m       \u001b[0mforce_remount\u001b[0m\u001b[0;34m=\u001b[0m\u001b[0mforce_remount\u001b[0m\u001b[0;34m,\u001b[0m\u001b[0;34m\u001b[0m\u001b[0;34m\u001b[0m\u001b[0m\n\u001b[1;32m    104\u001b[0m       \u001b[0mtimeout_ms\u001b[0m\u001b[0;34m=\u001b[0m\u001b[0mtimeout_ms\u001b[0m\u001b[0;34m,\u001b[0m\u001b[0;34m\u001b[0m\u001b[0;34m\u001b[0m\u001b[0m\n\u001b[0;32m--> 105\u001b[0;31m       ephemeral=True)\n\u001b[0m\u001b[1;32m    106\u001b[0m \u001b[0;34m\u001b[0m\u001b[0m\n\u001b[1;32m    107\u001b[0m \u001b[0;34m\u001b[0m\u001b[0m\n",
            "\u001b[0;32m/usr/local/lib/python3.7/dist-packages/google/colab/drive.py\u001b[0m in \u001b[0;36m_mount\u001b[0;34m(mountpoint, force_remount, timeout_ms, ephemeral)\u001b[0m\n\u001b[1;32m    118\u001b[0m   \u001b[0;32mif\u001b[0m \u001b[0mephemeral\u001b[0m\u001b[0;34m:\u001b[0m\u001b[0;34m\u001b[0m\u001b[0;34m\u001b[0m\u001b[0m\n\u001b[1;32m    119\u001b[0m     _message.blocking_request(\n\u001b[0;32m--> 120\u001b[0;31m         'request_auth', request={'authType': 'dfs_ephemeral'}, timeout_sec=None)\n\u001b[0m\u001b[1;32m    121\u001b[0m \u001b[0;34m\u001b[0m\u001b[0m\n\u001b[1;32m    122\u001b[0m   \u001b[0mmountpoint\u001b[0m \u001b[0;34m=\u001b[0m \u001b[0m_os\u001b[0m\u001b[0;34m.\u001b[0m\u001b[0mpath\u001b[0m\u001b[0;34m.\u001b[0m\u001b[0mexpanduser\u001b[0m\u001b[0;34m(\u001b[0m\u001b[0mmountpoint\u001b[0m\u001b[0;34m)\u001b[0m\u001b[0;34m\u001b[0m\u001b[0;34m\u001b[0m\u001b[0m\n",
            "\u001b[0;32m/usr/local/lib/python3.7/dist-packages/google/colab/_message.py\u001b[0m in \u001b[0;36mblocking_request\u001b[0;34m(request_type, request, timeout_sec, parent)\u001b[0m\n\u001b[1;32m    169\u001b[0m   request_id = send_request(\n\u001b[1;32m    170\u001b[0m       request_type, request, parent=parent, expect_reply=True)\n\u001b[0;32m--> 171\u001b[0;31m   \u001b[0;32mreturn\u001b[0m \u001b[0mread_reply_from_input\u001b[0m\u001b[0;34m(\u001b[0m\u001b[0mrequest_id\u001b[0m\u001b[0;34m,\u001b[0m \u001b[0mtimeout_sec\u001b[0m\u001b[0;34m)\u001b[0m\u001b[0;34m\u001b[0m\u001b[0;34m\u001b[0m\u001b[0m\n\u001b[0m",
            "\u001b[0;32m/usr/local/lib/python3.7/dist-packages/google/colab/_message.py\u001b[0m in \u001b[0;36mread_reply_from_input\u001b[0;34m(message_id, timeout_sec)\u001b[0m\n\u001b[1;32m    100\u001b[0m         reply.get('colab_msg_id') == message_id):\n\u001b[1;32m    101\u001b[0m       \u001b[0;32mif\u001b[0m \u001b[0;34m'error'\u001b[0m \u001b[0;32min\u001b[0m \u001b[0mreply\u001b[0m\u001b[0;34m:\u001b[0m\u001b[0;34m\u001b[0m\u001b[0;34m\u001b[0m\u001b[0m\n\u001b[0;32m--> 102\u001b[0;31m         \u001b[0;32mraise\u001b[0m \u001b[0mMessageError\u001b[0m\u001b[0;34m(\u001b[0m\u001b[0mreply\u001b[0m\u001b[0;34m[\u001b[0m\u001b[0;34m'error'\u001b[0m\u001b[0;34m]\u001b[0m\u001b[0;34m)\u001b[0m\u001b[0;34m\u001b[0m\u001b[0;34m\u001b[0m\u001b[0m\n\u001b[0m\u001b[1;32m    103\u001b[0m       \u001b[0;32mreturn\u001b[0m \u001b[0mreply\u001b[0m\u001b[0;34m.\u001b[0m\u001b[0mget\u001b[0m\u001b[0;34m(\u001b[0m\u001b[0;34m'data'\u001b[0m\u001b[0;34m,\u001b[0m \u001b[0;32mNone\u001b[0m\u001b[0;34m)\u001b[0m\u001b[0;34m\u001b[0m\u001b[0;34m\u001b[0m\u001b[0m\n\u001b[1;32m    104\u001b[0m \u001b[0;34m\u001b[0m\u001b[0m\n",
            "\u001b[0;31mMessageError\u001b[0m: Error: credential propagation was unsuccessful"
          ]
        }
      ],
      "source": [
        "from google.colab import drive\n",
        "drive.mount('/content/drive')"
      ]
    },
    {
      "cell_type": "code",
      "execution_count": null,
      "metadata": {
        "colab": {
          "base_uri": "https://localhost:8080/"
        },
        "id": "8PRfAWx8LKYv",
        "outputId": "9db88e2a-fbe5-4637-c0b8-c92accb840a1"
      },
      "outputs": [
        {
          "name": "stdout",
          "output_type": "stream",
          "text": [
            "/content/drive/MyDrive/case study\n"
          ]
        }
      ],
      "source": [
        "cd /content/drive/MyDrive/case study"
      ]
    },
    {
      "cell_type": "code",
      "execution_count": null,
      "metadata": {
        "colab": {
          "base_uri": "https://localhost:8080/",
          "height": 296
        },
        "id": "ahwv0hVEAHhP",
        "outputId": "4269bc8b-85cf-4db3-87b4-ff3f5c31501d"
      },
      "outputs": [
        {
          "data": {
            "text/html": [
              "<div>\n",
              "<style scoped>\n",
              "    .dataframe tbody tr th:only-of-type {\n",
              "        vertical-align: middle;\n",
              "    }\n",
              "\n",
              "    .dataframe tbody tr th {\n",
              "        vertical-align: top;\n",
              "    }\n",
              "\n",
              "    .dataframe thead th {\n",
              "        text-align: right;\n",
              "    }\n",
              "</style>\n",
              "<table border=\"1\" class=\"dataframe\">\n",
              "  <thead>\n",
              "    <tr style=\"text-align: right;\">\n",
              "      <th></th>\n",
              "      <th>order_id</th>\n",
              "      <th>customer_id</th>\n",
              "      <th>order_status</th>\n",
              "      <th>order_purchase_timestamp</th>\n",
              "      <th>order_approved_at</th>\n",
              "      <th>order_delivered_customer_date</th>\n",
              "      <th>order_estimated_delivery_date</th>\n",
              "      <th>payment_sequential</th>\n",
              "      <th>payment_type</th>\n",
              "      <th>payment_installments</th>\n",
              "      <th>payment_value</th>\n",
              "      <th>customer_unique_id</th>\n",
              "      <th>customer_zip_code_prefix</th>\n",
              "      <th>customer_city</th>\n",
              "      <th>customer_state</th>\n",
              "      <th>order_item_id</th>\n",
              "      <th>product_id</th>\n",
              "      <th>seller_id</th>\n",
              "      <th>shipping_limit_date</th>\n",
              "      <th>price</th>\n",
              "      <th>freight_value</th>\n",
              "      <th>product_category_name</th>\n",
              "      <th>product_name_lenght</th>\n",
              "      <th>product_description_lenght</th>\n",
              "      <th>product_photos_qty</th>\n",
              "      <th>product_weight_g</th>\n",
              "      <th>product_length_cm</th>\n",
              "      <th>product_height_cm</th>\n",
              "      <th>product_width_cm</th>\n",
              "      <th>product_category_name_english</th>\n",
              "      <th>review_score</th>\n",
              "      <th>review_comment_message</th>\n",
              "      <th>order_purchase_year</th>\n",
              "      <th>order_purchase_month</th>\n",
              "      <th>order_purchase_month_name</th>\n",
              "      <th>order_purchase_year_month</th>\n",
              "      <th>order_purchase_date</th>\n",
              "      <th>order_purchase_month_yr</th>\n",
              "      <th>order_purchase_day</th>\n",
              "      <th>order_purchase_dayofweek</th>\n",
              "      <th>order_purchase_dayofweek_name</th>\n",
              "      <th>order_purchase_hour</th>\n",
              "      <th>order_purchase_time_day</th>\n",
              "      <th>day_to_delivery</th>\n",
              "      <th>words_per_review</th>\n",
              "    </tr>\n",
              "  </thead>\n",
              "  <tbody>\n",
              "    <tr>\n",
              "      <th>0</th>\n",
              "      <td>e481f51cbdc54678b7cc49136f2d6af7</td>\n",
              "      <td>9ef432eb6251297304e76186b10a928d</td>\n",
              "      <td>delivered</td>\n",
              "      <td>2017-10-02 10:56:33</td>\n",
              "      <td>2017-10-02 11:07:15</td>\n",
              "      <td>2017-10-10 21:25:13</td>\n",
              "      <td>2017-10-18</td>\n",
              "      <td>1</td>\n",
              "      <td>credit_card</td>\n",
              "      <td>1</td>\n",
              "      <td>18.12</td>\n",
              "      <td>7c396fd4830fd04220f754e42b4e5bff</td>\n",
              "      <td>3149</td>\n",
              "      <td>sao paulo</td>\n",
              "      <td>SP</td>\n",
              "      <td>1</td>\n",
              "      <td>87285b34884572647811a353c7ac498a</td>\n",
              "      <td>3504c0cb71d7fa48d967e0e4c94d59d9</td>\n",
              "      <td>2017-10-06 11:07:15</td>\n",
              "      <td>29.99</td>\n",
              "      <td>8.72</td>\n",
              "      <td>utilidades_domesticas</td>\n",
              "      <td>40.0</td>\n",
              "      <td>268.0</td>\n",
              "      <td>4.0</td>\n",
              "      <td>500.0</td>\n",
              "      <td>19.0</td>\n",
              "      <td>8.0</td>\n",
              "      <td>13.0</td>\n",
              "      <td>housewares</td>\n",
              "      <td>1</td>\n",
              "      <td>Não testei o produto ainda, mas ele veio corre...</td>\n",
              "      <td>2017</td>\n",
              "      <td>10</td>\n",
              "      <td>Oct</td>\n",
              "      <td>201710</td>\n",
              "      <td>20171002</td>\n",
              "      <td>Oct-17</td>\n",
              "      <td>2</td>\n",
              "      <td>0</td>\n",
              "      <td>Mon</td>\n",
              "      <td>10</td>\n",
              "      <td>Morning</td>\n",
              "      <td>8</td>\n",
              "      <td>32</td>\n",
              "    </tr>\n",
              "    <tr>\n",
              "      <th>3</th>\n",
              "      <td>128e10d95713541c87cd1a2e48201934</td>\n",
              "      <td>a20e8105f23924cd00833fd87daa0831</td>\n",
              "      <td>delivered</td>\n",
              "      <td>2017-08-15 18:29:31</td>\n",
              "      <td>2017-08-15 20:05:16</td>\n",
              "      <td>2017-08-18 14:44:43</td>\n",
              "      <td>2017-08-28</td>\n",
              "      <td>1</td>\n",
              "      <td>credit_card</td>\n",
              "      <td>3</td>\n",
              "      <td>37.77</td>\n",
              "      <td>3a51803cc0d012c3b5dc8b7528cb05f7</td>\n",
              "      <td>3366</td>\n",
              "      <td>sao paulo</td>\n",
              "      <td>SP</td>\n",
              "      <td>1</td>\n",
              "      <td>87285b34884572647811a353c7ac498a</td>\n",
              "      <td>3504c0cb71d7fa48d967e0e4c94d59d9</td>\n",
              "      <td>2017-08-21 20:05:16</td>\n",
              "      <td>29.99</td>\n",
              "      <td>7.78</td>\n",
              "      <td>utilidades_domesticas</td>\n",
              "      <td>40.0</td>\n",
              "      <td>268.0</td>\n",
              "      <td>4.0</td>\n",
              "      <td>500.0</td>\n",
              "      <td>19.0</td>\n",
              "      <td>8.0</td>\n",
              "      <td>13.0</td>\n",
              "      <td>housewares</td>\n",
              "      <td>1</td>\n",
              "      <td>Deveriam embalar melhor o produto. A caixa vei...</td>\n",
              "      <td>2017</td>\n",
              "      <td>8</td>\n",
              "      <td>Aug</td>\n",
              "      <td>201708</td>\n",
              "      <td>20170815</td>\n",
              "      <td>Aug-17</td>\n",
              "      <td>15</td>\n",
              "      <td>1</td>\n",
              "      <td>Tue</td>\n",
              "      <td>18</td>\n",
              "      <td>Afternoon</td>\n",
              "      <td>2</td>\n",
              "      <td>16</td>\n",
              "    </tr>\n",
              "    <tr>\n",
              "      <th>4</th>\n",
              "      <td>0e7e841ddf8f8f2de2bad69267ecfbcf</td>\n",
              "      <td>26c7ac168e1433912a51b924fbd34d34</td>\n",
              "      <td>delivered</td>\n",
              "      <td>2017-08-02 18:24:47</td>\n",
              "      <td>2017-08-02 18:43:15</td>\n",
              "      <td>2017-08-07 18:30:01</td>\n",
              "      <td>2017-08-15</td>\n",
              "      <td>1</td>\n",
              "      <td>credit_card</td>\n",
              "      <td>1</td>\n",
              "      <td>37.77</td>\n",
              "      <td>ef0996a1a279c26e7ecbd737be23d235</td>\n",
              "      <td>2290</td>\n",
              "      <td>sao paulo</td>\n",
              "      <td>SP</td>\n",
              "      <td>1</td>\n",
              "      <td>87285b34884572647811a353c7ac498a</td>\n",
              "      <td>3504c0cb71d7fa48d967e0e4c94d59d9</td>\n",
              "      <td>2017-08-08 18:37:31</td>\n",
              "      <td>29.99</td>\n",
              "      <td>7.78</td>\n",
              "      <td>utilidades_domesticas</td>\n",
              "      <td>40.0</td>\n",
              "      <td>268.0</td>\n",
              "      <td>4.0</td>\n",
              "      <td>500.0</td>\n",
              "      <td>19.0</td>\n",
              "      <td>8.0</td>\n",
              "      <td>13.0</td>\n",
              "      <td>housewares</td>\n",
              "      <td>1</td>\n",
              "      <td>Só achei ela pequena pra seis xícaras ,mais é ...</td>\n",
              "      <td>2017</td>\n",
              "      <td>8</td>\n",
              "      <td>Aug</td>\n",
              "      <td>201708</td>\n",
              "      <td>20170802</td>\n",
              "      <td>Aug-17</td>\n",
              "      <td>2</td>\n",
              "      <td>2</td>\n",
              "      <td>Wed</td>\n",
              "      <td>18</td>\n",
              "      <td>Afternoon</td>\n",
              "      <td>5</td>\n",
              "      <td>12</td>\n",
              "    </tr>\n",
              "    <tr>\n",
              "      <th>5</th>\n",
              "      <td>bfc39df4f36c3693ff3b63fcbea9e90a</td>\n",
              "      <td>53904ddbea91e1e92b2b3f1d09a7af86</td>\n",
              "      <td>delivered</td>\n",
              "      <td>2017-10-23 23:26:46</td>\n",
              "      <td>2017-10-25 02:14:11</td>\n",
              "      <td>2017-11-07 18:04:59</td>\n",
              "      <td>2017-11-13</td>\n",
              "      <td>1</td>\n",
              "      <td>boleto</td>\n",
              "      <td>1</td>\n",
              "      <td>44.09</td>\n",
              "      <td>e781fdcc107d13d865fc7698711cc572</td>\n",
              "      <td>88032</td>\n",
              "      <td>florianopolis</td>\n",
              "      <td>SC</td>\n",
              "      <td>1</td>\n",
              "      <td>87285b34884572647811a353c7ac498a</td>\n",
              "      <td>3504c0cb71d7fa48d967e0e4c94d59d9</td>\n",
              "      <td>2017-10-31 02:14:11</td>\n",
              "      <td>29.99</td>\n",
              "      <td>14.10</td>\n",
              "      <td>utilidades_domesticas</td>\n",
              "      <td>40.0</td>\n",
              "      <td>268.0</td>\n",
              "      <td>4.0</td>\n",
              "      <td>500.0</td>\n",
              "      <td>19.0</td>\n",
              "      <td>8.0</td>\n",
              "      <td>13.0</td>\n",
              "      <td>housewares</td>\n",
              "      <td>1</td>\n",
              "      <td>nao_reveja</td>\n",
              "      <td>2017</td>\n",
              "      <td>10</td>\n",
              "      <td>Oct</td>\n",
              "      <td>201710</td>\n",
              "      <td>20171023</td>\n",
              "      <td>Oct-17</td>\n",
              "      <td>23</td>\n",
              "      <td>0</td>\n",
              "      <td>Mon</td>\n",
              "      <td>23</td>\n",
              "      <td>Night</td>\n",
              "      <td>14</td>\n",
              "      <td>1</td>\n",
              "    </tr>\n",
              "    <tr>\n",
              "      <th>6</th>\n",
              "      <td>6ea2f835b4556291ffdc53fa0b3b95e8</td>\n",
              "      <td>c7340080e394356141681bd4c9b8fe31</td>\n",
              "      <td>delivered</td>\n",
              "      <td>2017-11-24 21:27:48</td>\n",
              "      <td>2017-11-25 00:21:09</td>\n",
              "      <td>2017-12-28 18:59:23</td>\n",
              "      <td>2017-12-21</td>\n",
              "      <td>1</td>\n",
              "      <td>credit_card</td>\n",
              "      <td>10</td>\n",
              "      <td>356.12</td>\n",
              "      <td>3e4fd73f1e86b135b9b121d6abbe9597</td>\n",
              "      <td>19400</td>\n",
              "      <td>presidente venceslau</td>\n",
              "      <td>SP</td>\n",
              "      <td>1</td>\n",
              "      <td>be021417a6acb56b9b50d3fd2714baa8</td>\n",
              "      <td>f5f46307a4d15880ca14fab4ad9dfc9b</td>\n",
              "      <td>2017-11-30 00:21:09</td>\n",
              "      <td>339.00</td>\n",
              "      <td>17.12</td>\n",
              "      <td>utilidades_domesticas</td>\n",
              "      <td>48.0</td>\n",
              "      <td>664.0</td>\n",
              "      <td>6.0</td>\n",
              "      <td>14300.0</td>\n",
              "      <td>38.0</td>\n",
              "      <td>34.0</td>\n",
              "      <td>34.0</td>\n",
              "      <td>housewares</td>\n",
              "      <td>0</td>\n",
              "      <td>Inicialmente, na data da compra o produto era ...</td>\n",
              "      <td>2017</td>\n",
              "      <td>11</td>\n",
              "      <td>Nov</td>\n",
              "      <td>201711</td>\n",
              "      <td>20171124</td>\n",
              "      <td>Nov-17</td>\n",
              "      <td>24</td>\n",
              "      <td>4</td>\n",
              "      <td>Fri</td>\n",
              "      <td>21</td>\n",
              "      <td>Night</td>\n",
              "      <td>33</td>\n",
              "      <td>22</td>\n",
              "    </tr>\n",
              "  </tbody>\n",
              "</table>\n",
              "</div>"
            ],
            "text/plain": [
              "                           order_id  ... words_per_review\n",
              "0  e481f51cbdc54678b7cc49136f2d6af7  ...               32\n",
              "3  128e10d95713541c87cd1a2e48201934  ...               16\n",
              "4  0e7e841ddf8f8f2de2bad69267ecfbcf  ...               12\n",
              "5  bfc39df4f36c3693ff3b63fcbea9e90a  ...                1\n",
              "6  6ea2f835b4556291ffdc53fa0b3b95e8  ...               22\n",
              "\n",
              "[5 rows x 45 columns]"
            ]
          },
          "execution_count": 6,
          "metadata": {
            "tags": []
          },
          "output_type": "execute_result"
        }
      ],
      "source": [
        "#reading data\n",
        "data = pd.read_pickle('final.pkl')\n",
        "data.head()"
      ]
    },
    {
      "cell_type": "markdown",
      "metadata": {
        "id": "oygbAk247Fpd"
      },
      "source": [
        "#1.Data Preprocessing"
      ]
    },
    {
      "cell_type": "markdown",
      "metadata": {
        "id": "47z3jAY1nBLq"
      },
      "source": [
        "## Preprocessing Review Text"
      ]
    },
    {
      "cell_type": "code",
      "execution_count": null,
      "metadata": {
        "colab": {
          "base_uri": "https://localhost:8080/"
        },
        "id": "iHXOvQGok_fj",
        "outputId": "2aa81062-56bb-49ba-ee05-370c14456e76"
      },
      "outputs": [
        {
          "name": "stdout",
          "output_type": "stream",
          "text": [
            "[nltk_data] Downloading package stopwords to /root/nltk_data...\n",
            "[nltk_data]   Unzipping corpora/stopwords.zip.\n",
            "[nltk_data] Downloading package rslp to /root/nltk_data...\n",
            "[nltk_data]   Unzipping stemmers/rslp.zip.\n"
          ]
        },
        {
          "data": {
            "text/plain": [
              "True"
            ]
          },
          "execution_count": 7,
          "metadata": {
            "tags": []
          },
          "output_type": "execute_result"
        }
      ],
      "source": [
        "#text data preprocessing\n",
        "import nltk\n",
        "nltk.download('stopwords')\n",
        "from nltk.corpus import stopwords\n",
        "import nltk\n",
        "nltk.download('rslp')"
      ]
    },
    {
      "cell_type": "code",
      "execution_count": null,
      "metadata": {
        "colab": {
          "base_uri": "https://localhost:8080/"
        },
        "id": "Hz-mF4STlLuj",
        "outputId": "f8c5082f-27c9-4849-80a9-71cc78dcbb14"
      },
      "outputs": [
        {
          "name": "stdout",
          "output_type": "stream",
          "text": [
            "Total portuguese stopwords in the nltk.corpous module: 204\n",
            "Few Stopwords: ['de', 'a', 'o', 'que', 'e', 'é', 'do', 'da', 'em', 'um', 'para', 'com', 'não', 'uma', 'os', 'no', 'se', 'na', 'por', 'mais']\n"
          ]
        }
      ],
      "source": [
        "# portugese language stopwords\n",
        "stopwords_pt = stopwords.words(\"portuguese\")\n",
        "print(f'Total portuguese stopwords in the nltk.corpous module: {len(stopwords_pt)}')\n",
        "print('Few Stopwords:',stopwords_pt[0:20])"
      ]
    },
    {
      "cell_type": "code",
      "execution_count": null,
      "metadata": {
        "id": "hDlQak1vlL_N"
      },
      "outputs": [],
      "source": [
        "#removing 'nao' & 'nem'\n",
        "stopwords_pt.remove('não')\n",
        "stopwords_pt.remove('nem')"
      ]
    },
    {
      "cell_type": "code",
      "execution_count": null,
      "metadata": {
        "colab": {
          "base_uri": "https://localhost:8080/"
        },
        "id": "21oTRHGxoIIr",
        "outputId": "f1dfe70c-73d5-44b7-9c7b-846b59f34a12"
      },
      "outputs": [
        {
          "data": {
            "text/plain": [
              "0    Não testei o produto ainda, mas ele veio corre...\n",
              "3    Deveriam embalar melhor o produto. A caixa vei...\n",
              "4    Só achei ela pequena pra seis xícaras ,mais é ...\n",
              "5                                           nao_reveja\n",
              "6    Inicialmente, na data da compra o produto era ...\n",
              "Name: review_comment_message, dtype: object"
            ]
          },
          "execution_count": 10,
          "metadata": {
            "tags": []
          },
          "output_type": "execute_result"
        }
      ],
      "source": [
        "data['review_comment_message'].head(5)"
      ]
    },
    {
      "cell_type": "code",
      "execution_count": null,
      "metadata": {
        "id": "Ud-TXIvcvF6j"
      },
      "outputs": [],
      "source": []
    },
    {
      "cell_type": "code",
      "execution_count": null,
      "metadata": {
        "id": "77tmSQbKlMCo"
      },
      "outputs": [],
      "source": [
        "#https://www.kaggle.com/camillafonseca/nlp-an-lise-de-sentimento-do-olist-para-iniciantes\n",
        "#https://www.kaggle.com/thiagopanini/e-commerce-sentiment-analysis-eda-viz-nlp\n",
        "def preprocess_text(texts):\n",
        "    hyperlinks = 'http[s]?://(?:[a-zA-Z]|[0-9]|[$-_@.&+]|[!*\\(\\),]|(?:%[0-9a-fA-F][0-9a-fA-F]))+' # check for hyperlinks\n",
        "    dates = '([0-2][0-9]|(3)[0-1])(\\/|\\.)(((0)[0-9])|((1)[0-2]))(\\/|\\.)\\d{2,4}' # check for dates\n",
        "    currency_symbols = '[R]{0,1}\\$[ ]{0,}\\d+(,|\\.)\\d+' # check for currency symbols\n",
        "    preprocessed_text = []\n",
        "    stemmer = RSLPStemmer() # portugese nltk stemmer\n",
        "    for sent in tqdm(texts):\n",
        "        sent = re.sub(r\"[\\n\\t\\-\\\\\\/]\",\" \",sent)#removing the new line,tab  \n",
        "        sent = re.sub(hyperlinks, ' url ', sent) # replacing hyperlinks with 'url'\n",
        "        sent = re.sub(dates, ' ', sent) # removing dates\n",
        "        sent = re.sub(currency_symbols, ' dinheiro ', sent) # replacing currency symbols with 'dinheiro'\n",
        "        sent = re.sub('[0-9]+', ' numero ', sent) # removing digits\n",
        "        sent = re.sub('([nN][ãÃaA][oO]|[ñÑ]| [nN] )', ' negação ', sent) # replacing no with negative\n",
        "        sent = re.sub('\\W', ' ', sent) # removing extra whitespaces\n",
        "        sent = re.sub('\\s+', ' ', sent) # removing extra spaces\n",
        "        sent = ' '.join(e for e in sent.split() if e.lower() not in stopwords_pt) # removing stopwords\n",
        "        sent = ' '.join(stemmer.stem(e.lower()) for e in sent.split()) # stemming the words\n",
        "        preprocessed_text.append(sent.lower().strip())\n",
        "        \n",
        "    return preprocessed_text"
      ]
    },
    {
      "cell_type": "code",
      "execution_count": null,
      "metadata": {
        "colab": {
          "base_uri": "https://localhost:8080/"
        },
        "id": "b3gI4Z10t4KY",
        "outputId": "97d81212-2d25-41c2-ce68-6a001c1170cd"
      },
      "outputs": [
        {
          "name": "stderr",
          "output_type": "stream",
          "text": [
            "100%|██████████| 97255/97255 [00:23<00:00, 4084.24it/s]\n"
          ]
        }
      ],
      "source": [
        "processed_text = preprocess_text(data['review_comment_message'].values)"
      ]
    },
    {
      "cell_type": "code",
      "execution_count": null,
      "metadata": {
        "colab": {
          "base_uri": "https://localhost:8080/"
        },
        "id": "bVEaHHcOyxjI",
        "outputId": "a385f069-137c-4b63-c5d2-dc63d6ad2517"
      },
      "outputs": [
        {
          "data": {
            "text/plain": [
              "0    neg test produt aind vei corret boa cond apen ...\n",
              "3    dev embal melhor produt caix vei tod amass vou...\n",
              "4                   ach pequen pra seil xíc bom produt\n",
              "5                                           neg _revej\n",
              "6    inic dat compr produt ser entreg numer numer h...\n",
              "Name: review_comment_message, dtype: object"
            ]
          },
          "execution_count": 14,
          "metadata": {
            "tags": []
          },
          "output_type": "execute_result"
        }
      ],
      "source": [
        "data['review_comment_message'] = processed_text\n",
        "data['review_comment_message'].head(5)"
      ]
    },
    {
      "cell_type": "code",
      "execution_count": null,
      "metadata": {
        "id": "gR2MO3rMgVbP"
      },
      "outputs": [],
      "source": [
        "col= ['order_id',\n",
        " 'customer_id',\n",
        " 'order_purchase_timestamp',\n",
        " 'order_approved_at',\n",
        " 'order_delivered_customer_date',\n",
        " 'order_estimated_delivery_date',\n",
        "  'customer_unique_id',\n",
        " 'order_item_id',\n",
        " 'product_id',\n",
        " 'seller_id',\n",
        " 'shipping_limit_date',\n",
        " 'order_purchase_month_name',\n",
        " 'order_purchase_year_month',\n",
        " 'order_purchase_date',\n",
        " 'order_purchase_month_yr',\n",
        " 'order_purchase_day',\n",
        " 'order_purchase_dayofweek',\n",
        " 'order_purchase_dayofweek_name',\n",
        " 'order_purchase_hour',\n",
        " 'order_purchase_time_day','customer_city','customer_zip_code_prefix','product_category_name']"
      ]
    },
    {
      "cell_type": "code",
      "execution_count": null,
      "metadata": {
        "id": "tTapMWUrBgPY"
      },
      "outputs": [],
      "source": [
        "data.drop(columns=col,axis=1,inplace=True)"
      ]
    },
    {
      "cell_type": "code",
      "execution_count": null,
      "metadata": {
        "colab": {
          "base_uri": "https://localhost:8080/",
          "height": 296
        },
        "id": "pe1SeYr2VDHO",
        "outputId": "d0129afd-1a3f-4715-aa9e-a3e4683f02b6"
      },
      "outputs": [
        {
          "data": {
            "text/html": [
              "<div>\n",
              "<style scoped>\n",
              "    .dataframe tbody tr th:only-of-type {\n",
              "        vertical-align: middle;\n",
              "    }\n",
              "\n",
              "    .dataframe tbody tr th {\n",
              "        vertical-align: top;\n",
              "    }\n",
              "\n",
              "    .dataframe thead th {\n",
              "        text-align: right;\n",
              "    }\n",
              "</style>\n",
              "<table border=\"1\" class=\"dataframe\">\n",
              "  <thead>\n",
              "    <tr style=\"text-align: right;\">\n",
              "      <th></th>\n",
              "      <th>order_status</th>\n",
              "      <th>payment_sequential</th>\n",
              "      <th>payment_type</th>\n",
              "      <th>payment_installments</th>\n",
              "      <th>payment_value</th>\n",
              "      <th>customer_state</th>\n",
              "      <th>price</th>\n",
              "      <th>freight_value</th>\n",
              "      <th>product_name_lenght</th>\n",
              "      <th>product_description_lenght</th>\n",
              "      <th>product_photos_qty</th>\n",
              "      <th>product_weight_g</th>\n",
              "      <th>product_length_cm</th>\n",
              "      <th>product_height_cm</th>\n",
              "      <th>product_width_cm</th>\n",
              "      <th>product_category_name_english</th>\n",
              "      <th>review_score</th>\n",
              "      <th>review_comment_message</th>\n",
              "      <th>order_purchase_year</th>\n",
              "      <th>order_purchase_month</th>\n",
              "      <th>day_to_delivery</th>\n",
              "      <th>words_per_review</th>\n",
              "    </tr>\n",
              "  </thead>\n",
              "  <tbody>\n",
              "    <tr>\n",
              "      <th>0</th>\n",
              "      <td>delivered</td>\n",
              "      <td>1</td>\n",
              "      <td>credit_card</td>\n",
              "      <td>1</td>\n",
              "      <td>18.12</td>\n",
              "      <td>SP</td>\n",
              "      <td>29.99</td>\n",
              "      <td>8.72</td>\n",
              "      <td>40.0</td>\n",
              "      <td>268.0</td>\n",
              "      <td>4.0</td>\n",
              "      <td>500.0</td>\n",
              "      <td>19.0</td>\n",
              "      <td>8.0</td>\n",
              "      <td>13.0</td>\n",
              "      <td>housewares</td>\n",
              "      <td>1</td>\n",
              "      <td>neg test produt aind vei corret boa cond apen ...</td>\n",
              "      <td>2017</td>\n",
              "      <td>10</td>\n",
              "      <td>8</td>\n",
              "      <td>32</td>\n",
              "    </tr>\n",
              "    <tr>\n",
              "      <th>3</th>\n",
              "      <td>delivered</td>\n",
              "      <td>1</td>\n",
              "      <td>credit_card</td>\n",
              "      <td>3</td>\n",
              "      <td>37.77</td>\n",
              "      <td>SP</td>\n",
              "      <td>29.99</td>\n",
              "      <td>7.78</td>\n",
              "      <td>40.0</td>\n",
              "      <td>268.0</td>\n",
              "      <td>4.0</td>\n",
              "      <td>500.0</td>\n",
              "      <td>19.0</td>\n",
              "      <td>8.0</td>\n",
              "      <td>13.0</td>\n",
              "      <td>housewares</td>\n",
              "      <td>1</td>\n",
              "      <td>dev embal melhor produt caix vei tod amass vou...</td>\n",
              "      <td>2017</td>\n",
              "      <td>8</td>\n",
              "      <td>2</td>\n",
              "      <td>16</td>\n",
              "    </tr>\n",
              "    <tr>\n",
              "      <th>4</th>\n",
              "      <td>delivered</td>\n",
              "      <td>1</td>\n",
              "      <td>credit_card</td>\n",
              "      <td>1</td>\n",
              "      <td>37.77</td>\n",
              "      <td>SP</td>\n",
              "      <td>29.99</td>\n",
              "      <td>7.78</td>\n",
              "      <td>40.0</td>\n",
              "      <td>268.0</td>\n",
              "      <td>4.0</td>\n",
              "      <td>500.0</td>\n",
              "      <td>19.0</td>\n",
              "      <td>8.0</td>\n",
              "      <td>13.0</td>\n",
              "      <td>housewares</td>\n",
              "      <td>1</td>\n",
              "      <td>ach pequen pra seil xíc bom produt</td>\n",
              "      <td>2017</td>\n",
              "      <td>8</td>\n",
              "      <td>5</td>\n",
              "      <td>12</td>\n",
              "    </tr>\n",
              "    <tr>\n",
              "      <th>5</th>\n",
              "      <td>delivered</td>\n",
              "      <td>1</td>\n",
              "      <td>boleto</td>\n",
              "      <td>1</td>\n",
              "      <td>44.09</td>\n",
              "      <td>SC</td>\n",
              "      <td>29.99</td>\n",
              "      <td>14.10</td>\n",
              "      <td>40.0</td>\n",
              "      <td>268.0</td>\n",
              "      <td>4.0</td>\n",
              "      <td>500.0</td>\n",
              "      <td>19.0</td>\n",
              "      <td>8.0</td>\n",
              "      <td>13.0</td>\n",
              "      <td>housewares</td>\n",
              "      <td>1</td>\n",
              "      <td>neg _revej</td>\n",
              "      <td>2017</td>\n",
              "      <td>10</td>\n",
              "      <td>14</td>\n",
              "      <td>1</td>\n",
              "    </tr>\n",
              "    <tr>\n",
              "      <th>6</th>\n",
              "      <td>delivered</td>\n",
              "      <td>1</td>\n",
              "      <td>credit_card</td>\n",
              "      <td>10</td>\n",
              "      <td>356.12</td>\n",
              "      <td>SP</td>\n",
              "      <td>339.00</td>\n",
              "      <td>17.12</td>\n",
              "      <td>48.0</td>\n",
              "      <td>664.0</td>\n",
              "      <td>6.0</td>\n",
              "      <td>14300.0</td>\n",
              "      <td>38.0</td>\n",
              "      <td>34.0</td>\n",
              "      <td>34.0</td>\n",
              "      <td>housewares</td>\n",
              "      <td>0</td>\n",
              "      <td>inic dat compr produt ser entreg numer numer h...</td>\n",
              "      <td>2017</td>\n",
              "      <td>11</td>\n",
              "      <td>33</td>\n",
              "      <td>22</td>\n",
              "    </tr>\n",
              "  </tbody>\n",
              "</table>\n",
              "</div>"
            ],
            "text/plain": [
              "  order_status  payment_sequential  ... day_to_delivery  words_per_review\n",
              "0    delivered                   1  ...               8                32\n",
              "3    delivered                   1  ...               2                16\n",
              "4    delivered                   1  ...               5                12\n",
              "5    delivered                   1  ...              14                 1\n",
              "6    delivered                   1  ...              33                22\n",
              "\n",
              "[5 rows x 22 columns]"
            ]
          },
          "execution_count": 17,
          "metadata": {
            "tags": []
          },
          "output_type": "execute_result"
        }
      ],
      "source": [
        "data.head()"
      ]
    },
    {
      "cell_type": "markdown",
      "metadata": {
        "id": "N--xnkmGiNNm"
      },
      "source": [
        "<h3>Splitting data into Train and Test: Stratified Sampling</h3>\n"
      ]
    },
    {
      "cell_type": "code",
      "execution_count": null,
      "metadata": {
        "colab": {
          "base_uri": "https://localhost:8080/",
          "height": 193
        },
        "id": "XgRaWFdzSGqr",
        "outputId": "2adbb3b3-1284-4086-8ca2-cc3be118b224"
      },
      "outputs": [
        {
          "name": "stdout",
          "output_type": "stream",
          "text": [
            "      X          y\n",
            "(97255, 21) (97255,)\n",
            "\n",
            "\n"
          ]
        },
        {
          "data": {
            "text/html": [
              "<div>\n",
              "<style scoped>\n",
              "    .dataframe tbody tr th:only-of-type {\n",
              "        vertical-align: middle;\n",
              "    }\n",
              "\n",
              "    .dataframe tbody tr th {\n",
              "        vertical-align: top;\n",
              "    }\n",
              "\n",
              "    .dataframe thead th {\n",
              "        text-align: right;\n",
              "    }\n",
              "</style>\n",
              "<table border=\"1\" class=\"dataframe\">\n",
              "  <thead>\n",
              "    <tr style=\"text-align: right;\">\n",
              "      <th></th>\n",
              "      <th>order_status</th>\n",
              "      <th>payment_sequential</th>\n",
              "      <th>payment_type</th>\n",
              "      <th>payment_installments</th>\n",
              "      <th>payment_value</th>\n",
              "      <th>customer_state</th>\n",
              "      <th>price</th>\n",
              "      <th>freight_value</th>\n",
              "      <th>product_name_lenght</th>\n",
              "      <th>product_description_lenght</th>\n",
              "      <th>product_photos_qty</th>\n",
              "      <th>product_weight_g</th>\n",
              "      <th>product_length_cm</th>\n",
              "      <th>product_height_cm</th>\n",
              "      <th>product_width_cm</th>\n",
              "      <th>product_category_name_english</th>\n",
              "      <th>review_comment_message</th>\n",
              "      <th>order_purchase_year</th>\n",
              "      <th>order_purchase_month</th>\n",
              "      <th>day_to_delivery</th>\n",
              "      <th>words_per_review</th>\n",
              "    </tr>\n",
              "  </thead>\n",
              "  <tbody>\n",
              "    <tr>\n",
              "      <th>0</th>\n",
              "      <td>delivered</td>\n",
              "      <td>1</td>\n",
              "      <td>credit_card</td>\n",
              "      <td>1</td>\n",
              "      <td>18.12</td>\n",
              "      <td>SP</td>\n",
              "      <td>29.99</td>\n",
              "      <td>8.72</td>\n",
              "      <td>40.0</td>\n",
              "      <td>268.0</td>\n",
              "      <td>4.0</td>\n",
              "      <td>500.0</td>\n",
              "      <td>19.0</td>\n",
              "      <td>8.0</td>\n",
              "      <td>13.0</td>\n",
              "      <td>housewares</td>\n",
              "      <td>neg test produt aind vei corret boa cond apen ...</td>\n",
              "      <td>2017</td>\n",
              "      <td>10</td>\n",
              "      <td>8</td>\n",
              "      <td>32</td>\n",
              "    </tr>\n",
              "  </tbody>\n",
              "</table>\n",
              "</div>"
            ],
            "text/plain": [
              "  order_status  payment_sequential  ... day_to_delivery  words_per_review\n",
              "0    delivered                   1  ...               8                32\n",
              "\n",
              "[1 rows x 21 columns]"
            ]
          },
          "execution_count": 18,
          "metadata": {
            "tags": []
          },
          "output_type": "execute_result"
        }
      ],
      "source": [
        "y = data['review_score'].values\n",
        "X = data.drop(['review_score'], axis=1)\n",
        "print(\"      X \",\"        y\")\n",
        "print(X.shape,y.shape)\n",
        "print('\\n')\n",
        "X.head(1)   "
      ]
    },
    {
      "cell_type": "code",
      "execution_count": null,
      "metadata": {
        "colab": {
          "base_uri": "https://localhost:8080/"
        },
        "id": "SUwljGsJR8P5",
        "outputId": "fd982109-928d-401f-9bc2-70c88a13667d"
      },
      "outputs": [
        {
          "name": "stdout",
          "output_type": "stream",
          "text": [
            " X_train    y_train\n",
            "(77804, 21) (77804,)\n",
            "---------------\n",
            "X_test     y_test\n",
            "(19451, 21) (19451,)\n"
          ]
        }
      ],
      "source": [
        "# train test split\n",
        "from sklearn.model_selection import train_test_split\n",
        "X_train, X_test, y_train, y_test = train_test_split(X, y, test_size=0.2, stratify=y,random_state=25)\n",
        "\n",
        "\n",
        "print(\" X_train\",\"   y_train\")\n",
        "print(X_train.shape,y_train.shape)\n",
        "print('-'*15)\n",
        "print(\"X_test\",\"    y_test\")\n",
        "print(X_test.shape,y_test.shape)"
      ]
    },
    {
      "cell_type": "code",
      "execution_count": null,
      "metadata": {
        "id": "lr6cY5wzY9QZ"
      },
      "outputs": [],
      "source": []
    },
    {
      "cell_type": "markdown",
      "metadata": {
        "id": "2jMO_pdzz10E"
      },
      "source": [
        "#2.Featurization"
      ]
    },
    {
      "cell_type": "markdown",
      "metadata": {
        "id": "U8_zsSEYR007"
      },
      "source": [
        "## Encoding Categorical Features\n",
        "\n",
        "\n",
        "\n"
      ]
    },
    {
      "cell_type": "markdown",
      "metadata": {
        "id": "l6E1LlTtiazt"
      },
      "source": [
        "### Encoding Categorical Features: order_status"
      ]
    },
    {
      "cell_type": "code",
      "execution_count": null,
      "metadata": {
        "colab": {
          "base_uri": "https://localhost:8080/"
        },
        "id": "DhQwXS42QEwt",
        "outputId": "a4bd84a7-dc36-48ec-d9c8-2c5152505bb2"
      },
      "outputs": [
        {
          "name": "stdout",
          "output_type": "stream",
          "text": [
            "After vectorizations\n",
            "(77804, 7) (77804,)\n",
            "(77804, 7) (19451,)\n",
            "['approved', 'canceled', 'delivered', 'invoiced', 'processing', 'shipped', 'unavailable']\n"
          ]
        }
      ],
      "source": [
        "vect_os_tr = CountVectorizer(binary= True)\n",
        "vect_os_tr.fit(X_train['order_status'].values) # fit has to happen only on train data\n",
        "\n",
        "# we use the fitted CountVectorizer to convert the text to vector\n",
        "order_st_tr = vect_os_tr.transform(X_train['order_status'].values)\n",
        "\n",
        "order_st_te = vect_os_tr.transform(X_test['order_status'].values)\n",
        "name_os =vect_os_tr.get_feature_names()\n",
        "\n",
        "print(\"After vectorizations\")\n",
        "print(order_st_tr.shape, y_train.shape)\n",
        "print(order_st_tr.shape, y_test.shape)\n",
        "print(name_os)"
      ]
    },
    {
      "cell_type": "markdown",
      "metadata": {
        "id": "dHYKqgTfiraa"
      },
      "source": [
        "### Encoding Categorical Features:payment_type"
      ]
    },
    {
      "cell_type": "code",
      "execution_count": null,
      "metadata": {
        "colab": {
          "base_uri": "https://localhost:8080/"
        },
        "id": "VNMrk9EBQEzd",
        "outputId": "1c8e424a-8a98-4757-e3ec-fb963f8cf6f3"
      },
      "outputs": [
        {
          "name": "stdout",
          "output_type": "stream",
          "text": [
            "After vectorizations\n",
            "(77804, 4) (77804,)\n",
            "(77804, 4) (19451,)\n"
          ]
        }
      ],
      "source": [
        "vectorizer = CountVectorizer(binary= True)\n",
        "vectorizer.fit(X_train['payment_type'].values) # fit has to happen only on train data\n",
        "\n",
        "# we use the fitted CountVectorizer to convert the text to vector\n",
        "pay_typ_tr = vectorizer.transform(X_train['payment_type'].values)\n",
        "\n",
        "pay_typ_te = vectorizer.transform(X_test['payment_type'].values)\n",
        "name_typ = vectorizer.get_feature_names()\n",
        "print(\"After vectorizations\")\n",
        "print(pay_typ_tr.shape, y_train.shape)\n",
        "print(pay_typ_tr.shape, y_test.shape)\n"
      ]
    },
    {
      "cell_type": "markdown",
      "metadata": {
        "id": "GNavCos_ivBk"
      },
      "source": [
        "### Encoding Categorical Features:product_category_name_english"
      ]
    },
    {
      "cell_type": "code",
      "execution_count": null,
      "metadata": {
        "colab": {
          "base_uri": "https://localhost:8080/"
        },
        "id": "t-x8u-e0QE3d",
        "outputId": "295f22e8-1484-4e34-eae5-92d580b54ae2"
      },
      "outputs": [
        {
          "name": "stdout",
          "output_type": "stream",
          "text": [
            "After vectorizations\n",
            "(77804, 71) (77804,)\n",
            "(77804, 71) (19451,)\n"
          ]
        }
      ],
      "source": [
        "vectorizer = CountVectorizer(binary= True)\n",
        "vectorizer.fit(X_train['product_category_name_english'].values) # fit has to happen only on train data\n",
        "\n",
        "# we use the fitted CountVectorizer to convert the text to vector\n",
        "prod_cat_tr = vectorizer.transform(X_train['product_category_name_english'].values)\n",
        "\n",
        "prod_cat_te = vectorizer.transform(X_test['product_category_name_english'].values)\n",
        "name_prd = vectorizer.get_feature_names()\n",
        "print(\"After vectorizations\")\n",
        "print(prod_cat_tr.shape, y_train.shape)\n",
        "print(prod_cat_tr.shape, y_test.shape)"
      ]
    },
    {
      "cell_type": "markdown",
      "metadata": {
        "id": "Es_rIm1gi3xN"
      },
      "source": [
        "### Encoding Categorical Features: customer_state"
      ]
    },
    {
      "cell_type": "code",
      "execution_count": null,
      "metadata": {
        "colab": {
          "base_uri": "https://localhost:8080/"
        },
        "id": "TTV1p9GQQE5g",
        "outputId": "4e86b3a4-9822-4809-8432-e1d5662088c2"
      },
      "outputs": [
        {
          "name": "stdout",
          "output_type": "stream",
          "text": [
            "After vectorizations\n",
            "(77804, 27) (77804,)\n",
            "(77804, 27) (19451,)\n"
          ]
        }
      ],
      "source": [
        "vectorizer = CountVectorizer(binary= True)\n",
        "vectorizer.fit(X_train['customer_state'].values) # fit has to happen only on train data\n",
        "\n",
        "# we use the fitted CountVectorizer to convert the text to vector\n",
        "state_tr = vectorizer.transform(X_train['customer_state'].values)\n",
        "\n",
        "state_te = vectorizer.transform(X_test['customer_state'].values)\n",
        "name_st = vectorizer.get_feature_names()\n",
        "\n",
        "print(\"After vectorizations\")\n",
        "print(state_tr.shape, y_train.shape)\n",
        "print(state_tr.shape, y_test.shape)"
      ]
    },
    {
      "cell_type": "markdown",
      "metadata": {
        "id": "3K59lQyUi_rZ"
      },
      "source": [
        "## Featurization of text data"
      ]
    },
    {
      "cell_type": "code",
      "execution_count": null,
      "metadata": {
        "id": "xaR0rP-0_-GE"
      },
      "outputs": [],
      "source": [
        "import fasttext.util\n",
        "fasttext.util.download_model('pt', if_exists='ignore')  #Portuguese"
      ]
    },
    {
      "cell_type": "code",
      "execution_count": null,
      "metadata": {
        "id": "2D2j7GCbQFBr"
      },
      "outputs": [],
      "source": [
        "from gensim.models import FastText\n",
        "ft_model = FastText.load_fasttext_format('/content/drive/MyDrive/case study/cc.pt.300.bin')"
      ]
    },
    {
      "cell_type": "code",
      "execution_count": null,
      "metadata": {
        "colab": {
          "base_uri": "https://localhost:8080/"
        },
        "id": "Vr9rOVmpQFI4",
        "outputId": "45f99515-d8fb-4f42-db25-644e29436b38"
      },
      "outputs": [
        {
          "data": {
            "text/plain": [
              "(300,)"
            ]
          },
          "execution_count": 27,
          "metadata": {
            "tags": []
          },
          "output_type": "execute_result"
        }
      ],
      "source": [
        "ft_model.wv['melhor'].shape"
      ]
    },
    {
      "cell_type": "code",
      "execution_count": null,
      "metadata": {
        "colab": {
          "base_uri": "https://localhost:8080/"
        },
        "id": "SAlwq2lxQFLA",
        "outputId": "b0914271-2dfe-46dc-b814-f1bf48ab1af9"
      },
      "outputs": [
        {
          "data": {
            "text/plain": [
              "[('produts', 0.6906509399414062),\n",
              " ('produ', 0.6056191921234131),\n",
              " ('produtoa', 0.5977535843849182),\n",
              " ('produe', 0.57929527759552),\n",
              " ('produto', 0.5772074460983276),\n",
              " ('produtos', 0.5754655003547668),\n",
              " ('produtoo', 0.5647249221801758),\n",
              " ('protudo', 0.5558850765228271),\n",
              " ('produtoe', 0.5553520321846008),\n",
              " ('vend', 0.5546207427978516)]"
            ]
          },
          "execution_count": 28,
          "metadata": {
            "tags": []
          },
          "output_type": "execute_result"
        }
      ],
      "source": [
        "ft_model.similar_by_vector('produt')"
      ]
    },
    {
      "cell_type": "code",
      "execution_count": null,
      "metadata": {
        "id": "Vksh_XvlV72A"
      },
      "outputs": [],
      "source": [
        "def tfidfWord2Vector(text,ft_words,tfidf_words,tf_values):\n",
        "    # average Word2Vec\n",
        "    # compute average word2vec for each review.\n",
        "    tfidf_w2v_vectors = []; # the avg-w2v for each sentence/review is stored in this list\n",
        "    for sentence in tqdm(text): # for each review/sentence\n",
        "        vector = np.zeros(300) # as word vectors are of zero length\n",
        "        tf_idf_weight =0; # num of words with a valid vector in the sentence/review\n",
        "        for word in sentence.split(): # for each word in a review/sentence\n",
        "            if (word in ft_words) and (word in tfidf_words):\n",
        "                vec = ft_model.wv[word] # embeddings[word] \n",
        "                # here we are multiplying idf value(dictionary[word]) and the tf value((sentence.count(word)/len(sentence.split())))\n",
        "                tf_idf = tf_values[word]*(sentence.count(word)/len(sentence.split())) # getting the tfidf value for each word\n",
        "                vector += (vec * tf_idf) # calculating tfidf weighted w2v\n",
        "                tf_idf_weight += tf_idf\n",
        "        if tf_idf_weight != 0:\n",
        "            vector /= tf_idf_weight\n",
        "        tfidf_w2v_vectors.append(vector)\n",
        "    tfidf_w2v_vectors = np.asarray(tfidf_w2v_vectors)\n",
        "    \n",
        "    return tfidf_w2v_vectors"
      ]
    },
    {
      "cell_type": "code",
      "execution_count": null,
      "metadata": {
        "colab": {
          "base_uri": "https://localhost:8080/"
        },
        "id": "deg3KVtXV75f",
        "outputId": "8229df8a-e7f7-44d3-fb5e-98efd54e239e"
      },
      "outputs": [
        {
          "name": "stderr",
          "output_type": "stream",
          "text": [
            "100%|██████████| 77804/77804 [1:34:24<00:00, 13.74it/s]\n",
            "100%|██████████| 19451/19451 [23:41<00:00, 13.68it/s]\n"
          ]
        }
      ],
      "source": [
        "# encoding review comment message using Tfidf weighted W2V\n",
        "tfidf = TfidfVectorizer()\n",
        "tfidf.fit(X_train['review_comment_message'])\n",
        "\n",
        "\n",
        "# we are converting a dictionary with word as a key, and the idf as a value\n",
        "tf_values = dict(zip(tfidf.get_feature_names(), list(tfidf.idf_)))\n",
        "tfidf_words = set(tfidf.get_feature_names())\n",
        "ft_words = list(ft_model.wv.vocab.keys()) # list(embeddings.keys())\n",
        "\n",
        "tfidf_w2v_vectors_train = tfidfWord2Vector(X_train['review_comment_message'].values,ft_words,tfidf_words,tf_values)\n",
        "tfidf_w2v_vectors_test = tfidfWord2Vector(X_test['review_comment_message'].values,ft_words,tfidf_words,tf_values)"
      ]
    },
    {
      "cell_type": "code",
      "execution_count": null,
      "metadata": {
        "id": "TUVqrNHuV78m"
      },
      "outputs": [],
      "source": [
        "pickle.dump(tfidf_w2v_vectors_train,open('tfidf_w2v_vectors_train_1.pkl','wb'))\n",
        "pickle.dump(tfidf_w2v_vectors_test,open('tfidf_w2v_vectors_test_1.pkl','wb'))"
      ]
    },
    {
      "cell_type": "code",
      "execution_count": null,
      "metadata": {
        "id": "58psdvSuLMTb"
      },
      "outputs": [],
      "source": [
        "tfidf_w2v_vectors_train = pickle.load( open('tfidf_w2v_vectors_train.pkl','rb'))"
      ]
    },
    {
      "cell_type": "code",
      "execution_count": null,
      "metadata": {
        "id": "qldYZbiJfWNT"
      },
      "outputs": [],
      "source": [
        "tfidf_w2v_vectors_test = pickle.load( open('tfidf_w2v_vectors_test.pkl','rb'))"
      ]
    },
    {
      "cell_type": "markdown",
      "metadata": {
        "id": "ddnD0iCtXJgD"
      },
      "source": [
        "## Numerical_features"
      ]
    },
    {
      "cell_type": "code",
      "execution_count": null,
      "metadata": {
        "id": "uH_Nj5yqV8Ae"
      },
      "outputs": [],
      "source": [
        "from sklearn.preprocessing import Normalizer\n",
        "def normalizer(col):\n",
        "  normalizer = Normalizer()\n",
        "  normalizer.fit(X_train[col].values.reshape(1,-1))\n",
        "  X_train_norm = normalizer.transform(X_train[col].values.reshape(-1,1))\n",
        "  X_test_norm = normalizer.transform(X_test[col].values.reshape(-1,1))\n",
        "  return X_train_norm,X_test_norm"
      ]
    },
    {
      "cell_type": "code",
      "execution_count": null,
      "metadata": {
        "id": "7HTMPdOA5DXU"
      },
      "outputs": [],
      "source": [
        "# numerical features\n",
        "num=['payment_sequential',\n",
        " 'payment_installments',\n",
        " 'payment_value',\n",
        " 'price',\n",
        " 'freight_value',\n",
        " 'product_name_lenght',\n",
        " 'product_description_lenght',\n",
        " 'product_photos_qty',\n",
        " 'product_weight_g',\n",
        " 'product_length_cm',\n",
        " 'product_height_cm',\n",
        " 'product_width_cm',\n",
        " 'day_to_delivery']"
      ]
    },
    {
      "cell_type": "code",
      "execution_count": null,
      "metadata": {
        "id": "71SHPDvQ5Dat"
      },
      "outputs": [],
      "source": [
        "tr=[]\n",
        "te=[]\n",
        "for i in num:\n",
        "  a,b = normalizer(i)\n",
        "  tr.append(a)\n",
        "  te.append(b)"
      ]
    },
    {
      "cell_type": "code",
      "execution_count": null,
      "metadata": {
        "colab": {
          "base_uri": "https://localhost:8080/"
        },
        "id": "GcDC_qkK5DkO",
        "outputId": "6e9e8f53-e3ea-4b4a-83dc-a458790f1151"
      },
      "outputs": [
        {
          "name": "stdout",
          "output_type": "stream",
          "text": [
            "Final Data matrix\n",
            "(77804, 13) (77804,)\n",
            "(19451, 13) (19451,)\n"
          ]
        }
      ],
      "source": [
        "from scipy.sparse import hstack,csr_matrix\n",
        "import numpy as np\n",
        "\n",
        "X_tr_num = np.hstack((tr))\n",
        "X_te_num = np.hstack((te))\n",
        "\n",
        "\n",
        "print(\"Final Data matrix\")\n",
        "print(X_tr_num.shape, y_train.shape)\n",
        "print(X_te_num.shape, y_test.shape)"
      ]
    },
    {
      "cell_type": "code",
      "execution_count": null,
      "metadata": {
        "colab": {
          "base_uri": "https://localhost:8080/"
        },
        "id": "KgnT-DSWIlvU",
        "outputId": "2e0c0f83-1dd1-4591-8046-676b59c56c17"
      },
      "outputs": [
        {
          "name": "stdout",
          "output_type": "stream",
          "text": [
            "Final Data matrix\n",
            "(77804, 422) (77804,)\n",
            "(19451, 422) (19451,)\n",
            "====================================================================================================\n",
            "\n"
          ]
        }
      ],
      "source": [
        "# merge two sparse matrices: https://stackoverflow.com/a/19710648/4084039\n",
        "from scipy.sparse import hstack\n",
        "X_tr = hstack((tfidf_w2v_vectors_train,order_st_tr,pay_typ_tr,prod_cat_tr,state_tr,X_tr_num)).tocsr()\n",
        "X_te = hstack((tfidf_w2v_vectors_test,order_st_te,pay_typ_te,prod_cat_te,state_te,X_te_num)).tocsr()\n",
        "\n",
        "print(\"Final Data matrix\")\n",
        "print(X_tr.shape, y_train.shape)\n",
        "\n",
        "print(X_te.shape, y_test.shape)\n",
        "print(\"=\"*100)\n",
        "print('')"
      ]
    },
    {
      "cell_type": "markdown",
      "metadata": {
        "id": "d6mIUjUmJciI"
      },
      "source": [
        "#3.Baseline Models"
      ]
    },
    {
      "cell_type": "markdown",
      "metadata": {
        "id": "9H9xHlrQ1A34"
      },
      "source": [
        "### Random Model"
      ]
    },
    {
      "cell_type": "code",
      "execution_count": null,
      "metadata": {
        "id": "zzZcW3o3i1L_"
      },
      "outputs": [],
      "source": [
        "def confusion_matrices_plot(y_real, y_pred, y_test,y_test_pred,name):\n",
        "    # representing confusion matric in heatmap format\n",
        "    # https://seaborn.pydata.org/generated/seaborn.heatmap.html\n",
        "    cmap_ = sns.light_palette(\"#425a90\",as_cmap=True)\n",
        "    cmap = sns.light_palette(\"#000000\",as_cmap=True)\n",
        "    C1 = confusion_matrix(y_real,y_pred)\n",
        "    C2 = confusion_matrix(y_test,y_test_pred)\n",
        "    \n",
        "    fig,ax = plt.subplots(1, 2, figsize=(15,5))\n",
        "    ax1 = sns.heatmap(C1, annot=True, cmap=cmap, fmt=\".2f\", ax = ax[0])\n",
        "    ax1.set_xlabel('Predicted Class')\n",
        "    ax1.set_ylabel('Original Class')\n",
        "    ax1.set_title(\"Train Confusion matrix\")\n",
        "\n",
        "    ax2 = sns.heatmap(C2, annot=True, cmap=cmap_, fmt=\".2f\", ax = ax[1])\n",
        "    ax2.set_xlabel('Predicted Class')\n",
        "    ax2.set_ylabel('Original Class')\n",
        "    ax2.set_title(\"Test Confusion matrix\")\n",
        "    plt.savefig(name, dpi=480, bbox_inches='tight')\n",
        "    plt.show()"
      ]
    },
    {
      "cell_type": "code",
      "execution_count": null,
      "metadata": {
        "colab": {
          "base_uri": "https://localhost:8080/",
          "height": 387
        },
        "id": "QD83iIC11FA1",
        "outputId": "bcaa2d31-25df-447c-dc17-3cf7e1ead26c"
      },
      "outputs": [
        {
          "name": "stdout",
          "output_type": "stream",
          "text": [
            "Train f1-score 0.4252405451644861\n",
            "Test f1-score 0.42785495440177473\n"
          ]
        },
        {
          "data": {
            "image/png": "[encoded data removed]",
            "text/plain": [
              "<Figure size 1080x360 with 4 Axes>"
            ]
          },
          "metadata": {
            "needs_background": "light",
            "tags": []
          },
          "output_type": "display_data"
        }
      ],
      "source": [
        "#creating random model\n",
        "test_data_len = X_te.shape[0]\n",
        "train_data_len = X_tr.shape[0]\n",
        "\n",
        "# we create a output array that has exactly same size as the CV data\n",
        "y_train_pred = np.zeros((train_data_len,1))\n",
        "for i in range(train_data_len):\n",
        "    rand_c = random.randint(0, 1)\n",
        "    y_train_pred[i] = (rand_c)\n",
        "print(\"Train f1-score\",f1_score(y_train,y_train_pred,average='macro'))\n",
        "y_test_pred = np.zeros((test_data_len,1))\n",
        "for i in range(test_data_len):\n",
        "    rand_c = random.randint(0, 1)\n",
        "    y_test_pred[i] = (rand_c)\n",
        "print(\"Test f1-score\",f1_score(y_test,y_test_pred,average='macro'))\n",
        "confusion_matrices_plot(y_train,y_train_pred,y_test,y_test_pred,'bs_rn.png')\n"
      ]
    },
    {
      "cell_type": "markdown",
      "metadata": {
        "id": "LSEI8dhXB994"
      },
      "source": [
        "### Naive Bayes Model"
      ]
    },
    {
      "cell_type": "code",
      "execution_count": null,
      "metadata": {
        "id": "pidUEjBUErCu"
      },
      "outputs": [],
      "source": [
        "from sklearn.preprocessing import MinMaxScaler\n",
        "scaler = MinMaxScaler()\n",
        "scaler.fit(X_tr.todense())\n",
        "X_tr = scaler.transform(X_tr.todense())"
      ]
    },
    {
      "cell_type": "code",
      "execution_count": null,
      "metadata": {
        "id": "IIsv_dDfFuq5"
      },
      "outputs": [],
      "source": [
        "scaler.fit(X_te.todense())\n",
        "X_te = scaler.transform(X_te.todense())"
      ]
    },
    {
      "cell_type": "code",
      "execution_count": null,
      "metadata": {
        "colab": {
          "base_uri": "https://localhost:8080/",
          "height": 482
        },
        "id": "U0J7Uw3knZQ5",
        "outputId": "b9b844e1-3a9f-407e-9f9c-d7897958a025"
      },
      "outputs": [
        {
          "name": "stdout",
          "output_type": "stream",
          "text": [
            "Alpha =  1e-05 Train Score 0.5781995429235557 test Score 0.5732627075348865\n",
            "Alpha =  0.0001 Train Score 0.5781995429235557 test Score 0.5732627075348865\n",
            "Alpha =  0.001 Train Score 0.5781995429235557 test Score 0.5732627075348865\n",
            "Alpha =  0.01 Train Score 0.5781995429235557 test Score 0.5732627075348865\n",
            "Alpha =  0.1 Train Score 0.5781494215720916 test Score 0.5732627075348865\n",
            "Alpha =  1 Train Score 0.5781494215720916 test Score 0.5732627075348865\n",
            "Alpha =  10 Train Score 0.5781712421692706 test Score 0.5732627075348865\n",
            "Alpha =  100 Train Score 0.5780839550830171 test Score 0.5732627075348865\n",
            "Alpha =  1000 Train Score 0.5204850622346596 test Score 0.5579127364932099\n"
          ]
        },
        {
          "data": {
            "text/plain": [
              "Text(0.5, 1.0, 'Alpha vs Score')"
            ]
          },
          "execution_count": 51,
          "metadata": {
            "tags": []
          },
          "output_type": "execute_result"
        },
        {
          "data": {
            "image/png": "[encoded data removed]",
            "text/plain": [
              "<Figure size 432x288 with 1 Axes>"
            ]
          },
          "metadata": {
            "needs_background": "light",
            "tags": []
          },
          "output_type": "display_data"
        }
      ],
      "source": [
        "# Training Logistic regression model and chekcing f1 score metric\n",
        "from sklearn.naive_bayes import MultinomialNB\n",
        "alpha = [10 ** x for x in range(-5, 4)]\n",
        "train_scores = [] # store train scores\n",
        "test_scores = [] # store test scores\n",
        "\n",
        "for i in alpha:\n",
        "    nb_cfl=MultinomialNB(alpha=i,fit_prior=False)\n",
        "    nb_cfl.fit(X_tr,y_train)\n",
        "    train_sc = f1_score(y_train,nb_cfl.predict(X_tr),average='macro')\n",
        "    test_sc = f1_score(y_test,nb_cfl.predict(X_te),average='macro')\n",
        "    test_scores.append(test_sc)\n",
        "    train_scores.append(train_sc)\n",
        "    print('Alpha = ',i,'Train Score',train_sc,'test Score',test_sc)\n",
        "    \n",
        "# plotting the scores vs parameters\n",
        "plt.plot(np.log(alpha),train_scores,label='Train Score',color='black')\n",
        "plt.plot(np.log(alpha),test_scores,label='Test Score',color='#425a90',alpha=0.5)\n",
        "plt.xlabel('Alpha')\n",
        "plt.ylabel('Score')\n",
        "plt.grid()\n",
        "plt.title('Alpha vs Score')"
      ]
    },
    {
      "cell_type": "code",
      "execution_count": null,
      "metadata": {
        "colab": {
          "base_uri": "https://localhost:8080/"
        },
        "id": "SxIIYETFGgJf",
        "outputId": "ad022ac6-f50c-4ee6-aca4-f207182a7590"
      },
      "outputs": [
        {
          "name": "stdout",
          "output_type": "stream",
          "text": [
            "Fitting 5 folds for each of 9 candidates, totalling 45 fits\n"
          ]
        },
        {
          "name": "stderr",
          "output_type": "stream",
          "text": [
            "[Parallel(n_jobs=-1)]: Using backend LokyBackend with 2 concurrent workers.\n",
            "[Parallel(n_jobs=-1)]: Done   1 tasks      | elapsed:    4.1s\n",
            "[Parallel(n_jobs=-1)]: Done   4 tasks      | elapsed:    4.6s\n",
            "[Parallel(n_jobs=-1)]: Done   9 tasks      | elapsed:    6.2s\n",
            "[Parallel(n_jobs=-1)]: Done  14 tasks      | elapsed:    7.2s\n",
            "[Parallel(n_jobs=-1)]: Done  21 tasks      | elapsed:    9.3s\n",
            "[Parallel(n_jobs=-1)]: Done  28 tasks      | elapsed:   10.8s\n",
            "[Parallel(n_jobs=-1)]: Done  37 tasks      | elapsed:   13.4s\n",
            "[Parallel(n_jobs=-1)]: Done  45 out of  45 | elapsed:   15.2s finished\n"
          ]
        },
        {
          "name": "stdout",
          "output_type": "stream",
          "text": [
            "mean test scores [0.57810596 0.57810596 0.57810596 0.57809593 0.5781531  0.5781531\n",
            " 0.5781748  0.57804373 0.46955612]\n",
            "mean train scores [0.57826375 0.57826375 0.57826375 0.57826124 0.57816307 0.57816602\n",
            " 0.57817148 0.57801871 0.46968199]\n"
          ]
        }
      ],
      "source": [
        "# Parameter tuning of Logistic regression using RandomisedSearch CV technique\n",
        "clf = MultinomialNB( class_prior=np.array([0.5,0.5]),fit_prior=False)\n",
        "\n",
        " \n",
        "prams={ 'alpha': [10 ** x for x in range(-5, 4)] }\n",
        "\n",
        "nb_cfl = RandomizedSearchCV(clf,param_distributions=prams,verbose=10,scoring='f1_macro',n_jobs=-1,random_state=25,\n",
        "                               return_train_score=True)\n",
        "nb_cfl.fit(X_tr,y_train)\n",
        "\n",
        "print('mean test scores',nb_cfl.cv_results_['mean_test_score'])\n",
        "print('mean train scores',nb_cfl.cv_results_['mean_train_score'])"
      ]
    },
    {
      "cell_type": "code",
      "execution_count": null,
      "metadata": {
        "colab": {
          "base_uri": "https://localhost:8080/"
        },
        "id": "wQmnGqH_G29H",
        "outputId": "7ea2fce2-952d-44a6-90af-563a9d630826"
      },
      "outputs": [
        {
          "name": "stdout",
          "output_type": "stream",
          "text": [
            "Best Parameters:  {'alpha': 10}\n",
            "Best Score:  0.5781748042968806\n"
          ]
        }
      ],
      "source": [
        "# printing best parameters and score\n",
        "print(\"Best Parameters: \",nb_cfl.best_params_)\n",
        "print(\"Best Score: \",nb_cfl.best_score_)"
      ]
    },
    {
      "cell_type": "code",
      "execution_count": null,
      "metadata": {
        "colab": {
          "base_uri": "https://localhost:8080/"
        },
        "id": "ItFa56vZIOiE",
        "outputId": "cf7d6e7e-0098-42c5-a023-45b2de7ed4ca"
      },
      "outputs": [
        {
          "name": "stdout",
          "output_type": "stream",
          "text": [
            "Train f1 score:  0.5781712421692706\n",
            "Test f1 score:  0.5732627075348865\n"
          ]
        }
      ],
      "source": [
        "# https://scikit-learn.org/stable/modules/generated/sklearn.metrics.roc_curve.html#sklearn.metrics.roc_curve\n",
        "from sklearn.metrics import roc_curve, auc\n",
        "clf = MultinomialNB(alpha = 10, class_prior=np.array([0.5,0.5]),fit_prior=False)\n",
        "clf.fit(X_tr, y_train)\n",
        "\n",
        "y_train_pred = clf.predict(X_tr)    \n",
        "y_test_pred = clf.predict(X_te)\n",
        "\n",
        "\n",
        "print('Train f1 score: ',f1_score(y_train,y_train_pred,average='macro'))\n",
        "print('Test f1 score: ',f1_score(y_test,y_test_pred,average='macro'))"
      ]
    },
    {
      "cell_type": "code",
      "execution_count": null,
      "metadata": {
        "colab": {
          "base_uri": "https://localhost:8080/",
          "height": 350
        },
        "id": "_y-uwdxBHYNz",
        "outputId": "bb269022-1fec-4d24-b3f6-d275c144972f"
      },
      "outputs": [
        {
          "data": {
            "image/png": "[encoded data removed]",
            "text/plain": [
              "<Figure size 1080x360 with 4 Axes>"
            ]
          },
          "metadata": {
            "needs_background": "light",
            "tags": []
          },
          "output_type": "display_data"
        }
      ],
      "source": [
        "confusion_matrices_plot(y_train,y_train_pred,y_test,y_test_pred,'bs_nb.png')"
      ]
    },
    {
      "cell_type": "code",
      "execution_count": null,
      "metadata": {
        "id": "XjfDRXb3Ilz1"
      },
      "outputs": [],
      "source": []
    },
    {
      "cell_type": "markdown",
      "metadata": {
        "id": "e1f9_HFcHcum"
      },
      "source": [
        "### Logistic Regression Model"
      ]
    },
    {
      "cell_type": "code",
      "execution_count": null,
      "metadata": {
        "colab": {
          "base_uri": "https://localhost:8080/",
          "height": 482
        },
        "id": "ZCNEdcYQIl4b",
        "outputId": "f9f8c596-3dc4-4c9c-8f46-f6ea75e605aa"
      },
      "outputs": [
        {
          "name": "stdout",
          "output_type": "stream",
          "text": [
            "Alpha =  1e-05 Train Score 0.8032754835521972 test Score 0.787471966907421\n",
            "Alpha =  0.0001 Train Score 0.6797637956837774 test Score 0.7820214180043932\n",
            "Alpha =  0.001 Train Score 0.5756912414868779 test Score 0.7314529431501915\n",
            "Alpha =  0.01 Train Score 0.5176752733583474 test Score 0.5208269674817387\n",
            "Alpha =  0.1 Train Score 0.4608849900913261 test Score 0.46089246119733923\n",
            "Alpha =  1 Train Score 0.4608849900913261 test Score 0.46089246119733923\n",
            "Alpha =  10 Train Score 0.4608849900913261 test Score 0.46089246119733923\n",
            "Alpha =  100 Train Score 0.4608849900913261 test Score 0.46089246119733923\n",
            "Alpha =  1000 Train Score 0.12672009338451523 test Score 0.12670048938176268\n"
          ]
        },
        {
          "data": {
            "text/plain": [
              "Text(0.5, 1.0, 'Alpha vs Score')"
            ]
          },
          "execution_count": 56,
          "metadata": {
            "tags": []
          },
          "output_type": "execute_result"
        },
        {
          "data": {
            "image/png": "[encoded data removed]",
            "text/plain": [
              "<Figure size 432x288 with 1 Axes>"
            ]
          },
          "metadata": {
            "needs_background": "light",
            "tags": []
          },
          "output_type": "display_data"
        }
      ],
      "source": [
        "# Training Logistic regression model and chekcing f1 score metric\n",
        "alpha = [10 ** x for x in range(-5, 4)]\n",
        "train_scores = [] # store train scores\n",
        "test_scores = [] # store test scores\n",
        "\n",
        "for i in alpha:\n",
        "    lr = SGDClassifier(loss='log', penalty='l2', alpha=i, n_jobs=-1, random_state=25)\n",
        "    lr.fit(X_tr,y_train)\n",
        "    train_sc = f1_score(y_train,lr.predict(X_tr),average='macro')\n",
        "    test_sc = f1_score(y_test,lr.predict(X_te),average='macro')\n",
        "    test_scores.append(test_sc)\n",
        "    train_scores.append(train_sc)\n",
        "    print('Alpha = ',i,'Train Score',train_sc,'test Score',test_sc)\n",
        "    \n",
        "# plotting the scores vs parameters\n",
        "plt.plot(np.log(alpha),train_scores,label='Train Score',color='black')\n",
        "plt.plot(np.log(alpha),test_scores,label='Test Score',color='#000080',alpha=0.7)\n",
        "plt.xlabel('Alpha')\n",
        "plt.ylabel('Score')\n",
        "plt.grid()\n",
        "plt.title('Alpha vs Score')"
      ]
    },
    {
      "cell_type": "code",
      "execution_count": null,
      "metadata": {
        "colab": {
          "base_uri": "https://localhost:8080/"
        },
        "id": "osv9kXAyIl9G",
        "outputId": "3f096e66-b65e-4e4a-b3a2-d62622019eb2"
      },
      "outputs": [
        {
          "name": "stdout",
          "output_type": "stream",
          "text": [
            "Fitting 5 folds for each of 9 candidates, totalling 45 fits\n"
          ]
        },
        {
          "name": "stderr",
          "output_type": "stream",
          "text": [
            "[Parallel(n_jobs=-1)]: Using backend LokyBackend with 2 concurrent workers.\n",
            "[Parallel(n_jobs=-1)]: Done   1 tasks      | elapsed:   14.2s\n",
            "[Parallel(n_jobs=-1)]: Done   4 tasks      | elapsed:   32.5s\n",
            "[Parallel(n_jobs=-1)]: Done   9 tasks      | elapsed:   48.7s\n",
            "[Parallel(n_jobs=-1)]: Done  14 tasks      | elapsed:   55.2s\n",
            "[Parallel(n_jobs=-1)]: Done  21 tasks      | elapsed:  1.0min\n",
            "[Parallel(n_jobs=-1)]: Done  28 tasks      | elapsed:  1.1min\n",
            "[Parallel(n_jobs=-1)]: Done  37 tasks      | elapsed:  1.2min\n",
            "[Parallel(n_jobs=-1)]: Done  45 out of  45 | elapsed:  1.3min finished\n"
          ]
        },
        {
          "name": "stdout",
          "output_type": "stream",
          "text": [
            "mean test scores [0.77745235 0.68812959 0.61063596 0.51191047 0.46088499 0.46088499\n",
            " 0.46088499 0.46088499 0.46088499]\n",
            "mean train scores [0.78603913 0.69077989 0.61161072 0.51202548 0.46088499 0.46088499\n",
            " 0.46088499 0.46088499 0.46088499]\n"
          ]
        }
      ],
      "source": [
        "# Parameter tuning of Logistic regression using RandomisedSearch CV technique\n",
        "sgd = SGDClassifier(loss='log', n_jobs=-1, random_state=25)\n",
        " \n",
        "prams={ 'alpha': [10 ** x for x in range(-5, 4)] }\n",
        "\n",
        "random_cfl1 = RandomizedSearchCV(sgd,param_distributions=prams,verbose=10,scoring='f1_macro',n_jobs=-1,random_state=25,\n",
        "                               return_train_score=True)\n",
        "random_cfl1.fit(X_tr,y_train)\n",
        "\n",
        "print('mean test scores',random_cfl1.cv_results_['mean_test_score'])\n",
        "print('mean train scores',random_cfl1.cv_results_['mean_train_score'])"
      ]
    },
    {
      "cell_type": "code",
      "execution_count": null,
      "metadata": {
        "id": "crADDWjAGemm"
      },
      "outputs": [],
      "source": []
    },
    {
      "cell_type": "code",
      "execution_count": null,
      "metadata": {
        "colab": {
          "base_uri": "https://localhost:8080/"
        },
        "id": "zeUgOsBaKChv",
        "outputId": "3f849083-83b3-4f09-c1fd-fe5830deed3b"
      },
      "outputs": [
        {
          "name": "stdout",
          "output_type": "stream",
          "text": [
            "Best Parameters:  {'alpha': 1e-05}\n",
            "Best Score:  0.777452354036805\n"
          ]
        }
      ],
      "source": [
        "# printing best parameters and score\n",
        "print(\"Best Parameters: \",random_cfl1.best_params_)\n",
        "print(\"Best Score: \",random_cfl1.best_score_)"
      ]
    },
    {
      "cell_type": "code",
      "execution_count": null,
      "metadata": {
        "colab": {
          "base_uri": "https://localhost:8080/"
        },
        "id": "Es8eZnILKJhU",
        "outputId": "72fbe65a-9f3e-4de0-bb45-374807aca7ab"
      },
      "outputs": [
        {
          "name": "stdout",
          "output_type": "stream",
          "text": [
            "Train f1 score:  0.8032754835521972\n",
            "Test f1 score:  0.787471966907421\n"
          ]
        }
      ],
      "source": [
        "# Fitting LogisticRegression mpdel on best parameters\n",
        "sgd = SGDClassifier(loss='log', alpha=1e-05, n_jobs=-1, random_state=25)\n",
        "sgd.fit(X_tr,y_train)\n",
        "\n",
        "y_train_pred = sgd.predict(X_tr)\n",
        "y_test_pred = sgd.predict(X_te)\n",
        "\n",
        "# printing train and test scores \n",
        "print('Train f1 score: ',f1_score(y_train,y_train_pred,average='macro'))\n",
        "print('Test f1 score: ',f1_score(y_test,y_test_pred,average='macro'))"
      ]
    },
    {
      "cell_type": "code",
      "execution_count": null,
      "metadata": {
        "colab": {
          "base_uri": "https://localhost:8080/",
          "height": 350
        },
        "id": "qFY6DXriKJlX",
        "outputId": "3323ae1c-b5b4-41a1-dce2-9a04d7b153e8"
      },
      "outputs": [
        {
          "data": {
            "image/png": "[encoded data removed]",
            "text/plain": [
              "<Figure size 1080x360 with 4 Axes>"
            ]
          },
          "metadata": {
            "tags": []
          },
          "output_type": "display_data"
        }
      ],
      "source": [
        "confusion_matrices_plot(y_train,y_train_pred,y_test,y_test_pred,'bs_lr.png')"
      ]
    },
    {
      "cell_type": "markdown",
      "metadata": {
        "id": "PJbTjr0u05z3"
      },
      "source": [
        "Observation(s):\n",
        "* Total 13 numerical features and 4 categorical features are taken. \n",
        "* Logistic Regression Model is performing better than the other models.\n",
        "* Logistic Regression Model is choosen as a baseline model(randomly).\n",
        "* LR Model Scores: train f1-score = 0.8032754835521972 and test f1_score = 0.787471966907421\n",
        "* From the both train amnd tesr confusion matrix ,we can observe that the False Psitive and False Negative values are still very large lets try to reduce these values by adding some features and through feacure selection methods."
      ]
    },
    {
      "cell_type": "markdown",
      "metadata": {
        "id": "dWA54OcW7PFX"
      },
      "source": [
        "#4.Feature Engineering"
      ]
    },
    {
      "cell_type": "markdown",
      "metadata": {
        "id": "sAq-teWKN5vK"
      },
      "source": [
        "From the existing solution\n",
        "1. **Sellers Count**: Total number of sellers per product (Numerical feat.).\n",
        "2. **Products count**: Total number of products ordered per order (Numerical feat.).\n",
        "3. **Estimated Delivery Time(in number of days)**: Estimated number of days tto deliver the producti.e (order_approval_date - order_estimated_delivery_date)(Numerical feat.).\n",
        "4. **Actual Delivery Time**: Actual number of days taken to deliver the product(Numerical feat.).\n",
        "5. **Difference in delivery days**:- Difference between the actual and estimated date(Numerical feat.).``` Negative : delivered early ,positive : delivered late.```\n",
        "\n",
        "6. **Is Late**:- If delivered late then True else False (Binary).\n",
        "\n",
        "7. **Average Product Value**:- Cheaper products might have lower quality, leaving customers unhappy (Numerical feat.).\n",
        "8. **Total Order Value**:- If a customer expends more, he might expect a better order fulfilment(Numerical feat.).\n",
        "9. **Order Freight Ratio**:- If a customer pays more for freight, he might expect a better service(Numerical feat.).\n",
        "10. **Purchase Day of Week**:- Day of week on which purchase was made(Numerical feat.).\n",
        "11. **is_reviewed**:- If the review comment is given or not.\n",
        "\n",
        "other:\n",
        "\n",
        "12. **Recency** : number of days since the last purchase(present date -last ordered date)(Numerical feat.).\n",
        "13. **Frequency** : number of transactions made over the period(present date -last ordered date)(Numerical feat.).\n",
        "14. **Monetary** : amount spent over a given period time (Numerical feat.)\n",
        "15. **RFM Levels** :Behavioral segmentations using above three features (Categorical).\n",
        "16. **words per review** : Total number of words per review (Numerical feat.)."
      ]
    },
    {
      "cell_type": "code",
      "execution_count": null,
      "metadata": {
        "colab": {
          "base_uri": "https://localhost:8080/",
          "height": 296
        },
        "id": "emG2nE9lNRdm",
        "outputId": "db9aa497-4eb4-4ded-9011-adf8a057d400"
      },
      "outputs": [
        {
          "data": {
            "text/html": [
              "<div>\n",
              "<style scoped>\n",
              "    .dataframe tbody tr th:only-of-type {\n",
              "        vertical-align: middle;\n",
              "    }\n",
              "\n",
              "    .dataframe tbody tr th {\n",
              "        vertical-align: top;\n",
              "    }\n",
              "\n",
              "    .dataframe thead th {\n",
              "        text-align: right;\n",
              "    }\n",
              "</style>\n",
              "<table border=\"1\" class=\"dataframe\">\n",
              "  <thead>\n",
              "    <tr style=\"text-align: right;\">\n",
              "      <th></th>\n",
              "      <th>order_id</th>\n",
              "      <th>customer_id</th>\n",
              "      <th>order_status</th>\n",
              "      <th>order_purchase_timestamp</th>\n",
              "      <th>order_approved_at</th>\n",
              "      <th>order_delivered_customer_date</th>\n",
              "      <th>order_estimated_delivery_date</th>\n",
              "      <th>payment_sequential</th>\n",
              "      <th>payment_type</th>\n",
              "      <th>payment_installments</th>\n",
              "      <th>payment_value</th>\n",
              "      <th>customer_unique_id</th>\n",
              "      <th>customer_zip_code_prefix</th>\n",
              "      <th>customer_city</th>\n",
              "      <th>customer_state</th>\n",
              "      <th>order_item_id</th>\n",
              "      <th>product_id</th>\n",
              "      <th>seller_id</th>\n",
              "      <th>shipping_limit_date</th>\n",
              "      <th>price</th>\n",
              "      <th>freight_value</th>\n",
              "      <th>product_category_name</th>\n",
              "      <th>product_name_lenght</th>\n",
              "      <th>product_description_lenght</th>\n",
              "      <th>product_photos_qty</th>\n",
              "      <th>product_weight_g</th>\n",
              "      <th>product_length_cm</th>\n",
              "      <th>product_height_cm</th>\n",
              "      <th>product_width_cm</th>\n",
              "      <th>product_category_name_english</th>\n",
              "      <th>review_score</th>\n",
              "      <th>review_comment_message</th>\n",
              "      <th>order_purchase_year</th>\n",
              "      <th>order_purchase_month</th>\n",
              "      <th>order_purchase_month_name</th>\n",
              "      <th>order_purchase_year_month</th>\n",
              "      <th>order_purchase_date</th>\n",
              "      <th>order_purchase_month_yr</th>\n",
              "      <th>order_purchase_day</th>\n",
              "      <th>order_purchase_dayofweek</th>\n",
              "      <th>order_purchase_dayofweek_name</th>\n",
              "      <th>order_purchase_hour</th>\n",
              "      <th>order_purchase_time_day</th>\n",
              "      <th>day_to_delivery</th>\n",
              "      <th>words_per_review</th>\n",
              "    </tr>\n",
              "  </thead>\n",
              "  <tbody>\n",
              "    <tr>\n",
              "      <th>0</th>\n",
              "      <td>e481f51cbdc54678b7cc49136f2d6af7</td>\n",
              "      <td>9ef432eb6251297304e76186b10a928d</td>\n",
              "      <td>delivered</td>\n",
              "      <td>2017-10-02 10:56:33</td>\n",
              "      <td>2017-10-02 11:07:15</td>\n",
              "      <td>2017-10-10 21:25:13</td>\n",
              "      <td>2017-10-18</td>\n",
              "      <td>1</td>\n",
              "      <td>credit_card</td>\n",
              "      <td>1</td>\n",
              "      <td>18.12</td>\n",
              "      <td>7c396fd4830fd04220f754e42b4e5bff</td>\n",
              "      <td>3149</td>\n",
              "      <td>sao paulo</td>\n",
              "      <td>SP</td>\n",
              "      <td>1</td>\n",
              "      <td>87285b34884572647811a353c7ac498a</td>\n",
              "      <td>3504c0cb71d7fa48d967e0e4c94d59d9</td>\n",
              "      <td>2017-10-06 11:07:15</td>\n",
              "      <td>29.99</td>\n",
              "      <td>8.72</td>\n",
              "      <td>utilidades_domesticas</td>\n",
              "      <td>40.0</td>\n",
              "      <td>268.0</td>\n",
              "      <td>4.0</td>\n",
              "      <td>500.0</td>\n",
              "      <td>19.0</td>\n",
              "      <td>8.0</td>\n",
              "      <td>13.0</td>\n",
              "      <td>housewares</td>\n",
              "      <td>1</td>\n",
              "      <td>Não testei o produto ainda, mas ele veio corre...</td>\n",
              "      <td>2017</td>\n",
              "      <td>10</td>\n",
              "      <td>Oct</td>\n",
              "      <td>201710</td>\n",
              "      <td>20171002</td>\n",
              "      <td>Oct-17</td>\n",
              "      <td>2</td>\n",
              "      <td>0</td>\n",
              "      <td>Mon</td>\n",
              "      <td>10</td>\n",
              "      <td>Morning</td>\n",
              "      <td>8</td>\n",
              "      <td>32</td>\n",
              "    </tr>\n",
              "    <tr>\n",
              "      <th>3</th>\n",
              "      <td>128e10d95713541c87cd1a2e48201934</td>\n",
              "      <td>a20e8105f23924cd00833fd87daa0831</td>\n",
              "      <td>delivered</td>\n",
              "      <td>2017-08-15 18:29:31</td>\n",
              "      <td>2017-08-15 20:05:16</td>\n",
              "      <td>2017-08-18 14:44:43</td>\n",
              "      <td>2017-08-28</td>\n",
              "      <td>1</td>\n",
              "      <td>credit_card</td>\n",
              "      <td>3</td>\n",
              "      <td>37.77</td>\n",
              "      <td>3a51803cc0d012c3b5dc8b7528cb05f7</td>\n",
              "      <td>3366</td>\n",
              "      <td>sao paulo</td>\n",
              "      <td>SP</td>\n",
              "      <td>1</td>\n",
              "      <td>87285b34884572647811a353c7ac498a</td>\n",
              "      <td>3504c0cb71d7fa48d967e0e4c94d59d9</td>\n",
              "      <td>2017-08-21 20:05:16</td>\n",
              "      <td>29.99</td>\n",
              "      <td>7.78</td>\n",
              "      <td>utilidades_domesticas</td>\n",
              "      <td>40.0</td>\n",
              "      <td>268.0</td>\n",
              "      <td>4.0</td>\n",
              "      <td>500.0</td>\n",
              "      <td>19.0</td>\n",
              "      <td>8.0</td>\n",
              "      <td>13.0</td>\n",
              "      <td>housewares</td>\n",
              "      <td>1</td>\n",
              "      <td>Deveriam embalar melhor o produto. A caixa vei...</td>\n",
              "      <td>2017</td>\n",
              "      <td>8</td>\n",
              "      <td>Aug</td>\n",
              "      <td>201708</td>\n",
              "      <td>20170815</td>\n",
              "      <td>Aug-17</td>\n",
              "      <td>15</td>\n",
              "      <td>1</td>\n",
              "      <td>Tue</td>\n",
              "      <td>18</td>\n",
              "      <td>Afternoon</td>\n",
              "      <td>2</td>\n",
              "      <td>16</td>\n",
              "    </tr>\n",
              "    <tr>\n",
              "      <th>4</th>\n",
              "      <td>0e7e841ddf8f8f2de2bad69267ecfbcf</td>\n",
              "      <td>26c7ac168e1433912a51b924fbd34d34</td>\n",
              "      <td>delivered</td>\n",
              "      <td>2017-08-02 18:24:47</td>\n",
              "      <td>2017-08-02 18:43:15</td>\n",
              "      <td>2017-08-07 18:30:01</td>\n",
              "      <td>2017-08-15</td>\n",
              "      <td>1</td>\n",
              "      <td>credit_card</td>\n",
              "      <td>1</td>\n",
              "      <td>37.77</td>\n",
              "      <td>ef0996a1a279c26e7ecbd737be23d235</td>\n",
              "      <td>2290</td>\n",
              "      <td>sao paulo</td>\n",
              "      <td>SP</td>\n",
              "      <td>1</td>\n",
              "      <td>87285b34884572647811a353c7ac498a</td>\n",
              "      <td>3504c0cb71d7fa48d967e0e4c94d59d9</td>\n",
              "      <td>2017-08-08 18:37:31</td>\n",
              "      <td>29.99</td>\n",
              "      <td>7.78</td>\n",
              "      <td>utilidades_domesticas</td>\n",
              "      <td>40.0</td>\n",
              "      <td>268.0</td>\n",
              "      <td>4.0</td>\n",
              "      <td>500.0</td>\n",
              "      <td>19.0</td>\n",
              "      <td>8.0</td>\n",
              "      <td>13.0</td>\n",
              "      <td>housewares</td>\n",
              "      <td>1</td>\n",
              "      <td>Só achei ela pequena pra seis xícaras ,mais é ...</td>\n",
              "      <td>2017</td>\n",
              "      <td>8</td>\n",
              "      <td>Aug</td>\n",
              "      <td>201708</td>\n",
              "      <td>20170802</td>\n",
              "      <td>Aug-17</td>\n",
              "      <td>2</td>\n",
              "      <td>2</td>\n",
              "      <td>Wed</td>\n",
              "      <td>18</td>\n",
              "      <td>Afternoon</td>\n",
              "      <td>5</td>\n",
              "      <td>12</td>\n",
              "    </tr>\n",
              "    <tr>\n",
              "      <th>5</th>\n",
              "      <td>bfc39df4f36c3693ff3b63fcbea9e90a</td>\n",
              "      <td>53904ddbea91e1e92b2b3f1d09a7af86</td>\n",
              "      <td>delivered</td>\n",
              "      <td>2017-10-23 23:26:46</td>\n",
              "      <td>2017-10-25 02:14:11</td>\n",
              "      <td>2017-11-07 18:04:59</td>\n",
              "      <td>2017-11-13</td>\n",
              "      <td>1</td>\n",
              "      <td>boleto</td>\n",
              "      <td>1</td>\n",
              "      <td>44.09</td>\n",
              "      <td>e781fdcc107d13d865fc7698711cc572</td>\n",
              "      <td>88032</td>\n",
              "      <td>florianopolis</td>\n",
              "      <td>SC</td>\n",
              "      <td>1</td>\n",
              "      <td>87285b34884572647811a353c7ac498a</td>\n",
              "      <td>3504c0cb71d7fa48d967e0e4c94d59d9</td>\n",
              "      <td>2017-10-31 02:14:11</td>\n",
              "      <td>29.99</td>\n",
              "      <td>14.10</td>\n",
              "      <td>utilidades_domesticas</td>\n",
              "      <td>40.0</td>\n",
              "      <td>268.0</td>\n",
              "      <td>4.0</td>\n",
              "      <td>500.0</td>\n",
              "      <td>19.0</td>\n",
              "      <td>8.0</td>\n",
              "      <td>13.0</td>\n",
              "      <td>housewares</td>\n",
              "      <td>1</td>\n",
              "      <td>nao_reveja</td>\n",
              "      <td>2017</td>\n",
              "      <td>10</td>\n",
              "      <td>Oct</td>\n",
              "      <td>201710</td>\n",
              "      <td>20171023</td>\n",
              "      <td>Oct-17</td>\n",
              "      <td>23</td>\n",
              "      <td>0</td>\n",
              "      <td>Mon</td>\n",
              "      <td>23</td>\n",
              "      <td>Night</td>\n",
              "      <td>14</td>\n",
              "      <td>1</td>\n",
              "    </tr>\n",
              "    <tr>\n",
              "      <th>6</th>\n",
              "      <td>6ea2f835b4556291ffdc53fa0b3b95e8</td>\n",
              "      <td>c7340080e394356141681bd4c9b8fe31</td>\n",
              "      <td>delivered</td>\n",
              "      <td>2017-11-24 21:27:48</td>\n",
              "      <td>2017-11-25 00:21:09</td>\n",
              "      <td>2017-12-28 18:59:23</td>\n",
              "      <td>2017-12-21</td>\n",
              "      <td>1</td>\n",
              "      <td>credit_card</td>\n",
              "      <td>10</td>\n",
              "      <td>356.12</td>\n",
              "      <td>3e4fd73f1e86b135b9b121d6abbe9597</td>\n",
              "      <td>19400</td>\n",
              "      <td>presidente venceslau</td>\n",
              "      <td>SP</td>\n",
              "      <td>1</td>\n",
              "      <td>be021417a6acb56b9b50d3fd2714baa8</td>\n",
              "      <td>f5f46307a4d15880ca14fab4ad9dfc9b</td>\n",
              "      <td>2017-11-30 00:21:09</td>\n",
              "      <td>339.00</td>\n",
              "      <td>17.12</td>\n",
              "      <td>utilidades_domesticas</td>\n",
              "      <td>48.0</td>\n",
              "      <td>664.0</td>\n",
              "      <td>6.0</td>\n",
              "      <td>14300.0</td>\n",
              "      <td>38.0</td>\n",
              "      <td>34.0</td>\n",
              "      <td>34.0</td>\n",
              "      <td>housewares</td>\n",
              "      <td>0</td>\n",
              "      <td>Inicialmente, na data da compra o produto era ...</td>\n",
              "      <td>2017</td>\n",
              "      <td>11</td>\n",
              "      <td>Nov</td>\n",
              "      <td>201711</td>\n",
              "      <td>20171124</td>\n",
              "      <td>Nov-17</td>\n",
              "      <td>24</td>\n",
              "      <td>4</td>\n",
              "      <td>Fri</td>\n",
              "      <td>21</td>\n",
              "      <td>Night</td>\n",
              "      <td>33</td>\n",
              "      <td>22</td>\n",
              "    </tr>\n",
              "  </tbody>\n",
              "</table>\n",
              "</div>"
            ],
            "text/plain": [
              "                           order_id  ... words_per_review\n",
              "0  e481f51cbdc54678b7cc49136f2d6af7  ...               32\n",
              "3  128e10d95713541c87cd1a2e48201934  ...               16\n",
              "4  0e7e841ddf8f8f2de2bad69267ecfbcf  ...               12\n",
              "5  bfc39df4f36c3693ff3b63fcbea9e90a  ...                1\n",
              "6  6ea2f835b4556291ffdc53fa0b3b95e8  ...               22\n",
              "\n",
              "[5 rows x 45 columns]"
            ]
          },
          "execution_count": 7,
          "metadata": {
            "tags": []
          },
          "output_type": "execute_result"
        }
      ],
      "source": [
        "data_n = pd.read_pickle('final.pkl')\n",
        "data_n.head()"
      ]
    },
    {
      "cell_type": "code",
      "execution_count": null,
      "metadata": {
        "colab": {
          "base_uri": "https://localhost:8080/",
          "height": 206
        },
        "id": "8CMOUgAiOdvt",
        "outputId": "c1ed4a44-16df-4f6b-ce9b-69c64b8d025e"
      },
      "outputs": [
        {
          "data": {
            "text/html": [
              "<div>\n",
              "<style scoped>\n",
              "    .dataframe tbody tr th:only-of-type {\n",
              "        vertical-align: middle;\n",
              "    }\n",
              "\n",
              "    .dataframe tbody tr th {\n",
              "        vertical-align: top;\n",
              "    }\n",
              "\n",
              "    .dataframe thead th {\n",
              "        text-align: right;\n",
              "    }\n",
              "</style>\n",
              "<table border=\"1\" class=\"dataframe\">\n",
              "  <thead>\n",
              "    <tr style=\"text-align: right;\">\n",
              "      <th></th>\n",
              "      <th>product_id</th>\n",
              "      <th>sellers_count</th>\n",
              "    </tr>\n",
              "  </thead>\n",
              "  <tbody>\n",
              "    <tr>\n",
              "      <th>0</th>\n",
              "      <td>00066f42aeeb9f3007548bb9d3f33c38</td>\n",
              "      <td>1</td>\n",
              "    </tr>\n",
              "    <tr>\n",
              "      <th>1</th>\n",
              "      <td>00088930e925c41fd95ebfe695fd2655</td>\n",
              "      <td>1</td>\n",
              "    </tr>\n",
              "    <tr>\n",
              "      <th>2</th>\n",
              "      <td>0009406fd7479715e4bef61dd91f2462</td>\n",
              "      <td>1</td>\n",
              "    </tr>\n",
              "    <tr>\n",
              "      <th>3</th>\n",
              "      <td>000b8f95fcb9e0096488278317764d19</td>\n",
              "      <td>2</td>\n",
              "    </tr>\n",
              "    <tr>\n",
              "      <th>4</th>\n",
              "      <td>000d9be29b5207b54e86aa1b1ac54872</td>\n",
              "      <td>1</td>\n",
              "    </tr>\n",
              "  </tbody>\n",
              "</table>\n",
              "</div>"
            ],
            "text/plain": [
              "                         product_id  sellers_count\n",
              "0  00066f42aeeb9f3007548bb9d3f33c38              1\n",
              "1  00088930e925c41fd95ebfe695fd2655              1\n",
              "2  0009406fd7479715e4bef61dd91f2462              1\n",
              "3  000b8f95fcb9e0096488278317764d19              2\n",
              "4  000d9be29b5207b54e86aa1b1ac54872              1"
            ]
          },
          "execution_count": 8,
          "metadata": {
            "tags": []
          },
          "output_type": "execute_result"
        }
      ],
      "source": [
        "#sellers count for each product\n",
        "fea_1= data_n.groupby('product_id').count()['seller_id']\n",
        "fea_1_df = pd.DataFrame()\n",
        "fea_1_df['product_id']= fea_1.index\n",
        "fea_1_df['sellers_count']= fea_1.values\n",
        "fea_1_df.head()"
      ]
    },
    {
      "cell_type": "code",
      "execution_count": null,
      "metadata": {
        "id": "r0ASUpFuqe7X"
      },
      "outputs": [],
      "source": []
    },
    {
      "cell_type": "code",
      "execution_count": null,
      "metadata": {
        "colab": {
          "base_uri": "https://localhost:8080/",
          "height": 206
        },
        "id": "RWRYBZ8M5P4N",
        "outputId": "00f5402b-04ed-4d44-f763-4533b5f38baa"
      },
      "outputs": [
        {
          "data": {
            "text/html": [
              "<div>\n",
              "<style scoped>\n",
              "    .dataframe tbody tr th:only-of-type {\n",
              "        vertical-align: middle;\n",
              "    }\n",
              "\n",
              "    .dataframe tbody tr th {\n",
              "        vertical-align: top;\n",
              "    }\n",
              "\n",
              "    .dataframe thead th {\n",
              "        text-align: right;\n",
              "    }\n",
              "</style>\n",
              "<table border=\"1\" class=\"dataframe\">\n",
              "  <thead>\n",
              "    <tr style=\"text-align: right;\">\n",
              "      <th></th>\n",
              "      <th>order_id</th>\n",
              "      <th>products_count</th>\n",
              "    </tr>\n",
              "  </thead>\n",
              "  <tbody>\n",
              "    <tr>\n",
              "      <th>0</th>\n",
              "      <td>00010242fe8c5a6d1ba2dd792cb16214</td>\n",
              "      <td>1</td>\n",
              "    </tr>\n",
              "    <tr>\n",
              "      <th>1</th>\n",
              "      <td>00018f77f2f0320c557190d7a144bdd3</td>\n",
              "      <td>1</td>\n",
              "    </tr>\n",
              "    <tr>\n",
              "      <th>2</th>\n",
              "      <td>000229ec398224ef6ca0657da4fc703e</td>\n",
              "      <td>1</td>\n",
              "    </tr>\n",
              "    <tr>\n",
              "      <th>3</th>\n",
              "      <td>00024acbcdf0a6daa1e931b038114c75</td>\n",
              "      <td>1</td>\n",
              "    </tr>\n",
              "    <tr>\n",
              "      <th>4</th>\n",
              "      <td>00042b26cf59d7ce69dfabb4e55b4fd9</td>\n",
              "      <td>1</td>\n",
              "    </tr>\n",
              "  </tbody>\n",
              "</table>\n",
              "</div>"
            ],
            "text/plain": [
              "                           order_id  products_count\n",
              "0  00010242fe8c5a6d1ba2dd792cb16214               1\n",
              "1  00018f77f2f0320c557190d7a144bdd3               1\n",
              "2  000229ec398224ef6ca0657da4fc703e               1\n",
              "3  00024acbcdf0a6daa1e931b038114c75               1\n",
              "4  00042b26cf59d7ce69dfabb4e55b4fd9               1"
            ]
          },
          "execution_count": 9,
          "metadata": {
            "tags": []
          },
          "output_type": "execute_result"
        }
      ],
      "source": [
        "#sellers count for each product\n",
        "fea_2 = data_n.groupby('order_id').count()['product_id']\n",
        "fea_2_df = pd.DataFrame()\n",
        "fea_2_df['order_id']= fea_2.index\n",
        "fea_2_df['products_count']= fea_2.values\n",
        "fea_2_df.head()\n"
      ]
    },
    {
      "cell_type": "code",
      "execution_count": null,
      "metadata": {
        "id": "3WC63evo7dtm"
      },
      "outputs": [],
      "source": [
        "# Adding the seller count and products count feature to the final data set\n",
        "data_n = pd.merge(data_n,fea_1_df,on='product_id')\n",
        "data_n = pd.merge(data_n,fea_2_df,on='order_id')\n"
      ]
    },
    {
      "cell_type": "code",
      "execution_count": null,
      "metadata": {
        "id": "DIU_TfAs7dy0"
      },
      "outputs": [],
      "source": [
        "#Extrcting Features (taken from existing soluting )\n",
        "\n",
        "# https://www.kaggle.com/andresionek/predicting-customer-satisfaction\n",
        "\n",
        "# calculating estimated delivery time\n",
        "data_n['est_delivery_t'] = (data_n['order_estimated_delivery_date'] - data_n['order_approved_at']).dt.days\n",
        "\n",
        "# calculating actual delivery time\n",
        "data_n['act_delivery_t'] = (data_n['order_delivered_customer_date'] - data_n['order_approved_at']).dt.days\n",
        "\n",
        "# calculating diff_in_delivery_time\n",
        "data_n['diff_in_delivery_t'] = data_n['est_delivery_t'] - data_n['act_delivery_t']\n",
        "\n",
        "# finding if delivery was lare\n",
        "data_n['on_time_delivery'] = data_n['order_delivered_customer_date'] < data_n['order_estimated_delivery_date']\n",
        "data_n['on_time_delivery'] = data_n['on_time_delivery'].astype('int')\n",
        "\n",
        "# calculating mean product value\n",
        "data_n['avg_prdt_value'] = data_n['price']/data_n['products_count']\n",
        "\n",
        "# finding total order cost\n",
        "data_n['total_order_cost'] = data_n['price'] + data_n['freight_value']\n",
        "\n",
        "# calculating order freight ratio\n",
        "data_n['order_freight_ratio'] = data_n['freight_value']/data_n['price']\n",
        "\n",
        "# finding the day of week on which order was made\n",
        "data_n['purchase_dayofweek'] = pd.to_datetime(data_n['order_purchase_timestamp']).dt.dayofweek\n",
        "\n",
        "# adding is_reviewed where 1 is if review comment is given otherwise 0.\n",
        "data_n['is_reviewed'] = (data_n['review_comment_message'] != 'no_review').astype('int')"
      ]
    },
    {
      "cell_type": "code",
      "execution_count": null,
      "metadata": {
        "id": "Kqr_Q5PNQBW0"
      },
      "outputs": [],
      "source": [
        "#list(data.groupby('customer_id')['order_purchase_dayofweek'].agg([('year_avg','mean')])['year_avg'])"
      ]
    },
    {
      "cell_type": "code",
      "execution_count": null,
      "metadata": {
        "colab": {
          "base_uri": "https://localhost:8080/",
          "height": 237
        },
        "id": "ol4I5cc_QBaL",
        "outputId": "ce967ee5-b0d4-4ffa-e551-17148dfc823b"
      },
      "outputs": [
        {
          "data": {
            "text/html": [
              "<div>\n",
              "<style scoped>\n",
              "    .dataframe tbody tr th:only-of-type {\n",
              "        vertical-align: middle;\n",
              "    }\n",
              "\n",
              "    .dataframe tbody tr th {\n",
              "        vertical-align: top;\n",
              "    }\n",
              "\n",
              "    .dataframe thead th {\n",
              "        text-align: right;\n",
              "    }\n",
              "</style>\n",
              "<table border=\"1\" class=\"dataframe\">\n",
              "  <thead>\n",
              "    <tr style=\"text-align: right;\">\n",
              "      <th></th>\n",
              "      <th>recency</th>\n",
              "      <th>frequency</th>\n",
              "      <th>monetary</th>\n",
              "      <th>f_quartile</th>\n",
              "      <th>r_quartile</th>\n",
              "      <th>m_quartile</th>\n",
              "      <th>RFM_Score</th>\n",
              "      <th>RFM_Score_s</th>\n",
              "      <th>RFM_Level</th>\n",
              "    </tr>\n",
              "    <tr>\n",
              "      <th>customer_unique_id</th>\n",
              "      <th></th>\n",
              "      <th></th>\n",
              "      <th></th>\n",
              "      <th></th>\n",
              "      <th></th>\n",
              "      <th></th>\n",
              "      <th></th>\n",
              "      <th></th>\n",
              "      <th></th>\n",
              "    </tr>\n",
              "  </thead>\n",
              "  <tbody>\n",
              "    <tr>\n",
              "      <th>0000366f3b9a7992bf8c76cfdf3221e2</th>\n",
              "      <td>115</td>\n",
              "      <td>1</td>\n",
              "      <td>141.90</td>\n",
              "      <td>1</td>\n",
              "      <td>4</td>\n",
              "      <td>3</td>\n",
              "      <td>413</td>\n",
              "      <td>8</td>\n",
              "      <td>Champions</td>\n",
              "    </tr>\n",
              "    <tr>\n",
              "      <th>0000b849f77a49e4a4ce2b2a4ca5be3f</th>\n",
              "      <td>118</td>\n",
              "      <td>1</td>\n",
              "      <td>27.19</td>\n",
              "      <td>1</td>\n",
              "      <td>4</td>\n",
              "      <td>1</td>\n",
              "      <td>411</td>\n",
              "      <td>6</td>\n",
              "      <td>Potential</td>\n",
              "    </tr>\n",
              "    <tr>\n",
              "      <th>0000f46a3911fa3c0805444483337064</th>\n",
              "      <td>541</td>\n",
              "      <td>1</td>\n",
              "      <td>86.22</td>\n",
              "      <td>1</td>\n",
              "      <td>1</td>\n",
              "      <td>2</td>\n",
              "      <td>112</td>\n",
              "      <td>4</td>\n",
              "      <td>Needs Attention</td>\n",
              "    </tr>\n",
              "    <tr>\n",
              "      <th>0000f6ccb0745a6a4b88665a16c9f078</th>\n",
              "      <td>325</td>\n",
              "      <td>1</td>\n",
              "      <td>43.62</td>\n",
              "      <td>1</td>\n",
              "      <td>2</td>\n",
              "      <td>1</td>\n",
              "      <td>211</td>\n",
              "      <td>4</td>\n",
              "      <td>Needs Attention</td>\n",
              "    </tr>\n",
              "    <tr>\n",
              "      <th>0004aac84e0df4da2b147fca70cf8255</th>\n",
              "      <td>292</td>\n",
              "      <td>1</td>\n",
              "      <td>196.89</td>\n",
              "      <td>1</td>\n",
              "      <td>2</td>\n",
              "      <td>4</td>\n",
              "      <td>214</td>\n",
              "      <td>7</td>\n",
              "      <td>Loyal</td>\n",
              "    </tr>\n",
              "  </tbody>\n",
              "</table>\n",
              "</div>"
            ],
            "text/plain": [
              "                                  recency  ...        RFM_Level\n",
              "customer_unique_id                         ...                 \n",
              "0000366f3b9a7992bf8c76cfdf3221e2      115  ...        Champions\n",
              "0000b849f77a49e4a4ce2b2a4ca5be3f      118  ...        Potential\n",
              "0000f46a3911fa3c0805444483337064      541  ...  Needs Attention\n",
              "0000f6ccb0745a6a4b88665a16c9f078      325  ...  Needs Attention\n",
              "0004aac84e0df4da2b147fca70cf8255      292  ...            Loyal\n",
              "\n",
              "[5 rows x 9 columns]"
            ]
          },
          "execution_count": 12,
          "metadata": {
            "tags": []
          },
          "output_type": "execute_result"
        }
      ],
      "source": [
        "rfm = pd.read_pickle('rfm.pkl')\n",
        "rfm.head()"
      ]
    },
    {
      "cell_type": "code",
      "execution_count": null,
      "metadata": {
        "id": "j93wsW1hYs34"
      },
      "outputs": [],
      "source": [
        "data_n = data_n.merge(rfm ,on ='customer_unique_id',how='left')"
      ]
    },
    {
      "cell_type": "code",
      "execution_count": null,
      "metadata": {
        "colab": {
          "base_uri": "https://localhost:8080/"
        },
        "id": "v1A5xFmIY8_u",
        "outputId": "f7b6d5a6-d241-46be-ac66-30ed6f83fec8"
      },
      "outputs": [
        {
          "data": {
            "text/plain": [
              "order_id                    0\n",
              "customer_id                 0\n",
              "order_status                0\n",
              "order_purchase_timestamp    0\n",
              "order_approved_at           0\n",
              "                           ..\n",
              "r_quartile                  0\n",
              "m_quartile                  0\n",
              "RFM_Score                   0\n",
              "RFM_Score_s                 0\n",
              "RFM_Level                   0\n",
              "Length: 65, dtype: int64"
            ]
          },
          "execution_count": 14,
          "metadata": {
            "tags": []
          },
          "output_type": "execute_result"
        }
      ],
      "source": [
        "data_n.isnull().sum()"
      ]
    },
    {
      "cell_type": "code",
      "execution_count": null,
      "metadata": {
        "colab": {
          "base_uri": "https://localhost:8080/",
          "height": 296
        },
        "id": "GRiVN48ctK2-",
        "outputId": "76ba8fc6-bb51-4bea-f5fa-0b3fba6ba7f1"
      },
      "outputs": [
        {
          "data": {
            "image/png": "[encoded data removed]",
            "text/plain": [
              "<Figure size 720x288 with 1 Axes>"
            ]
          },
          "metadata": {
            "needs_background": "light",
            "tags": []
          },
          "output_type": "display_data"
        }
      ],
      "source": [
        "# Delivery estimated time and actual delivery time\n",
        "plt.figure(figsize=(10,4))\n",
        "plt.title(\"Delivery time in days\")\n",
        "plt.xlim(-10, 200)\n",
        "plt.grid()\n",
        "\n",
        "ax1 = sns.kdeplot(data_n['act_delivery_t'], color=\"#D84E30\", label='Delivery time')\n",
        "ax2 = sns.kdeplot(data_n['est_delivery_t'], color=\"#7E7270\", label='Estimated delivery time')\n",
        "plt.savefig('pr_fig1.png', dpi=480, bbox_inches='tight')"
      ]
    },
    {
      "cell_type": "code",
      "execution_count": null,
      "metadata": {
        "id": "RGTxYanl7nNV"
      },
      "outputs": [],
      "source": [
        "col= ['order_id',\n",
        " 'customer_id',\n",
        " 'order_purchase_timestamp',\n",
        " 'order_approved_at',\n",
        " 'order_delivered_customer_date',\n",
        " 'order_estimated_delivery_date',\n",
        "  'customer_unique_id',\n",
        " 'order_item_id',\n",
        " 'product_id',\n",
        " 'seller_id',\n",
        " 'shipping_limit_date',\n",
        "  'order_purchase_year',\n",
        " 'order_purchase_month',\n",
        " 'order_purchase_month_name',\n",
        " 'order_purchase_year_month',\n",
        " 'order_purchase_date',\n",
        " 'order_purchase_month_yr',\n",
        " 'order_purchase_day',\n",
        " 'order_purchase_dayofweek',\n",
        " 'order_purchase_dayofweek_name',\n",
        " 'order_purchase_hour',\n",
        " 'order_purchase_time_day',\n",
        "  'f_quartile',\n",
        " 'r_quartile',\n",
        " 'm_quartile',\n",
        " 'RFM_Score','RFM_Score_s','product_category_name']\n"
      ]
    },
    {
      "cell_type": "code",
      "execution_count": null,
      "metadata": {
        "colab": {
          "base_uri": "https://localhost:8080/",
          "height": 313
        },
        "id": "ZQqtPBPM7r_U",
        "outputId": "80bc0e71-7cbd-4364-9085-d45214d256dc"
      },
      "outputs": [
        {
          "data": {
            "text/html": [
              "<div>\n",
              "<style scoped>\n",
              "    .dataframe tbody tr th:only-of-type {\n",
              "        vertical-align: middle;\n",
              "    }\n",
              "\n",
              "    .dataframe tbody tr th {\n",
              "        vertical-align: top;\n",
              "    }\n",
              "\n",
              "    .dataframe thead th {\n",
              "        text-align: right;\n",
              "    }\n",
              "</style>\n",
              "<table border=\"1\" class=\"dataframe\">\n",
              "  <thead>\n",
              "    <tr style=\"text-align: right;\">\n",
              "      <th></th>\n",
              "      <th>order_status</th>\n",
              "      <th>payment_sequential</th>\n",
              "      <th>payment_type</th>\n",
              "      <th>payment_installments</th>\n",
              "      <th>payment_value</th>\n",
              "      <th>customer_zip_code_prefix</th>\n",
              "      <th>customer_city</th>\n",
              "      <th>customer_state</th>\n",
              "      <th>price</th>\n",
              "      <th>freight_value</th>\n",
              "      <th>product_name_lenght</th>\n",
              "      <th>product_description_lenght</th>\n",
              "      <th>product_photos_qty</th>\n",
              "      <th>product_weight_g</th>\n",
              "      <th>product_length_cm</th>\n",
              "      <th>product_height_cm</th>\n",
              "      <th>product_width_cm</th>\n",
              "      <th>product_category_name_english</th>\n",
              "      <th>review_score</th>\n",
              "      <th>review_comment_message</th>\n",
              "      <th>day_to_delivery</th>\n",
              "      <th>words_per_review</th>\n",
              "      <th>sellers_count</th>\n",
              "      <th>products_count</th>\n",
              "      <th>est_delivery_t</th>\n",
              "      <th>act_delivery_t</th>\n",
              "      <th>diff_in_delivery_t</th>\n",
              "      <th>on_time_delivery</th>\n",
              "      <th>avg_prdt_value</th>\n",
              "      <th>total_order_cost</th>\n",
              "      <th>order_freight_ratio</th>\n",
              "      <th>purchase_dayofweek</th>\n",
              "      <th>is_reviewed</th>\n",
              "      <th>recency</th>\n",
              "      <th>frequency</th>\n",
              "      <th>monetary</th>\n",
              "      <th>RFM_Level</th>\n",
              "    </tr>\n",
              "  </thead>\n",
              "  <tbody>\n",
              "    <tr>\n",
              "      <th>0</th>\n",
              "      <td>delivered</td>\n",
              "      <td>1</td>\n",
              "      <td>credit_card</td>\n",
              "      <td>1</td>\n",
              "      <td>18.12</td>\n",
              "      <td>3149</td>\n",
              "      <td>sao paulo</td>\n",
              "      <td>SP</td>\n",
              "      <td>29.99</td>\n",
              "      <td>8.72</td>\n",
              "      <td>40.0</td>\n",
              "      <td>268.0</td>\n",
              "      <td>4.0</td>\n",
              "      <td>500.0</td>\n",
              "      <td>19.0</td>\n",
              "      <td>8.0</td>\n",
              "      <td>13.0</td>\n",
              "      <td>housewares</td>\n",
              "      <td>1</td>\n",
              "      <td>Não testei o produto ainda, mas ele veio corre...</td>\n",
              "      <td>8</td>\n",
              "      <td>32</td>\n",
              "      <td>4</td>\n",
              "      <td>1</td>\n",
              "      <td>15</td>\n",
              "      <td>8</td>\n",
              "      <td>7</td>\n",
              "      <td>1</td>\n",
              "      <td>29.99</td>\n",
              "      <td>38.71</td>\n",
              "      <td>0.290764</td>\n",
              "      <td>0</td>\n",
              "      <td>1</td>\n",
              "      <td>335</td>\n",
              "      <td>2</td>\n",
              "      <td>62.23</td>\n",
              "      <td>Promising</td>\n",
              "    </tr>\n",
              "    <tr>\n",
              "      <th>1</th>\n",
              "      <td>delivered</td>\n",
              "      <td>1</td>\n",
              "      <td>credit_card</td>\n",
              "      <td>3</td>\n",
              "      <td>37.77</td>\n",
              "      <td>3366</td>\n",
              "      <td>sao paulo</td>\n",
              "      <td>SP</td>\n",
              "      <td>29.99</td>\n",
              "      <td>7.78</td>\n",
              "      <td>40.0</td>\n",
              "      <td>268.0</td>\n",
              "      <td>4.0</td>\n",
              "      <td>500.0</td>\n",
              "      <td>19.0</td>\n",
              "      <td>8.0</td>\n",
              "      <td>13.0</td>\n",
              "      <td>housewares</td>\n",
              "      <td>1</td>\n",
              "      <td>Deveriam embalar melhor o produto. A caixa vei...</td>\n",
              "      <td>2</td>\n",
              "      <td>16</td>\n",
              "      <td>4</td>\n",
              "      <td>1</td>\n",
              "      <td>12</td>\n",
              "      <td>2</td>\n",
              "      <td>10</td>\n",
              "      <td>1</td>\n",
              "      <td>29.99</td>\n",
              "      <td>37.77</td>\n",
              "      <td>0.259420</td>\n",
              "      <td>1</td>\n",
              "      <td>1</td>\n",
              "      <td>383</td>\n",
              "      <td>1</td>\n",
              "      <td>37.77</td>\n",
              "      <td>Require Activation</td>\n",
              "    </tr>\n",
              "    <tr>\n",
              "      <th>2</th>\n",
              "      <td>delivered</td>\n",
              "      <td>1</td>\n",
              "      <td>credit_card</td>\n",
              "      <td>1</td>\n",
              "      <td>37.77</td>\n",
              "      <td>2290</td>\n",
              "      <td>sao paulo</td>\n",
              "      <td>SP</td>\n",
              "      <td>29.99</td>\n",
              "      <td>7.78</td>\n",
              "      <td>40.0</td>\n",
              "      <td>268.0</td>\n",
              "      <td>4.0</td>\n",
              "      <td>500.0</td>\n",
              "      <td>19.0</td>\n",
              "      <td>8.0</td>\n",
              "      <td>13.0</td>\n",
              "      <td>housewares</td>\n",
              "      <td>1</td>\n",
              "      <td>Só achei ela pequena pra seis xícaras ,mais é ...</td>\n",
              "      <td>5</td>\n",
              "      <td>12</td>\n",
              "      <td>4</td>\n",
              "      <td>1</td>\n",
              "      <td>12</td>\n",
              "      <td>4</td>\n",
              "      <td>8</td>\n",
              "      <td>1</td>\n",
              "      <td>29.99</td>\n",
              "      <td>37.77</td>\n",
              "      <td>0.259420</td>\n",
              "      <td>2</td>\n",
              "      <td>1</td>\n",
              "      <td>396</td>\n",
              "      <td>1</td>\n",
              "      <td>37.77</td>\n",
              "      <td>Require Activation</td>\n",
              "    </tr>\n",
              "    <tr>\n",
              "      <th>3</th>\n",
              "      <td>delivered</td>\n",
              "      <td>1</td>\n",
              "      <td>boleto</td>\n",
              "      <td>1</td>\n",
              "      <td>44.09</td>\n",
              "      <td>88032</td>\n",
              "      <td>florianopolis</td>\n",
              "      <td>SC</td>\n",
              "      <td>29.99</td>\n",
              "      <td>14.10</td>\n",
              "      <td>40.0</td>\n",
              "      <td>268.0</td>\n",
              "      <td>4.0</td>\n",
              "      <td>500.0</td>\n",
              "      <td>19.0</td>\n",
              "      <td>8.0</td>\n",
              "      <td>13.0</td>\n",
              "      <td>housewares</td>\n",
              "      <td>1</td>\n",
              "      <td>nao_reveja</td>\n",
              "      <td>14</td>\n",
              "      <td>1</td>\n",
              "      <td>4</td>\n",
              "      <td>1</td>\n",
              "      <td>18</td>\n",
              "      <td>13</td>\n",
              "      <td>5</td>\n",
              "      <td>1</td>\n",
              "      <td>29.99</td>\n",
              "      <td>44.09</td>\n",
              "      <td>0.470157</td>\n",
              "      <td>0</td>\n",
              "      <td>1</td>\n",
              "      <td>314</td>\n",
              "      <td>1</td>\n",
              "      <td>44.09</td>\n",
              "      <td>Needs Attention</td>\n",
              "    </tr>\n",
              "    <tr>\n",
              "      <th>4</th>\n",
              "      <td>delivered</td>\n",
              "      <td>1</td>\n",
              "      <td>credit_card</td>\n",
              "      <td>10</td>\n",
              "      <td>356.12</td>\n",
              "      <td>19400</td>\n",
              "      <td>presidente venceslau</td>\n",
              "      <td>SP</td>\n",
              "      <td>339.00</td>\n",
              "      <td>17.12</td>\n",
              "      <td>48.0</td>\n",
              "      <td>664.0</td>\n",
              "      <td>6.0</td>\n",
              "      <td>14300.0</td>\n",
              "      <td>38.0</td>\n",
              "      <td>34.0</td>\n",
              "      <td>34.0</td>\n",
              "      <td>housewares</td>\n",
              "      <td>0</td>\n",
              "      <td>Inicialmente, na data da compra o produto era ...</td>\n",
              "      <td>33</td>\n",
              "      <td>22</td>\n",
              "      <td>1</td>\n",
              "      <td>1</td>\n",
              "      <td>25</td>\n",
              "      <td>33</td>\n",
              "      <td>-8</td>\n",
              "      <td>0</td>\n",
              "      <td>339.00</td>\n",
              "      <td>356.12</td>\n",
              "      <td>0.050501</td>\n",
              "      <td>4</td>\n",
              "      <td>1</td>\n",
              "      <td>282</td>\n",
              "      <td>1</td>\n",
              "      <td>356.12</td>\n",
              "      <td>Loyal</td>\n",
              "    </tr>\n",
              "  </tbody>\n",
              "</table>\n",
              "</div>"
            ],
            "text/plain": [
              "  order_status  payment_sequential  ... monetary           RFM_Level\n",
              "0    delivered                   1  ...    62.23           Promising\n",
              "1    delivered                   1  ...    37.77  Require Activation\n",
              "2    delivered                   1  ...    37.77  Require Activation\n",
              "3    delivered                   1  ...    44.09     Needs Attention\n",
              "4    delivered                   1  ...   356.12               Loyal\n",
              "\n",
              "[5 rows x 37 columns]"
            ]
          },
          "execution_count": 16,
          "metadata": {
            "tags": []
          },
          "output_type": "execute_result"
        }
      ],
      "source": [
        "data_n.drop(columns=col,axis=1,inplace=True)\n",
        "data_n.head()"
      ]
    },
    {
      "cell_type": "code",
      "execution_count": null,
      "metadata": {
        "colab": {
          "base_uri": "https://localhost:8080/"
        },
        "id": "aP2h5nb3cQAf",
        "outputId": "a8f0d032-019c-4c61-fe2b-bb89de564f24"
      },
      "outputs": [
        {
          "name": "stderr",
          "output_type": "stream",
          "text": [
            "100%|██████████| 97255/97255 [00:25<00:00, 3793.41it/s]\n"
          ]
        }
      ],
      "source": [
        "#text preprocessing\n",
        "processed_text = preprocess_text(data_n['review_comment_message'].values)"
      ]
    },
    {
      "cell_type": "code",
      "execution_count": null,
      "metadata": {
        "colab": {
          "base_uri": "https://localhost:8080/"
        },
        "id": "a4HC3l1NZpI0",
        "outputId": "cc38c2b1-26fa-4696-d7f8-6d7b00ab42ca"
      },
      "outputs": [
        {
          "data": {
            "text/plain": [
              "0    neg test produt aind vei corret boa cond apen ...\n",
              "1    dev embal melhor produt caix vei tod amass vou...\n",
              "2                   ach pequen pra seil xíc bom produt\n",
              "3                                           neg _revej\n",
              "4    inic dat compr produt ser entreg numer numer h...\n",
              "Name: review_comment_message, dtype: object"
            ]
          },
          "execution_count": 24,
          "metadata": {
            "tags": []
          },
          "output_type": "execute_result"
        }
      ],
      "source": [
        "data_n['review_comment_message'] = processed_text\n",
        "data_n['review_comment_message'].head(5)"
      ]
    },
    {
      "cell_type": "code",
      "execution_count": null,
      "metadata": {
        "id": "_vyzOSwPZwQW"
      },
      "outputs": [],
      "source": []
    },
    {
      "cell_type": "code",
      "execution_count": null,
      "metadata": {
        "id": "m1gbChWdZwVa"
      },
      "outputs": [],
      "source": []
    },
    {
      "cell_type": "markdown",
      "metadata": {
        "id": "lKunbQpSwv_X"
      },
      "source": [
        "Spliting data in Train and Test."
      ]
    },
    {
      "cell_type": "code",
      "execution_count": null,
      "metadata": {
        "colab": {
          "base_uri": "https://localhost:8080/",
          "height": 193
        },
        "id": "-zvVIPIDR-Yw",
        "outputId": "68a887dd-be9d-44b7-9f80-0376542b76e7"
      },
      "outputs": [
        {
          "name": "stdout",
          "output_type": "stream",
          "text": [
            "      X          y\n",
            "(97255, 36) (97255,)\n",
            "\n",
            "\n"
          ]
        },
        {
          "data": {
            "text/html": [
              "<div>\n",
              "<style scoped>\n",
              "    .dataframe tbody tr th:only-of-type {\n",
              "        vertical-align: middle;\n",
              "    }\n",
              "\n",
              "    .dataframe tbody tr th {\n",
              "        vertical-align: top;\n",
              "    }\n",
              "\n",
              "    .dataframe thead th {\n",
              "        text-align: right;\n",
              "    }\n",
              "</style>\n",
              "<table border=\"1\" class=\"dataframe\">\n",
              "  <thead>\n",
              "    <tr style=\"text-align: right;\">\n",
              "      <th></th>\n",
              "      <th>order_status</th>\n",
              "      <th>payment_sequential</th>\n",
              "      <th>payment_type</th>\n",
              "      <th>payment_installments</th>\n",
              "      <th>payment_value</th>\n",
              "      <th>customer_zip_code_prefix</th>\n",
              "      <th>customer_city</th>\n",
              "      <th>customer_state</th>\n",
              "      <th>price</th>\n",
              "      <th>freight_value</th>\n",
              "      <th>product_name_lenght</th>\n",
              "      <th>product_description_lenght</th>\n",
              "      <th>product_photos_qty</th>\n",
              "      <th>product_weight_g</th>\n",
              "      <th>product_length_cm</th>\n",
              "      <th>product_height_cm</th>\n",
              "      <th>product_width_cm</th>\n",
              "      <th>product_category_name_english</th>\n",
              "      <th>review_comment_message</th>\n",
              "      <th>day_to_delivery</th>\n",
              "      <th>words_per_review</th>\n",
              "      <th>sellers_count</th>\n",
              "      <th>products_count</th>\n",
              "      <th>est_delivery_t</th>\n",
              "      <th>act_delivery_t</th>\n",
              "      <th>diff_in_delivery_t</th>\n",
              "      <th>on_time_delivery</th>\n",
              "      <th>avg_prdt_value</th>\n",
              "      <th>total_order_cost</th>\n",
              "      <th>order_freight_ratio</th>\n",
              "      <th>purchase_dayofweek</th>\n",
              "      <th>is_reviewed</th>\n",
              "      <th>recency</th>\n",
              "      <th>frequency</th>\n",
              "      <th>monetary</th>\n",
              "      <th>RFM_Level</th>\n",
              "    </tr>\n",
              "  </thead>\n",
              "  <tbody>\n",
              "    <tr>\n",
              "      <th>0</th>\n",
              "      <td>delivered</td>\n",
              "      <td>1</td>\n",
              "      <td>credit_card</td>\n",
              "      <td>1</td>\n",
              "      <td>18.12</td>\n",
              "      <td>3149</td>\n",
              "      <td>sao paulo</td>\n",
              "      <td>SP</td>\n",
              "      <td>29.99</td>\n",
              "      <td>8.72</td>\n",
              "      <td>40.0</td>\n",
              "      <td>268.0</td>\n",
              "      <td>4.0</td>\n",
              "      <td>500.0</td>\n",
              "      <td>19.0</td>\n",
              "      <td>8.0</td>\n",
              "      <td>13.0</td>\n",
              "      <td>housewares</td>\n",
              "      <td>Não testei o produto ainda, mas ele veio corre...</td>\n",
              "      <td>8</td>\n",
              "      <td>32</td>\n",
              "      <td>4</td>\n",
              "      <td>1</td>\n",
              "      <td>15</td>\n",
              "      <td>8</td>\n",
              "      <td>7</td>\n",
              "      <td>1</td>\n",
              "      <td>29.99</td>\n",
              "      <td>38.71</td>\n",
              "      <td>0.290764</td>\n",
              "      <td>0</td>\n",
              "      <td>1</td>\n",
              "      <td>335</td>\n",
              "      <td>2</td>\n",
              "      <td>62.23</td>\n",
              "      <td>Promising</td>\n",
              "    </tr>\n",
              "  </tbody>\n",
              "</table>\n",
              "</div>"
            ],
            "text/plain": [
              "  order_status  payment_sequential payment_type  ...  frequency  monetary  RFM_Level\n",
              "0    delivered                   1  credit_card  ...          2     62.23  Promising\n",
              "\n",
              "[1 rows x 36 columns]"
            ]
          },
          "execution_count": 21,
          "metadata": {
            "tags": []
          },
          "output_type": "execute_result"
        }
      ],
      "source": [
        "y = data_n['review_score'].values\n",
        "X = data_n.drop(['review_score'], axis=1)\n",
        "print(\"      X \",\"        y\")\n",
        "print(X.shape,y.shape)\n",
        "print('\\n')\n",
        "X.head(1)   "
      ]
    },
    {
      "cell_type": "code",
      "execution_count": null,
      "metadata": {
        "id": "FvVHyDu671ym"
      },
      "outputs": [],
      "source": []
    },
    {
      "cell_type": "code",
      "execution_count": null,
      "metadata": {
        "colab": {
          "base_uri": "https://localhost:8080/"
        },
        "id": "km_EQpPY8EQ-",
        "outputId": "a471209e-962a-41fb-c256-0bd9ffa81477"
      },
      "outputs": [
        {
          "name": "stdout",
          "output_type": "stream",
          "text": [
            " X_train    y_train\n",
            "(77804, 36) (77804,)\n",
            "---------------\n",
            "X_test     y_test\n",
            "(19451, 36) (19451,)\n"
          ]
        }
      ],
      "source": [
        "# train test split\n",
        "from sklearn.model_selection import train_test_split\n",
        "X_train, X_test, y_train, y_test = train_test_split(X, y, test_size=0.2, stratify=y,random_state=25)\n",
        "\n",
        "\n",
        "print(\" X_train\",\"   y_train\")\n",
        "print(X_train.shape,y_train.shape)\n",
        "print('-'*15)\n",
        "print(\"X_test\",\"    y_test\")\n",
        "print(X_test.shape,y_test.shape)"
      ]
    },
    {
      "cell_type": "code",
      "execution_count": null,
      "metadata": {
        "id": "J_WTyja-RgKU"
      },
      "outputs": [],
      "source": [
        "pickle.dump(X_train,open('X_train.pkl','wb'))\n",
        "pickle.dump(X_test,open('X_test.pkl','wb'))\n",
        "pickle.dump(y_train,open('y_train.pkl','wb'))\n",
        "pickle.dump(y_test,open('y_test.pkl','wb'))"
      ]
    },
    {
      "cell_type": "code",
      "execution_count": null,
      "metadata": {
        "id": "mKCT42IuxysX"
      },
      "outputs": [],
      "source": [
        "X_train = pickle.load(open('X_train.pkl', 'rb'))\n",
        "X_test = pickle.load(open('X_test.pkl', 'rb'))\n",
        "y_train = pickle.load(open('y_train.pkl','rb'))\n",
        "y_test = pickle.load(open('y_test.pkl','rb'))"
      ]
    },
    {
      "cell_type": "code",
      "execution_count": null,
      "metadata": {
        "id": "1IqptiodycO4"
      },
      "outputs": [],
      "source": [
        "\n"
      ]
    },
    {
      "cell_type": "markdown",
      "metadata": {
        "id": "gOGuR9Vf0YDM"
      },
      "source": [
        "#4.1 Featurization"
      ]
    },
    {
      "cell_type": "markdown",
      "metadata": {
        "id": "5OZvpbhdw4Tz"
      },
      "source": [
        "### Featurization of text data"
      ]
    },
    {
      "cell_type": "code",
      "execution_count": null,
      "metadata": {
        "colab": {
          "base_uri": "https://localhost:8080/"
        },
        "id": "jQmtT1ZVZHg7",
        "outputId": "2e4665ba-6214-4a2b-a0e5-73c5198e7575"
      },
      "outputs": [
        {
          "name": "stderr",
          "output_type": "stream",
          "text": [
            "100%|██████████| 77804/77804 [1:40:01<00:00, 12.96it/s]\n",
            "100%|██████████| 19451/19451 [25:46<00:00, 12.58it/s]\n"
          ]
        }
      ],
      "source": [
        "# encoding review comment message using Tfidf weighted W2V\n",
        "tfidf = TfidfVectorizer()\n",
        "tfidf.fit(X_train['review_comment_message'])\n",
        "\n",
        "\n",
        "# we are converting a dictionary with word as a key, and the idf as a value\n",
        "tf_values = dict(zip(tfidf.get_feature_names(), list(tfidf.idf_)))\n",
        "tfidf_words = set(tfidf.get_feature_names())\n",
        "glove_words = list(ft_model.wv.vocab.keys()) # list(embeddings.keys())\n",
        "\n",
        "tfidf_w2v_vectors_train = tfidfWord2Vector(X_train['review_comment_message'].values,glove_words,tfidf_words,tf_values)\n",
        "tfidf_w2v_vectors_test = tfidfWord2Vector(X_test['review_comment_message'].values,glove_words,tfidf_words,tf_values)"
      ]
    },
    {
      "cell_type": "code",
      "execution_count": null,
      "metadata": {
        "colab": {
          "base_uri": "https://localhost:8080/"
        },
        "id": "f4eH4BTqZHzQ",
        "outputId": "52b1196d-c487-4734-b0dc-7ab2144c90a4"
      },
      "outputs": [
        {
          "data": {
            "text/plain": [
              "((77804, 300), (19451, 300))"
            ]
          },
          "execution_count": 30,
          "metadata": {
            "tags": []
          },
          "output_type": "execute_result"
        }
      ],
      "source": [
        "tfidf_w2v_vectors_train.shape,tfidf_w2v_vectors_test.shape"
      ]
    },
    {
      "cell_type": "code",
      "execution_count": null,
      "metadata": {
        "id": "dx06fvIzYXHi"
      },
      "outputs": [],
      "source": [
        "pickle.dump(tfidf_w2v_vectors_train,open('tfidf_w2v_vectors_train.pkl','wb'))\n",
        "pickle.dump(tfidf_w2v_vectors_test,open('tfidf_w2v_vectors_test.pkl','wb'))"
      ]
    },
    {
      "cell_type": "markdown",
      "metadata": {
        "id": "j9SnTQ2H5QVb"
      },
      "source": [
        "## Encoding Categorical Features"
      ]
    },
    {
      "cell_type": "markdown",
      "metadata": {
        "id": "QpciOFfvydj8"
      },
      "source": [
        "### Encoding Categorical Features: order_status"
      ]
    },
    {
      "cell_type": "code",
      "execution_count": null,
      "metadata": {
        "colab": {
          "base_uri": "https://localhost:8080/"
        },
        "id": "enAtfgrB6650",
        "outputId": "6b47bc59-88cc-477a-dcb0-dbec85048f4a"
      },
      "outputs": [
        {
          "name": "stdout",
          "output_type": "stream",
          "text": [
            "After vectorizations\n",
            "(77804, 7) (77804,)\n",
            "(77804, 7) (19451,)\n"
          ]
        }
      ],
      "source": [
        "\n",
        "vectorizer = CountVectorizer(binary= True)\n",
        "vectorizer.fit(X_train['order_status'].values) # fit has to happen only on train data\n",
        "\n",
        "# we use the fitted CountVectorizer to convert the text to vector\n",
        "order_st_tr = vectorizer.transform(X_train['order_status'].values)\n",
        "\n",
        "order_st_te = vectorizer.transform(X_test['order_status'].values)\n",
        "\n",
        "print(\"After vectorizations\")\n",
        "print(order_st_tr.shape, y_train.shape)\n",
        "print(order_st_tr.shape, y_test.shape)\n"
      ]
    },
    {
      "cell_type": "markdown",
      "metadata": {
        "id": "Mvs15_sryiJp"
      },
      "source": [
        "### Encoding Categorical Features:payment_type"
      ]
    },
    {
      "cell_type": "code",
      "execution_count": null,
      "metadata": {
        "colab": {
          "base_uri": "https://localhost:8080/"
        },
        "id": "9Or3gF2CApk-",
        "outputId": "2dffcf06-d3e0-4a37-b919-333ff00bd6c6"
      },
      "outputs": [
        {
          "name": "stdout",
          "output_type": "stream",
          "text": [
            "After vectorizations\n",
            "(77804, 4) (77804,)\n",
            "(77804, 4) (19451,)\n"
          ]
        }
      ],
      "source": [
        "vectorizer = CountVectorizer(binary= True)\n",
        "vectorizer.fit(X_train['payment_type'].values) # fit has to happen only on train data\n",
        "\n",
        "# we use the fitted CountVectorizer to convert the text to vector\n",
        "pay_typ_tr = vectorizer.transform(X_train['payment_type'].values)\n",
        "\n",
        "pay_typ_te = vectorizer.transform(X_test['payment_type'].values)\n",
        "\n",
        "print(\"After vectorizations\")\n",
        "print(pay_typ_tr.shape, y_train.shape)\n",
        "print(pay_typ_tr.shape, y_test.shape)\n"
      ]
    },
    {
      "cell_type": "markdown",
      "metadata": {
        "id": "N29dhmmkyoaF"
      },
      "source": [
        "### Encoding Categorical Features:product_category_name_english"
      ]
    },
    {
      "cell_type": "code",
      "execution_count": null,
      "metadata": {
        "colab": {
          "base_uri": "https://localhost:8080/"
        },
        "id": "cjttm5u5_XEV",
        "outputId": "4e32eae0-45da-4f11-ca43-3d2b722684ec"
      },
      "outputs": [
        {
          "name": "stdout",
          "output_type": "stream",
          "text": [
            "After vectorizations\n",
            "(77804, 71) (77804,)\n",
            "(77804, 71) (19451,)\n"
          ]
        }
      ],
      "source": [
        "vectorizer = CountVectorizer(binary= True)\n",
        "vectorizer.fit(X_train['product_category_name_english'].values) # fit has to happen only on train data\n",
        "\n",
        "# we use the fitted CountVectorizer to convert the text to vector\n",
        "prod_cat_tr = vectorizer.transform(X_train['product_category_name_english'].values)\n",
        "\n",
        "prod_cat_te = vectorizer.transform(X_test['product_category_name_english'].values)\n",
        "\n",
        "print(\"After vectorizations\")\n",
        "print(prod_cat_tr.shape, y_train.shape)\n",
        "print(prod_cat_tr.shape, y_test.shape)\n"
      ]
    },
    {
      "cell_type": "markdown",
      "metadata": {
        "id": "2LpZiGkhyvuN"
      },
      "source": [
        "### Encoding Categorical Features: customer_state"
      ]
    },
    {
      "cell_type": "code",
      "execution_count": null,
      "metadata": {
        "colab": {
          "base_uri": "https://localhost:8080/"
        },
        "id": "LiCVQkBO67Ag",
        "outputId": "73385700-fe6f-475e-c5b2-08d443a8c815"
      },
      "outputs": [
        {
          "name": "stdout",
          "output_type": "stream",
          "text": [
            "After vectorizations\n",
            "(77804, 27) (77804,)\n",
            "(77804, 27) (19451,)\n"
          ]
        }
      ],
      "source": [
        "vectorizer = CountVectorizer(binary= True)\n",
        "vectorizer.fit(X_train['customer_state'].values) # fit has to happen only on train data\n",
        "\n",
        "# we use the fitted CountVectorizer to convert the text to vector\n",
        "state_tr = vectorizer.transform(X_train['customer_state'].values)\n",
        "\n",
        "state_te = vectorizer.transform(X_test['customer_state'].values)\n",
        "\n",
        "print(\"After vectorizations\")\n",
        "print(state_tr.shape, y_train.shape)\n",
        "print(state_tr.shape, y_test.shape)\n"
      ]
    },
    {
      "cell_type": "markdown",
      "metadata": {
        "id": "Xzj6jvM4yxXT"
      },
      "source": [
        "### Encoding Categorical Features: RFM_Level"
      ]
    },
    {
      "cell_type": "code",
      "execution_count": null,
      "metadata": {
        "colab": {
          "base_uri": "https://localhost:8080/"
        },
        "id": "tClRrJZA67DE",
        "outputId": "533d813b-7bd3-405c-d44d-434a2b040339"
      },
      "outputs": [
        {
          "name": "stdout",
          "output_type": "stream",
          "text": [
            "After vectorizations\n",
            "(77804, 11) (77804,)\n",
            "(77804, 11) (19451,)\n"
          ]
        }
      ],
      "source": [
        "vectorizer = CountVectorizer(binary= True)\n",
        "vectorizer.fit(X_train['RFM_Level'].values) # fit has to happen only on train data\n",
        "\n",
        "# we use the fitted CountVectorizer to convert the text to vector\n",
        "rfm_tr = vectorizer.transform(X_train['RFM_Level'].values)\n",
        "\n",
        "rfm_te = vectorizer.transform(X_test['RFM_Level'].values)\n",
        "\n",
        "print(\"After vectorizations\")\n",
        "print(rfm_tr.shape, y_train.shape)\n",
        "print(rfm_tr.shape, y_test.shape)\n"
      ]
    },
    {
      "cell_type": "code",
      "execution_count": null,
      "metadata": {
        "id": "K1Q6Ddj367F5"
      },
      "outputs": [],
      "source": []
    },
    {
      "cell_type": "markdown",
      "metadata": {
        "id": "manlqBBoCF0b"
      },
      "source": [
        "## Numerical features"
      ]
    },
    {
      "cell_type": "code",
      "execution_count": null,
      "metadata": {
        "id": "yGpKOkGVFSfL"
      },
      "outputs": [],
      "source": [
        "# numerical features\n",
        "num=['payment_sequential',\n",
        " 'payment_installments',\n",
        " 'payment_value',\n",
        " 'customer_zip_code_prefix',\n",
        " 'price',\n",
        " 'freight_value',\n",
        " 'product_name_lenght',\n",
        " 'product_description_lenght',\n",
        " 'product_photos_qty',\n",
        " 'product_weight_g',\n",
        " 'product_length_cm',\n",
        " 'product_height_cm',\n",
        " 'product_width_cm',\n",
        " 'day_to_delivery',\n",
        " 'recency',\n",
        " 'frequency',\n",
        " 'monetary',\n",
        " 'sellers_count',\n",
        " 'products_count',\n",
        " 'est_delivery_t',\n",
        " 'act_delivery_t',\n",
        " 'diff_in_delivery_t',\n",
        " 'on_time_delivery',\n",
        " 'avg_prdt_value',\n",
        " 'total_order_cost',\n",
        " 'order_freight_ratio',\n",
        " 'purchase_dayofweek',\n",
        " 'is_reviewed','words_per_review']"
      ]
    },
    {
      "cell_type": "code",
      "execution_count": null,
      "metadata": {
        "id": "Oic8NPhs67LL"
      },
      "outputs": [],
      "source": [
        "tr=[]\n",
        "te=[]\n",
        "for i in num:\n",
        "  a,b = normalizer(i)\n",
        "  tr.append(a)\n",
        "  te.append(b)\n",
        "\n"
      ]
    },
    {
      "cell_type": "code",
      "execution_count": null,
      "metadata": {
        "colab": {
          "base_uri": "https://localhost:8080/"
        },
        "id": "48PkXHkVE7ai",
        "outputId": "21a5c5d5-1fd2-4e38-fcf2-39d6f74e6a46"
      },
      "outputs": [
        {
          "name": "stdout",
          "output_type": "stream",
          "text": [
            "Final Data matrix\n",
            "(77804, 29) (77804,)\n",
            "(19451, 29) (19451,)\n"
          ]
        }
      ],
      "source": [
        "from scipy.sparse import hstack,csr_matrix\n",
        "import numpy as np\n",
        "\n",
        "X_tr_num = np.hstack((tr))\n",
        "X_te_num = np.hstack((te))\n",
        "\n",
        "\n",
        "print(\"Final Data matrix\")\n",
        "print(X_tr_num.shape, y_train.shape)\n",
        "print(X_te_num.shape, y_test.shape)"
      ]
    },
    {
      "cell_type": "code",
      "execution_count": null,
      "metadata": {
        "colab": {
          "base_uri": "https://localhost:8080/"
        },
        "id": "IaBj7QzcHVdX",
        "outputId": "9e110a51-36ca-448c-c267-9096c5761e84"
      },
      "outputs": [
        {
          "name": "stdout",
          "output_type": "stream",
          "text": [
            "Final Data matrix\n",
            "(77804, 449) (77804,)\n",
            "(19451, 449) (19451,)\n",
            "====================================================================================================\n",
            "\n"
          ]
        }
      ],
      "source": [
        "# merge two sparse matrices: https://stackoverflow.com/a/19710648/4084039\n",
        "from scipy.sparse import hstack\n",
        "X_tr = hstack((tfidf_w2v_vectors_train,order_st_tr,pay_typ_tr,prod_cat_tr,state_tr,rfm_tr,X_tr_num)).tocsr()\n",
        "X_te = hstack((tfidf_w2v_vectors_test,order_st_te,pay_typ_te,prod_cat_te,state_te,rfm_te,X_te_num)).tocsr()\n",
        "\n",
        "print(\"Final Data matrix\")\n",
        "print(X_tr.shape, y_train.shape)\n",
        "\n",
        "print(X_te.shape, y_test.shape)\n",
        "print(\"=\"*100)\n",
        "print('')"
      ]
    },
    {
      "cell_type": "code",
      "execution_count": null,
      "metadata": {
        "id": "OHPsKXJEuZto"
      },
      "outputs": [],
      "source": [
        "pickle.dump(X_tr,open('X_tr.pkl','wb'))\n",
        "pickle.dump(X_te,open('X_te.pkl','wb'))\n"
      ]
    },
    {
      "cell_type": "code",
      "execution_count": null,
      "metadata": {
        "id": "-tp9tyOGy4z4"
      },
      "outputs": [],
      "source": [
        "X_tr = pickle.load(open('X_tr.pkl', 'rb'))\n",
        "X_te = pickle.load(open('X_te.pkl', 'rb'))\n"
      ]
    },
    {
      "cell_type": "markdown",
      "metadata": {
        "id": "jU_NIf-0LKYd"
      },
      "source": [
        "#4.2 Baseline Model:(Logistic Regression Model)"
      ]
    },
    {
      "cell_type": "code",
      "execution_count": null,
      "metadata": {
        "colab": {
          "base_uri": "https://localhost:8080/",
          "height": 482
        },
        "id": "DIDHdHm5HVm_",
        "outputId": "c1410858-7e54-4f8f-ce57-e710089b7a75"
      },
      "outputs": [
        {
          "name": "stdout",
          "output_type": "stream",
          "text": [
            "Alpha =  1e-05 Train Score 0.7471470259347864 test Score 0.7328464710133609\n",
            "Alpha =  0.0001 Train Score 0.7718947384878527 test Score 0.7629530382245009\n",
            "Alpha =  0.001 Train Score 0.6981267604598248 test Score 0.6859294998739176\n",
            "Alpha =  0.01 Train Score 0.6767653233105615 test Score 0.6696703441050166\n",
            "Alpha =  0.1 Train Score 0.4608849900913261 test Score 0.46089246119733923\n",
            "Alpha =  1 Train Score 0.4608849900913261 test Score 0.46089246119733923\n",
            "Alpha =  10 Train Score 0.4608849900913261 test Score 0.46089246119733923\n",
            "Alpha =  100 Train Score 0.4608849900913261 test Score 0.46089246119733923\n",
            "Alpha =  1000 Train Score 0.4608849900913261 test Score 0.46089246119733923\n"
          ]
        },
        {
          "data": {
            "text/plain": [
              "Text(0.5, 1.0, 'Alpha vs Score')"
            ]
          },
          "execution_count": 43,
          "metadata": {
            "tags": []
          },
          "output_type": "execute_result"
        },
        {
          "data": {
            "image/png": "[encoded data removed]",
            "text/plain": [
              "<Figure size 432x288 with 1 Axes>"
            ]
          },
          "metadata": {
            "needs_background": "light",
            "tags": []
          },
          "output_type": "display_data"
        }
      ],
      "source": [
        "# Training Logistic regression model and chekcing f1 score metric\n",
        "alpha = [10 ** x for x in range(-5, 4)]\n",
        "train_scores = [] # store train scores\n",
        "test_scores = [] # store test scores\n",
        "\n",
        "for i in alpha:\n",
        "    lr = SGDClassifier(loss='log', penalty='l2', alpha=i, n_jobs=-1, random_state=25)\n",
        "    lr.fit(X_tr,y_train)\n",
        "    train_sc = f1_score(y_train,lr.predict(X_tr),average='macro')\n",
        "    test_sc = f1_score(y_test,lr.predict(X_te),average='macro')\n",
        "    test_scores.append(test_sc)\n",
        "    train_scores.append(train_sc)\n",
        "    print('Alpha = ',i,'Train Score',train_sc,'test Score',test_sc)\n",
        "    \n",
        "# plotting the scores vs parameters\n",
        "plt.plot(np.log(alpha),train_scores,label='Train Score',color='black')\n",
        "plt.plot(np.log(alpha),test_scores,label='Test Score',color='#000080',alpha=0.7)\n",
        "plt.xlabel('Alpha')\n",
        "plt.ylabel('Score')\n",
        "plt.grid()\n",
        "plt.title('Alpha vs Score')"
      ]
    },
    {
      "cell_type": "code",
      "execution_count": null,
      "metadata": {
        "colab": {
          "base_uri": "https://localhost:8080/"
        },
        "id": "8PzMhcRnQ373",
        "outputId": "5d856524-856b-43d9-f334-5e846c4f205c"
      },
      "outputs": [
        {
          "name": "stdout",
          "output_type": "stream",
          "text": [
            "Fitting 5 folds for each of 9 candidates, totalling 45 fits\n"
          ]
        },
        {
          "name": "stderr",
          "output_type": "stream",
          "text": [
            "[Parallel(n_jobs=-1)]: Using backend LokyBackend with 2 concurrent workers.\n",
            "[Parallel(n_jobs=-1)]: Done   1 tasks      | elapsed:   11.6s\n",
            "[Parallel(n_jobs=-1)]: Done   4 tasks      | elapsed:   21.2s\n",
            "[Parallel(n_jobs=-1)]: Done   9 tasks      | elapsed:   32.6s\n",
            "[Parallel(n_jobs=-1)]: Done  14 tasks      | elapsed:   38.9s\n",
            "[Parallel(n_jobs=-1)]: Done  21 tasks      | elapsed:   44.2s\n",
            "[Parallel(n_jobs=-1)]: Done  28 tasks      | elapsed:   49.8s\n",
            "[Parallel(n_jobs=-1)]: Done  37 tasks      | elapsed:   56.1s\n",
            "[Parallel(n_jobs=-1)]: Done  45 out of  45 | elapsed:  1.0min finished\n"
          ]
        },
        {
          "name": "stdout",
          "output_type": "stream",
          "text": [
            "mean test scores [0.78577803 0.74122438 0.69037477 0.67691284 0.46088499 0.46088499\n",
            " 0.46088499 0.46088499 0.46088499]\n",
            "mean train scores [0.79138251 0.74361285 0.69093999 0.67678027 0.46088499 0.46088499\n",
            " 0.46088499 0.46088499 0.46088499]\n"
          ]
        }
      ],
      "source": [
        "# Parameter tuning of Logistic regression using RandomisedSearch CV technique\n",
        "sgd = SGDClassifier(loss='log', n_jobs=-1, random_state=25)\n",
        " \n",
        "prams={ 'alpha': [10 ** x for x in range(-5, 4)] }\n",
        "\n",
        "random_cfl1 = RandomizedSearchCV(sgd,param_distributions=prams,verbose=10,scoring='f1_macro',n_jobs=-1,random_state=25,\n",
        "                               return_train_score=True)\n",
        "random_cfl1.fit(X_tr,y_train)\n",
        "\n",
        "print('mean test scores',random_cfl1.cv_results_['mean_test_score'])\n",
        "print('mean train scores',random_cfl1.cv_results_['mean_train_score'])"
      ]
    },
    {
      "cell_type": "code",
      "execution_count": null,
      "metadata": {
        "colab": {
          "base_uri": "https://localhost:8080/"
        },
        "id": "DKwwd05EnTxI",
        "outputId": "0d410c40-af4a-41ce-dc4b-bdbabe514d8b"
      },
      "outputs": [
        {
          "name": "stdout",
          "output_type": "stream",
          "text": [
            "Best Parameters:  {'alpha': 1e-05}\n",
            "Best Score:  0.7857780327343431\n"
          ]
        }
      ],
      "source": [
        "# printing best parameters and score\n",
        "print(\"Best Parameters: \",random_cfl1.best_params_)\n",
        "print(\"Best Score: \",random_cfl1.best_score_)"
      ]
    },
    {
      "cell_type": "code",
      "execution_count": null,
      "metadata": {
        "colab": {
          "base_uri": "https://localhost:8080/"
        },
        "id": "ykBlXqOTQ3_V",
        "outputId": "bf3ff35d-ef67-4fb2-a1e1-38a91146a857"
      },
      "outputs": [
        {
          "name": "stdout",
          "output_type": "stream",
          "text": [
            "Train f1 score:  0.7471470259347864\n",
            "Test f1 score:  0.7328464710133609\n"
          ]
        }
      ],
      "source": [
        "# Fitting LogisticRegression mpdel on best parameters\n",
        "sgd = SGDClassifier(loss='log', alpha=1e-05, n_jobs=-1, random_state=25)\n",
        "sgd.fit(X_tr,y_train)\n",
        "\n",
        "\n",
        "y_train_pred = sgd.predict(X_tr)\n",
        "y_test_pred = sgd.predict(X_te)\n",
        "\n",
        "# printing train and test scores \n",
        "print('Train f1 score: ',f1_score(y_train,y_train_pred,average='macro'))\n",
        "print('Test f1 score: ',f1_score(y_test,y_test_pred,average='macro'))"
      ]
    },
    {
      "cell_type": "code",
      "execution_count": null,
      "metadata": {
        "colab": {
          "base_uri": "https://localhost:8080/",
          "height": 350
        },
        "id": "F4Ubkfmi-F-N",
        "outputId": "bd2b3078-0af9-44c9-e269-401bb4a4cf68"
      },
      "outputs": [
        {
          "data": {
            "image/png": "[encoded data removed]",
            "text/plain": [
              "<Figure size 1080x360 with 4 Axes>"
            ]
          },
          "metadata": {
            "needs_background": "light",
            "tags": []
          },
          "output_type": "display_data"
        }
      ],
      "source": [
        "confusion_matrices_plot(y_train,y_train_pred,y_test,y_test_pred,'feat_md_lr.png')"
      ]
    },
    {
      "cell_type": "code",
      "execution_count": null,
      "metadata": {
        "id": "-MZzfy_c6AQA"
      },
      "outputs": [],
      "source": []
    },
    {
      "cell_type": "markdown",
      "metadata": {
        "id": "SjYaalog3FEP"
      },
      "source": [
        "Observation(s):\n",
        "\n",
        "* After adding new features ,we have total 29 numerical features and 5 categorical features and text data(300 dim).\n",
        "\n",
        "* Train f1 score:  0.74714702593478647,Test f1 score:  0.7328464710133609\n",
        "* From the both train and test confusion matrix , we can observe that the false positive values are increased.we will try to reduce it by selection important features.\n"
      ]
    },
    {
      "cell_type": "code",
      "execution_count": null,
      "metadata": {
        "id": "r3F02oXwpdLX"
      },
      "outputs": [],
      "source": []
    },
    {
      "cell_type": "code",
      "execution_count": null,
      "metadata": {
        "id": "IEfWhc63PDfz"
      },
      "outputs": [],
      "source": []
    },
    {
      "cell_type": "markdown",
      "metadata": {
        "id": "qQh8CGQvCj8u"
      },
      "source": [
        "#5.Feature Extraction/Selection using AutoEncoders"
      ]
    },
    {
      "cell_type": "code",
      "execution_count": null,
      "metadata": {
        "id": "hJ9iVydlIoGE"
      },
      "outputs": [],
      "source": [
        "\n",
        "#Importing the Libraries\n",
        "from sklearn.preprocessing import MinMaxScaler\n",
        "from sklearn.model_selection import train_test_split\n",
        "from tensorflow.keras.layers import LeakyReLU\n",
        "from tensorflow.keras.models import Model\n",
        "from tensorflow.keras.layers import Input\n",
        "from tensorflow.keras.layers import Dense\n",
        "from tensorflow.keras.layers import BatchNormalization\n",
        "from tensorflow.keras.models import load_model\n",
        "\n"
      ]
    },
    {
      "cell_type": "code",
      "execution_count": null,
      "metadata": {
        "id": "EXu1WN6sIoJk"
      },
      "outputs": [],
      "source": []
    },
    {
      "cell_type": "code",
      "execution_count": null,
      "metadata": {
        "id": "U95s-L_aC7kz"
      },
      "outputs": [],
      "source": [
        "#Code Source-https://machinelearningmastery.com/autoencoder-for-classification/\n",
        "\n",
        "# AutoEncoder Model Preparation\n",
        "n_inputs = X_tr.shape[1]\n",
        "# define encoder\n",
        "input_data_shape= Input(shape=(n_inputs,))\n",
        "# encoder level 1\n",
        "encoder= Dense(round(float(n_inputs) / 2.0))(input_data_shape)\n",
        "encoder = BatchNormalization()(encoder)\n",
        "encoder= LeakyReLU()(encoder)\n",
        "# encoder level 2\n",
        "encoder= Dense(round(float(n_inputs) / 3.0))(encoder)\n",
        "encoder= BatchNormalization()(encoder)\n",
        "encoder= LeakyReLU()(encoder)\n",
        "# bottleneck (half of Input)\n",
        "n_bottleneck = round(float(n_inputs) / 4.0)\n",
        "bottleneck = Dense(n_bottleneck)(encoder)\n",
        "# define decoder, level 1\n",
        "decoder = Dense(round(float(n_inputs) / 3.0))(bottleneck)\n",
        "decoder = BatchNormalization()(decoder)\n",
        "decoder = LeakyReLU()(decoder)\n",
        "# decoder level 2\n",
        "decoder = Dense(round(float(n_inputs) / 2.0))(decoder)\n",
        "decoder = BatchNormalization()(decoder)\n",
        "decoder = LeakyReLU()(decoder)"
      ]
    },
    {
      "cell_type": "code",
      "execution_count": null,
      "metadata": {
        "id": "O-I5uc7u3jWb"
      },
      "outputs": [],
      "source": []
    },
    {
      "cell_type": "code",
      "execution_count": null,
      "metadata": {
        "id": "eBjYtB5IImV9"
      },
      "outputs": [],
      "source": [
        "# output layer\n",
        "output = Dense(n_inputs, activation='linear')(decoder)\n",
        "# define autoencoder model\n",
        "model = Model(inputs=input_data_shape, outputs=output)\n",
        "# compile autoencoder model\n",
        "model.compile(optimizer='adam', loss='mse')\n",
        "\n"
      ]
    },
    {
      "cell_type": "code",
      "execution_count": null,
      "metadata": {
        "colab": {
          "base_uri": "https://localhost:8080/"
        },
        "id": "CRCpG7yPIm30",
        "outputId": "cae71337-1f67-4d4e-e792-0136a4fd315d"
      },
      "outputs": [
        {
          "name": "stdout",
          "output_type": "stream",
          "text": [
            "Model: \"model\"\n",
            "_________________________________________________________________\n",
            "Layer (type)                 Output Shape              Param #   \n",
            "=================================================================\n",
            "input_1 (InputLayer)         [(None, 449)]             0         \n",
            "_________________________________________________________________\n",
            "dense (Dense)                (None, 224)               100800    \n",
            "_________________________________________________________________\n",
            "batch_normalization (BatchNo (None, 224)               896       \n",
            "_________________________________________________________________\n",
            "leaky_re_lu (LeakyReLU)      (None, 224)               0         \n",
            "_________________________________________________________________\n",
            "dense_1 (Dense)              (None, 150)               33750     \n",
            "_________________________________________________________________\n",
            "batch_normalization_1 (Batch (None, 150)               600       \n",
            "_________________________________________________________________\n",
            "leaky_re_lu_1 (LeakyReLU)    (None, 150)               0         \n",
            "_________________________________________________________________\n",
            "dense_2 (Dense)              (None, 112)               16912     \n",
            "_________________________________________________________________\n",
            "dense_3 (Dense)              (None, 150)               16950     \n",
            "_________________________________________________________________\n",
            "batch_normalization_2 (Batch (None, 150)               600       \n",
            "_________________________________________________________________\n",
            "leaky_re_lu_2 (LeakyReLU)    (None, 150)               0         \n",
            "_________________________________________________________________\n",
            "dense_4 (Dense)              (None, 224)               33824     \n",
            "_________________________________________________________________\n",
            "batch_normalization_3 (Batch (None, 224)               896       \n",
            "_________________________________________________________________\n",
            "leaky_re_lu_3 (LeakyReLU)    (None, 224)               0         \n",
            "_________________________________________________________________\n",
            "dense_5 (Dense)              (None, 449)               101025    \n",
            "=================================================================\n",
            "Total params: 306,253\n",
            "Trainable params: 304,757\n",
            "Non-trainable params: 1,496\n",
            "_________________________________________________________________\n"
          ]
        }
      ],
      "source": [
        "model.summary()"
      ]
    },
    {
      "cell_type": "code",
      "execution_count": null,
      "metadata": {
        "colab": {
          "base_uri": "https://localhost:8080/",
          "height": 1000
        },
        "id": "zwZWGUATSSzV",
        "outputId": "ce56ee34-ad67-4b7e-b0da-54ab0f9d8695"
      },
      "outputs": [
        {
          "data": {
            "image/png": "[encoded data removed]",
            "text/plain": [
              "<IPython.core.display.Image object>"
            ]
          },
          "execution_count": 52,
          "metadata": {
            "tags": []
          },
          "output_type": "execute_result"
        }
      ],
      "source": [
        "from keras.utils.vis_utils import plot_model\n",
        "plot_model(model, to_file='encode.png', show_shapes=True, show_layer_names=True)"
      ]
    },
    {
      "cell_type": "code",
      "execution_count": null,
      "metadata": {
        "colab": {
          "base_uri": "https://localhost:8080/"
        },
        "id": "eDNxmVQ8Im8A",
        "outputId": "e15dcd1e-864b-4add-ef41-3e86cc2c838f"
      },
      "outputs": [
        {
          "name": "stdout",
          "output_type": "stream",
          "text": [
            "Epoch 1/50\n",
            "4863/4863 - 29s - loss: 0.0901 - val_loss: 0.0741\n",
            "Epoch 2/50\n",
            "4863/4863 - 25s - loss: 0.0774 - val_loss: 0.0725\n",
            "Epoch 3/50\n",
            "4863/4863 - 25s - loss: 0.0737 - val_loss: 0.0712\n",
            "Epoch 4/50\n",
            "4863/4863 - 25s - loss: 0.0719 - val_loss: 0.0700\n",
            "Epoch 5/50\n",
            "4863/4863 - 25s - loss: 0.0697 - val_loss: 0.0720\n",
            "Epoch 6/50\n",
            "4863/4863 - 25s - loss: 0.0685 - val_loss: 0.0686\n",
            "Epoch 7/50\n",
            "4863/4863 - 25s - loss: 0.0677 - val_loss: 0.0675\n",
            "Epoch 8/50\n",
            "4863/4863 - 25s - loss: 0.0670 - val_loss: 0.0701\n",
            "Epoch 9/50\n",
            "4863/4863 - 25s - loss: 0.0657 - val_loss: 0.0682\n",
            "Epoch 10/50\n",
            "4863/4863 - 25s - loss: 0.0658 - val_loss: 0.0676\n",
            "Epoch 11/50\n",
            "4863/4863 - 25s - loss: 0.0653 - val_loss: 0.0678\n",
            "Epoch 12/50\n",
            "4863/4863 - 25s - loss: 0.0646 - val_loss: 0.0691\n",
            "Epoch 13/50\n",
            "4863/4863 - 25s - loss: 0.0643 - val_loss: 0.0668\n",
            "Epoch 14/50\n",
            "4863/4863 - 25s - loss: 0.0640 - val_loss: 0.0698\n",
            "Epoch 15/50\n",
            "4863/4863 - 25s - loss: 0.0634 - val_loss: 0.0679\n",
            "Epoch 16/50\n",
            "4863/4863 - 25s - loss: 0.0629 - val_loss: 0.0664\n",
            "Epoch 17/50\n",
            "4863/4863 - 25s - loss: 0.0629 - val_loss: 0.0669\n",
            "Epoch 18/50\n",
            "4863/4863 - 25s - loss: 0.0624 - val_loss: 0.0695\n",
            "Epoch 19/50\n",
            "4863/4863 - 25s - loss: 0.0620 - val_loss: 0.0691\n",
            "Epoch 20/50\n",
            "4863/4863 - 25s - loss: 0.0615 - val_loss: 0.0686\n",
            "Epoch 21/50\n",
            "4863/4863 - 25s - loss: 0.0615 - val_loss: 0.0671\n",
            "Epoch 22/50\n",
            "4863/4863 - 25s - loss: 0.0610 - val_loss: 0.0690\n",
            "Epoch 23/50\n",
            "4863/4863 - 24s - loss: 0.0608 - val_loss: 0.0665\n",
            "Epoch 24/50\n",
            "4863/4863 - 25s - loss: 0.0603 - val_loss: 0.0687\n",
            "Epoch 25/50\n",
            "4863/4863 - 25s - loss: 0.0604 - val_loss: 0.0691\n",
            "Epoch 26/50\n",
            "4863/4863 - 24s - loss: 0.0601 - val_loss: 0.0681\n",
            "Epoch 27/50\n",
            "4863/4863 - 25s - loss: 0.0595 - val_loss: 0.0679\n",
            "Epoch 28/50\n",
            "4863/4863 - 25s - loss: 0.0596 - val_loss: 0.0688\n",
            "Epoch 29/50\n",
            "4863/4863 - 25s - loss: 0.0588 - val_loss: 0.0686\n",
            "Epoch 30/50\n",
            "4863/4863 - 25s - loss: 0.0590 - val_loss: 0.0667\n",
            "Epoch 31/50\n",
            "4863/4863 - 25s - loss: 0.0588 - val_loss: 0.0684\n",
            "Epoch 32/50\n",
            "4863/4863 - 25s - loss: 0.0590 - val_loss: 0.0669\n",
            "Epoch 33/50\n",
            "4863/4863 - 25s - loss: 0.0580 - val_loss: 0.0668\n",
            "Epoch 34/50\n",
            "4863/4863 - 25s - loss: 0.0580 - val_loss: 0.0680\n",
            "Epoch 35/50\n",
            "4863/4863 - 25s - loss: 0.0579 - val_loss: 0.0682\n",
            "Epoch 36/50\n",
            "4863/4863 - 25s - loss: 0.0573 - val_loss: 0.0676\n",
            "Epoch 37/50\n",
            "4863/4863 - 25s - loss: 0.0577 - val_loss: 0.0683\n",
            "Epoch 38/50\n",
            "4863/4863 - 25s - loss: 0.0569 - val_loss: 0.0670\n",
            "Epoch 39/50\n",
            "4863/4863 - 25s - loss: 0.0569 - val_loss: 0.0678\n",
            "Epoch 40/50\n",
            "4863/4863 - 25s - loss: 0.0566 - val_loss: 0.0675\n",
            "Epoch 41/50\n",
            "4863/4863 - 25s - loss: 0.0565 - val_loss: 0.0688\n",
            "Epoch 42/50\n",
            "4863/4863 - 25s - loss: 0.0562 - val_loss: 0.0684\n",
            "Epoch 43/50\n",
            "4863/4863 - 25s - loss: 0.0561 - val_loss: 0.0686\n",
            "Epoch 44/50\n",
            "4863/4863 - 25s - loss: 0.0559 - val_loss: 0.0672\n",
            "Epoch 45/50\n",
            "4863/4863 - 25s - loss: 0.0558 - val_loss: 0.0666\n",
            "Epoch 46/50\n",
            "4863/4863 - 25s - loss: 0.0556 - val_loss: 0.0678\n",
            "Epoch 47/50\n",
            "4863/4863 - 25s - loss: 0.0555 - val_loss: 0.0702\n",
            "Epoch 48/50\n",
            "4863/4863 - 25s - loss: 0.0548 - val_loss: 0.0710\n",
            "Epoch 49/50\n",
            "4863/4863 - 25s - loss: 0.0550 - val_loss: 0.0698\n",
            "Epoch 50/50\n",
            "4863/4863 - 24s - loss: 0.0544 - val_loss: 0.0687\n"
          ]
        }
      ],
      "source": [
        "# fit the autoencoder model to reconstruct input\n",
        "history = model.fit(X_tr, y_train, epochs=50, batch_size=16, verbose=2, validation_data=(X_te,y_test))"
      ]
    },
    {
      "cell_type": "code",
      "execution_count": null,
      "metadata": {
        "colab": {
          "base_uri": "https://localhost:8080/",
          "height": 295
        },
        "id": "COYVkXlyPEwY",
        "outputId": "51b395fc-91a7-4d14-ec79-c11e0aeb6ec4"
      },
      "outputs": [
        {
          "data": {
            "image/png": "[encoded data removed]",
            "text/plain": [
              "<Figure size 432x288 with 1 Axes>"
            ]
          },
          "metadata": {
            "needs_background": "light",
            "tags": []
          },
          "output_type": "display_data"
        }
      ],
      "source": [
        "\n",
        "plt.plot(history.history['loss'],color='black')\n",
        "plt.plot(history.history['val_loss'],color='#000080',alpha=0.7)\n",
        "plt.title('Model Loss')\n",
        "plt.ylabel('Loss')\n",
        "plt.xlabel('Epoch')\n",
        "plt.legend(['Train', 'Val'], loc='lower right')\n",
        "plt.grid()\n",
        "plt.savefig('enc_loss.png', dpi=480, bbox_inches='tight')\n",
        "plt.show()"
      ]
    },
    {
      "cell_type": "code",
      "execution_count": null,
      "metadata": {
        "id": "K44HkkSUInAB"
      },
      "outputs": [],
      "source": [
        "# define an encoder model (without the decoder)\n",
        "encoder = Model(inputs=input_data_shape, outputs=bottleneck)\n",
        "# save the encoder to file\n",
        "encoder.save('encoder.h5')\n",
        "\n"
      ]
    },
    {
      "cell_type": "code",
      "execution_count": null,
      "metadata": {
        "colab": {
          "base_uri": "https://localhost:8080/"
        },
        "id": "2msYd2psMkA5",
        "outputId": "90ed332e-cf38-4712-9efb-7d8adf7e9578"
      },
      "outputs": [
        {
          "name": "stdout",
          "output_type": "stream",
          "text": [
            "WARNING:tensorflow:No training configuration found in the save file, so the model was *not* compiled. Compile it manually.\n",
            "X_train_encode (77804, 112)\n",
            "X_test_encode (19451, 112)\n"
          ]
        }
      ],
      "source": [
        "# load the model from file\n",
        "encoder = load_model('encoder.h5')\n",
        "\n",
        "# encode the train data\n",
        "X_train_encode = encoder.predict(X_tr)\n",
        "print('X_train_encode',X_train_encode.shape)\n",
        "# encode the test data\n",
        "X_test_encode = encoder.predict(X_te)\n",
        "print('X_test_encode',X_test_encode.shape)"
      ]
    },
    {
      "cell_type": "code",
      "execution_count": null,
      "metadata": {
        "colab": {
          "base_uri": "https://localhost:8080/",
          "height": 482
        },
        "id": "y94t73jiJ_ry",
        "outputId": "d1bb5113-8fed-49a2-f025-a05c0c532a3b"
      },
      "outputs": [
        {
          "name": "stdout",
          "output_type": "stream",
          "text": [
            "Alpha =  1e-05 Train Score 0.8323470453224583 test Score 0.7830199431668516\n",
            "Alpha =  0.0001 Train Score 0.809757583457868 test Score 0.7681544749974051\n",
            "Alpha =  0.001 Train Score 0.7803926933363365 test Score 0.7482640363810835\n",
            "Alpha =  0.01 Train Score 0.8256881038423738 test Score 0.7817929515995984\n",
            "Alpha =  0.1 Train Score 0.8561932056894956 test Score 0.8026991971236722\n",
            "Alpha =  1 Train Score 0.8431716374461672 test Score 0.7914563177370799\n",
            "Alpha =  10 Train Score 0.7972149649023633 test Score 0.7582044549893883\n",
            "Alpha =  100 Train Score 0.4975153738113035 test Score 0.5015444651090336\n",
            "Alpha =  1000 Train Score 0.41492550409377355 test Score 0.41855725540672034\n"
          ]
        },
        {
          "data": {
            "text/plain": [
              "Text(0.5, 1.0, 'Alpha vs Score')"
            ]
          },
          "execution_count": 62,
          "metadata": {
            "tags": []
          },
          "output_type": "execute_result"
        },
        {
          "data": {
            "image/png": "[encoded data removed]",
            "text/plain": [
              "<Figure size 432x288 with 1 Axes>"
            ]
          },
          "metadata": {
            "needs_background": "light",
            "tags": []
          },
          "output_type": "display_data"
        }
      ],
      "source": [
        "# Training Logistic regression model and chekcing f1 score metric\n",
        "alpha = [10 ** x for x in range(-5, 4)]\n",
        "train_scores = [] # store train scores\n",
        "test_scores = [] # store test scores\n",
        "\n",
        "for i in alpha:\n",
        "    lr = SGDClassifier(loss='log', penalty='l2', alpha=i, n_jobs=-1, random_state=25)\n",
        "    lr.fit(X_train_encode,y_train)\n",
        "    train_sc = f1_score(y_train,lr.predict(X_train_encode),average='macro')\n",
        "    test_sc = f1_score(y_test,lr.predict(X_test_encode),average='macro')\n",
        "    test_scores.append(test_sc)\n",
        "    train_scores.append(train_sc)\n",
        "    print('Alpha = ',i,'Train Score',train_sc,'test Score',test_sc)\n",
        "    \n",
        "# plotting the scores vs parameters\n",
        "plt.plot(np.log(alpha),train_scores,label='Train Score',color='black')\n",
        "plt.plot(np.log(alpha),test_scores,label='Test Score',color='#000080',alpha=0.7)\n",
        "plt.xlabel('Alpha')\n",
        "plt.ylabel('Score')\n",
        "plt.grid()\n",
        "plt.title('Alpha vs Score')"
      ]
    },
    {
      "cell_type": "code",
      "execution_count": null,
      "metadata": {
        "colab": {
          "base_uri": "https://localhost:8080/"
        },
        "id": "2PYtPsfQL9Wx",
        "outputId": "678de29c-ac1e-4231-a5cf-5f6aa7647c11"
      },
      "outputs": [
        {
          "name": "stdout",
          "output_type": "stream",
          "text": [
            "Fitting 5 folds for each of 9 candidates, totalling 45 fits\n"
          ]
        },
        {
          "name": "stderr",
          "output_type": "stream",
          "text": [
            "[Parallel(n_jobs=-1)]: Using backend LokyBackend with 2 concurrent workers.\n",
            "[Parallel(n_jobs=-1)]: Done   1 tasks      | elapsed:   23.6s\n",
            "[Parallel(n_jobs=-1)]: Done   4 tasks      | elapsed:   47.6s\n",
            "[Parallel(n_jobs=-1)]: Done   9 tasks      | elapsed:  1.6min\n",
            "[Parallel(n_jobs=-1)]: Done  14 tasks      | elapsed:  2.0min\n",
            "[Parallel(n_jobs=-1)]: Done  21 tasks      | elapsed:  2.1min\n",
            "[Parallel(n_jobs=-1)]: Done  28 tasks      | elapsed:  2.1min\n",
            "[Parallel(n_jobs=-1)]: Done  37 tasks      | elapsed:  2.2min\n",
            "[Parallel(n_jobs=-1)]: Done  45 out of  45 | elapsed:  2.2min finished\n"
          ]
        },
        {
          "name": "stdout",
          "output_type": "stream",
          "text": [
            "mean test scores [0.80747246 0.81447023 0.81768197 0.82956808 0.84844702 0.84373955\n",
            " 0.80663288 0.50420148 0.44323372]\n",
            "mean train scores [0.8066909  0.81410218 0.81616728 0.83046698 0.84858975 0.84324043\n",
            " 0.80612625 0.50427918 0.44329521]\n"
          ]
        }
      ],
      "source": [
        "# Parameter tuning of Logistic regression using RandomisedSearch CV technique\n",
        "sgd = SGDClassifier(loss='log', n_jobs=-1, random_state=25)\n",
        " \n",
        "prams={ 'alpha': [10 ** x for x in range(-5, 4)] }\n",
        "\n",
        "random_cfl1 = RandomizedSearchCV(sgd,param_distributions=prams,verbose=10,scoring='f1_macro',n_jobs=-1,random_state=25,\n",
        "                               return_train_score=True)\n",
        "random_cfl1.fit(X_train_encode,y_train)\n",
        "\n",
        "print('mean test scores',random_cfl1.cv_results_['mean_test_score'])\n",
        "print('mean train scores',random_cfl1.cv_results_['mean_train_score'])"
      ]
    },
    {
      "cell_type": "code",
      "execution_count": null,
      "metadata": {
        "colab": {
          "base_uri": "https://localhost:8080/"
        },
        "id": "EYBXt8A3L96v",
        "outputId": "8f62403c-2039-4404-add4-9f91b4767fde"
      },
      "outputs": [
        {
          "name": "stdout",
          "output_type": "stream",
          "text": [
            "Best Parameters:  {'alpha': 0.1}\n",
            "Best Score:  0.8484470211660341\n"
          ]
        }
      ],
      "source": [
        "# printing best parameters and score\n",
        "print(\"Best Parameters: \",random_cfl1.best_params_)\n",
        "print(\"Best Score: \",random_cfl1.best_score_)"
      ]
    },
    {
      "cell_type": "code",
      "execution_count": null,
      "metadata": {
        "colab": {
          "base_uri": "https://localhost:8080/"
        },
        "id": "w1SJhRaVMeU2",
        "outputId": "7e44f149-ee7e-4691-e5b2-361d53fbfac1"
      },
      "outputs": [
        {
          "name": "stdout",
          "output_type": "stream",
          "text": [
            "Train f1 score:  0.8561932056894956\n",
            "Test f1 score:  0.8026991971236722\n"
          ]
        }
      ],
      "source": [
        "# Fitting LogisticRegression mpdel on best parameters\n",
        "sgd = SGDClassifier(loss='log', alpha=0.1, n_jobs=-1, random_state=25)\n",
        "sgd.fit(X_train_encode,y_train)\n",
        "\n",
        "y_train_pred = sgd.predict(X_train_encode)\n",
        "y_test_pred = sgd.predict(X_test_encode)\n",
        "\n",
        "# printing train and test scores \n",
        "print('Train f1 score: ',f1_score(y_train,y_train_pred,average='macro'))\n",
        "print('Test f1 score: ',f1_score(y_test,y_test_pred,average='macro'))"
      ]
    },
    {
      "cell_type": "code",
      "execution_count": null,
      "metadata": {
        "colab": {
          "base_uri": "https://localhost:8080/",
          "height": 350
        },
        "id": "_kjOZF1HNGLm",
        "outputId": "fa4a156e-c641-4abf-8ba0-b166904fa468"
      },
      "outputs": [
        {
          "data": {
            "image/png": "[encoded data removed]",
            "text/plain": [
              "<Figure size 1080x360 with 4 Axes>"
            ]
          },
          "metadata": {
            "needs_background": "light",
            "tags": []
          },
          "output_type": "display_data"
        }
      ],
      "source": [
        "confusion_matrices_plot(y_train,y_train_pred,y_test,y_test_pred,'encoder.png')"
      ]
    },
    {
      "cell_type": "markdown",
      "metadata": {
        "id": "_W2E3X924sjO"
      },
      "source": [
        "Observation(s):\n",
        "\n",
        "* After extracting important featres using auto_encoder ,we have 112 features.\n",
        "* The train f1_score is increased to 0.8561932056894956 and and test f1-score to 0.8026991971236722.\n",
        "\n",
        "* lets try other machine learning models to improve the score"
      ]
    },
    {
      "cell_type": "code",
      "execution_count": null,
      "metadata": {
        "id": "P93ejIGnSMvW"
      },
      "outputs": [],
      "source": []
    }
  ],
  "metadata": {
    "accelerator": "GPU",
    "colab": {
      "collapsed_sections": [],
      "machine_shape": "hm",
      "provenance": [],
      "toc_visible": true
    },
    "kernelspec": {
      "display_name": "Python 3",
      "name": "python3"
    }
  },
  "nbformat": 4,
  "nbformat_minor": 0
}