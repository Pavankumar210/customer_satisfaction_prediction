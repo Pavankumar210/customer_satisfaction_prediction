{
  "cells": [
    {
      "cell_type": "code",
      "execution_count": null,
      "metadata": {
        "id": "oEewfbOMzBKc"
      },
      "outputs": [],
      "source": [
        "#Importing Liraries\n",
        "\n",
        "# Importing Libraries\n",
        "import warnings\n",
        "warnings.filterwarnings(\"ignore\")\n",
        "\n",
        "from tqdm import tqdm\n",
        "import shutil\n",
        "import os\n",
        "import numpy as np\n",
        "import pandas as pd\n",
        "from datetime import datetime\n",
        "import matplotlib\n",
        "matplotlib.use(u'nbAgg')\n",
        "import matplotlib.pyplot as plt\n",
        "%matplotlib inline\n",
        "import seaborn as sns\n",
        "import pickle\n",
        "import random\n",
        "from scipy.stats import randint as sp_randint\n",
        "from scipy.stats import uniform\n",
        "from scipy.sparse import hstack\n",
        "from wordcloud import WordCloud\n",
        "\n",
        "\n",
        "# Utilities\n",
        "#from viz_utils import *\n",
        "#from custom_transformers import *\n",
        "#from ml_utils import *\n",
        "\n",
        "# DataPrep\n",
        "import re\n",
        "from nltk.corpus import stopwords\n",
        "from nltk.stem import RSLPStemmer\n",
        "from sklearn.feature_extraction.text import CountVectorizer, TfidfVectorizer\n",
        "from sklearn.preprocessing import Normalizer\n",
        "\n",
        "# Modeling\n",
        "\n",
        "from sklearn.model_selection import train_test_split\n",
        "from xgboost import XGBClassifier\n",
        "from lightgbm import LGBMClassifier\n",
        "from sklearn.model_selection import RandomizedSearchCV,GridSearchCV\n",
        "from sklearn.tree import DecisionTreeClassifier\n",
        "from sklearn.calibration import CalibratedClassifierCV\n",
        "from sklearn.linear_model import SGDClassifier,LogisticRegression\n",
        "from sklearn.neighbors import KNeighborsClassifier\n",
        "from sklearn.ensemble import RandomForestClassifier, StackingClassifier, VotingClassifier, AdaBoostClassifier\n",
        "#Metrics\n",
        "from sklearn.metrics import log_loss,accuracy_score, confusion_matrix, f1_score\n",
        "\n",
        "\n",
        "\n",
        "\n",
        "\n",
        "#Importing the Libraries\n",
        "from tensorflow.keras.layers import LeakyReLU\n",
        "from tensorflow.keras.models import Model\n",
        "from tensorflow.keras.layers import Input\n",
        "from tensorflow.keras.layers import Dense\n",
        "from tensorflow.keras.layers import BatchNormalization\n",
        "from tensorflow.keras.models import load_model\n",
        "\n",
        "\n"
      ]
    },
    {
      "cell_type": "code",
      "execution_count": null,
      "metadata": {
        "colab": {
          "base_uri": "https://localhost:8080/"
        },
        "id": "iXDbBMdULD5t",
        "outputId": "7bab7746-c38f-4b6f-8e5a-0ab9ca195edc"
      },
      "outputs": [
        {
          "output_type": "stream",
          "name": "stdout",
          "text": [
            "Drive already mounted at /content/drive; to attempt to forcibly remount, call drive.mount(\"/content/drive\", force_remount=True).\n"
          ]
        }
      ],
      "source": [
        "from google.colab import drive\n",
        "drive.mount('/content/drive')"
      ]
    },
    {
      "cell_type": "code",
      "execution_count": null,
      "metadata": {
        "colab": {
          "base_uri": "https://localhost:8080/",
          "height": 386
        },
        "id": "ahwv0hVEAHhP",
        "outputId": "7965060f-d326-40c5-cc55-9a5c88bd8e45"
      },
      "outputs": [
        {
          "output_type": "execute_result",
          "data": {
            "text/plain": [
              "                           order_id                       customer_id  \\\n",
              "0  e481f51cbdc54678b7cc49136f2d6af7  9ef432eb6251297304e76186b10a928d   \n",
              "1  e481f51cbdc54678b7cc49136f2d6af7  9ef432eb6251297304e76186b10a928d   \n",
              "2  e481f51cbdc54678b7cc49136f2d6af7  9ef432eb6251297304e76186b10a928d   \n",
              "3  128e10d95713541c87cd1a2e48201934  a20e8105f23924cd00833fd87daa0831   \n",
              "4  0e7e841ddf8f8f2de2bad69267ecfbcf  26c7ac168e1433912a51b924fbd34d34   \n",
              "\n",
              "  order_status order_purchase_timestamp   order_approved_at  \\\n",
              "0    delivered      2017-10-02 10:56:33 2017-10-02 11:07:15   \n",
              "1    delivered      2017-10-02 10:56:33 2017-10-02 11:07:15   \n",
              "2    delivered      2017-10-02 10:56:33 2017-10-02 11:07:15   \n",
              "3    delivered      2017-08-15 18:29:31 2017-08-15 20:05:16   \n",
              "4    delivered      2017-08-02 18:24:47 2017-08-02 18:43:15   \n",
              "\n",
              "  order_delivered_customer_date order_estimated_delivery_date  \\\n",
              "0           2017-10-10 21:25:13                    2017-10-18   \n",
              "1           2017-10-10 21:25:13                    2017-10-18   \n",
              "2           2017-10-10 21:25:13                    2017-10-18   \n",
              "3           2017-08-18 14:44:43                    2017-08-28   \n",
              "4           2017-08-07 18:30:01                    2017-08-15   \n",
              "\n",
              "   payment_sequential payment_type  payment_installments  ...  \\\n",
              "0                   1  credit_card                     1  ...   \n",
              "1                   3      voucher                     1  ...   \n",
              "2                   2      voucher                     1  ...   \n",
              "3                   1  credit_card                     3  ...   \n",
              "4                   1  credit_card                     1  ...   \n",
              "\n",
              "   product_name_lenght product_description_lenght  product_photos_qty  \\\n",
              "0                 40.0                      268.0                 4.0   \n",
              "1                 40.0                      268.0                 4.0   \n",
              "2                 40.0                      268.0                 4.0   \n",
              "3                 40.0                      268.0                 4.0   \n",
              "4                 40.0                      268.0                 4.0   \n",
              "\n",
              "  product_weight_g product_length_cm  product_height_cm product_width_cm  \\\n",
              "0            500.0              19.0                8.0             13.0   \n",
              "1            500.0              19.0                8.0             13.0   \n",
              "2            500.0              19.0                8.0             13.0   \n",
              "3            500.0              19.0                8.0             13.0   \n",
              "4            500.0              19.0                8.0             13.0   \n",
              "\n",
              "  product_category_name_english review_score  \\\n",
              "0                    housewares            1   \n",
              "1                    housewares            1   \n",
              "2                    housewares            1   \n",
              "3                    housewares            1   \n",
              "4                    housewares            1   \n",
              "\n",
              "                              review_comment_message  \n",
              "0  Não testei o produto ainda, mas ele veio corre...  \n",
              "1  Não testei o produto ainda, mas ele veio corre...  \n",
              "2  Não testei o produto ainda, mas ele veio corre...  \n",
              "3  Deveriam embalar melhor o produto. A caixa vei...  \n",
              "4  Só achei ela pequena pra seis xícaras ,mais é ...  \n",
              "\n",
              "[5 rows x 32 columns]"
            ],
            "text/html": [
              "\n",
              "  <div id=\"df-3825785e-27ba-4462-aaf2-22715b50631c\">\n",
              "    <div class=\"colab-df-container\">\n",
              "      <div>\n",
              "<style scoped>\n",
              "    .dataframe tbody tr th:only-of-type {\n",
              "        vertical-align: middle;\n",
              "    }\n",
              "\n",
              "    .dataframe tbody tr th {\n",
              "        vertical-align: top;\n",
              "    }\n",
              "\n",
              "    .dataframe thead th {\n",
              "        text-align: right;\n",
              "    }\n",
              "</style>\n",
              "<table border=\"1\" class=\"dataframe\">\n",
              "  <thead>\n",
              "    <tr style=\"text-align: right;\">\n",
              "      <th></th>\n",
              "      <th>order_id</th>\n",
              "      <th>customer_id</th>\n",
              "      <th>order_status</th>\n",
              "      <th>order_purchase_timestamp</th>\n",
              "      <th>order_approved_at</th>\n",
              "      <th>order_delivered_customer_date</th>\n",
              "      <th>order_estimated_delivery_date</th>\n",
              "      <th>payment_sequential</th>\n",
              "      <th>payment_type</th>\n",
              "      <th>payment_installments</th>\n",
              "      <th>...</th>\n",
              "      <th>product_name_lenght</th>\n",
              "      <th>product_description_lenght</th>\n",
              "      <th>product_photos_qty</th>\n",
              "      <th>product_weight_g</th>\n",
              "      <th>product_length_cm</th>\n",
              "      <th>product_height_cm</th>\n",
              "      <th>product_width_cm</th>\n",
              "      <th>product_category_name_english</th>\n",
              "      <th>review_score</th>\n",
              "      <th>review_comment_message</th>\n",
              "    </tr>\n",
              "  </thead>\n",
              "  <tbody>\n",
              "    <tr>\n",
              "      <th>0</th>\n",
              "      <td>e481f51cbdc54678b7cc49136f2d6af7</td>\n",
              "      <td>9ef432eb6251297304e76186b10a928d</td>\n",
              "      <td>delivered</td>\n",
              "      <td>2017-10-02 10:56:33</td>\n",
              "      <td>2017-10-02 11:07:15</td>\n",
              "      <td>2017-10-10 21:25:13</td>\n",
              "      <td>2017-10-18</td>\n",
              "      <td>1</td>\n",
              "      <td>credit_card</td>\n",
              "      <td>1</td>\n",
              "      <td>...</td>\n",
              "      <td>40.0</td>\n",
              "      <td>268.0</td>\n",
              "      <td>4.0</td>\n",
              "      <td>500.0</td>\n",
              "      <td>19.0</td>\n",
              "      <td>8.0</td>\n",
              "      <td>13.0</td>\n",
              "      <td>housewares</td>\n",
              "      <td>1</td>\n",
              "      <td>Não testei o produto ainda, mas ele veio corre...</td>\n",
              "    </tr>\n",
              "    <tr>\n",
              "      <th>1</th>\n",
              "      <td>e481f51cbdc54678b7cc49136f2d6af7</td>\n",
              "      <td>9ef432eb6251297304e76186b10a928d</td>\n",
              "      <td>delivered</td>\n",
              "      <td>2017-10-02 10:56:33</td>\n",
              "      <td>2017-10-02 11:07:15</td>\n",
              "      <td>2017-10-10 21:25:13</td>\n",
              "      <td>2017-10-18</td>\n",
              "      <td>3</td>\n",
              "      <td>voucher</td>\n",
              "      <td>1</td>\n",
              "      <td>...</td>\n",
              "      <td>40.0</td>\n",
              "      <td>268.0</td>\n",
              "      <td>4.0</td>\n",
              "      <td>500.0</td>\n",
              "      <td>19.0</td>\n",
              "      <td>8.0</td>\n",
              "      <td>13.0</td>\n",
              "      <td>housewares</td>\n",
              "      <td>1</td>\n",
              "      <td>Não testei o produto ainda, mas ele veio corre...</td>\n",
              "    </tr>\n",
              "    <tr>\n",
              "      <th>2</th>\n",
              "      <td>e481f51cbdc54678b7cc49136f2d6af7</td>\n",
              "      <td>9ef432eb6251297304e76186b10a928d</td>\n",
              "      <td>delivered</td>\n",
              "      <td>2017-10-02 10:56:33</td>\n",
              "      <td>2017-10-02 11:07:15</td>\n",
              "      <td>2017-10-10 21:25:13</td>\n",
              "      <td>2017-10-18</td>\n",
              "      <td>2</td>\n",
              "      <td>voucher</td>\n",
              "      <td>1</td>\n",
              "      <td>...</td>\n",
              "      <td>40.0</td>\n",
              "      <td>268.0</td>\n",
              "      <td>4.0</td>\n",
              "      <td>500.0</td>\n",
              "      <td>19.0</td>\n",
              "      <td>8.0</td>\n",
              "      <td>13.0</td>\n",
              "      <td>housewares</td>\n",
              "      <td>1</td>\n",
              "      <td>Não testei o produto ainda, mas ele veio corre...</td>\n",
              "    </tr>\n",
              "    <tr>\n",
              "      <th>3</th>\n",
              "      <td>128e10d95713541c87cd1a2e48201934</td>\n",
              "      <td>a20e8105f23924cd00833fd87daa0831</td>\n",
              "      <td>delivered</td>\n",
              "      <td>2017-08-15 18:29:31</td>\n",
              "      <td>2017-08-15 20:05:16</td>\n",
              "      <td>2017-08-18 14:44:43</td>\n",
              "      <td>2017-08-28</td>\n",
              "      <td>1</td>\n",
              "      <td>credit_card</td>\n",
              "      <td>3</td>\n",
              "      <td>...</td>\n",
              "      <td>40.0</td>\n",
              "      <td>268.0</td>\n",
              "      <td>4.0</td>\n",
              "      <td>500.0</td>\n",
              "      <td>19.0</td>\n",
              "      <td>8.0</td>\n",
              "      <td>13.0</td>\n",
              "      <td>housewares</td>\n",
              "      <td>1</td>\n",
              "      <td>Deveriam embalar melhor o produto. A caixa vei...</td>\n",
              "    </tr>\n",
              "    <tr>\n",
              "      <th>4</th>\n",
              "      <td>0e7e841ddf8f8f2de2bad69267ecfbcf</td>\n",
              "      <td>26c7ac168e1433912a51b924fbd34d34</td>\n",
              "      <td>delivered</td>\n",
              "      <td>2017-08-02 18:24:47</td>\n",
              "      <td>2017-08-02 18:43:15</td>\n",
              "      <td>2017-08-07 18:30:01</td>\n",
              "      <td>2017-08-15</td>\n",
              "      <td>1</td>\n",
              "      <td>credit_card</td>\n",
              "      <td>1</td>\n",
              "      <td>...</td>\n",
              "      <td>40.0</td>\n",
              "      <td>268.0</td>\n",
              "      <td>4.0</td>\n",
              "      <td>500.0</td>\n",
              "      <td>19.0</td>\n",
              "      <td>8.0</td>\n",
              "      <td>13.0</td>\n",
              "      <td>housewares</td>\n",
              "      <td>1</td>\n",
              "      <td>Só achei ela pequena pra seis xícaras ,mais é ...</td>\n",
              "    </tr>\n",
              "  </tbody>\n",
              "</table>\n",
              "<p>5 rows × 32 columns</p>\n",
              "</div>\n",
              "      <button class=\"colab-df-convert\" onclick=\"convertToInteractive('df-3825785e-27ba-4462-aaf2-22715b50631c')\"\n",
              "              title=\"Convert this dataframe to an interactive table.\"\n",
              "              style=\"display:none;\">\n",
              "        \n",
              "  <svg xmlns=\"http://www.w3.org/2000/svg\" height=\"24px\"viewBox=\"0 0 24 24\"\n",
              "       width=\"24px\">\n",
              "    <path d=\"M0 0h24v24H0V0z\" fill=\"none\"/>\n",
              "    <path d=\"M18.56 5.44l.94 2.06.94-2.06 2.06-.94-2.06-.94-.94-2.06-.94 2.06-2.06.94zm-11 1L8.5 8.5l.94-2.06 2.06-.94-2.06-.94L8.5 2.5l-.94 2.06-2.06.94zm10 10l.94 2.06.94-2.06 2.06-.94-2.06-.94-.94-2.06-.94 2.06-2.06.94z\"/><path d=\"M17.41 7.96l-1.37-1.37c-.4-.4-.92-.59-1.43-.59-.52 0-1.04.2-1.43.59L10.3 9.45l-7.72 7.72c-.78.78-.78 2.05 0 2.83L4 21.41c.39.39.9.59 1.41.59.51 0 1.02-.2 1.41-.59l7.78-7.78 2.81-2.81c.8-.78.8-2.07 0-2.86zM5.41 20L4 18.59l7.72-7.72 1.47 1.35L5.41 20z\"/>\n",
              "  </svg>\n",
              "      </button>\n",
              "      \n",
              "  <style>\n",
              "    .colab-df-container {\n",
              "      display:flex;\n",
              "      flex-wrap:wrap;\n",
              "      gap: 12px;\n",
              "    }\n",
              "\n",
              "    .colab-df-convert {\n",
              "      background-color: #E8F0FE;\n",
              "      border: none;\n",
              "      border-radius: 50%;\n",
              "      cursor: pointer;\n",
              "      display: none;\n",
              "      fill: #1967D2;\n",
              "      height: 32px;\n",
              "      padding: 0 0 0 0;\n",
              "      width: 32px;\n",
              "    }\n",
              "\n",
              "    .colab-df-convert:hover {\n",
              "      background-color: #E2EBFA;\n",
              "      box-shadow: 0px 1px 2px rgba(60, 64, 67, 0.3), 0px 1px 3px 1px rgba(60, 64, 67, 0.15);\n",
              "      fill: #174EA6;\n",
              "    }\n",
              "\n",
              "    [theme=dark] .colab-df-convert {\n",
              "      background-color: #3B4455;\n",
              "      fill: #D2E3FC;\n",
              "    }\n",
              "\n",
              "    [theme=dark] .colab-df-convert:hover {\n",
              "      background-color: #434B5C;\n",
              "      box-shadow: 0px 1px 3px 1px rgba(0, 0, 0, 0.15);\n",
              "      filter: drop-shadow(0px 1px 2px rgba(0, 0, 0, 0.3));\n",
              "      fill: #FFFFFF;\n",
              "    }\n",
              "  </style>\n",
              "\n",
              "      <script>\n",
              "        const buttonEl =\n",
              "          document.querySelector('#df-3825785e-27ba-4462-aaf2-22715b50631c button.colab-df-convert');\n",
              "        buttonEl.style.display =\n",
              "          google.colab.kernel.accessAllowed ? 'block' : 'none';\n",
              "\n",
              "        async function convertToInteractive(key) {\n",
              "          const element = document.querySelector('#df-3825785e-27ba-4462-aaf2-22715b50631c');\n",
              "          const dataTable =\n",
              "            await google.colab.kernel.invokeFunction('convertToInteractive',\n",
              "                                                     [key], {});\n",
              "          if (!dataTable) return;\n",
              "\n",
              "          const docLinkHtml = 'Like what you see? Visit the ' +\n",
              "            '<a target=\"_blank\" href=https://colab.research.google.com/notebooks/data_table.ipynb>data table notebook</a>'\n",
              "            + ' to learn more about interactive tables.';\n",
              "          element.innerHTML = '';\n",
              "          dataTable['output_type'] = 'display_data';\n",
              "          await google.colab.output.renderOutput(dataTable, element);\n",
              "          const docLink = document.createElement('div');\n",
              "          docLink.innerHTML = docLinkHtml;\n",
              "          element.appendChild(docLink);\n",
              "        }\n",
              "      </script>\n",
              "    </div>\n",
              "  </div>\n",
              "  "
            ]
          },
          "metadata": {},
          "execution_count": 4
        }
      ],
      "source": [
        "#reading data\n",
        "data = pd.read_pickle('/content/drive/MyDrive/final.pkl')\n",
        "data.head()"
      ]
    },
    {
      "cell_type": "markdown",
      "metadata": {
        "id": "oygbAk247Fpd"
      },
      "source": [
        "#1.Data Preprocessing"
      ]
    },
    {
      "cell_type": "markdown",
      "metadata": {
        "id": "47z3jAY1nBLq"
      },
      "source": [
        "## Preprocessing Review Text"
      ]
    },
    {
      "cell_type": "code",
      "execution_count": null,
      "metadata": {
        "colab": {
          "base_uri": "https://localhost:8080/"
        },
        "id": "iHXOvQGok_fj",
        "outputId": "442529e5-f976-4724-c87c-30bdb40d7bef"
      },
      "outputs": [
        {
          "output_type": "stream",
          "name": "stderr",
          "text": [
            "[nltk_data] Downloading package stopwords to /root/nltk_data...\n",
            "[nltk_data]   Package stopwords is already up-to-date!\n",
            "[nltk_data] Downloading package rslp to /root/nltk_data...\n",
            "[nltk_data]   Package rslp is already up-to-date!\n"
          ]
        },
        {
          "output_type": "execute_result",
          "data": {
            "text/plain": [
              "True"
            ]
          },
          "metadata": {},
          "execution_count": 5
        }
      ],
      "source": [
        "#text data preprocessing\n",
        "import nltk\n",
        "nltk.download('stopwords')\n",
        "from nltk.corpus import stopwords\n",
        "import nltk\n",
        "nltk.download('rslp')"
      ]
    },
    {
      "cell_type": "code",
      "execution_count": null,
      "metadata": {
        "colab": {
          "base_uri": "https://localhost:8080/"
        },
        "id": "Hz-mF4STlLuj",
        "outputId": "2df2bb0f-fa4e-410e-c94c-02fd52c9f243"
      },
      "outputs": [
        {
          "output_type": "stream",
          "name": "stdout",
          "text": [
            "Total portuguese stopwords in the nltk.corpous module: 207\n",
            "Few Stopwords: ['a', 'à', 'ao', 'aos', 'aquela', 'aquelas', 'aquele', 'aqueles', 'aquilo', 'as', 'às', 'até', 'com', 'como', 'da', 'das', 'de', 'dela', 'delas', 'dele']\n"
          ]
        }
      ],
      "source": [
        "# portugese language stopwords\n",
        "stopwords_pt = stopwords.words(\"portuguese\")\n",
        "print(f'Total portuguese stopwords in the nltk.corpous module: {len(stopwords_pt)}')\n",
        "print('Few Stopwords:',stopwords_pt[0:20])"
      ]
    },
    {
      "cell_type": "code",
      "execution_count": null,
      "metadata": {
        "id": "hDlQak1vlL_N"
      },
      "outputs": [],
      "source": [
        "#removing 'nao' & 'nem'\n",
        "stopwords_pt.remove('não')\n",
        "stopwords_pt.remove('nem')"
      ]
    },
    {
      "cell_type": "code",
      "execution_count": null,
      "metadata": {
        "colab": {
          "base_uri": "https://localhost:8080/"
        },
        "id": "21oTRHGxoIIr",
        "outputId": "1822eac5-8e54-4373-970c-630da4612bc3"
      },
      "outputs": [
        {
          "output_type": "execute_result",
          "data": {
            "text/plain": [
              "0    Não testei o produto ainda, mas ele veio corre...\n",
              "1    Não testei o produto ainda, mas ele veio corre...\n",
              "2    Não testei o produto ainda, mas ele veio corre...\n",
              "3    Deveriam embalar melhor o produto. A caixa vei...\n",
              "4    Só achei ela pequena pra seis xícaras ,mais é ...\n",
              "Name: review_comment_message, dtype: object"
            ]
          },
          "metadata": {},
          "execution_count": 8
        }
      ],
      "source": [
        "data['review_comment_message'].head(5)"
      ]
    },
    {
      "cell_type": "code",
      "execution_count": null,
      "metadata": {
        "id": "Ud-TXIvcvF6j"
      },
      "outputs": [],
      "source": []
    },
    {
      "cell_type": "code",
      "execution_count": null,
      "metadata": {
        "id": "77tmSQbKlMCo"
      },
      "outputs": [],
      "source": [
        "def preprocess_text(texts):\n",
        "    hyperlinks = 'http[s]?://(?:[a-zA-Z]|[0-9]|[$-_@.&+]|[!*\\(\\),]|(?:%[0-9a-fA-F][0-9a-fA-F]))+' # check for hyperlinks\n",
        "    dates = '([0-2][0-9]|(3)[0-1])(\\/|\\.)(((0)[0-9])|((1)[0-2]))(\\/|\\.)\\d{2,4}' # check for dates\n",
        "    currency_symbols = '[R]{0,1}\\$[ ]{0,}\\d+(,|\\.)\\d+' # check for currency symbols\n",
        "    preprocessed_text = []\n",
        "    stemmer = RSLPStemmer() # portugese nltk stemmer\n",
        "    for sent in tqdm(texts):\n",
        "        sent = re.sub(r\"[\\n\\t\\-\\\\\\/]\",\" \",sent)#removing the new line,tab  \n",
        "        sent = re.sub(hyperlinks, ' url ', sent) # replacing hyperlinks with 'url'\n",
        "        sent = re.sub(dates, ' ', sent) # removing dates\n",
        "        sent = re.sub(currency_symbols, ' dinheiro ', sent) # replacing currency symbols with 'dinheiro'\n",
        "        sent = re.sub('[0-9]+', ' numero ', sent) # removing digits\n",
        "        sent = re.sub('([nN][ãÃaA][oO]|[ñÑ]| [nN] )', ' negação ', sent) # replacing no with negative\n",
        "        sent = re.sub('\\W', ' ', sent) # removing extra whitespaces\n",
        "        sent = re.sub('\\s+', ' ', sent) # removing extra spaces\n",
        "        sent = ' '.join(e for e in sent.split() if e.lower() not in stopwords_pt) # removing stopwords\n",
        "        sent = ' '.join(stemmer.stem(e.lower()) for e in sent.split()) # stemming the words\n",
        "        preprocessed_text.append(sent.lower().strip())\n",
        "        \n",
        "    return preprocessed_text"
      ]
    },
    {
      "cell_type": "code",
      "execution_count": null,
      "metadata": {
        "colab": {
          "base_uri": "https://localhost:8080/"
        },
        "id": "b3gI4Z10t4KY",
        "outputId": "66522e7d-55fe-4214-9a8b-1599875c4905"
      },
      "outputs": [
        {
          "output_type": "stream",
          "name": "stderr",
          "text": [
            "100%|██████████| 115609/115609 [00:22<00:00, 5155.64it/s]\n"
          ]
        }
      ],
      "source": [
        "processed_text = preprocess_text(data['review_comment_message'].values)"
      ]
    },
    {
      "cell_type": "code",
      "execution_count": null,
      "metadata": {
        "colab": {
          "base_uri": "https://localhost:8080/"
        },
        "id": "bVEaHHcOyxjI",
        "outputId": "af18c142-7788-4514-9c81-d9989922e9df"
      },
      "outputs": [
        {
          "output_type": "execute_result",
          "data": {
            "text/plain": [
              "0    neg test produt aind vei corret boa cond apen ...\n",
              "1    neg test produt aind vei corret boa cond apen ...\n",
              "2    neg test produt aind vei corret boa cond apen ...\n",
              "3    dev embal melhor produt caix vei tod amass vou...\n",
              "4                   ach pequen pra seil xíc bom produt\n",
              "Name: review_comment_message, dtype: object"
            ]
          },
          "metadata": {},
          "execution_count": 11
        }
      ],
      "source": [
        "data['review_comment_message'] = processed_text\n",
        "data['review_comment_message'].head(5)"
      ]
    },
    {
      "cell_type": "code",
      "execution_count": null,
      "metadata": {
        "id": "gR2MO3rMgVbP"
      },
      "outputs": [],
      "source": [
        "col= ['order_id',\n",
        " 'customer_id',\n",
        " 'order_purchase_timestamp',\n",
        " 'order_approved_at',\n",
        " 'order_delivered_customer_date',\n",
        " 'order_estimated_delivery_date',\n",
        "  'customer_unique_id',\n",
        " 'order_item_id',\n",
        " 'product_id',\n",
        " 'seller_id',\n",
        " 'shipping_limit_date',\n",
        " 'customer_city','customer_zip_code_prefix','product_category_name']"
      ]
    },
    {
      "cell_type": "code",
      "source": [
        "data.columns"
      ],
      "metadata": {
        "colab": {
          "base_uri": "https://localhost:8080/"
        },
        "id": "0OQHk5fceLwR",
        "outputId": "da92db2d-f5de-4cea-9855-5a0132c2f7d4"
      },
      "execution_count": null,
      "outputs": [
        {
          "output_type": "execute_result",
          "data": {
            "text/plain": [
              "Index(['order_id', 'customer_id', 'order_status', 'order_purchase_timestamp',\n",
              "       'order_approved_at', 'order_delivered_customer_date',\n",
              "       'order_estimated_delivery_date', 'payment_sequential', 'payment_type',\n",
              "       'payment_installments', 'payment_value', 'customer_unique_id',\n",
              "       'customer_zip_code_prefix', 'customer_city', 'customer_state',\n",
              "       'order_item_id', 'product_id', 'seller_id', 'shipping_limit_date',\n",
              "       'price', 'freight_value', 'product_category_name',\n",
              "       'product_name_lenght', 'product_description_lenght',\n",
              "       'product_photos_qty', 'product_weight_g', 'product_length_cm',\n",
              "       'product_height_cm', 'product_width_cm',\n",
              "       'product_category_name_english', 'review_score',\n",
              "       'review_comment_message'],\n",
              "      dtype='object')"
            ]
          },
          "metadata": {},
          "execution_count": 13
        }
      ]
    },
    {
      "cell_type": "code",
      "execution_count": null,
      "metadata": {
        "id": "tTapMWUrBgPY"
      },
      "outputs": [],
      "source": [
        "data.drop(columns=col,axis=1,inplace=True)"
      ]
    },
    {
      "cell_type": "code",
      "execution_count": null,
      "metadata": {
        "colab": {
          "base_uri": "https://localhost:8080/",
          "height": 357
        },
        "id": "pe1SeYr2VDHO",
        "outputId": "f3159342-6808-4ce4-fd0f-3927c201190f"
      },
      "outputs": [
        {
          "output_type": "execute_result",
          "data": {
            "text/plain": [
              "  order_status  payment_sequential payment_type  payment_installments  \\\n",
              "0    delivered                   1  credit_card                     1   \n",
              "1    delivered                   3      voucher                     1   \n",
              "2    delivered                   2      voucher                     1   \n",
              "3    delivered                   1  credit_card                     3   \n",
              "4    delivered                   1  credit_card                     1   \n",
              "\n",
              "   payment_value customer_state  price  freight_value  product_name_lenght  \\\n",
              "0          18.12             SP  29.99           8.72                 40.0   \n",
              "1           2.00             SP  29.99           8.72                 40.0   \n",
              "2          18.59             SP  29.99           8.72                 40.0   \n",
              "3          37.77             SP  29.99           7.78                 40.0   \n",
              "4          37.77             SP  29.99           7.78                 40.0   \n",
              "\n",
              "   product_description_lenght  product_photos_qty  product_weight_g  \\\n",
              "0                       268.0                 4.0             500.0   \n",
              "1                       268.0                 4.0             500.0   \n",
              "2                       268.0                 4.0             500.0   \n",
              "3                       268.0                 4.0             500.0   \n",
              "4                       268.0                 4.0             500.0   \n",
              "\n",
              "   product_length_cm  product_height_cm  product_width_cm  \\\n",
              "0               19.0                8.0              13.0   \n",
              "1               19.0                8.0              13.0   \n",
              "2               19.0                8.0              13.0   \n",
              "3               19.0                8.0              13.0   \n",
              "4               19.0                8.0              13.0   \n",
              "\n",
              "  product_category_name_english  review_score  \\\n",
              "0                    housewares             1   \n",
              "1                    housewares             1   \n",
              "2                    housewares             1   \n",
              "3                    housewares             1   \n",
              "4                    housewares             1   \n",
              "\n",
              "                              review_comment_message  \n",
              "0  neg test produt aind vei corret boa cond apen ...  \n",
              "1  neg test produt aind vei corret boa cond apen ...  \n",
              "2  neg test produt aind vei corret boa cond apen ...  \n",
              "3  dev embal melhor produt caix vei tod amass vou...  \n",
              "4                 ach pequen pra seil xíc bom produt  "
            ],
            "text/html": [
              "\n",
              "  <div id=\"df-3ed9ceab-955a-42a5-867b-ae314acb1194\">\n",
              "    <div class=\"colab-df-container\">\n",
              "      <div>\n",
              "<style scoped>\n",
              "    .dataframe tbody tr th:only-of-type {\n",
              "        vertical-align: middle;\n",
              "    }\n",
              "\n",
              "    .dataframe tbody tr th {\n",
              "        vertical-align: top;\n",
              "    }\n",
              "\n",
              "    .dataframe thead th {\n",
              "        text-align: right;\n",
              "    }\n",
              "</style>\n",
              "<table border=\"1\" class=\"dataframe\">\n",
              "  <thead>\n",
              "    <tr style=\"text-align: right;\">\n",
              "      <th></th>\n",
              "      <th>order_status</th>\n",
              "      <th>payment_sequential</th>\n",
              "      <th>payment_type</th>\n",
              "      <th>payment_installments</th>\n",
              "      <th>payment_value</th>\n",
              "      <th>customer_state</th>\n",
              "      <th>price</th>\n",
              "      <th>freight_value</th>\n",
              "      <th>product_name_lenght</th>\n",
              "      <th>product_description_lenght</th>\n",
              "      <th>product_photos_qty</th>\n",
              "      <th>product_weight_g</th>\n",
              "      <th>product_length_cm</th>\n",
              "      <th>product_height_cm</th>\n",
              "      <th>product_width_cm</th>\n",
              "      <th>product_category_name_english</th>\n",
              "      <th>review_score</th>\n",
              "      <th>review_comment_message</th>\n",
              "    </tr>\n",
              "  </thead>\n",
              "  <tbody>\n",
              "    <tr>\n",
              "      <th>0</th>\n",
              "      <td>delivered</td>\n",
              "      <td>1</td>\n",
              "      <td>credit_card</td>\n",
              "      <td>1</td>\n",
              "      <td>18.12</td>\n",
              "      <td>SP</td>\n",
              "      <td>29.99</td>\n",
              "      <td>8.72</td>\n",
              "      <td>40.0</td>\n",
              "      <td>268.0</td>\n",
              "      <td>4.0</td>\n",
              "      <td>500.0</td>\n",
              "      <td>19.0</td>\n",
              "      <td>8.0</td>\n",
              "      <td>13.0</td>\n",
              "      <td>housewares</td>\n",
              "      <td>1</td>\n",
              "      <td>neg test produt aind vei corret boa cond apen ...</td>\n",
              "    </tr>\n",
              "    <tr>\n",
              "      <th>1</th>\n",
              "      <td>delivered</td>\n",
              "      <td>3</td>\n",
              "      <td>voucher</td>\n",
              "      <td>1</td>\n",
              "      <td>2.00</td>\n",
              "      <td>SP</td>\n",
              "      <td>29.99</td>\n",
              "      <td>8.72</td>\n",
              "      <td>40.0</td>\n",
              "      <td>268.0</td>\n",
              "      <td>4.0</td>\n",
              "      <td>500.0</td>\n",
              "      <td>19.0</td>\n",
              "      <td>8.0</td>\n",
              "      <td>13.0</td>\n",
              "      <td>housewares</td>\n",
              "      <td>1</td>\n",
              "      <td>neg test produt aind vei corret boa cond apen ...</td>\n",
              "    </tr>\n",
              "    <tr>\n",
              "      <th>2</th>\n",
              "      <td>delivered</td>\n",
              "      <td>2</td>\n",
              "      <td>voucher</td>\n",
              "      <td>1</td>\n",
              "      <td>18.59</td>\n",
              "      <td>SP</td>\n",
              "      <td>29.99</td>\n",
              "      <td>8.72</td>\n",
              "      <td>40.0</td>\n",
              "      <td>268.0</td>\n",
              "      <td>4.0</td>\n",
              "      <td>500.0</td>\n",
              "      <td>19.0</td>\n",
              "      <td>8.0</td>\n",
              "      <td>13.0</td>\n",
              "      <td>housewares</td>\n",
              "      <td>1</td>\n",
              "      <td>neg test produt aind vei corret boa cond apen ...</td>\n",
              "    </tr>\n",
              "    <tr>\n",
              "      <th>3</th>\n",
              "      <td>delivered</td>\n",
              "      <td>1</td>\n",
              "      <td>credit_card</td>\n",
              "      <td>3</td>\n",
              "      <td>37.77</td>\n",
              "      <td>SP</td>\n",
              "      <td>29.99</td>\n",
              "      <td>7.78</td>\n",
              "      <td>40.0</td>\n",
              "      <td>268.0</td>\n",
              "      <td>4.0</td>\n",
              "      <td>500.0</td>\n",
              "      <td>19.0</td>\n",
              "      <td>8.0</td>\n",
              "      <td>13.0</td>\n",
              "      <td>housewares</td>\n",
              "      <td>1</td>\n",
              "      <td>dev embal melhor produt caix vei tod amass vou...</td>\n",
              "    </tr>\n",
              "    <tr>\n",
              "      <th>4</th>\n",
              "      <td>delivered</td>\n",
              "      <td>1</td>\n",
              "      <td>credit_card</td>\n",
              "      <td>1</td>\n",
              "      <td>37.77</td>\n",
              "      <td>SP</td>\n",
              "      <td>29.99</td>\n",
              "      <td>7.78</td>\n",
              "      <td>40.0</td>\n",
              "      <td>268.0</td>\n",
              "      <td>4.0</td>\n",
              "      <td>500.0</td>\n",
              "      <td>19.0</td>\n",
              "      <td>8.0</td>\n",
              "      <td>13.0</td>\n",
              "      <td>housewares</td>\n",
              "      <td>1</td>\n",
              "      <td>ach pequen pra seil xíc bom produt</td>\n",
              "    </tr>\n",
              "  </tbody>\n",
              "</table>\n",
              "</div>\n",
              "      <button class=\"colab-df-convert\" onclick=\"convertToInteractive('df-3ed9ceab-955a-42a5-867b-ae314acb1194')\"\n",
              "              title=\"Convert this dataframe to an interactive table.\"\n",
              "              style=\"display:none;\">\n",
              "        \n",
              "  <svg xmlns=\"http://www.w3.org/2000/svg\" height=\"24px\"viewBox=\"0 0 24 24\"\n",
              "       width=\"24px\">\n",
              "    <path d=\"M0 0h24v24H0V0z\" fill=\"none\"/>\n",
              "    <path d=\"M18.56 5.44l.94 2.06.94-2.06 2.06-.94-2.06-.94-.94-2.06-.94 2.06-2.06.94zm-11 1L8.5 8.5l.94-2.06 2.06-.94-2.06-.94L8.5 2.5l-.94 2.06-2.06.94zm10 10l.94 2.06.94-2.06 2.06-.94-2.06-.94-.94-2.06-.94 2.06-2.06.94z\"/><path d=\"M17.41 7.96l-1.37-1.37c-.4-.4-.92-.59-1.43-.59-.52 0-1.04.2-1.43.59L10.3 9.45l-7.72 7.72c-.78.78-.78 2.05 0 2.83L4 21.41c.39.39.9.59 1.41.59.51 0 1.02-.2 1.41-.59l7.78-7.78 2.81-2.81c.8-.78.8-2.07 0-2.86zM5.41 20L4 18.59l7.72-7.72 1.47 1.35L5.41 20z\"/>\n",
              "  </svg>\n",
              "      </button>\n",
              "      \n",
              "  <style>\n",
              "    .colab-df-container {\n",
              "      display:flex;\n",
              "      flex-wrap:wrap;\n",
              "      gap: 12px;\n",
              "    }\n",
              "\n",
              "    .colab-df-convert {\n",
              "      background-color: #E8F0FE;\n",
              "      border: none;\n",
              "      border-radius: 50%;\n",
              "      cursor: pointer;\n",
              "      display: none;\n",
              "      fill: #1967D2;\n",
              "      height: 32px;\n",
              "      padding: 0 0 0 0;\n",
              "      width: 32px;\n",
              "    }\n",
              "\n",
              "    .colab-df-convert:hover {\n",
              "      background-color: #E2EBFA;\n",
              "      box-shadow: 0px 1px 2px rgba(60, 64, 67, 0.3), 0px 1px 3px 1px rgba(60, 64, 67, 0.15);\n",
              "      fill: #174EA6;\n",
              "    }\n",
              "\n",
              "    [theme=dark] .colab-df-convert {\n",
              "      background-color: #3B4455;\n",
              "      fill: #D2E3FC;\n",
              "    }\n",
              "\n",
              "    [theme=dark] .colab-df-convert:hover {\n",
              "      background-color: #434B5C;\n",
              "      box-shadow: 0px 1px 3px 1px rgba(0, 0, 0, 0.15);\n",
              "      filter: drop-shadow(0px 1px 2px rgba(0, 0, 0, 0.3));\n",
              "      fill: #FFFFFF;\n",
              "    }\n",
              "  </style>\n",
              "\n",
              "      <script>\n",
              "        const buttonEl =\n",
              "          document.querySelector('#df-3ed9ceab-955a-42a5-867b-ae314acb1194 button.colab-df-convert');\n",
              "        buttonEl.style.display =\n",
              "          google.colab.kernel.accessAllowed ? 'block' : 'none';\n",
              "\n",
              "        async function convertToInteractive(key) {\n",
              "          const element = document.querySelector('#df-3ed9ceab-955a-42a5-867b-ae314acb1194');\n",
              "          const dataTable =\n",
              "            await google.colab.kernel.invokeFunction('convertToInteractive',\n",
              "                                                     [key], {});\n",
              "          if (!dataTable) return;\n",
              "\n",
              "          const docLinkHtml = 'Like what you see? Visit the ' +\n",
              "            '<a target=\"_blank\" href=https://colab.research.google.com/notebooks/data_table.ipynb>data table notebook</a>'\n",
              "            + ' to learn more about interactive tables.';\n",
              "          element.innerHTML = '';\n",
              "          dataTable['output_type'] = 'display_data';\n",
              "          await google.colab.output.renderOutput(dataTable, element);\n",
              "          const docLink = document.createElement('div');\n",
              "          docLink.innerHTML = docLinkHtml;\n",
              "          element.appendChild(docLink);\n",
              "        }\n",
              "      </script>\n",
              "    </div>\n",
              "  </div>\n",
              "  "
            ]
          },
          "metadata": {},
          "execution_count": 15
        }
      ],
      "source": [
        "data.head()"
      ]
    },
    {
      "cell_type": "markdown",
      "metadata": {
        "id": "N--xnkmGiNNm"
      },
      "source": [
        "<h3>Splitting data into Train and Test: Stratified Sampling</h3>\n"
      ]
    },
    {
      "cell_type": "code",
      "execution_count": null,
      "metadata": {
        "colab": {
          "base_uri": "https://localhost:8080/",
          "height": 231
        },
        "id": "XgRaWFdzSGqr",
        "outputId": "51f08cef-7fd7-4a28-fa6f-ceb0edf2ab77"
      },
      "outputs": [
        {
          "output_type": "stream",
          "name": "stdout",
          "text": [
            "      X          y\n",
            "(115609, 17) (115609,)\n",
            "\n",
            "\n"
          ]
        },
        {
          "output_type": "execute_result",
          "data": {
            "text/plain": [
              "  order_status  payment_sequential payment_type  payment_installments  \\\n",
              "0    delivered                   1  credit_card                     1   \n",
              "\n",
              "   payment_value customer_state  price  freight_value  product_name_lenght  \\\n",
              "0          18.12             SP  29.99           8.72                 40.0   \n",
              "\n",
              "   product_description_lenght  product_photos_qty  product_weight_g  \\\n",
              "0                       268.0                 4.0             500.0   \n",
              "\n",
              "   product_length_cm  product_height_cm  product_width_cm  \\\n",
              "0               19.0                8.0              13.0   \n",
              "\n",
              "  product_category_name_english  \\\n",
              "0                    housewares   \n",
              "\n",
              "                              review_comment_message  \n",
              "0  neg test produt aind vei corret boa cond apen ...  "
            ],
            "text/html": [
              "\n",
              "  <div id=\"df-47ae52e8-ce08-4f06-85ef-96e42c035cb0\">\n",
              "    <div class=\"colab-df-container\">\n",
              "      <div>\n",
              "<style scoped>\n",
              "    .dataframe tbody tr th:only-of-type {\n",
              "        vertical-align: middle;\n",
              "    }\n",
              "\n",
              "    .dataframe tbody tr th {\n",
              "        vertical-align: top;\n",
              "    }\n",
              "\n",
              "    .dataframe thead th {\n",
              "        text-align: right;\n",
              "    }\n",
              "</style>\n",
              "<table border=\"1\" class=\"dataframe\">\n",
              "  <thead>\n",
              "    <tr style=\"text-align: right;\">\n",
              "      <th></th>\n",
              "      <th>order_status</th>\n",
              "      <th>payment_sequential</th>\n",
              "      <th>payment_type</th>\n",
              "      <th>payment_installments</th>\n",
              "      <th>payment_value</th>\n",
              "      <th>customer_state</th>\n",
              "      <th>price</th>\n",
              "      <th>freight_value</th>\n",
              "      <th>product_name_lenght</th>\n",
              "      <th>product_description_lenght</th>\n",
              "      <th>product_photos_qty</th>\n",
              "      <th>product_weight_g</th>\n",
              "      <th>product_length_cm</th>\n",
              "      <th>product_height_cm</th>\n",
              "      <th>product_width_cm</th>\n",
              "      <th>product_category_name_english</th>\n",
              "      <th>review_comment_message</th>\n",
              "    </tr>\n",
              "  </thead>\n",
              "  <tbody>\n",
              "    <tr>\n",
              "      <th>0</th>\n",
              "      <td>delivered</td>\n",
              "      <td>1</td>\n",
              "      <td>credit_card</td>\n",
              "      <td>1</td>\n",
              "      <td>18.12</td>\n",
              "      <td>SP</td>\n",
              "      <td>29.99</td>\n",
              "      <td>8.72</td>\n",
              "      <td>40.0</td>\n",
              "      <td>268.0</td>\n",
              "      <td>4.0</td>\n",
              "      <td>500.0</td>\n",
              "      <td>19.0</td>\n",
              "      <td>8.0</td>\n",
              "      <td>13.0</td>\n",
              "      <td>housewares</td>\n",
              "      <td>neg test produt aind vei corret boa cond apen ...</td>\n",
              "    </tr>\n",
              "  </tbody>\n",
              "</table>\n",
              "</div>\n",
              "      <button class=\"colab-df-convert\" onclick=\"convertToInteractive('df-47ae52e8-ce08-4f06-85ef-96e42c035cb0')\"\n",
              "              title=\"Convert this dataframe to an interactive table.\"\n",
              "              style=\"display:none;\">\n",
              "        \n",
              "  <svg xmlns=\"http://www.w3.org/2000/svg\" height=\"24px\"viewBox=\"0 0 24 24\"\n",
              "       width=\"24px\">\n",
              "    <path d=\"M0 0h24v24H0V0z\" fill=\"none\"/>\n",
              "    <path d=\"M18.56 5.44l.94 2.06.94-2.06 2.06-.94-2.06-.94-.94-2.06-.94 2.06-2.06.94zm-11 1L8.5 8.5l.94-2.06 2.06-.94-2.06-.94L8.5 2.5l-.94 2.06-2.06.94zm10 10l.94 2.06.94-2.06 2.06-.94-2.06-.94-.94-2.06-.94 2.06-2.06.94z\"/><path d=\"M17.41 7.96l-1.37-1.37c-.4-.4-.92-.59-1.43-.59-.52 0-1.04.2-1.43.59L10.3 9.45l-7.72 7.72c-.78.78-.78 2.05 0 2.83L4 21.41c.39.39.9.59 1.41.59.51 0 1.02-.2 1.41-.59l7.78-7.78 2.81-2.81c.8-.78.8-2.07 0-2.86zM5.41 20L4 18.59l7.72-7.72 1.47 1.35L5.41 20z\"/>\n",
              "  </svg>\n",
              "      </button>\n",
              "      \n",
              "  <style>\n",
              "    .colab-df-container {\n",
              "      display:flex;\n",
              "      flex-wrap:wrap;\n",
              "      gap: 12px;\n",
              "    }\n",
              "\n",
              "    .colab-df-convert {\n",
              "      background-color: #E8F0FE;\n",
              "      border: none;\n",
              "      border-radius: 50%;\n",
              "      cursor: pointer;\n",
              "      display: none;\n",
              "      fill: #1967D2;\n",
              "      height: 32px;\n",
              "      padding: 0 0 0 0;\n",
              "      width: 32px;\n",
              "    }\n",
              "\n",
              "    .colab-df-convert:hover {\n",
              "      background-color: #E2EBFA;\n",
              "      box-shadow: 0px 1px 2px rgba(60, 64, 67, 0.3), 0px 1px 3px 1px rgba(60, 64, 67, 0.15);\n",
              "      fill: #174EA6;\n",
              "    }\n",
              "\n",
              "    [theme=dark] .colab-df-convert {\n",
              "      background-color: #3B4455;\n",
              "      fill: #D2E3FC;\n",
              "    }\n",
              "\n",
              "    [theme=dark] .colab-df-convert:hover {\n",
              "      background-color: #434B5C;\n",
              "      box-shadow: 0px 1px 3px 1px rgba(0, 0, 0, 0.15);\n",
              "      filter: drop-shadow(0px 1px 2px rgba(0, 0, 0, 0.3));\n",
              "      fill: #FFFFFF;\n",
              "    }\n",
              "  </style>\n",
              "\n",
              "      <script>\n",
              "        const buttonEl =\n",
              "          document.querySelector('#df-47ae52e8-ce08-4f06-85ef-96e42c035cb0 button.colab-df-convert');\n",
              "        buttonEl.style.display =\n",
              "          google.colab.kernel.accessAllowed ? 'block' : 'none';\n",
              "\n",
              "        async function convertToInteractive(key) {\n",
              "          const element = document.querySelector('#df-47ae52e8-ce08-4f06-85ef-96e42c035cb0');\n",
              "          const dataTable =\n",
              "            await google.colab.kernel.invokeFunction('convertToInteractive',\n",
              "                                                     [key], {});\n",
              "          if (!dataTable) return;\n",
              "\n",
              "          const docLinkHtml = 'Like what you see? Visit the ' +\n",
              "            '<a target=\"_blank\" href=https://colab.research.google.com/notebooks/data_table.ipynb>data table notebook</a>'\n",
              "            + ' to learn more about interactive tables.';\n",
              "          element.innerHTML = '';\n",
              "          dataTable['output_type'] = 'display_data';\n",
              "          await google.colab.output.renderOutput(dataTable, element);\n",
              "          const docLink = document.createElement('div');\n",
              "          docLink.innerHTML = docLinkHtml;\n",
              "          element.appendChild(docLink);\n",
              "        }\n",
              "      </script>\n",
              "    </div>\n",
              "  </div>\n",
              "  "
            ]
          },
          "metadata": {},
          "execution_count": 16
        }
      ],
      "source": [
        "y = data['review_score'].values\n",
        "X = data.drop(['review_score'], axis=1)\n",
        "print(\"      X \",\"        y\")\n",
        "print(X.shape,y.shape)\n",
        "print('\\n')\n",
        "X.head(1)   "
      ]
    },
    {
      "cell_type": "code",
      "execution_count": null,
      "metadata": {
        "colab": {
          "base_uri": "https://localhost:8080/"
        },
        "id": "SUwljGsJR8P5",
        "outputId": "806664e4-6427-4406-973d-68bd4b42c7da"
      },
      "outputs": [
        {
          "output_type": "stream",
          "name": "stdout",
          "text": [
            " X_train    y_train\n",
            "(92487, 17) (92487,)\n",
            "---------------\n",
            "X_test     y_test\n",
            "(23122, 17) (23122,)\n"
          ]
        }
      ],
      "source": [
        "# train test split\n",
        "from sklearn.model_selection import train_test_split\n",
        "X_train, X_test, y_train, y_test = train_test_split(X, y, test_size=0.2, stratify=y,random_state=25)\n",
        "\n",
        "\n",
        "print(\" X_train\",\"   y_train\")\n",
        "print(X_train.shape,y_train.shape)\n",
        "print('-'*15)\n",
        "print(\"X_test\",\"    y_test\")\n",
        "print(X_test.shape,y_test.shape)"
      ]
    },
    {
      "cell_type": "code",
      "execution_count": null,
      "metadata": {
        "id": "lr6cY5wzY9QZ"
      },
      "outputs": [],
      "source": []
    },
    {
      "cell_type": "markdown",
      "metadata": {
        "id": "2jMO_pdzz10E"
      },
      "source": [
        "#2.Featurization"
      ]
    },
    {
      "cell_type": "markdown",
      "metadata": {
        "id": "U8_zsSEYR007"
      },
      "source": [
        "## Encoding Categorical Features\n",
        "\n",
        "\n",
        "\n"
      ]
    },
    {
      "cell_type": "markdown",
      "metadata": {
        "id": "l6E1LlTtiazt"
      },
      "source": [
        "### Encoding Categorical Features: order_status"
      ]
    },
    {
      "cell_type": "code",
      "execution_count": null,
      "metadata": {
        "colab": {
          "base_uri": "https://localhost:8080/"
        },
        "id": "DhQwXS42QEwt",
        "outputId": "d245f72e-680f-4208-f07e-431c2114ffba"
      },
      "outputs": [
        {
          "output_type": "stream",
          "name": "stdout",
          "text": [
            "After vectorizations\n",
            "(92487, 7) (92487,)\n",
            "(92487, 7) (23122,)\n",
            "['approved', 'canceled', 'delivered', 'invoiced', 'processing', 'shipped', 'unavailable']\n"
          ]
        }
      ],
      "source": [
        "vect_os_tr = CountVectorizer(binary= True)\n",
        "vect_os_tr.fit(X_train['order_status'].values) # fit has to happen only on train data\n",
        "\n",
        "# we use the fitted CountVectorizer to convert the text to vector\n",
        "order_st_tr = vect_os_tr.transform(X_train['order_status'].values)\n",
        "\n",
        "order_st_te = vect_os_tr.transform(X_test['order_status'].values)\n",
        "name_os =vect_os_tr.get_feature_names()\n",
        "\n",
        "print(\"After vectorizations\")\n",
        "print(order_st_tr.shape, y_train.shape)\n",
        "print(order_st_tr.shape, y_test.shape)\n",
        "print(name_os)"
      ]
    },
    {
      "cell_type": "markdown",
      "metadata": {
        "id": "dHYKqgTfiraa"
      },
      "source": [
        "### Encoding Categorical Features:payment_type"
      ]
    },
    {
      "cell_type": "code",
      "execution_count": null,
      "metadata": {
        "colab": {
          "base_uri": "https://localhost:8080/"
        },
        "id": "VNMrk9EBQEzd",
        "outputId": "3ae0f3b3-6f5f-4e92-c466-ed460a373f51"
      },
      "outputs": [
        {
          "output_type": "stream",
          "name": "stdout",
          "text": [
            "After vectorizations\n",
            "(92487, 4) (92487,)\n",
            "(92487, 4) (23122,)\n"
          ]
        }
      ],
      "source": [
        "vectorizer = CountVectorizer(binary= True)\n",
        "vectorizer.fit(X_train['payment_type'].values) # fit has to happen only on train data\n",
        "\n",
        "# we use the fitted CountVectorizer to convert the text to vector\n",
        "pay_typ_tr = vectorizer.transform(X_train['payment_type'].values)\n",
        "\n",
        "pay_typ_te = vectorizer.transform(X_test['payment_type'].values)\n",
        "name_typ = vectorizer.get_feature_names()\n",
        "print(\"After vectorizations\")\n",
        "print(pay_typ_tr.shape, y_train.shape)\n",
        "print(pay_typ_tr.shape, y_test.shape)\n"
      ]
    },
    {
      "cell_type": "markdown",
      "metadata": {
        "id": "GNavCos_ivBk"
      },
      "source": [
        "### Encoding Categorical Features:product_category_name_english"
      ]
    },
    {
      "cell_type": "code",
      "execution_count": null,
      "metadata": {
        "colab": {
          "base_uri": "https://localhost:8080/"
        },
        "id": "t-x8u-e0QE3d",
        "outputId": "39600e24-2f8f-43bb-aba3-0c0638f1cbe3"
      },
      "outputs": [
        {
          "output_type": "stream",
          "name": "stdout",
          "text": [
            "After vectorizations\n",
            "(92487, 71) (92487,)\n",
            "(92487, 71) (23122,)\n"
          ]
        }
      ],
      "source": [
        "vectorizer = CountVectorizer(binary= True)\n",
        "vectorizer.fit(X_train['product_category_name_english'].values) # fit has to happen only on train data\n",
        "\n",
        "# we use the fitted CountVectorizer to convert the text to vector\n",
        "prod_cat_tr = vectorizer.transform(X_train['product_category_name_english'].values)\n",
        "\n",
        "prod_cat_te = vectorizer.transform(X_test['product_category_name_english'].values)\n",
        "name_prd = vectorizer.get_feature_names()\n",
        "print(\"After vectorizations\")\n",
        "print(prod_cat_tr.shape, y_train.shape)\n",
        "print(prod_cat_tr.shape, y_test.shape)"
      ]
    },
    {
      "cell_type": "markdown",
      "metadata": {
        "id": "Es_rIm1gi3xN"
      },
      "source": [
        "### Encoding Categorical Features: customer_state"
      ]
    },
    {
      "cell_type": "code",
      "execution_count": null,
      "metadata": {
        "colab": {
          "base_uri": "https://localhost:8080/"
        },
        "id": "TTV1p9GQQE5g",
        "outputId": "36b53f74-741e-4807-8fe5-5af905d07aca"
      },
      "outputs": [
        {
          "output_type": "stream",
          "name": "stdout",
          "text": [
            "After vectorizations\n",
            "(92487, 27) (92487,)\n",
            "(92487, 27) (23122,)\n"
          ]
        }
      ],
      "source": [
        "vectorizer = CountVectorizer(binary= True)\n",
        "vectorizer.fit(X_train['customer_state'].values) # fit has to happen only on train data\n",
        "\n",
        "# we use the fitted CountVectorizer to convert the text to vector\n",
        "state_tr = vectorizer.transform(X_train['customer_state'].values)\n",
        "\n",
        "state_te = vectorizer.transform(X_test['customer_state'].values)\n",
        "name_st = vectorizer.get_feature_names()\n",
        "\n",
        "print(\"After vectorizations\")\n",
        "print(state_tr.shape, y_train.shape)\n",
        "print(state_tr.shape, y_test.shape)"
      ]
    },
    {
      "cell_type": "markdown",
      "metadata": {
        "id": "3K59lQyUi_rZ"
      },
      "source": [
        "## Featurization of text data"
      ]
    },
    {
      "cell_type": "code",
      "source": [
        "pip install fasttext"
      ],
      "metadata": {
        "colab": {
          "base_uri": "https://localhost:8080/"
        },
        "id": "oVnoG-H8fH6R",
        "outputId": "3e4387c3-6b65-47c9-ff66-5064790dd060"
      },
      "execution_count": null,
      "outputs": [
        {
          "output_type": "stream",
          "name": "stdout",
          "text": [
            "Looking in indexes: https://pypi.org/simple, https://us-python.pkg.dev/colab-wheels/public/simple/\n",
            "Collecting fasttext\n",
            "  Downloading fasttext-0.9.2.tar.gz (68 kB)\n",
            "\u001b[K     |████████████████████████████████| 68 kB 4.4 MB/s \n",
            "\u001b[?25hCollecting pybind11>=2.2\n",
            "  Using cached pybind11-2.10.0-py3-none-any.whl (213 kB)\n",
            "Requirement already satisfied: setuptools>=0.7.0 in /usr/local/lib/python3.7/dist-packages (from fasttext) (57.4.0)\n",
            "Requirement already satisfied: numpy in /usr/local/lib/python3.7/dist-packages (from fasttext) (1.21.6)\n",
            "Building wheels for collected packages: fasttext\n",
            "  Building wheel for fasttext (setup.py) ... \u001b[?25l\u001b[?25hdone\n",
            "  Created wheel for fasttext: filename=fasttext-0.9.2-cp37-cp37m-linux_x86_64.whl size=3162170 sha256=08ddd9896de5d9a993c4be80de17183ffc5768debf3433d2307eb78d215bed89\n",
            "  Stored in directory: /root/.cache/pip/wheels/4e/ca/bf/b020d2be95f7641801a6597a29c8f4f19e38f9c02a345bab9b\n",
            "Successfully built fasttext\n",
            "Installing collected packages: pybind11, fasttext\n",
            "Successfully installed fasttext-0.9.2 pybind11-2.10.0\n"
          ]
        }
      ]
    },
    {
      "cell_type": "code",
      "execution_count": null,
      "metadata": {
        "id": "xaR0rP-0_-GE",
        "colab": {
          "base_uri": "https://localhost:8080/",
          "height": 70
        },
        "outputId": "187242ea-c6e0-4abe-c8b1-3f21a1d07a03"
      },
      "outputs": [
        {
          "output_type": "stream",
          "name": "stdout",
          "text": [
            "Downloading https://dl.fbaipublicfiles.com/fasttext/vectors-crawl/cc.pt.300.bin.gz\n",
            "\n"
          ]
        },
        {
          "output_type": "execute_result",
          "data": {
            "text/plain": [
              "'cc.pt.300.bin'"
            ],
            "application/vnd.google.colaboratory.intrinsic+json": {
              "type": "string"
            }
          },
          "metadata": {},
          "execution_count": 30
        }
      ],
      "source": [
        "import fasttext.util\n",
        "fasttext.util.download_model('pt', if_exists='ignore')  #Portuguese"
      ]
    },
    {
      "cell_type": "code",
      "execution_count": null,
      "metadata": {
        "id": "2D2j7GCbQFBr"
      },
      "outputs": [],
      "source": [
        "from gensim.models import FastText\n",
        "ft_model = FastText.load_fasttext_format('cc.pt.300.bin')"
      ]
    },
    {
      "cell_type": "code",
      "execution_count": null,
      "metadata": {
        "colab": {
          "base_uri": "https://localhost:8080/"
        },
        "id": "Vr9rOVmpQFI4",
        "outputId": "2759ccdb-84c2-4dfb-ceb5-f8843e889d3c"
      },
      "outputs": [
        {
          "output_type": "execute_result",
          "data": {
            "text/plain": [
              "(300,)"
            ]
          },
          "metadata": {},
          "execution_count": 33
        }
      ],
      "source": [
        "ft_model.wv['melhor'].shape"
      ]
    },
    {
      "cell_type": "code",
      "execution_count": null,
      "metadata": {
        "colab": {
          "base_uri": "https://localhost:8080/"
        },
        "id": "SAlwq2lxQFLA",
        "outputId": "becbdaa4-e0fa-497e-a838-ed7f3bb55d65"
      },
      "outputs": [
        {
          "output_type": "execute_result",
          "data": {
            "text/plain": [
              "[('produts', 0.6906509399414062),\n",
              " ('produ', 0.6056191921234131),\n",
              " ('produtoa', 0.5977535843849182),\n",
              " ('produe', 0.57929527759552),\n",
              " ('produto', 0.5772074460983276),\n",
              " ('produtos', 0.5754655003547668),\n",
              " ('produtoo', 0.5647249221801758),\n",
              " ('protudo', 0.5558850765228271),\n",
              " ('produtoe', 0.5553520321846008),\n",
              " ('vend', 0.5546207427978516)]"
            ]
          },
          "metadata": {},
          "execution_count": 34
        }
      ],
      "source": [
        "ft_model.similar_by_vector('produt')"
      ]
    },
    {
      "cell_type": "code",
      "execution_count": null,
      "metadata": {
        "id": "Vksh_XvlV72A"
      },
      "outputs": [],
      "source": [
        "def tfidfWord2Vector(text,ft_words,tfidf_words,tf_values):\n",
        "    # average Word2Vec\n",
        "    # compute average word2vec for each review.\n",
        "    tfidf_w2v_vectors = []; # the avg-w2v for each sentence/review is stored in this list\n",
        "    for sentence in tqdm(text): # for each review/sentence\n",
        "        vector = np.zeros(300) # as word vectors are of zero length\n",
        "        tf_idf_weight =0; # num of words with a valid vector in the sentence/review\n",
        "        for word in sentence.split(): # for each word in a review/sentence\n",
        "            if (word in ft_words) and (word in tfidf_words):\n",
        "                vec = ft_model.wv[word] # embeddings[word] \n",
        "                # here we are multiplying idf value(dictionary[word]) and the tf value((sentence.count(word)/len(sentence.split())))\n",
        "                tf_idf = tf_values[word]*(sentence.count(word)/len(sentence.split())) # getting the tfidf value for each word\n",
        "                vector += (vec * tf_idf) # calculating tfidf weighted w2v\n",
        "                tf_idf_weight += tf_idf\n",
        "        if tf_idf_weight != 0:\n",
        "            vector /= tf_idf_weight\n",
        "        tfidf_w2v_vectors.append(vector)\n",
        "    tfidf_w2v_vectors = np.asarray(tfidf_w2v_vectors)\n",
        "    \n",
        "    return tfidf_w2v_vectors"
      ]
    },
    {
      "cell_type": "code",
      "execution_count": null,
      "metadata": {
        "colab": {
          "base_uri": "https://localhost:8080/"
        },
        "id": "deg3KVtXV75f",
        "outputId": "78f34ba0-aa77-48e3-c1d9-a06264d0a0f7"
      },
      "outputs": [
        {
          "output_type": "stream",
          "name": "stderr",
          "text": [
            "100%|██████████| 92487/92487 [1:30:12<00:00, 17.09it/s]\n",
            "100%|██████████| 23122/23122 [22:25<00:00, 17.18it/s]\n"
          ]
        }
      ],
      "source": [
        "# encoding review comment message using Tfidf weighted W2V\n",
        "tfidf = TfidfVectorizer()\n",
        "tfidf.fit(X_train['review_comment_message'])\n",
        "\n",
        "\n",
        "# we are converting a dictionary with word as a key, and the idf as a value\n",
        "tf_values = dict(zip(tfidf.get_feature_names(), list(tfidf.idf_)))\n",
        "tfidf_words = set(tfidf.get_feature_names())\n",
        "ft_words = list(ft_model.wv.vocab.keys()) # list(embeddings.keys())\n",
        "\n",
        "tfidf_w2v_vectors_train = tfidfWord2Vector(X_train['review_comment_message'].values,ft_words,tfidf_words,tf_values)\n",
        "tfidf_w2v_vectors_test = tfidfWord2Vector(X_test['review_comment_message'].values,ft_words,tfidf_words,tf_values)"
      ]
    },
    {
      "cell_type": "code",
      "execution_count": null,
      "metadata": {
        "id": "TUVqrNHuV78m"
      },
      "outputs": [],
      "source": [
        "pickle.dump(tfidf_w2v_vectors_train,open('tfidf_w2v_vectors_train_1.pkl','wb'))\n",
        "pickle.dump(tfidf_w2v_vectors_test,open('tfidf_w2v_vectors_test_1.pkl','wb'))"
      ]
    },
    {
      "cell_type": "code",
      "execution_count": null,
      "metadata": {
        "id": "58psdvSuLMTb"
      },
      "outputs": [],
      "source": [
        "tfidf_w2v_vectors_train = pickle.load( open('tfidf_w2v_vectors_train_1.pkl','rb'))"
      ]
    },
    {
      "cell_type": "code",
      "execution_count": null,
      "metadata": {
        "id": "qldYZbiJfWNT"
      },
      "outputs": [],
      "source": [
        "tfidf_w2v_vectors_test = pickle.load( open('tfidf_w2v_vectors_test_1.pkl','rb'))"
      ]
    },
    {
      "cell_type": "markdown",
      "metadata": {
        "id": "ddnD0iCtXJgD"
      },
      "source": [
        "## Numerical_features"
      ]
    },
    {
      "cell_type": "code",
      "execution_count": null,
      "metadata": {
        "id": "uH_Nj5yqV8Ae"
      },
      "outputs": [],
      "source": [
        "from sklearn.preprocessing import Normalizer\n",
        "def normalizer(col):\n",
        "  normalizer = Normalizer()\n",
        "  normalizer.fit(X_train[col].values.reshape(-1,1))\n",
        "  X_train_norm = normalizer.transform(X_train[col].values.reshape(-1,1))\n",
        "  X_test_norm = normalizer.transform(X_test[col].values.reshape(-1,1))\n",
        "  return X_train_norm,X_test_norm"
      ]
    },
    {
      "cell_type": "code",
      "execution_count": null,
      "metadata": {
        "id": "7HTMPdOA5DXU"
      },
      "outputs": [],
      "source": [
        "\n",
        "# numerical features\n",
        "num=['payment_sequential',\n",
        " 'payment_installments',\n",
        " 'payment_value',\n",
        " 'price',\n",
        " 'freight_value',\n",
        " 'product_name_lenght',\n",
        " 'product_description_lenght',\n",
        " 'product_photos_qty',\n",
        " 'product_weight_g',\n",
        " 'product_length_cm',\n",
        " 'product_height_cm',\n",
        " 'product_width_cm',]\n"
      ]
    },
    {
      "cell_type": "code",
      "execution_count": null,
      "metadata": {
        "id": "71SHPDvQ5Dat"
      },
      "outputs": [],
      "source": [
        "tr=[]\n",
        "te=[]\n",
        "for i in num:\n",
        "  a,b = normalizer(i)\n",
        "  tr.append(a)\n",
        "  te.append(b)"
      ]
    },
    {
      "cell_type": "code",
      "execution_count": null,
      "metadata": {
        "colab": {
          "base_uri": "https://localhost:8080/"
        },
        "id": "GcDC_qkK5DkO",
        "outputId": "9ef7a81c-f153-4501-dc72-c96b5d051e34"
      },
      "outputs": [
        {
          "output_type": "stream",
          "name": "stdout",
          "text": [
            "Final Data matrix\n",
            "(92487, 12) (92487,)\n",
            "(23122, 12) (23122,)\n"
          ]
        }
      ],
      "source": [
        "from scipy.sparse import hstack,csr_matrix\n",
        "import numpy as np\n",
        "\n",
        "X_tr_num = np.hstack((tr))\n",
        "X_te_num = np.hstack((te))\n",
        "\n",
        "\n",
        "print(\"Final Data matrix\")\n",
        "print(X_tr_num.shape, y_train.shape)\n",
        "print(X_te_num.shape, y_test.shape)"
      ]
    },
    {
      "cell_type": "code",
      "execution_count": null,
      "metadata": {
        "colab": {
          "base_uri": "https://localhost:8080/"
        },
        "id": "KgnT-DSWIlvU",
        "outputId": "5aad31bf-f4d5-4c70-8a89-a6be282abd9b"
      },
      "outputs": [
        {
          "output_type": "stream",
          "name": "stdout",
          "text": [
            "Final Data matrix\n",
            "(92487, 421) (92487,)\n",
            "(23122, 421) (23122,)\n",
            "====================================================================================================\n",
            "\n"
          ]
        }
      ],
      "source": [
        "# merge two sparse matrices: https://stackoverflow.com/a/19710648/4084039\n",
        "from scipy.sparse import hstack\n",
        "X_tr = hstack((tfidf_w2v_vectors_train,order_st_tr,pay_typ_tr,prod_cat_tr,state_tr,X_tr_num)).tocsr()\n",
        "X_te = hstack((tfidf_w2v_vectors_test,order_st_te,pay_typ_te,prod_cat_te,state_te,X_te_num)).tocsr()\n",
        "\n",
        "print(\"Final Data matrix\")\n",
        "print(X_tr.shape, y_train.shape)\n",
        "\n",
        "print(X_te.shape, y_test.shape)\n",
        "print(\"=\"*100)\n",
        "print('')"
      ]
    },
    {
      "cell_type": "markdown",
      "metadata": {
        "id": "d6mIUjUmJciI"
      },
      "source": [
        "#3.Baseline Models"
      ]
    },
    {
      "cell_type": "markdown",
      "metadata": {
        "id": "9H9xHlrQ1A34"
      },
      "source": [
        "### Random Model"
      ]
    },
    {
      "cell_type": "code",
      "execution_count": null,
      "metadata": {
        "id": "zzZcW3o3i1L_"
      },
      "outputs": [],
      "source": [
        "def confusion_matrices_plot(y_real, y_pred, y_test,y_test_pred,name):\n",
        "    # representing confusion matric in heatmap format\n",
        "    # https://seaborn.pydata.org/generated/seaborn.heatmap.html\n",
        "    cmap_ = sns.light_palette(\"#425a90\",as_cmap=True)\n",
        "    cmap = sns.light_palette(\"#000000\",as_cmap=True)\n",
        "    C1 = confusion_matrix(y_real,y_pred)\n",
        "    C2 = confusion_matrix(y_test,y_test_pred)\n",
        "    \n",
        "    fig,ax = plt.subplots(1, 2, figsize=(15,5))\n",
        "    ax1 = sns.heatmap(C1, annot=True, cmap=cmap, fmt=\".2f\", ax = ax[0])\n",
        "    ax1.set_xlabel('Predicted Class')\n",
        "    ax1.set_ylabel('Original Class')\n",
        "    ax1.set_title(\"Train Confusion matrix\")\n",
        "\n",
        "    ax2 = sns.heatmap(C2, annot=True, cmap=cmap_, fmt=\".2f\", ax = ax[1])\n",
        "    ax2.set_xlabel('Predicted Class')\n",
        "    ax2.set_ylabel('Original Class')\n",
        "    ax2.set_title(\"Test Confusion matrix\")\n",
        "    plt.savefig(name, dpi=480, bbox_inches='tight')\n",
        "    plt.show()"
      ]
    },
    {
      "cell_type": "code",
      "execution_count": null,
      "metadata": {
        "colab": {
          "base_uri": "https://localhost:8080/",
          "height": 385
        },
        "id": "QD83iIC11FA1",
        "outputId": "8995f9a2-047e-4854-8b6e-aa5bb58a2724"
      },
      "outputs": [
        {
          "output_type": "stream",
          "name": "stdout",
          "text": [
            "Train f1-score 0.4358050104965361\n",
            "Test f1-score 0.4366710992944943\n"
          ]
        },
        {
          "output_type": "display_data",
          "data": {
            "text/plain": [
              "<Figure size 1080x360 with 4 Axes>"
            ],
            "image/png": "[encoded data removed]"
          },
          "metadata": {
            "needs_background": "light"
          }
        }
      ],
      "source": [
        "#creating random model\n",
        "test_data_len = X_te.shape[0]\n",
        "train_data_len = X_tr.shape[0]\n",
        "\n",
        "# we create a output array that has exactly same size as the CV data\n",
        "y_train_pred = np.zeros((train_data_len,1))\n",
        "for i in range(train_data_len):\n",
        "    rand_c = random.randint(0, 1)\n",
        "    y_train_pred[i] = (rand_c)\n",
        "print(\"Train f1-score\",f1_score(y_train,y_train_pred,average='macro'))\n",
        "y_test_pred = np.zeros((test_data_len,1))\n",
        "for i in range(test_data_len):\n",
        "    rand_c = random.randint(0, 1)\n",
        "    y_test_pred[i] = (rand_c)\n",
        "print(\"Test f1-score\",f1_score(y_test,y_test_pred,average='macro'))\n",
        "confusion_matrices_plot(y_train,y_train_pred,y_test,y_test_pred,'bs_rn.png')\n"
      ]
    },
    {
      "cell_type": "markdown",
      "metadata": {
        "id": "LSEI8dhXB994"
      },
      "source": [
        "### Naive Bayes Model"
      ]
    },
    {
      "cell_type": "code",
      "execution_count": null,
      "metadata": {
        "id": "pidUEjBUErCu"
      },
      "outputs": [],
      "source": [
        "from sklearn.preprocessing import MinMaxScaler\n",
        "scaler = MinMaxScaler()\n",
        "scaler.fit(X_tr.todense())\n",
        "X_tr = scaler.transform(X_tr.todense())"
      ]
    },
    {
      "cell_type": "code",
      "execution_count": null,
      "metadata": {
        "id": "IIsv_dDfFuq5"
      },
      "outputs": [],
      "source": [
        "scaler.fit(X_te.todense())\n",
        "X_te = scaler.transform(X_te.todense())"
      ]
    },
    {
      "cell_type": "code",
      "execution_count": null,
      "metadata": {
        "colab": {
          "base_uri": "https://localhost:8080/",
          "height": 469
        },
        "id": "U0J7Uw3knZQ5",
        "outputId": "3201c3b0-db0d-48b0-edaa-39c10d466a32"
      },
      "outputs": [
        {
          "output_type": "stream",
          "name": "stdout",
          "text": [
            "Alpha =  1e-05 Train Score 0.5891603452537357 test Score 0.5938052935662357\n",
            "Alpha =  0.0001 Train Score 0.5891603452537357 test Score 0.5938052935662357\n",
            "Alpha =  0.001 Train Score 0.5891603452537357 test Score 0.5938052935662357\n",
            "Alpha =  0.01 Train Score 0.5891603452537357 test Score 0.5938052935662357\n",
            "Alpha =  0.1 Train Score 0.5891259248346947 test Score 0.5937706855514657\n",
            "Alpha =  1 Train Score 0.5891259248346947 test Score 0.5937706855514657\n",
            "Alpha =  10 Train Score 0.5891434749528733 test Score 0.5937706855514657\n",
            "Alpha =  100 Train Score 0.5891083742182206 test Score 0.5936302447027362\n",
            "Alpha =  1000 Train Score 0.5844653116498433 test Score 0.5934548837856852\n"
          ]
        },
        {
          "output_type": "execute_result",
          "data": {
            "text/plain": [
              "Text(0.5, 1.0, 'Alpha vs Score')"
            ]
          },
          "metadata": {},
          "execution_count": 34
        },
        {
          "output_type": "display_data",
          "data": {
            "text/plain": [
              "<Figure size 432x288 with 1 Axes>"
            ],
            "image/png": "[encoded data removed]"
          },
          "metadata": {
            "needs_background": "light"
          }
        }
      ],
      "source": [
        "# Training naive bayes model and chekcing f1 score metric\n",
        "from sklearn.naive_bayes import MultinomialNB\n",
        "alpha = [10 ** x for x in range(-5, 4)]\n",
        "train_scores = [] # store train scores\n",
        "test_scores = [] # store test scores\n",
        "\n",
        "for i in alpha:\n",
        "    nb_cfl=MultinomialNB(alpha=i,fit_prior=False)\n",
        "    nb_cfl.fit(X_tr,y_train)\n",
        "    train_sc = f1_score(y_train,nb_cfl.predict(X_tr),average='macro')\n",
        "    test_sc = f1_score(y_test,nb_cfl.predict(X_te),average='macro')\n",
        "    test_scores.append(test_sc)\n",
        "    train_scores.append(train_sc)\n",
        "    print('Alpha = ',i,'Train Score',train_sc,'test Score',test_sc)\n",
        "    \n",
        "# plotting the scores vs parameters\n",
        "plt.plot(np.log(alpha),train_scores,label='Train Score',color='black')\n",
        "plt.plot(np.log(alpha),test_scores,label='Test Score',color='#425a90',alpha=0.5)\n",
        "plt.xlabel('Alpha')\n",
        "plt.ylabel('Score')\n",
        "plt.grid()\n",
        "plt.title('Alpha vs Score')"
      ]
    },
    {
      "cell_type": "code",
      "execution_count": null,
      "metadata": {
        "colab": {
          "base_uri": "https://localhost:8080/"
        },
        "id": "SxIIYETFGgJf",
        "outputId": "23dd0831-4ed5-4800-8ae3-aea45e4b4697"
      },
      "outputs": [
        {
          "output_type": "stream",
          "name": "stdout",
          "text": [
            "Fitting 5 folds for each of 9 candidates, totalling 45 fits\n",
            "mean test scores [0.58918093 0.58918093 0.58918093 0.58918093 0.5891384  0.58913024\n",
            " 0.58913024 0.58911273 0.51509946]\n",
            "mean train scores [0.58926211 0.58926211 0.58926211 0.58926211 0.58920615 0.58913934\n",
            " 0.58913936 0.58910865 0.5153343 ]\n"
          ]
        }
      ],
      "source": [
        "# Parameter tuning of naive bayes using RandomisedSearch CV technique\n",
        "clf = MultinomialNB( class_prior=np.array([0.5,0.5]),fit_prior=False)\n",
        "\n",
        " \n",
        "prams={ 'alpha': [10 ** x for x in range(-5, 4)] }\n",
        "\n",
        "nb_cfl = RandomizedSearchCV(clf,param_distributions=prams,verbose=10,scoring='f1_macro',n_jobs=-1,random_state=25,\n",
        "                               return_train_score=True)\n",
        "nb_cfl.fit(X_tr,y_train)\n",
        "\n",
        "print('mean test scores',nb_cfl.cv_results_['mean_test_score'])\n",
        "print('mean train scores',nb_cfl.cv_results_['mean_train_score'])"
      ]
    },
    {
      "cell_type": "code",
      "execution_count": null,
      "metadata": {
        "colab": {
          "base_uri": "https://localhost:8080/"
        },
        "id": "wQmnGqH_G29H",
        "outputId": "7ea2fce2-952d-44a6-90af-563a9d630826"
      },
      "outputs": [
        {
          "name": "stdout",
          "output_type": "stream",
          "text": [
            "Best Parameters:  {'alpha': 10}\n",
            "Best Score:  0.5781748042968806\n"
          ]
        }
      ],
      "source": [
        "# printing best parameters and score\n",
        "print(\"Best Parameters: \",nb_cfl.best_params_)\n",
        "print(\"Best Score: \",nb_cfl.best_score_)"
      ]
    },
    {
      "cell_type": "code",
      "execution_count": null,
      "metadata": {
        "colab": {
          "base_uri": "https://localhost:8080/"
        },
        "id": "ItFa56vZIOiE",
        "outputId": "4351a0d7-806c-4572-827a-87fd77c42e84"
      },
      "outputs": [
        {
          "output_type": "stream",
          "name": "stdout",
          "text": [
            "Train f1 score:  0.5891434749528733\n",
            "Test f1 score:  0.5937706855514657\n"
          ]
        }
      ],
      "source": [
        "# https://scikit-learn.org/stable/modules/generated/sklearn.metrics.roc_curve.html#sklearn.metrics.roc_curve\n",
        "from sklearn.metrics import roc_curve, auc\n",
        "clf = MultinomialNB(alpha = 10, class_prior=np.array([0.5,0.5]),fit_prior=False)\n",
        "clf.fit(X_tr, y_train)\n",
        "\n",
        "y_train_pred = clf.predict(X_tr)    \n",
        "y_test_pred = clf.predict(X_te)\n",
        "\n",
        "\n",
        "print('Train f1 score: ',f1_score(y_train,y_train_pred,average='macro'))\n",
        "print('Test f1 score: ',f1_score(y_test,y_test_pred,average='macro'))"
      ]
    },
    {
      "cell_type": "code",
      "execution_count": null,
      "metadata": {
        "colab": {
          "base_uri": "https://localhost:8080/",
          "height": 350
        },
        "id": "_y-uwdxBHYNz",
        "outputId": "85acca63-6268-40b2-f838-7680c40fd5e4"
      },
      "outputs": [
        {
          "output_type": "display_data",
          "data": {
            "text/plain": [
              "<Figure size 1080x360 with 4 Axes>"
            ],
            "image/png": "[encoded data removed]"
          },
          "metadata": {
            "needs_background": "light"
          }
        }
      ],
      "source": [
        "confusion_matrices_plot(y_train,y_train_pred,y_test,y_test_pred,'bs_nb.png')"
      ]
    },
    {
      "cell_type": "code",
      "execution_count": null,
      "metadata": {
        "id": "XjfDRXb3Ilz1"
      },
      "outputs": [],
      "source": []
    },
    {
      "cell_type": "markdown",
      "metadata": {
        "id": "e1f9_HFcHcum"
      },
      "source": [
        "### Logistic Regression Model"
      ]
    },
    {
      "cell_type": "code",
      "execution_count": null,
      "metadata": {
        "colab": {
          "base_uri": "https://localhost:8080/",
          "height": 469
        },
        "id": "ZCNEdcYQIl4b",
        "outputId": "44afdf11-cc98-4a82-99a2-e056de174625"
      },
      "outputs": [
        {
          "output_type": "stream",
          "name": "stdout",
          "text": [
            "Alpha =  1e-05 Train Score 0.7955813801305918 test Score 0.6161476741115062\n",
            "Alpha =  0.0001 Train Score 0.7908807534766533 test Score 0.8101568640403827\n",
            "Alpha =  0.001 Train Score 0.6027399466880193 test Score 0.7086059943654911\n",
            "Alpha =  0.01 Train Score 0.5182516302090214 test Score 0.5336486294232773\n",
            "Alpha =  0.1 Train Score 0.45634577741725 test Score 0.45634948625708305\n",
            "Alpha =  1 Train Score 0.45634577741725 test Score 0.45634948625708305\n",
            "Alpha =  10 Train Score 0.45634577741725 test Score 0.45634948625708305\n",
            "Alpha =  100 Train Score 0.45634577741725 test Score 0.45634948625708305\n",
            "Alpha =  1000 Train Score 0.45634577741725 test Score 0.45634948625708305\n"
          ]
        },
        {
          "output_type": "execute_result",
          "data": {
            "text/plain": [
              "Text(0.5, 1.0, 'Alpha vs Score')"
            ]
          },
          "metadata": {},
          "execution_count": 38
        },
        {
          "output_type": "display_data",
          "data": {
            "text/plain": [
              "<Figure size 432x288 with 1 Axes>"
            ],
            "image/png": "[encoded data removed]"
          },
          "metadata": {
            "needs_background": "light"
          }
        }
      ],
      "source": [
        "# Training Logistic regression model and chekcing f1 score metric\n",
        "alpha = [10 ** x for x in range(-5, 4)]\n",
        "train_scores = [] # store train scores\n",
        "test_scores = [] # store test scores\n",
        "\n",
        "for i in alpha:\n",
        "    lr = SGDClassifier(loss='log', penalty='l2', alpha=i, n_jobs=-1, random_state=25)\n",
        "    lr.fit(X_tr,y_train)\n",
        "    train_sc = f1_score(y_train,lr.predict(X_tr),average='macro')\n",
        "    test_sc = f1_score(y_test,lr.predict(X_te),average='macro')\n",
        "    test_scores.append(test_sc)\n",
        "    train_scores.append(train_sc)\n",
        "    print('Alpha = ',i,'Train Score',train_sc,'test Score',test_sc)\n",
        "    \n",
        "# plotting the scores vs parameters\n",
        "plt.plot(np.log(alpha),train_scores,label='Train Score',color='black')\n",
        "plt.plot(np.log(alpha),test_scores,label='Test Score',color='#000080',alpha=0.7)\n",
        "plt.xlabel('Alpha')\n",
        "plt.ylabel('Score')\n",
        "plt.grid()\n",
        "plt.title('Alpha vs Score')"
      ]
    },
    {
      "cell_type": "code",
      "execution_count": null,
      "metadata": {
        "colab": {
          "base_uri": "https://localhost:8080/"
        },
        "id": "osv9kXAyIl9G",
        "outputId": "3f096e66-b65e-4e4a-b3a2-d62622019eb2"
      },
      "outputs": [
        {
          "name": "stdout",
          "output_type": "stream",
          "text": [
            "Fitting 5 folds for each of 9 candidates, totalling 45 fits\n"
          ]
        },
        {
          "name": "stderr",
          "output_type": "stream",
          "text": [
            "[Parallel(n_jobs=-1)]: Using backend LokyBackend with 2 concurrent workers.\n",
            "[Parallel(n_jobs=-1)]: Done   1 tasks      | elapsed:   14.2s\n",
            "[Parallel(n_jobs=-1)]: Done   4 tasks      | elapsed:   32.5s\n",
            "[Parallel(n_jobs=-1)]: Done   9 tasks      | elapsed:   48.7s\n",
            "[Parallel(n_jobs=-1)]: Done  14 tasks      | elapsed:   55.2s\n",
            "[Parallel(n_jobs=-1)]: Done  21 tasks      | elapsed:  1.0min\n",
            "[Parallel(n_jobs=-1)]: Done  28 tasks      | elapsed:  1.1min\n",
            "[Parallel(n_jobs=-1)]: Done  37 tasks      | elapsed:  1.2min\n",
            "[Parallel(n_jobs=-1)]: Done  45 out of  45 | elapsed:  1.3min finished\n"
          ]
        },
        {
          "name": "stdout",
          "output_type": "stream",
          "text": [
            "mean test scores [0.77745235 0.68812959 0.61063596 0.51191047 0.46088499 0.46088499\n",
            " 0.46088499 0.46088499 0.46088499]\n",
            "mean train scores [0.78603913 0.69077989 0.61161072 0.51202548 0.46088499 0.46088499\n",
            " 0.46088499 0.46088499 0.46088499]\n"
          ]
        }
      ],
      "source": [
        "# Parameter tuning of Logistic regression using RandomisedSearch CV technique\n",
        "sgd = SGDClassifier(loss='log', n_jobs=-1, random_state=25)\n",
        " \n",
        "prams={ 'alpha': [10 ** x for x in range(-5, 4)] }\n",
        "\n",
        "random_cfl1 = RandomizedSearchCV(sgd,param_distributions=prams,verbose=10,scoring='f1_macro',n_jobs=-1,random_state=25,\n",
        "                               return_train_score=True)\n",
        "random_cfl1.fit(X_tr,y_train)\n",
        "\n",
        "print('mean test scores',random_cfl1.cv_results_['mean_test_score'])\n",
        "print('mean train scores',random_cfl1.cv_results_['mean_train_score'])"
      ]
    },
    {
      "cell_type": "code",
      "execution_count": null,
      "metadata": {
        "id": "crADDWjAGemm"
      },
      "outputs": [],
      "source": []
    },
    {
      "cell_type": "code",
      "execution_count": null,
      "metadata": {
        "colab": {
          "base_uri": "https://localhost:8080/"
        },
        "id": "zeUgOsBaKChv",
        "outputId": "3f849083-83b3-4f09-c1fd-fe5830deed3b"
      },
      "outputs": [
        {
          "name": "stdout",
          "output_type": "stream",
          "text": [
            "Best Parameters:  {'alpha': 1e-05}\n",
            "Best Score:  0.777452354036805\n"
          ]
        }
      ],
      "source": [
        "# printing best parameters and score\n",
        "print(\"Best Parameters: \",random_cfl1.best_params_)\n",
        "print(\"Best Score: \",random_cfl1.best_score_)"
      ]
    },
    {
      "cell_type": "code",
      "execution_count": null,
      "metadata": {
        "colab": {
          "base_uri": "https://localhost:8080/"
        },
        "id": "Es8eZnILKJhU",
        "outputId": "72fbe65a-9f3e-4de0-bb45-374807aca7ab"
      },
      "outputs": [
        {
          "name": "stdout",
          "output_type": "stream",
          "text": [
            "Train f1 score:  0.8032754835521972\n",
            "Test f1 score:  0.787471966907421\n"
          ]
        }
      ],
      "source": [
        "# Fitting LogisticRegression mpdel on best parameters\n",
        "sgd = SGDClassifier(loss='log', alpha=1e-05, n_jobs=-1, random_state=25)\n",
        "sgd.fit(X_tr,y_train)\n",
        "\n",
        "y_train_pred = sgd.predict(X_tr)\n",
        "y_test_pred = sgd.predict(X_te)\n",
        "\n",
        "# printing train and test scores \n",
        "print('Train f1 score: ',f1_score(y_train,y_train_pred,average='macro'))\n",
        "print('Test f1 score: ',f1_score(y_test,y_test_pred,average='macro'))"
      ]
    },
    {
      "cell_type": "code",
      "execution_count": null,
      "metadata": {
        "colab": {
          "base_uri": "https://localhost:8080/",
          "height": 350
        },
        "id": "qFY6DXriKJlX",
        "outputId": "3323ae1c-b5b4-41a1-dce2-9a04d7b153e8"
      },
      "outputs": [
        {
          "data": {
            "image/png": "[encoded data removed]",
            "text/plain": [
              "<Figure size 1080x360 with 4 Axes>"
            ]
          },
          "metadata": {
            "tags": []
          },
          "output_type": "display_data"
        }
      ],
      "source": [
        "confusion_matrices_plot(y_train,y_train_pred,y_test,y_test_pred,'bs_lr.png')"
      ]
    },
    {
      "cell_type": "markdown",
      "metadata": {
        "id": "PJbTjr0u05z3"
      },
      "source": [
        "Observation(s):\n",
        "* Total 13 numerical features and 4 categorical features are taken. \n",
        "* Logistic Regression Model is performing better than the other models.\n",
        "* Logistic Regression Model is choosen as a baseline model(randomly).\n",
        "* LR Model Scores: train f1-score = 0.8032754835521972 and test f1_score = 0.787471966907421\n",
        "* From the both train amnd tesr confusion matrix ,we can observe that the False Psitive and False Negative values are still very large lets try to reduce these values by adding some features and through feacure selection methods."
      ]
    },
    {
      "cell_type": "markdown",
      "metadata": {
        "id": "dWA54OcW7PFX"
      },
      "source": [
        "#4.Feature Engineering"
      ]
    },
    {
      "cell_type": "markdown",
      "metadata": {
        "id": "sAq-teWKN5vK"
      },
      "source": [
        "From the existing solution\n",
        "1. **Sellers Count**: Total number of sellers per product (Numerical feat.).\n",
        "2. **Products count**: Total number of products ordered per order (Numerical feat.).\n",
        "3. **Estimated Delivery Time(in number of days)**: Estimated number of days tto deliver the producti.e (order_approval_date - order_estimated_delivery_date)(Numerical feat.).\n",
        "4. **Actual Delivery Time**: Actual number of days taken to deliver the product(Numerical feat.).\n",
        "5. **Difference in delivery days**:- Difference between the actual and estimated date(Numerical feat.).``` Negative : delivered early ,positive : delivered late.```\n",
        "\n",
        "6. **Is Late**:- If delivered late then True else False (Binary).\n",
        "\n",
        "7. **Average Product Value**:- Cheaper products might have lower quality, leaving customers unhappy (Numerical feat.).\n",
        "8. **Total Order Value**:- If a customer expends more, he might expect a better order fulfilment(Numerical feat.).\n",
        "9. **Order Freight Ratio**:- If a customer pays more for freight, he might expect a better service(Numerical feat.).\n",
        "10. **Purchase Day of Week**:- Day of week on which purchase was made(Numerical feat.).\n",
        "11. **is_reviewed**:- If the review comment is given or not.\n",
        "\n",
        "other:\n",
        "\n",
        "12. **Recency** : number of days since the last purchase(present date -last ordered date)(Numerical feat.).\n",
        "13. **Frequency** : number of transactions made over the period(present date -last ordered date)(Numerical feat.).\n",
        "14. **Monetary** : amount spent over a given period time (Numerical feat.)\n",
        "15. **RFM Levels** :Behavioral segmentations using above three features (Categorical).\n",
        "16. **words per review** : Total number of words per review (Numerical feat.)."
      ]
    },
    {
      "cell_type": "code",
      "execution_count": null,
      "metadata": {
        "colab": {
          "base_uri": "https://localhost:8080/",
          "height": 386
        },
        "id": "emG2nE9lNRdm",
        "outputId": "328fc496-9266-41b4-c424-ff0e9bd03e38"
      },
      "outputs": [
        {
          "output_type": "execute_result",
          "data": {
            "text/plain": [
              "                           order_id                       customer_id  \\\n",
              "0  e481f51cbdc54678b7cc49136f2d6af7  9ef432eb6251297304e76186b10a928d   \n",
              "1  e481f51cbdc54678b7cc49136f2d6af7  9ef432eb6251297304e76186b10a928d   \n",
              "2  e481f51cbdc54678b7cc49136f2d6af7  9ef432eb6251297304e76186b10a928d   \n",
              "3  128e10d95713541c87cd1a2e48201934  a20e8105f23924cd00833fd87daa0831   \n",
              "4  0e7e841ddf8f8f2de2bad69267ecfbcf  26c7ac168e1433912a51b924fbd34d34   \n",
              "\n",
              "  order_status order_purchase_timestamp   order_approved_at  \\\n",
              "0    delivered      2017-10-02 10:56:33 2017-10-02 11:07:15   \n",
              "1    delivered      2017-10-02 10:56:33 2017-10-02 11:07:15   \n",
              "2    delivered      2017-10-02 10:56:33 2017-10-02 11:07:15   \n",
              "3    delivered      2017-08-15 18:29:31 2017-08-15 20:05:16   \n",
              "4    delivered      2017-08-02 18:24:47 2017-08-02 18:43:15   \n",
              "\n",
              "  order_delivered_customer_date order_estimated_delivery_date  \\\n",
              "0           2017-10-10 21:25:13                    2017-10-18   \n",
              "1           2017-10-10 21:25:13                    2017-10-18   \n",
              "2           2017-10-10 21:25:13                    2017-10-18   \n",
              "3           2017-08-18 14:44:43                    2017-08-28   \n",
              "4           2017-08-07 18:30:01                    2017-08-15   \n",
              "\n",
              "   payment_sequential payment_type  payment_installments  ...  \\\n",
              "0                   1  credit_card                     1  ...   \n",
              "1                   3      voucher                     1  ...   \n",
              "2                   2      voucher                     1  ...   \n",
              "3                   1  credit_card                     3  ...   \n",
              "4                   1  credit_card                     1  ...   \n",
              "\n",
              "   product_name_lenght product_description_lenght  product_photos_qty  \\\n",
              "0                 40.0                      268.0                 4.0   \n",
              "1                 40.0                      268.0                 4.0   \n",
              "2                 40.0                      268.0                 4.0   \n",
              "3                 40.0                      268.0                 4.0   \n",
              "4                 40.0                      268.0                 4.0   \n",
              "\n",
              "  product_weight_g product_length_cm  product_height_cm product_width_cm  \\\n",
              "0            500.0              19.0                8.0             13.0   \n",
              "1            500.0              19.0                8.0             13.0   \n",
              "2            500.0              19.0                8.0             13.0   \n",
              "3            500.0              19.0                8.0             13.0   \n",
              "4            500.0              19.0                8.0             13.0   \n",
              "\n",
              "  product_category_name_english review_score  \\\n",
              "0                    housewares            1   \n",
              "1                    housewares            1   \n",
              "2                    housewares            1   \n",
              "3                    housewares            1   \n",
              "4                    housewares            1   \n",
              "\n",
              "                              review_comment_message  \n",
              "0  Não testei o produto ainda, mas ele veio corre...  \n",
              "1  Não testei o produto ainda, mas ele veio corre...  \n",
              "2  Não testei o produto ainda, mas ele veio corre...  \n",
              "3  Deveriam embalar melhor o produto. A caixa vei...  \n",
              "4  Só achei ela pequena pra seis xícaras ,mais é ...  \n",
              "\n",
              "[5 rows x 32 columns]"
            ],
            "text/html": [
              "\n",
              "  <div id=\"df-5d7e6a15-95ac-4c61-8a67-52af9fd3e12c\">\n",
              "    <div class=\"colab-df-container\">\n",
              "      <div>\n",
              "<style scoped>\n",
              "    .dataframe tbody tr th:only-of-type {\n",
              "        vertical-align: middle;\n",
              "    }\n",
              "\n",
              "    .dataframe tbody tr th {\n",
              "        vertical-align: top;\n",
              "    }\n",
              "\n",
              "    .dataframe thead th {\n",
              "        text-align: right;\n",
              "    }\n",
              "</style>\n",
              "<table border=\"1\" class=\"dataframe\">\n",
              "  <thead>\n",
              "    <tr style=\"text-align: right;\">\n",
              "      <th></th>\n",
              "      <th>order_id</th>\n",
              "      <th>customer_id</th>\n",
              "      <th>order_status</th>\n",
              "      <th>order_purchase_timestamp</th>\n",
              "      <th>order_approved_at</th>\n",
              "      <th>order_delivered_customer_date</th>\n",
              "      <th>order_estimated_delivery_date</th>\n",
              "      <th>payment_sequential</th>\n",
              "      <th>payment_type</th>\n",
              "      <th>payment_installments</th>\n",
              "      <th>...</th>\n",
              "      <th>product_name_lenght</th>\n",
              "      <th>product_description_lenght</th>\n",
              "      <th>product_photos_qty</th>\n",
              "      <th>product_weight_g</th>\n",
              "      <th>product_length_cm</th>\n",
              "      <th>product_height_cm</th>\n",
              "      <th>product_width_cm</th>\n",
              "      <th>product_category_name_english</th>\n",
              "      <th>review_score</th>\n",
              "      <th>review_comment_message</th>\n",
              "    </tr>\n",
              "  </thead>\n",
              "  <tbody>\n",
              "    <tr>\n",
              "      <th>0</th>\n",
              "      <td>e481f51cbdc54678b7cc49136f2d6af7</td>\n",
              "      <td>9ef432eb6251297304e76186b10a928d</td>\n",
              "      <td>delivered</td>\n",
              "      <td>2017-10-02 10:56:33</td>\n",
              "      <td>2017-10-02 11:07:15</td>\n",
              "      <td>2017-10-10 21:25:13</td>\n",
              "      <td>2017-10-18</td>\n",
              "      <td>1</td>\n",
              "      <td>credit_card</td>\n",
              "      <td>1</td>\n",
              "      <td>...</td>\n",
              "      <td>40.0</td>\n",
              "      <td>268.0</td>\n",
              "      <td>4.0</td>\n",
              "      <td>500.0</td>\n",
              "      <td>19.0</td>\n",
              "      <td>8.0</td>\n",
              "      <td>13.0</td>\n",
              "      <td>housewares</td>\n",
              "      <td>1</td>\n",
              "      <td>Não testei o produto ainda, mas ele veio corre...</td>\n",
              "    </tr>\n",
              "    <tr>\n",
              "      <th>1</th>\n",
              "      <td>e481f51cbdc54678b7cc49136f2d6af7</td>\n",
              "      <td>9ef432eb6251297304e76186b10a928d</td>\n",
              "      <td>delivered</td>\n",
              "      <td>2017-10-02 10:56:33</td>\n",
              "      <td>2017-10-02 11:07:15</td>\n",
              "      <td>2017-10-10 21:25:13</td>\n",
              "      <td>2017-10-18</td>\n",
              "      <td>3</td>\n",
              "      <td>voucher</td>\n",
              "      <td>1</td>\n",
              "      <td>...</td>\n",
              "      <td>40.0</td>\n",
              "      <td>268.0</td>\n",
              "      <td>4.0</td>\n",
              "      <td>500.0</td>\n",
              "      <td>19.0</td>\n",
              "      <td>8.0</td>\n",
              "      <td>13.0</td>\n",
              "      <td>housewares</td>\n",
              "      <td>1</td>\n",
              "      <td>Não testei o produto ainda, mas ele veio corre...</td>\n",
              "    </tr>\n",
              "    <tr>\n",
              "      <th>2</th>\n",
              "      <td>e481f51cbdc54678b7cc49136f2d6af7</td>\n",
              "      <td>9ef432eb6251297304e76186b10a928d</td>\n",
              "      <td>delivered</td>\n",
              "      <td>2017-10-02 10:56:33</td>\n",
              "      <td>2017-10-02 11:07:15</td>\n",
              "      <td>2017-10-10 21:25:13</td>\n",
              "      <td>2017-10-18</td>\n",
              "      <td>2</td>\n",
              "      <td>voucher</td>\n",
              "      <td>1</td>\n",
              "      <td>...</td>\n",
              "      <td>40.0</td>\n",
              "      <td>268.0</td>\n",
              "      <td>4.0</td>\n",
              "      <td>500.0</td>\n",
              "      <td>19.0</td>\n",
              "      <td>8.0</td>\n",
              "      <td>13.0</td>\n",
              "      <td>housewares</td>\n",
              "      <td>1</td>\n",
              "      <td>Não testei o produto ainda, mas ele veio corre...</td>\n",
              "    </tr>\n",
              "    <tr>\n",
              "      <th>3</th>\n",
              "      <td>128e10d95713541c87cd1a2e48201934</td>\n",
              "      <td>a20e8105f23924cd00833fd87daa0831</td>\n",
              "      <td>delivered</td>\n",
              "      <td>2017-08-15 18:29:31</td>\n",
              "      <td>2017-08-15 20:05:16</td>\n",
              "      <td>2017-08-18 14:44:43</td>\n",
              "      <td>2017-08-28</td>\n",
              "      <td>1</td>\n",
              "      <td>credit_card</td>\n",
              "      <td>3</td>\n",
              "      <td>...</td>\n",
              "      <td>40.0</td>\n",
              "      <td>268.0</td>\n",
              "      <td>4.0</td>\n",
              "      <td>500.0</td>\n",
              "      <td>19.0</td>\n",
              "      <td>8.0</td>\n",
              "      <td>13.0</td>\n",
              "      <td>housewares</td>\n",
              "      <td>1</td>\n",
              "      <td>Deveriam embalar melhor o produto. A caixa vei...</td>\n",
              "    </tr>\n",
              "    <tr>\n",
              "      <th>4</th>\n",
              "      <td>0e7e841ddf8f8f2de2bad69267ecfbcf</td>\n",
              "      <td>26c7ac168e1433912a51b924fbd34d34</td>\n",
              "      <td>delivered</td>\n",
              "      <td>2017-08-02 18:24:47</td>\n",
              "      <td>2017-08-02 18:43:15</td>\n",
              "      <td>2017-08-07 18:30:01</td>\n",
              "      <td>2017-08-15</td>\n",
              "      <td>1</td>\n",
              "      <td>credit_card</td>\n",
              "      <td>1</td>\n",
              "      <td>...</td>\n",
              "      <td>40.0</td>\n",
              "      <td>268.0</td>\n",
              "      <td>4.0</td>\n",
              "      <td>500.0</td>\n",
              "      <td>19.0</td>\n",
              "      <td>8.0</td>\n",
              "      <td>13.0</td>\n",
              "      <td>housewares</td>\n",
              "      <td>1</td>\n",
              "      <td>Só achei ela pequena pra seis xícaras ,mais é ...</td>\n",
              "    </tr>\n",
              "  </tbody>\n",
              "</table>\n",
              "<p>5 rows × 32 columns</p>\n",
              "</div>\n",
              "      <button class=\"colab-df-convert\" onclick=\"convertToInteractive('df-5d7e6a15-95ac-4c61-8a67-52af9fd3e12c')\"\n",
              "              title=\"Convert this dataframe to an interactive table.\"\n",
              "              style=\"display:none;\">\n",
              "        \n",
              "  <svg xmlns=\"http://www.w3.org/2000/svg\" height=\"24px\"viewBox=\"0 0 24 24\"\n",
              "       width=\"24px\">\n",
              "    <path d=\"M0 0h24v24H0V0z\" fill=\"none\"/>\n",
              "    <path d=\"M18.56 5.44l.94 2.06.94-2.06 2.06-.94-2.06-.94-.94-2.06-.94 2.06-2.06.94zm-11 1L8.5 8.5l.94-2.06 2.06-.94-2.06-.94L8.5 2.5l-.94 2.06-2.06.94zm10 10l.94 2.06.94-2.06 2.06-.94-2.06-.94-.94-2.06-.94 2.06-2.06.94z\"/><path d=\"M17.41 7.96l-1.37-1.37c-.4-.4-.92-.59-1.43-.59-.52 0-1.04.2-1.43.59L10.3 9.45l-7.72 7.72c-.78.78-.78 2.05 0 2.83L4 21.41c.39.39.9.59 1.41.59.51 0 1.02-.2 1.41-.59l7.78-7.78 2.81-2.81c.8-.78.8-2.07 0-2.86zM5.41 20L4 18.59l7.72-7.72 1.47 1.35L5.41 20z\"/>\n",
              "  </svg>\n",
              "      </button>\n",
              "      \n",
              "  <style>\n",
              "    .colab-df-container {\n",
              "      display:flex;\n",
              "      flex-wrap:wrap;\n",
              "      gap: 12px;\n",
              "    }\n",
              "\n",
              "    .colab-df-convert {\n",
              "      background-color: #E8F0FE;\n",
              "      border: none;\n",
              "      border-radius: 50%;\n",
              "      cursor: pointer;\n",
              "      display: none;\n",
              "      fill: #1967D2;\n",
              "      height: 32px;\n",
              "      padding: 0 0 0 0;\n",
              "      width: 32px;\n",
              "    }\n",
              "\n",
              "    .colab-df-convert:hover {\n",
              "      background-color: #E2EBFA;\n",
              "      box-shadow: 0px 1px 2px rgba(60, 64, 67, 0.3), 0px 1px 3px 1px rgba(60, 64, 67, 0.15);\n",
              "      fill: #174EA6;\n",
              "    }\n",
              "\n",
              "    [theme=dark] .colab-df-convert {\n",
              "      background-color: #3B4455;\n",
              "      fill: #D2E3FC;\n",
              "    }\n",
              "\n",
              "    [theme=dark] .colab-df-convert:hover {\n",
              "      background-color: #434B5C;\n",
              "      box-shadow: 0px 1px 3px 1px rgba(0, 0, 0, 0.15);\n",
              "      filter: drop-shadow(0px 1px 2px rgba(0, 0, 0, 0.3));\n",
              "      fill: #FFFFFF;\n",
              "    }\n",
              "  </style>\n",
              "\n",
              "      <script>\n",
              "        const buttonEl =\n",
              "          document.querySelector('#df-5d7e6a15-95ac-4c61-8a67-52af9fd3e12c button.colab-df-convert');\n",
              "        buttonEl.style.display =\n",
              "          google.colab.kernel.accessAllowed ? 'block' : 'none';\n",
              "\n",
              "        async function convertToInteractive(key) {\n",
              "          const element = document.querySelector('#df-5d7e6a15-95ac-4c61-8a67-52af9fd3e12c');\n",
              "          const dataTable =\n",
              "            await google.colab.kernel.invokeFunction('convertToInteractive',\n",
              "                                                     [key], {});\n",
              "          if (!dataTable) return;\n",
              "\n",
              "          const docLinkHtml = 'Like what you see? Visit the ' +\n",
              "            '<a target=\"_blank\" href=https://colab.research.google.com/notebooks/data_table.ipynb>data table notebook</a>'\n",
              "            + ' to learn more about interactive tables.';\n",
              "          element.innerHTML = '';\n",
              "          dataTable['output_type'] = 'display_data';\n",
              "          await google.colab.output.renderOutput(dataTable, element);\n",
              "          const docLink = document.createElement('div');\n",
              "          docLink.innerHTML = docLinkHtml;\n",
              "          element.appendChild(docLink);\n",
              "        }\n",
              "      </script>\n",
              "    </div>\n",
              "  </div>\n",
              "  "
            ]
          },
          "metadata": {},
          "execution_count": 40
        }
      ],
      "source": [
        "data_n = pd.read_pickle('/content/drive/MyDrive/final.pkl')\n",
        "data_n.head()"
      ]
    },
    {
      "cell_type": "code",
      "execution_count": null,
      "metadata": {
        "colab": {
          "base_uri": "https://localhost:8080/",
          "height": 206
        },
        "id": "8CMOUgAiOdvt",
        "outputId": "ff6721d6-48cd-4765-b6c6-9bb12350f50c"
      },
      "outputs": [
        {
          "output_type": "execute_result",
          "data": {
            "text/plain": [
              "                         product_id  sellers_count\n",
              "0  00066f42aeeb9f3007548bb9d3f33c38              1\n",
              "1  00088930e925c41fd95ebfe695fd2655              1\n",
              "2  0009406fd7479715e4bef61dd91f2462              1\n",
              "3  000b8f95fcb9e0096488278317764d19              2\n",
              "4  000d9be29b5207b54e86aa1b1ac54872              1"
            ],
            "text/html": [
              "\n",
              "  <div id=\"df-e1105641-9826-42be-983c-3d6d6339cb25\">\n",
              "    <div class=\"colab-df-container\">\n",
              "      <div>\n",
              "<style scoped>\n",
              "    .dataframe tbody tr th:only-of-type {\n",
              "        vertical-align: middle;\n",
              "    }\n",
              "\n",
              "    .dataframe tbody tr th {\n",
              "        vertical-align: top;\n",
              "    }\n",
              "\n",
              "    .dataframe thead th {\n",
              "        text-align: right;\n",
              "    }\n",
              "</style>\n",
              "<table border=\"1\" class=\"dataframe\">\n",
              "  <thead>\n",
              "    <tr style=\"text-align: right;\">\n",
              "      <th></th>\n",
              "      <th>product_id</th>\n",
              "      <th>sellers_count</th>\n",
              "    </tr>\n",
              "  </thead>\n",
              "  <tbody>\n",
              "    <tr>\n",
              "      <th>0</th>\n",
              "      <td>00066f42aeeb9f3007548bb9d3f33c38</td>\n",
              "      <td>1</td>\n",
              "    </tr>\n",
              "    <tr>\n",
              "      <th>1</th>\n",
              "      <td>00088930e925c41fd95ebfe695fd2655</td>\n",
              "      <td>1</td>\n",
              "    </tr>\n",
              "    <tr>\n",
              "      <th>2</th>\n",
              "      <td>0009406fd7479715e4bef61dd91f2462</td>\n",
              "      <td>1</td>\n",
              "    </tr>\n",
              "    <tr>\n",
              "      <th>3</th>\n",
              "      <td>000b8f95fcb9e0096488278317764d19</td>\n",
              "      <td>2</td>\n",
              "    </tr>\n",
              "    <tr>\n",
              "      <th>4</th>\n",
              "      <td>000d9be29b5207b54e86aa1b1ac54872</td>\n",
              "      <td>1</td>\n",
              "    </tr>\n",
              "  </tbody>\n",
              "</table>\n",
              "</div>\n",
              "      <button class=\"colab-df-convert\" onclick=\"convertToInteractive('df-e1105641-9826-42be-983c-3d6d6339cb25')\"\n",
              "              title=\"Convert this dataframe to an interactive table.\"\n",
              "              style=\"display:none;\">\n",
              "        \n",
              "  <svg xmlns=\"http://www.w3.org/2000/svg\" height=\"24px\"viewBox=\"0 0 24 24\"\n",
              "       width=\"24px\">\n",
              "    <path d=\"M0 0h24v24H0V0z\" fill=\"none\"/>\n",
              "    <path d=\"M18.56 5.44l.94 2.06.94-2.06 2.06-.94-2.06-.94-.94-2.06-.94 2.06-2.06.94zm-11 1L8.5 8.5l.94-2.06 2.06-.94-2.06-.94L8.5 2.5l-.94 2.06-2.06.94zm10 10l.94 2.06.94-2.06 2.06-.94-2.06-.94-.94-2.06-.94 2.06-2.06.94z\"/><path d=\"M17.41 7.96l-1.37-1.37c-.4-.4-.92-.59-1.43-.59-.52 0-1.04.2-1.43.59L10.3 9.45l-7.72 7.72c-.78.78-.78 2.05 0 2.83L4 21.41c.39.39.9.59 1.41.59.51 0 1.02-.2 1.41-.59l7.78-7.78 2.81-2.81c.8-.78.8-2.07 0-2.86zM5.41 20L4 18.59l7.72-7.72 1.47 1.35L5.41 20z\"/>\n",
              "  </svg>\n",
              "      </button>\n",
              "      \n",
              "  <style>\n",
              "    .colab-df-container {\n",
              "      display:flex;\n",
              "      flex-wrap:wrap;\n",
              "      gap: 12px;\n",
              "    }\n",
              "\n",
              "    .colab-df-convert {\n",
              "      background-color: #E8F0FE;\n",
              "      border: none;\n",
              "      border-radius: 50%;\n",
              "      cursor: pointer;\n",
              "      display: none;\n",
              "      fill: #1967D2;\n",
              "      height: 32px;\n",
              "      padding: 0 0 0 0;\n",
              "      width: 32px;\n",
              "    }\n",
              "\n",
              "    .colab-df-convert:hover {\n",
              "      background-color: #E2EBFA;\n",
              "      box-shadow: 0px 1px 2px rgba(60, 64, 67, 0.3), 0px 1px 3px 1px rgba(60, 64, 67, 0.15);\n",
              "      fill: #174EA6;\n",
              "    }\n",
              "\n",
              "    [theme=dark] .colab-df-convert {\n",
              "      background-color: #3B4455;\n",
              "      fill: #D2E3FC;\n",
              "    }\n",
              "\n",
              "    [theme=dark] .colab-df-convert:hover {\n",
              "      background-color: #434B5C;\n",
              "      box-shadow: 0px 1px 3px 1px rgba(0, 0, 0, 0.15);\n",
              "      filter: drop-shadow(0px 1px 2px rgba(0, 0, 0, 0.3));\n",
              "      fill: #FFFFFF;\n",
              "    }\n",
              "  </style>\n",
              "\n",
              "      <script>\n",
              "        const buttonEl =\n",
              "          document.querySelector('#df-e1105641-9826-42be-983c-3d6d6339cb25 button.colab-df-convert');\n",
              "        buttonEl.style.display =\n",
              "          google.colab.kernel.accessAllowed ? 'block' : 'none';\n",
              "\n",
              "        async function convertToInteractive(key) {\n",
              "          const element = document.querySelector('#df-e1105641-9826-42be-983c-3d6d6339cb25');\n",
              "          const dataTable =\n",
              "            await google.colab.kernel.invokeFunction('convertToInteractive',\n",
              "                                                     [key], {});\n",
              "          if (!dataTable) return;\n",
              "\n",
              "          const docLinkHtml = 'Like what you see? Visit the ' +\n",
              "            '<a target=\"_blank\" href=https://colab.research.google.com/notebooks/data_table.ipynb>data table notebook</a>'\n",
              "            + ' to learn more about interactive tables.';\n",
              "          element.innerHTML = '';\n",
              "          dataTable['output_type'] = 'display_data';\n",
              "          await google.colab.output.renderOutput(dataTable, element);\n",
              "          const docLink = document.createElement('div');\n",
              "          docLink.innerHTML = docLinkHtml;\n",
              "          element.appendChild(docLink);\n",
              "        }\n",
              "      </script>\n",
              "    </div>\n",
              "  </div>\n",
              "  "
            ]
          },
          "metadata": {},
          "execution_count": 41
        }
      ],
      "source": [
        "#sellers count for each product\n",
        "fea_1= data_n.groupby('product_id').count()['seller_id']\n",
        "fea_1_df = pd.DataFrame()\n",
        "fea_1_df['product_id']= fea_1.index\n",
        "fea_1_df['sellers_count']= fea_1.values\n",
        "fea_1_df.head()"
      ]
    },
    {
      "cell_type": "code",
      "execution_count": null,
      "metadata": {
        "id": "r0ASUpFuqe7X"
      },
      "outputs": [],
      "source": []
    },
    {
      "cell_type": "code",
      "execution_count": null,
      "metadata": {
        "colab": {
          "base_uri": "https://localhost:8080/",
          "height": 206
        },
        "id": "RWRYBZ8M5P4N",
        "outputId": "c2336dce-7f23-4dfd-d060-8f2ccf854490"
      },
      "outputs": [
        {
          "output_type": "execute_result",
          "data": {
            "text/plain": [
              "                           order_id  products_count\n",
              "0  00010242fe8c5a6d1ba2dd792cb16214               1\n",
              "1  00018f77f2f0320c557190d7a144bdd3               1\n",
              "2  000229ec398224ef6ca0657da4fc703e               1\n",
              "3  00024acbcdf0a6daa1e931b038114c75               1\n",
              "4  00042b26cf59d7ce69dfabb4e55b4fd9               1"
            ],
            "text/html": [
              "\n",
              "  <div id=\"df-2ddc1919-d397-47b5-b1a1-4e85d3f05c87\">\n",
              "    <div class=\"colab-df-container\">\n",
              "      <div>\n",
              "<style scoped>\n",
              "    .dataframe tbody tr th:only-of-type {\n",
              "        vertical-align: middle;\n",
              "    }\n",
              "\n",
              "    .dataframe tbody tr th {\n",
              "        vertical-align: top;\n",
              "    }\n",
              "\n",
              "    .dataframe thead th {\n",
              "        text-align: right;\n",
              "    }\n",
              "</style>\n",
              "<table border=\"1\" class=\"dataframe\">\n",
              "  <thead>\n",
              "    <tr style=\"text-align: right;\">\n",
              "      <th></th>\n",
              "      <th>order_id</th>\n",
              "      <th>products_count</th>\n",
              "    </tr>\n",
              "  </thead>\n",
              "  <tbody>\n",
              "    <tr>\n",
              "      <th>0</th>\n",
              "      <td>00010242fe8c5a6d1ba2dd792cb16214</td>\n",
              "      <td>1</td>\n",
              "    </tr>\n",
              "    <tr>\n",
              "      <th>1</th>\n",
              "      <td>00018f77f2f0320c557190d7a144bdd3</td>\n",
              "      <td>1</td>\n",
              "    </tr>\n",
              "    <tr>\n",
              "      <th>2</th>\n",
              "      <td>000229ec398224ef6ca0657da4fc703e</td>\n",
              "      <td>1</td>\n",
              "    </tr>\n",
              "    <tr>\n",
              "      <th>3</th>\n",
              "      <td>00024acbcdf0a6daa1e931b038114c75</td>\n",
              "      <td>1</td>\n",
              "    </tr>\n",
              "    <tr>\n",
              "      <th>4</th>\n",
              "      <td>00042b26cf59d7ce69dfabb4e55b4fd9</td>\n",
              "      <td>1</td>\n",
              "    </tr>\n",
              "  </tbody>\n",
              "</table>\n",
              "</div>\n",
              "      <button class=\"colab-df-convert\" onclick=\"convertToInteractive('df-2ddc1919-d397-47b5-b1a1-4e85d3f05c87')\"\n",
              "              title=\"Convert this dataframe to an interactive table.\"\n",
              "              style=\"display:none;\">\n",
              "        \n",
              "  <svg xmlns=\"http://www.w3.org/2000/svg\" height=\"24px\"viewBox=\"0 0 24 24\"\n",
              "       width=\"24px\">\n",
              "    <path d=\"M0 0h24v24H0V0z\" fill=\"none\"/>\n",
              "    <path d=\"M18.56 5.44l.94 2.06.94-2.06 2.06-.94-2.06-.94-.94-2.06-.94 2.06-2.06.94zm-11 1L8.5 8.5l.94-2.06 2.06-.94-2.06-.94L8.5 2.5l-.94 2.06-2.06.94zm10 10l.94 2.06.94-2.06 2.06-.94-2.06-.94-.94-2.06-.94 2.06-2.06.94z\"/><path d=\"M17.41 7.96l-1.37-1.37c-.4-.4-.92-.59-1.43-.59-.52 0-1.04.2-1.43.59L10.3 9.45l-7.72 7.72c-.78.78-.78 2.05 0 2.83L4 21.41c.39.39.9.59 1.41.59.51 0 1.02-.2 1.41-.59l7.78-7.78 2.81-2.81c.8-.78.8-2.07 0-2.86zM5.41 20L4 18.59l7.72-7.72 1.47 1.35L5.41 20z\"/>\n",
              "  </svg>\n",
              "      </button>\n",
              "      \n",
              "  <style>\n",
              "    .colab-df-container {\n",
              "      display:flex;\n",
              "      flex-wrap:wrap;\n",
              "      gap: 12px;\n",
              "    }\n",
              "\n",
              "    .colab-df-convert {\n",
              "      background-color: #E8F0FE;\n",
              "      border: none;\n",
              "      border-radius: 50%;\n",
              "      cursor: pointer;\n",
              "      display: none;\n",
              "      fill: #1967D2;\n",
              "      height: 32px;\n",
              "      padding: 0 0 0 0;\n",
              "      width: 32px;\n",
              "    }\n",
              "\n",
              "    .colab-df-convert:hover {\n",
              "      background-color: #E2EBFA;\n",
              "      box-shadow: 0px 1px 2px rgba(60, 64, 67, 0.3), 0px 1px 3px 1px rgba(60, 64, 67, 0.15);\n",
              "      fill: #174EA6;\n",
              "    }\n",
              "\n",
              "    [theme=dark] .colab-df-convert {\n",
              "      background-color: #3B4455;\n",
              "      fill: #D2E3FC;\n",
              "    }\n",
              "\n",
              "    [theme=dark] .colab-df-convert:hover {\n",
              "      background-color: #434B5C;\n",
              "      box-shadow: 0px 1px 3px 1px rgba(0, 0, 0, 0.15);\n",
              "      filter: drop-shadow(0px 1px 2px rgba(0, 0, 0, 0.3));\n",
              "      fill: #FFFFFF;\n",
              "    }\n",
              "  </style>\n",
              "\n",
              "      <script>\n",
              "        const buttonEl =\n",
              "          document.querySelector('#df-2ddc1919-d397-47b5-b1a1-4e85d3f05c87 button.colab-df-convert');\n",
              "        buttonEl.style.display =\n",
              "          google.colab.kernel.accessAllowed ? 'block' : 'none';\n",
              "\n",
              "        async function convertToInteractive(key) {\n",
              "          const element = document.querySelector('#df-2ddc1919-d397-47b5-b1a1-4e85d3f05c87');\n",
              "          const dataTable =\n",
              "            await google.colab.kernel.invokeFunction('convertToInteractive',\n",
              "                                                     [key], {});\n",
              "          if (!dataTable) return;\n",
              "\n",
              "          const docLinkHtml = 'Like what you see? Visit the ' +\n",
              "            '<a target=\"_blank\" href=https://colab.research.google.com/notebooks/data_table.ipynb>data table notebook</a>'\n",
              "            + ' to learn more about interactive tables.';\n",
              "          element.innerHTML = '';\n",
              "          dataTable['output_type'] = 'display_data';\n",
              "          await google.colab.output.renderOutput(dataTable, element);\n",
              "          const docLink = document.createElement('div');\n",
              "          docLink.innerHTML = docLinkHtml;\n",
              "          element.appendChild(docLink);\n",
              "        }\n",
              "      </script>\n",
              "    </div>\n",
              "  </div>\n",
              "  "
            ]
          },
          "metadata": {},
          "execution_count": 42
        }
      ],
      "source": [
        "#sellers count for each product\n",
        "fea_2 = data_n.groupby('order_id').count()['product_id']\n",
        "fea_2_df = pd.DataFrame()\n",
        "fea_2_df['order_id']= fea_2.index\n",
        "fea_2_df['products_count']= fea_2.values\n",
        "fea_2_df.head()\n"
      ]
    },
    {
      "cell_type": "code",
      "execution_count": null,
      "metadata": {
        "id": "3WC63evo7dtm"
      },
      "outputs": [],
      "source": [
        "# Adding the seller count and products count feature to the final data set\n",
        "data_n = pd.merge(data_n,fea_1_df,on='product_id')\n",
        "data_n = pd.merge(data_n,fea_2_df,on='order_id')\n"
      ]
    },
    {
      "cell_type": "code",
      "execution_count": null,
      "metadata": {
        "id": "DIU_TfAs7dy0"
      },
      "outputs": [],
      "source": [
        "#Extrcting Features (taken from existing soluting )\n",
        "\n",
        "# https://www.kaggle.com/andresionek/predicting-customer-satisfaction\n",
        "\n",
        "# calculating estimated delivery time\n",
        "data_n['est_delivery_t'] = (data_n['order_estimated_delivery_date'] - data_n['order_approved_at']).dt.days\n",
        "\n",
        "# calculating actual delivery time\n",
        "data_n['act_delivery_t'] = (data_n['order_delivered_customer_date'] - data_n['order_approved_at']).dt.days\n",
        "\n",
        "# calculating diff_in_delivery_time\n",
        "data_n['diff_in_delivery_t'] = data_n['est_delivery_t'] - data_n['act_delivery_t']\n",
        "\n",
        "# finding if delivery was lare\n",
        "data_n['on_time_delivery'] = data_n['order_delivered_customer_date'] < data_n['order_estimated_delivery_date']\n",
        "data_n['on_time_delivery'] = data_n['on_time_delivery'].astype('int')\n",
        "\n",
        "# calculating mean product value\n",
        "data_n['avg_prdt_value'] = data_n['price']/data_n['products_count']\n",
        "\n",
        "# finding total order cost\n",
        "data_n['total_order_cost'] = data_n['price'] + data_n['freight_value']\n",
        "\n",
        "# calculating order freight ratio\n",
        "data_n['order_freight_ratio'] = data_n['freight_value']/data_n['price']\n",
        "\n",
        "# finding the day of week on which order was made\n",
        "data_n['purchase_dayofweek'] = pd.to_datetime(data_n['order_purchase_timestamp']).dt.dayofweek\n",
        "\n",
        "# adding is_reviewed where 1 is if review comment is given otherwise 0.\n",
        "data_n['is_reviewed'] = (data_n['review_comment_message'] != 'no_review').astype('int')"
      ]
    },
    {
      "cell_type": "code",
      "execution_count": null,
      "metadata": {
        "id": "Kqr_Q5PNQBW0"
      },
      "outputs": [],
      "source": [
        "#list(data.groupby('customer_id')['order_purchase_dayofweek'].agg([('year_avg','mean')])['year_avg'])"
      ]
    },
    {
      "cell_type": "code",
      "execution_count": null,
      "metadata": {
        "colab": {
          "base_uri": "https://localhost:8080/",
          "height": 237
        },
        "id": "ol4I5cc_QBaL",
        "outputId": "ed74beaa-3ec5-4613-87cb-0b5b113f471e"
      },
      "outputs": [
        {
          "output_type": "execute_result",
          "data": {
            "text/plain": [
              "                                  recency  frequency  monetary  f_quartile  \\\n",
              "customer_unique_id                                                           \n",
              "0000366f3b9a7992bf8c76cfdf3221e2      115          1    141.90           1   \n",
              "0000b849f77a49e4a4ce2b2a4ca5be3f      118          1     27.19           1   \n",
              "0000f46a3911fa3c0805444483337064      541          1     86.22           1   \n",
              "0000f6ccb0745a6a4b88665a16c9f078      325          1     43.62           1   \n",
              "0004aac84e0df4da2b147fca70cf8255      292          1    196.89           1   \n",
              "\n",
              "                                 r_quartile m_quartile RFM_Score  RFM_Score_s  \\\n",
              "customer_unique_id                                                              \n",
              "0000366f3b9a7992bf8c76cfdf3221e2          4          3       413            8   \n",
              "0000b849f77a49e4a4ce2b2a4ca5be3f          4          1       411            6   \n",
              "0000f46a3911fa3c0805444483337064          1          2       112            4   \n",
              "0000f6ccb0745a6a4b88665a16c9f078          2          1       211            4   \n",
              "0004aac84e0df4da2b147fca70cf8255          2          3       213            6   \n",
              "\n",
              "                                        RFM_Level  \n",
              "customer_unique_id                                 \n",
              "0000366f3b9a7992bf8c76cfdf3221e2        Champions  \n",
              "0000b849f77a49e4a4ce2b2a4ca5be3f        Potential  \n",
              "0000f46a3911fa3c0805444483337064  Needs Attention  \n",
              "0000f6ccb0745a6a4b88665a16c9f078  Needs Attention  \n",
              "0004aac84e0df4da2b147fca70cf8255        Potential  "
            ],
            "text/html": [
              "\n",
              "  <div id=\"df-20e43ae2-3a25-4f95-89f0-cdec37e05b25\">\n",
              "    <div class=\"colab-df-container\">\n",
              "      <div>\n",
              "<style scoped>\n",
              "    .dataframe tbody tr th:only-of-type {\n",
              "        vertical-align: middle;\n",
              "    }\n",
              "\n",
              "    .dataframe tbody tr th {\n",
              "        vertical-align: top;\n",
              "    }\n",
              "\n",
              "    .dataframe thead th {\n",
              "        text-align: right;\n",
              "    }\n",
              "</style>\n",
              "<table border=\"1\" class=\"dataframe\">\n",
              "  <thead>\n",
              "    <tr style=\"text-align: right;\">\n",
              "      <th></th>\n",
              "      <th>recency</th>\n",
              "      <th>frequency</th>\n",
              "      <th>monetary</th>\n",
              "      <th>f_quartile</th>\n",
              "      <th>r_quartile</th>\n",
              "      <th>m_quartile</th>\n",
              "      <th>RFM_Score</th>\n",
              "      <th>RFM_Score_s</th>\n",
              "      <th>RFM_Level</th>\n",
              "    </tr>\n",
              "    <tr>\n",
              "      <th>customer_unique_id</th>\n",
              "      <th></th>\n",
              "      <th></th>\n",
              "      <th></th>\n",
              "      <th></th>\n",
              "      <th></th>\n",
              "      <th></th>\n",
              "      <th></th>\n",
              "      <th></th>\n",
              "      <th></th>\n",
              "    </tr>\n",
              "  </thead>\n",
              "  <tbody>\n",
              "    <tr>\n",
              "      <th>0000366f3b9a7992bf8c76cfdf3221e2</th>\n",
              "      <td>115</td>\n",
              "      <td>1</td>\n",
              "      <td>141.90</td>\n",
              "      <td>1</td>\n",
              "      <td>4</td>\n",
              "      <td>3</td>\n",
              "      <td>413</td>\n",
              "      <td>8</td>\n",
              "      <td>Champions</td>\n",
              "    </tr>\n",
              "    <tr>\n",
              "      <th>0000b849f77a49e4a4ce2b2a4ca5be3f</th>\n",
              "      <td>118</td>\n",
              "      <td>1</td>\n",
              "      <td>27.19</td>\n",
              "      <td>1</td>\n",
              "      <td>4</td>\n",
              "      <td>1</td>\n",
              "      <td>411</td>\n",
              "      <td>6</td>\n",
              "      <td>Potential</td>\n",
              "    </tr>\n",
              "    <tr>\n",
              "      <th>0000f46a3911fa3c0805444483337064</th>\n",
              "      <td>541</td>\n",
              "      <td>1</td>\n",
              "      <td>86.22</td>\n",
              "      <td>1</td>\n",
              "      <td>1</td>\n",
              "      <td>2</td>\n",
              "      <td>112</td>\n",
              "      <td>4</td>\n",
              "      <td>Needs Attention</td>\n",
              "    </tr>\n",
              "    <tr>\n",
              "      <th>0000f6ccb0745a6a4b88665a16c9f078</th>\n",
              "      <td>325</td>\n",
              "      <td>1</td>\n",
              "      <td>43.62</td>\n",
              "      <td>1</td>\n",
              "      <td>2</td>\n",
              "      <td>1</td>\n",
              "      <td>211</td>\n",
              "      <td>4</td>\n",
              "      <td>Needs Attention</td>\n",
              "    </tr>\n",
              "    <tr>\n",
              "      <th>0004aac84e0df4da2b147fca70cf8255</th>\n",
              "      <td>292</td>\n",
              "      <td>1</td>\n",
              "      <td>196.89</td>\n",
              "      <td>1</td>\n",
              "      <td>2</td>\n",
              "      <td>3</td>\n",
              "      <td>213</td>\n",
              "      <td>6</td>\n",
              "      <td>Potential</td>\n",
              "    </tr>\n",
              "  </tbody>\n",
              "</table>\n",
              "</div>\n",
              "      <button class=\"colab-df-convert\" onclick=\"convertToInteractive('df-20e43ae2-3a25-4f95-89f0-cdec37e05b25')\"\n",
              "              title=\"Convert this dataframe to an interactive table.\"\n",
              "              style=\"display:none;\">\n",
              "        \n",
              "  <svg xmlns=\"http://www.w3.org/2000/svg\" height=\"24px\"viewBox=\"0 0 24 24\"\n",
              "       width=\"24px\">\n",
              "    <path d=\"M0 0h24v24H0V0z\" fill=\"none\"/>\n",
              "    <path d=\"M18.56 5.44l.94 2.06.94-2.06 2.06-.94-2.06-.94-.94-2.06-.94 2.06-2.06.94zm-11 1L8.5 8.5l.94-2.06 2.06-.94-2.06-.94L8.5 2.5l-.94 2.06-2.06.94zm10 10l.94 2.06.94-2.06 2.06-.94-2.06-.94-.94-2.06-.94 2.06-2.06.94z\"/><path d=\"M17.41 7.96l-1.37-1.37c-.4-.4-.92-.59-1.43-.59-.52 0-1.04.2-1.43.59L10.3 9.45l-7.72 7.72c-.78.78-.78 2.05 0 2.83L4 21.41c.39.39.9.59 1.41.59.51 0 1.02-.2 1.41-.59l7.78-7.78 2.81-2.81c.8-.78.8-2.07 0-2.86zM5.41 20L4 18.59l7.72-7.72 1.47 1.35L5.41 20z\"/>\n",
              "  </svg>\n",
              "      </button>\n",
              "      \n",
              "  <style>\n",
              "    .colab-df-container {\n",
              "      display:flex;\n",
              "      flex-wrap:wrap;\n",
              "      gap: 12px;\n",
              "    }\n",
              "\n",
              "    .colab-df-convert {\n",
              "      background-color: #E8F0FE;\n",
              "      border: none;\n",
              "      border-radius: 50%;\n",
              "      cursor: pointer;\n",
              "      display: none;\n",
              "      fill: #1967D2;\n",
              "      height: 32px;\n",
              "      padding: 0 0 0 0;\n",
              "      width: 32px;\n",
              "    }\n",
              "\n",
              "    .colab-df-convert:hover {\n",
              "      background-color: #E2EBFA;\n",
              "      box-shadow: 0px 1px 2px rgba(60, 64, 67, 0.3), 0px 1px 3px 1px rgba(60, 64, 67, 0.15);\n",
              "      fill: #174EA6;\n",
              "    }\n",
              "\n",
              "    [theme=dark] .colab-df-convert {\n",
              "      background-color: #3B4455;\n",
              "      fill: #D2E3FC;\n",
              "    }\n",
              "\n",
              "    [theme=dark] .colab-df-convert:hover {\n",
              "      background-color: #434B5C;\n",
              "      box-shadow: 0px 1px 3px 1px rgba(0, 0, 0, 0.15);\n",
              "      filter: drop-shadow(0px 1px 2px rgba(0, 0, 0, 0.3));\n",
              "      fill: #FFFFFF;\n",
              "    }\n",
              "  </style>\n",
              "\n",
              "      <script>\n",
              "        const buttonEl =\n",
              "          document.querySelector('#df-20e43ae2-3a25-4f95-89f0-cdec37e05b25 button.colab-df-convert');\n",
              "        buttonEl.style.display =\n",
              "          google.colab.kernel.accessAllowed ? 'block' : 'none';\n",
              "\n",
              "        async function convertToInteractive(key) {\n",
              "          const element = document.querySelector('#df-20e43ae2-3a25-4f95-89f0-cdec37e05b25');\n",
              "          const dataTable =\n",
              "            await google.colab.kernel.invokeFunction('convertToInteractive',\n",
              "                                                     [key], {});\n",
              "          if (!dataTable) return;\n",
              "\n",
              "          const docLinkHtml = 'Like what you see? Visit the ' +\n",
              "            '<a target=\"_blank\" href=https://colab.research.google.com/notebooks/data_table.ipynb>data table notebook</a>'\n",
              "            + ' to learn more about interactive tables.';\n",
              "          element.innerHTML = '';\n",
              "          dataTable['output_type'] = 'display_data';\n",
              "          await google.colab.output.renderOutput(dataTable, element);\n",
              "          const docLink = document.createElement('div');\n",
              "          docLink.innerHTML = docLinkHtml;\n",
              "          element.appendChild(docLink);\n",
              "        }\n",
              "      </script>\n",
              "    </div>\n",
              "  </div>\n",
              "  "
            ]
          },
          "metadata": {},
          "execution_count": 45
        }
      ],
      "source": [
        "rfm = pd.read_pickle('/content/drive/MyDrive/rfm.pkl')\n",
        "rfm.head()"
      ]
    },
    {
      "cell_type": "code",
      "execution_count": null,
      "metadata": {
        "id": "j93wsW1hYs34"
      },
      "outputs": [],
      "source": [
        "data_n = data_n.merge(rfm ,on ='customer_unique_id',how='left')"
      ]
    },
    {
      "cell_type": "code",
      "execution_count": null,
      "metadata": {
        "colab": {
          "base_uri": "https://localhost:8080/"
        },
        "id": "v1A5xFmIY8_u",
        "outputId": "ea72c345-db6d-4436-9eb3-12fcec34fdf7"
      },
      "outputs": [
        {
          "output_type": "execute_result",
          "data": {
            "text/plain": [
              "order_id                         0\n",
              "customer_id                      0\n",
              "order_status                     0\n",
              "order_purchase_timestamp         0\n",
              "order_approved_at                0\n",
              "order_delivered_customer_date    0\n",
              "order_estimated_delivery_date    0\n",
              "payment_sequential               0\n",
              "payment_type                     0\n",
              "payment_installments             0\n",
              "payment_value                    0\n",
              "customer_unique_id               0\n",
              "customer_zip_code_prefix         0\n",
              "customer_city                    0\n",
              "customer_state                   0\n",
              "order_item_id                    0\n",
              "product_id                       0\n",
              "seller_id                        0\n",
              "shipping_limit_date              0\n",
              "price                            0\n",
              "freight_value                    0\n",
              "product_category_name            0\n",
              "product_name_lenght              0\n",
              "product_description_lenght       0\n",
              "product_photos_qty               0\n",
              "product_weight_g                 0\n",
              "product_length_cm                0\n",
              "product_height_cm                0\n",
              "product_width_cm                 0\n",
              "product_category_name_english    0\n",
              "review_score                     0\n",
              "review_comment_message           0\n",
              "sellers_count                    0\n",
              "products_count                   0\n",
              "est_delivery_t                   0\n",
              "act_delivery_t                   0\n",
              "diff_in_delivery_t               0\n",
              "on_time_delivery                 0\n",
              "avg_prdt_value                   0\n",
              "total_order_cost                 0\n",
              "order_freight_ratio              0\n",
              "purchase_dayofweek               0\n",
              "is_reviewed                      0\n",
              "recency                          0\n",
              "frequency                        0\n",
              "monetary                         0\n",
              "f_quartile                       0\n",
              "r_quartile                       0\n",
              "m_quartile                       0\n",
              "RFM_Score                        0\n",
              "RFM_Score_s                      0\n",
              "RFM_Level                        0\n",
              "dtype: int64"
            ]
          },
          "metadata": {},
          "execution_count": 47
        }
      ],
      "source": [
        "data_n.isnull().sum()"
      ]
    },
    {
      "cell_type": "code",
      "execution_count": null,
      "metadata": {
        "colab": {
          "base_uri": "https://localhost:8080/",
          "height": 296
        },
        "id": "GRiVN48ctK2-",
        "outputId": "4f36cb79-e509-41b1-c0db-85bbd195a2c5"
      },
      "outputs": [
        {
          "output_type": "display_data",
          "data": {
            "text/plain": [
              "<Figure size 720x288 with 1 Axes>"
            ],
            "image/png": "[encoded data removed]"
          },
          "metadata": {
            "needs_background": "light"
          }
        }
      ],
      "source": [
        "# Delivery estimated time and actual delivery time\n",
        "plt.figure(figsize=(10,4))\n",
        "plt.title(\"Delivery time in days\")\n",
        "plt.xlim(-10, 200)\n",
        "plt.grid()\n",
        "\n",
        "ax1 = sns.kdeplot(data_n['act_delivery_t'], color=\"#D84E30\", label='Delivery time')\n",
        "ax2 = sns.kdeplot(data_n['est_delivery_t'], color=\"#7E7270\", label='Estimated delivery time')\n",
        "plt.savefig('pr_fig1.png', dpi=480, bbox_inches='tight')"
      ]
    },
    {
      "cell_type": "code",
      "execution_count": null,
      "metadata": {
        "id": "RGTxYanl7nNV"
      },
      "outputs": [],
      "source": [
        "\n",
        "col= ['order_id',\n",
        " 'customer_id',\n",
        " 'order_purchase_timestamp',\n",
        " 'order_approved_at',\n",
        " 'order_delivered_customer_date',\n",
        " 'order_estimated_delivery_date',\n",
        "  'customer_unique_id',\n",
        " 'order_item_id',\n",
        " 'product_id',\n",
        " 'seller_id',\n",
        " 'shipping_limit_date',\n",
        " 'f_quartile',\n",
        " 'r_quartile',\n",
        " 'm_quartile',\n",
        " 'RFM_Score','RFM_Score_s','product_category_name']\n"
      ]
    },
    {
      "cell_type": "code",
      "execution_count": null,
      "metadata": {
        "colab": {
          "base_uri": "https://localhost:8080/",
          "height": 334
        },
        "id": "ZQqtPBPM7r_U",
        "outputId": "09835c77-b466-486c-d231-d3c8e931e8df"
      },
      "outputs": [
        {
          "output_type": "execute_result",
          "data": {
            "text/plain": [
              "  order_status  payment_sequential payment_type  payment_installments  \\\n",
              "0    delivered                   1  credit_card                     1   \n",
              "1    delivered                   3      voucher                     1   \n",
              "2    delivered                   2      voucher                     1   \n",
              "3    delivered                   1  credit_card                     3   \n",
              "4    delivered                   1  credit_card                     1   \n",
              "\n",
              "   payment_value  customer_zip_code_prefix customer_city customer_state  \\\n",
              "0          18.12                      3149     sao paulo             SP   \n",
              "1           2.00                      3149     sao paulo             SP   \n",
              "2          18.59                      3149     sao paulo             SP   \n",
              "3          37.77                      3366     sao paulo             SP   \n",
              "4          37.77                      2290     sao paulo             SP   \n",
              "\n",
              "   price  freight_value  ...  on_time_delivery  avg_prdt_value  \\\n",
              "0  29.99           8.72  ...                 1        9.996667   \n",
              "1  29.99           8.72  ...                 1        9.996667   \n",
              "2  29.99           8.72  ...                 1        9.996667   \n",
              "3  29.99           7.78  ...                 1       29.990000   \n",
              "4  29.99           7.78  ...                 1       29.990000   \n",
              "\n",
              "   total_order_cost  order_freight_ratio  purchase_dayofweek  is_reviewed  \\\n",
              "0             38.71             0.290764                   0            1   \n",
              "1             38.71             0.290764                   0            1   \n",
              "2             38.71             0.290764                   0            1   \n",
              "3             37.77             0.259420                   1            1   \n",
              "4             37.77             0.259420                   2            1   \n",
              "\n",
              "   recency frequency  monetary           RFM_Level  \n",
              "0      335         4     82.82           Promising  \n",
              "1      335         4     82.82           Promising  \n",
              "2      335         4     82.82           Promising  \n",
              "3      383         1     37.77  Require Activation  \n",
              "4      396         1     37.77  Require Activation  \n",
              "\n",
              "[5 rows x 35 columns]"
            ],
            "text/html": [
              "\n",
              "  <div id=\"df-d8661230-9310-4681-aa73-d4bc3ed453dd\">\n",
              "    <div class=\"colab-df-container\">\n",
              "      <div>\n",
              "<style scoped>\n",
              "    .dataframe tbody tr th:only-of-type {\n",
              "        vertical-align: middle;\n",
              "    }\n",
              "\n",
              "    .dataframe tbody tr th {\n",
              "        vertical-align: top;\n",
              "    }\n",
              "\n",
              "    .dataframe thead th {\n",
              "        text-align: right;\n",
              "    }\n",
              "</style>\n",
              "<table border=\"1\" class=\"dataframe\">\n",
              "  <thead>\n",
              "    <tr style=\"text-align: right;\">\n",
              "      <th></th>\n",
              "      <th>order_status</th>\n",
              "      <th>payment_sequential</th>\n",
              "      <th>payment_type</th>\n",
              "      <th>payment_installments</th>\n",
              "      <th>payment_value</th>\n",
              "      <th>customer_zip_code_prefix</th>\n",
              "      <th>customer_city</th>\n",
              "      <th>customer_state</th>\n",
              "      <th>price</th>\n",
              "      <th>freight_value</th>\n",
              "      <th>...</th>\n",
              "      <th>on_time_delivery</th>\n",
              "      <th>avg_prdt_value</th>\n",
              "      <th>total_order_cost</th>\n",
              "      <th>order_freight_ratio</th>\n",
              "      <th>purchase_dayofweek</th>\n",
              "      <th>is_reviewed</th>\n",
              "      <th>recency</th>\n",
              "      <th>frequency</th>\n",
              "      <th>monetary</th>\n",
              "      <th>RFM_Level</th>\n",
              "    </tr>\n",
              "  </thead>\n",
              "  <tbody>\n",
              "    <tr>\n",
              "      <th>0</th>\n",
              "      <td>delivered</td>\n",
              "      <td>1</td>\n",
              "      <td>credit_card</td>\n",
              "      <td>1</td>\n",
              "      <td>18.12</td>\n",
              "      <td>3149</td>\n",
              "      <td>sao paulo</td>\n",
              "      <td>SP</td>\n",
              "      <td>29.99</td>\n",
              "      <td>8.72</td>\n",
              "      <td>...</td>\n",
              "      <td>1</td>\n",
              "      <td>9.996667</td>\n",
              "      <td>38.71</td>\n",
              "      <td>0.290764</td>\n",
              "      <td>0</td>\n",
              "      <td>1</td>\n",
              "      <td>335</td>\n",
              "      <td>4</td>\n",
              "      <td>82.82</td>\n",
              "      <td>Promising</td>\n",
              "    </tr>\n",
              "    <tr>\n",
              "      <th>1</th>\n",
              "      <td>delivered</td>\n",
              "      <td>3</td>\n",
              "      <td>voucher</td>\n",
              "      <td>1</td>\n",
              "      <td>2.00</td>\n",
              "      <td>3149</td>\n",
              "      <td>sao paulo</td>\n",
              "      <td>SP</td>\n",
              "      <td>29.99</td>\n",
              "      <td>8.72</td>\n",
              "      <td>...</td>\n",
              "      <td>1</td>\n",
              "      <td>9.996667</td>\n",
              "      <td>38.71</td>\n",
              "      <td>0.290764</td>\n",
              "      <td>0</td>\n",
              "      <td>1</td>\n",
              "      <td>335</td>\n",
              "      <td>4</td>\n",
              "      <td>82.82</td>\n",
              "      <td>Promising</td>\n",
              "    </tr>\n",
              "    <tr>\n",
              "      <th>2</th>\n",
              "      <td>delivered</td>\n",
              "      <td>2</td>\n",
              "      <td>voucher</td>\n",
              "      <td>1</td>\n",
              "      <td>18.59</td>\n",
              "      <td>3149</td>\n",
              "      <td>sao paulo</td>\n",
              "      <td>SP</td>\n",
              "      <td>29.99</td>\n",
              "      <td>8.72</td>\n",
              "      <td>...</td>\n",
              "      <td>1</td>\n",
              "      <td>9.996667</td>\n",
              "      <td>38.71</td>\n",
              "      <td>0.290764</td>\n",
              "      <td>0</td>\n",
              "      <td>1</td>\n",
              "      <td>335</td>\n",
              "      <td>4</td>\n",
              "      <td>82.82</td>\n",
              "      <td>Promising</td>\n",
              "    </tr>\n",
              "    <tr>\n",
              "      <th>3</th>\n",
              "      <td>delivered</td>\n",
              "      <td>1</td>\n",
              "      <td>credit_card</td>\n",
              "      <td>3</td>\n",
              "      <td>37.77</td>\n",
              "      <td>3366</td>\n",
              "      <td>sao paulo</td>\n",
              "      <td>SP</td>\n",
              "      <td>29.99</td>\n",
              "      <td>7.78</td>\n",
              "      <td>...</td>\n",
              "      <td>1</td>\n",
              "      <td>29.990000</td>\n",
              "      <td>37.77</td>\n",
              "      <td>0.259420</td>\n",
              "      <td>1</td>\n",
              "      <td>1</td>\n",
              "      <td>383</td>\n",
              "      <td>1</td>\n",
              "      <td>37.77</td>\n",
              "      <td>Require Activation</td>\n",
              "    </tr>\n",
              "    <tr>\n",
              "      <th>4</th>\n",
              "      <td>delivered</td>\n",
              "      <td>1</td>\n",
              "      <td>credit_card</td>\n",
              "      <td>1</td>\n",
              "      <td>37.77</td>\n",
              "      <td>2290</td>\n",
              "      <td>sao paulo</td>\n",
              "      <td>SP</td>\n",
              "      <td>29.99</td>\n",
              "      <td>7.78</td>\n",
              "      <td>...</td>\n",
              "      <td>1</td>\n",
              "      <td>29.990000</td>\n",
              "      <td>37.77</td>\n",
              "      <td>0.259420</td>\n",
              "      <td>2</td>\n",
              "      <td>1</td>\n",
              "      <td>396</td>\n",
              "      <td>1</td>\n",
              "      <td>37.77</td>\n",
              "      <td>Require Activation</td>\n",
              "    </tr>\n",
              "  </tbody>\n",
              "</table>\n",
              "<p>5 rows × 35 columns</p>\n",
              "</div>\n",
              "      <button class=\"colab-df-convert\" onclick=\"convertToInteractive('df-d8661230-9310-4681-aa73-d4bc3ed453dd')\"\n",
              "              title=\"Convert this dataframe to an interactive table.\"\n",
              "              style=\"display:none;\">\n",
              "        \n",
              "  <svg xmlns=\"http://www.w3.org/2000/svg\" height=\"24px\"viewBox=\"0 0 24 24\"\n",
              "       width=\"24px\">\n",
              "    <path d=\"M0 0h24v24H0V0z\" fill=\"none\"/>\n",
              "    <path d=\"M18.56 5.44l.94 2.06.94-2.06 2.06-.94-2.06-.94-.94-2.06-.94 2.06-2.06.94zm-11 1L8.5 8.5l.94-2.06 2.06-.94-2.06-.94L8.5 2.5l-.94 2.06-2.06.94zm10 10l.94 2.06.94-2.06 2.06-.94-2.06-.94-.94-2.06-.94 2.06-2.06.94z\"/><path d=\"M17.41 7.96l-1.37-1.37c-.4-.4-.92-.59-1.43-.59-.52 0-1.04.2-1.43.59L10.3 9.45l-7.72 7.72c-.78.78-.78 2.05 0 2.83L4 21.41c.39.39.9.59 1.41.59.51 0 1.02-.2 1.41-.59l7.78-7.78 2.81-2.81c.8-.78.8-2.07 0-2.86zM5.41 20L4 18.59l7.72-7.72 1.47 1.35L5.41 20z\"/>\n",
              "  </svg>\n",
              "      </button>\n",
              "      \n",
              "  <style>\n",
              "    .colab-df-container {\n",
              "      display:flex;\n",
              "      flex-wrap:wrap;\n",
              "      gap: 12px;\n",
              "    }\n",
              "\n",
              "    .colab-df-convert {\n",
              "      background-color: #E8F0FE;\n",
              "      border: none;\n",
              "      border-radius: 50%;\n",
              "      cursor: pointer;\n",
              "      display: none;\n",
              "      fill: #1967D2;\n",
              "      height: 32px;\n",
              "      padding: 0 0 0 0;\n",
              "      width: 32px;\n",
              "    }\n",
              "\n",
              "    .colab-df-convert:hover {\n",
              "      background-color: #E2EBFA;\n",
              "      box-shadow: 0px 1px 2px rgba(60, 64, 67, 0.3), 0px 1px 3px 1px rgba(60, 64, 67, 0.15);\n",
              "      fill: #174EA6;\n",
              "    }\n",
              "\n",
              "    [theme=dark] .colab-df-convert {\n",
              "      background-color: #3B4455;\n",
              "      fill: #D2E3FC;\n",
              "    }\n",
              "\n",
              "    [theme=dark] .colab-df-convert:hover {\n",
              "      background-color: #434B5C;\n",
              "      box-shadow: 0px 1px 3px 1px rgba(0, 0, 0, 0.15);\n",
              "      filter: drop-shadow(0px 1px 2px rgba(0, 0, 0, 0.3));\n",
              "      fill: #FFFFFF;\n",
              "    }\n",
              "  </style>\n",
              "\n",
              "      <script>\n",
              "        const buttonEl =\n",
              "          document.querySelector('#df-d8661230-9310-4681-aa73-d4bc3ed453dd button.colab-df-convert');\n",
              "        buttonEl.style.display =\n",
              "          google.colab.kernel.accessAllowed ? 'block' : 'none';\n",
              "\n",
              "        async function convertToInteractive(key) {\n",
              "          const element = document.querySelector('#df-d8661230-9310-4681-aa73-d4bc3ed453dd');\n",
              "          const dataTable =\n",
              "            await google.colab.kernel.invokeFunction('convertToInteractive',\n",
              "                                                     [key], {});\n",
              "          if (!dataTable) return;\n",
              "\n",
              "          const docLinkHtml = 'Like what you see? Visit the ' +\n",
              "            '<a target=\"_blank\" href=https://colab.research.google.com/notebooks/data_table.ipynb>data table notebook</a>'\n",
              "            + ' to learn more about interactive tables.';\n",
              "          element.innerHTML = '';\n",
              "          dataTable['output_type'] = 'display_data';\n",
              "          await google.colab.output.renderOutput(dataTable, element);\n",
              "          const docLink = document.createElement('div');\n",
              "          docLink.innerHTML = docLinkHtml;\n",
              "          element.appendChild(docLink);\n",
              "        }\n",
              "      </script>\n",
              "    </div>\n",
              "  </div>\n",
              "  "
            ]
          },
          "metadata": {},
          "execution_count": 52
        }
      ],
      "source": [
        "data_n.drop(columns=col,axis=1,inplace=True)\n",
        "data_n.head()"
      ]
    },
    {
      "cell_type": "code",
      "execution_count": null,
      "metadata": {
        "colab": {
          "base_uri": "https://localhost:8080/"
        },
        "id": "aP2h5nb3cQAf",
        "outputId": "64e0ac40-6799-43dc-fc7c-e9aa18e84f6f"
      },
      "outputs": [
        {
          "output_type": "stream",
          "name": "stderr",
          "text": [
            "100%|██████████| 115609/115609 [00:22<00:00, 5176.95it/s]\n"
          ]
        }
      ],
      "source": [
        "#text preprocessing\n",
        "processed_text = preprocess_text(data_n['review_comment_message'].values)"
      ]
    },
    {
      "cell_type": "code",
      "execution_count": null,
      "metadata": {
        "colab": {
          "base_uri": "https://localhost:8080/"
        },
        "id": "a4HC3l1NZpI0",
        "outputId": "76071138-8ca5-4612-b309-7c2e084ddc1f"
      },
      "outputs": [
        {
          "output_type": "execute_result",
          "data": {
            "text/plain": [
              "0    neg test produt aind vei corret boa cond apen ...\n",
              "1    neg test produt aind vei corret boa cond apen ...\n",
              "2    neg test produt aind vei corret boa cond apen ...\n",
              "3    dev embal melhor produt caix vei tod amass vou...\n",
              "4                   ach pequen pra seil xíc bom produt\n",
              "Name: review_comment_message, dtype: object"
            ]
          },
          "metadata": {},
          "execution_count": 54
        }
      ],
      "source": [
        "data_n['review_comment_message'] = processed_text\n",
        "data_n['review_comment_message'].head(5)"
      ]
    },
    {
      "cell_type": "code",
      "execution_count": null,
      "metadata": {
        "id": "_vyzOSwPZwQW"
      },
      "outputs": [],
      "source": []
    },
    {
      "cell_type": "code",
      "execution_count": null,
      "metadata": {
        "id": "m1gbChWdZwVa"
      },
      "outputs": [],
      "source": []
    },
    {
      "cell_type": "markdown",
      "metadata": {
        "id": "lKunbQpSwv_X"
      },
      "source": [
        "Spliting data in Train and Test."
      ]
    },
    {
      "cell_type": "code",
      "execution_count": null,
      "metadata": {
        "colab": {
          "base_uri": "https://localhost:8080/",
          "height": 243
        },
        "id": "-zvVIPIDR-Yw",
        "outputId": "f2b2631a-f6ab-4431-c768-e38d207e16d0"
      },
      "outputs": [
        {
          "output_type": "stream",
          "name": "stdout",
          "text": [
            "      X          y\n",
            "(115609, 34) (115609,)\n",
            "\n",
            "\n"
          ]
        },
        {
          "output_type": "execute_result",
          "data": {
            "text/plain": [
              "  order_status  payment_sequential payment_type  payment_installments  \\\n",
              "0    delivered                   1  credit_card                     1   \n",
              "\n",
              "   payment_value  customer_zip_code_prefix customer_city customer_state  \\\n",
              "0          18.12                      3149     sao paulo             SP   \n",
              "\n",
              "   price  freight_value  ...  on_time_delivery  avg_prdt_value  \\\n",
              "0  29.99           8.72  ...                 1        9.996667   \n",
              "\n",
              "   total_order_cost  order_freight_ratio  purchase_dayofweek  is_reviewed  \\\n",
              "0             38.71             0.290764                   0            1   \n",
              "\n",
              "   recency frequency monetary  RFM_Level  \n",
              "0      335         4    82.82  Promising  \n",
              "\n",
              "[1 rows x 34 columns]"
            ],
            "text/html": [
              "\n",
              "  <div id=\"df-6b2e4638-f8b7-4d99-91b7-1d256493e96e\">\n",
              "    <div class=\"colab-df-container\">\n",
              "      <div>\n",
              "<style scoped>\n",
              "    .dataframe tbody tr th:only-of-type {\n",
              "        vertical-align: middle;\n",
              "    }\n",
              "\n",
              "    .dataframe tbody tr th {\n",
              "        vertical-align: top;\n",
              "    }\n",
              "\n",
              "    .dataframe thead th {\n",
              "        text-align: right;\n",
              "    }\n",
              "</style>\n",
              "<table border=\"1\" class=\"dataframe\">\n",
              "  <thead>\n",
              "    <tr style=\"text-align: right;\">\n",
              "      <th></th>\n",
              "      <th>order_status</th>\n",
              "      <th>payment_sequential</th>\n",
              "      <th>payment_type</th>\n",
              "      <th>payment_installments</th>\n",
              "      <th>payment_value</th>\n",
              "      <th>customer_zip_code_prefix</th>\n",
              "      <th>customer_city</th>\n",
              "      <th>customer_state</th>\n",
              "      <th>price</th>\n",
              "      <th>freight_value</th>\n",
              "      <th>...</th>\n",
              "      <th>on_time_delivery</th>\n",
              "      <th>avg_prdt_value</th>\n",
              "      <th>total_order_cost</th>\n",
              "      <th>order_freight_ratio</th>\n",
              "      <th>purchase_dayofweek</th>\n",
              "      <th>is_reviewed</th>\n",
              "      <th>recency</th>\n",
              "      <th>frequency</th>\n",
              "      <th>monetary</th>\n",
              "      <th>RFM_Level</th>\n",
              "    </tr>\n",
              "  </thead>\n",
              "  <tbody>\n",
              "    <tr>\n",
              "      <th>0</th>\n",
              "      <td>delivered</td>\n",
              "      <td>1</td>\n",
              "      <td>credit_card</td>\n",
              "      <td>1</td>\n",
              "      <td>18.12</td>\n",
              "      <td>3149</td>\n",
              "      <td>sao paulo</td>\n",
              "      <td>SP</td>\n",
              "      <td>29.99</td>\n",
              "      <td>8.72</td>\n",
              "      <td>...</td>\n",
              "      <td>1</td>\n",
              "      <td>9.996667</td>\n",
              "      <td>38.71</td>\n",
              "      <td>0.290764</td>\n",
              "      <td>0</td>\n",
              "      <td>1</td>\n",
              "      <td>335</td>\n",
              "      <td>4</td>\n",
              "      <td>82.82</td>\n",
              "      <td>Promising</td>\n",
              "    </tr>\n",
              "  </tbody>\n",
              "</table>\n",
              "<p>1 rows × 34 columns</p>\n",
              "</div>\n",
              "      <button class=\"colab-df-convert\" onclick=\"convertToInteractive('df-6b2e4638-f8b7-4d99-91b7-1d256493e96e')\"\n",
              "              title=\"Convert this dataframe to an interactive table.\"\n",
              "              style=\"display:none;\">\n",
              "        \n",
              "  <svg xmlns=\"http://www.w3.org/2000/svg\" height=\"24px\"viewBox=\"0 0 24 24\"\n",
              "       width=\"24px\">\n",
              "    <path d=\"M0 0h24v24H0V0z\" fill=\"none\"/>\n",
              "    <path d=\"M18.56 5.44l.94 2.06.94-2.06 2.06-.94-2.06-.94-.94-2.06-.94 2.06-2.06.94zm-11 1L8.5 8.5l.94-2.06 2.06-.94-2.06-.94L8.5 2.5l-.94 2.06-2.06.94zm10 10l.94 2.06.94-2.06 2.06-.94-2.06-.94-.94-2.06-.94 2.06-2.06.94z\"/><path d=\"M17.41 7.96l-1.37-1.37c-.4-.4-.92-.59-1.43-.59-.52 0-1.04.2-1.43.59L10.3 9.45l-7.72 7.72c-.78.78-.78 2.05 0 2.83L4 21.41c.39.39.9.59 1.41.59.51 0 1.02-.2 1.41-.59l7.78-7.78 2.81-2.81c.8-.78.8-2.07 0-2.86zM5.41 20L4 18.59l7.72-7.72 1.47 1.35L5.41 20z\"/>\n",
              "  </svg>\n",
              "      </button>\n",
              "      \n",
              "  <style>\n",
              "    .colab-df-container {\n",
              "      display:flex;\n",
              "      flex-wrap:wrap;\n",
              "      gap: 12px;\n",
              "    }\n",
              "\n",
              "    .colab-df-convert {\n",
              "      background-color: #E8F0FE;\n",
              "      border: none;\n",
              "      border-radius: 50%;\n",
              "      cursor: pointer;\n",
              "      display: none;\n",
              "      fill: #1967D2;\n",
              "      height: 32px;\n",
              "      padding: 0 0 0 0;\n",
              "      width: 32px;\n",
              "    }\n",
              "\n",
              "    .colab-df-convert:hover {\n",
              "      background-color: #E2EBFA;\n",
              "      box-shadow: 0px 1px 2px rgba(60, 64, 67, 0.3), 0px 1px 3px 1px rgba(60, 64, 67, 0.15);\n",
              "      fill: #174EA6;\n",
              "    }\n",
              "\n",
              "    [theme=dark] .colab-df-convert {\n",
              "      background-color: #3B4455;\n",
              "      fill: #D2E3FC;\n",
              "    }\n",
              "\n",
              "    [theme=dark] .colab-df-convert:hover {\n",
              "      background-color: #434B5C;\n",
              "      box-shadow: 0px 1px 3px 1px rgba(0, 0, 0, 0.15);\n",
              "      filter: drop-shadow(0px 1px 2px rgba(0, 0, 0, 0.3));\n",
              "      fill: #FFFFFF;\n",
              "    }\n",
              "  </style>\n",
              "\n",
              "      <script>\n",
              "        const buttonEl =\n",
              "          document.querySelector('#df-6b2e4638-f8b7-4d99-91b7-1d256493e96e button.colab-df-convert');\n",
              "        buttonEl.style.display =\n",
              "          google.colab.kernel.accessAllowed ? 'block' : 'none';\n",
              "\n",
              "        async function convertToInteractive(key) {\n",
              "          const element = document.querySelector('#df-6b2e4638-f8b7-4d99-91b7-1d256493e96e');\n",
              "          const dataTable =\n",
              "            await google.colab.kernel.invokeFunction('convertToInteractive',\n",
              "                                                     [key], {});\n",
              "          if (!dataTable) return;\n",
              "\n",
              "          const docLinkHtml = 'Like what you see? Visit the ' +\n",
              "            '<a target=\"_blank\" href=https://colab.research.google.com/notebooks/data_table.ipynb>data table notebook</a>'\n",
              "            + ' to learn more about interactive tables.';\n",
              "          element.innerHTML = '';\n",
              "          dataTable['output_type'] = 'display_data';\n",
              "          await google.colab.output.renderOutput(dataTable, element);\n",
              "          const docLink = document.createElement('div');\n",
              "          docLink.innerHTML = docLinkHtml;\n",
              "          element.appendChild(docLink);\n",
              "        }\n",
              "      </script>\n",
              "    </div>\n",
              "  </div>\n",
              "  "
            ]
          },
          "metadata": {},
          "execution_count": 55
        }
      ],
      "source": [
        "y = data_n['review_score'].values\n",
        "X = data_n.drop(['review_score'], axis=1)\n",
        "print(\"      X \",\"        y\")\n",
        "print(X.shape,y.shape)\n",
        "print('\\n')\n",
        "X.head(1)   "
      ]
    },
    {
      "cell_type": "code",
      "execution_count": null,
      "metadata": {
        "id": "FvVHyDu671ym"
      },
      "outputs": [],
      "source": []
    },
    {
      "cell_type": "code",
      "execution_count": null,
      "metadata": {
        "colab": {
          "base_uri": "https://localhost:8080/"
        },
        "id": "km_EQpPY8EQ-",
        "outputId": "0cb6bfb5-68f3-474a-c138-b6529a83062c"
      },
      "outputs": [
        {
          "output_type": "stream",
          "name": "stdout",
          "text": [
            " X_train    y_train\n",
            "(92487, 34) (92487,)\n",
            "---------------\n",
            "X_test     y_test\n",
            "(23122, 34) (23122,)\n"
          ]
        }
      ],
      "source": [
        "# train test split\n",
        "from sklearn.model_selection import train_test_split\n",
        "X_train, X_test, y_train, y_test = train_test_split(X, y, test_size=0.2, stratify=y,random_state=25)\n",
        "\n",
        "\n",
        "print(\" X_train\",\"   y_train\")\n",
        "print(X_train.shape,y_train.shape)\n",
        "print('-'*15)\n",
        "print(\"X_test\",\"    y_test\")\n",
        "print(X_test.shape,y_test.shape)"
      ]
    },
    {
      "cell_type": "code",
      "execution_count": null,
      "metadata": {
        "id": "J_WTyja-RgKU"
      },
      "outputs": [],
      "source": [
        "pickle.dump(X_train,open('X_train.pkl','wb'))\n",
        "pickle.dump(X_test,open('X_test.pkl','wb'))\n",
        "pickle.dump(y_train,open('y_train.pkl','wb'))\n",
        "pickle.dump(y_test,open('y_test.pkl','wb'))"
      ]
    },
    {
      "cell_type": "code",
      "execution_count": null,
      "metadata": {
        "id": "mKCT42IuxysX"
      },
      "outputs": [],
      "source": [
        "X_train = pickle.load(open('X_train.pkl', 'rb'))\n",
        "X_test = pickle.load(open('X_test.pkl', 'rb'))\n",
        "y_train = pickle.load(open('y_train.pkl','rb'))\n",
        "y_test = pickle.load(open('y_test.pkl','rb'))"
      ]
    },
    {
      "cell_type": "code",
      "execution_count": null,
      "metadata": {
        "id": "1IqptiodycO4"
      },
      "outputs": [],
      "source": [
        "\n"
      ]
    },
    {
      "cell_type": "markdown",
      "metadata": {
        "id": "gOGuR9Vf0YDM"
      },
      "source": [
        "#4.1 Featurization"
      ]
    },
    {
      "cell_type": "markdown",
      "metadata": {
        "id": "5OZvpbhdw4Tz"
      },
      "source": [
        "### Featurization of text data"
      ]
    },
    {
      "cell_type": "code",
      "execution_count": null,
      "metadata": {
        "colab": {
          "base_uri": "https://localhost:8080/"
        },
        "id": "f4eH4BTqZHzQ",
        "outputId": "a1927ff8-d1d1-451a-dcde-73b103b27929"
      },
      "outputs": [
        {
          "output_type": "execute_result",
          "data": {
            "text/plain": [
              "((92487, 300), (23122, 300))"
            ]
          },
          "metadata": {},
          "execution_count": 62
        }
      ],
      "source": [
        "tfidf_w2v_vectors_train.shape,tfidf_w2v_vectors_test.shape"
      ]
    },
    {
      "cell_type": "code",
      "execution_count": null,
      "metadata": {
        "id": "dx06fvIzYXHi"
      },
      "outputs": [],
      "source": [
        "pickle.dump(tfidf_w2v_vectors_train,open('tfidf_w2v_vectors_train.pkl','wb'))\n",
        "pickle.dump(tfidf_w2v_vectors_test,open('tfidf_w2v_vectors_test.pkl','wb'))"
      ]
    },
    {
      "cell_type": "markdown",
      "metadata": {
        "id": "j9SnTQ2H5QVb"
      },
      "source": [
        "## Encoding Categorical Features"
      ]
    },
    {
      "cell_type": "markdown",
      "metadata": {
        "id": "QpciOFfvydj8"
      },
      "source": [
        "### Encoding Categorical Features: order_status"
      ]
    },
    {
      "cell_type": "code",
      "execution_count": null,
      "metadata": {
        "colab": {
          "base_uri": "https://localhost:8080/"
        },
        "id": "enAtfgrB6650",
        "outputId": "73f17d32-2e2c-40f7-90dc-4a2bfab964ed"
      },
      "outputs": [
        {
          "output_type": "stream",
          "name": "stdout",
          "text": [
            "After vectorizations\n",
            "(92487, 7) (92487,)\n",
            "(92487, 7) (23122,)\n"
          ]
        }
      ],
      "source": [
        "\n",
        "vectorizer = CountVectorizer(binary= True)\n",
        "vectorizer.fit(X_train['order_status'].values) # fit has to happen only on train data\n",
        "\n",
        "# we use the fitted CountVectorizer to convert the text to vector\n",
        "order_st_tr = vectorizer.transform(X_train['order_status'].values)\n",
        "\n",
        "order_st_te = vectorizer.transform(X_test['order_status'].values)\n",
        "\n",
        "print(\"After vectorizations\")\n",
        "print(order_st_tr.shape, y_train.shape)\n",
        "print(order_st_tr.shape, y_test.shape)\n"
      ]
    },
    {
      "cell_type": "markdown",
      "metadata": {
        "id": "Mvs15_sryiJp"
      },
      "source": [
        "### Encoding Categorical Features:payment_type"
      ]
    },
    {
      "cell_type": "code",
      "execution_count": null,
      "metadata": {
        "colab": {
          "base_uri": "https://localhost:8080/"
        },
        "id": "9Or3gF2CApk-",
        "outputId": "a172bb35-e308-47d0-fc75-7a37f45e39b7"
      },
      "outputs": [
        {
          "output_type": "stream",
          "name": "stdout",
          "text": [
            "After vectorizations\n",
            "(92487, 4) (92487,)\n",
            "(92487, 4) (23122,)\n"
          ]
        }
      ],
      "source": [
        "vectorizer = CountVectorizer(binary= True)\n",
        "vectorizer.fit(X_train['payment_type'].values) # fit has to happen only on train data\n",
        "\n",
        "# we use the fitted CountVectorizer to convert the text to vector\n",
        "pay_typ_tr = vectorizer.transform(X_train['payment_type'].values)\n",
        "\n",
        "pay_typ_te = vectorizer.transform(X_test['payment_type'].values)\n",
        "\n",
        "print(\"After vectorizations\")\n",
        "print(pay_typ_tr.shape, y_train.shape)\n",
        "print(pay_typ_tr.shape, y_test.shape)\n"
      ]
    },
    {
      "cell_type": "markdown",
      "metadata": {
        "id": "N29dhmmkyoaF"
      },
      "source": [
        "### Encoding Categorical Features:product_category_name_english"
      ]
    },
    {
      "cell_type": "code",
      "execution_count": null,
      "metadata": {
        "colab": {
          "base_uri": "https://localhost:8080/"
        },
        "id": "cjttm5u5_XEV",
        "outputId": "671f5193-a441-4695-8667-004b686ac056"
      },
      "outputs": [
        {
          "output_type": "stream",
          "name": "stdout",
          "text": [
            "After vectorizations\n",
            "(92487, 71) (92487,)\n",
            "(92487, 71) (23122,)\n"
          ]
        }
      ],
      "source": [
        "vectorizer = CountVectorizer(binary= True)\n",
        "vectorizer.fit(X_train['product_category_name_english'].values) # fit has to happen only on train data\n",
        "\n",
        "# we use the fitted CountVectorizer to convert the text to vector\n",
        "prod_cat_tr = vectorizer.transform(X_train['product_category_name_english'].values)\n",
        "\n",
        "prod_cat_te = vectorizer.transform(X_test['product_category_name_english'].values)\n",
        "\n",
        "print(\"After vectorizations\")\n",
        "print(prod_cat_tr.shape, y_train.shape)\n",
        "print(prod_cat_tr.shape, y_test.shape)\n"
      ]
    },
    {
      "cell_type": "markdown",
      "metadata": {
        "id": "2LpZiGkhyvuN"
      },
      "source": [
        "### Encoding Categorical Features: customer_state"
      ]
    },
    {
      "cell_type": "code",
      "execution_count": null,
      "metadata": {
        "colab": {
          "base_uri": "https://localhost:8080/"
        },
        "id": "LiCVQkBO67Ag",
        "outputId": "54169514-458e-429d-8e7a-ac367593d19c"
      },
      "outputs": [
        {
          "output_type": "stream",
          "name": "stdout",
          "text": [
            "After vectorizations\n",
            "(92487, 27) (92487,)\n",
            "(92487, 27) (23122,)\n"
          ]
        }
      ],
      "source": [
        "vectorizer = CountVectorizer(binary= True)\n",
        "vectorizer.fit(X_train['customer_state'].values) # fit has to happen only on train data\n",
        "\n",
        "# we use the fitted CountVectorizer to convert the text to vector\n",
        "state_tr = vectorizer.transform(X_train['customer_state'].values)\n",
        "\n",
        "state_te = vectorizer.transform(X_test['customer_state'].values)\n",
        "\n",
        "print(\"After vectorizations\")\n",
        "print(state_tr.shape, y_train.shape)\n",
        "print(state_tr.shape, y_test.shape)\n"
      ]
    },
    {
      "cell_type": "markdown",
      "metadata": {
        "id": "Xzj6jvM4yxXT"
      },
      "source": [
        "### Encoding Categorical Features: RFM_Level"
      ]
    },
    {
      "cell_type": "code",
      "execution_count": null,
      "metadata": {
        "colab": {
          "base_uri": "https://localhost:8080/"
        },
        "id": "tClRrJZA67DE",
        "outputId": "1050f6bb-d067-4eb1-e56f-48d9cdb8b3f3"
      },
      "outputs": [
        {
          "output_type": "stream",
          "name": "stdout",
          "text": [
            "After vectorizations\n",
            "(92487, 11) (92487,)\n",
            "(92487, 11) (23122,)\n"
          ]
        }
      ],
      "source": [
        "vectorizer = CountVectorizer(binary= True)\n",
        "vectorizer.fit(X_train['RFM_Level'].values) # fit has to happen only on train data\n",
        "\n",
        "# we use the fitted CountVectorizer to convert the text to vector\n",
        "rfm_tr = vectorizer.transform(X_train['RFM_Level'].values)\n",
        "\n",
        "rfm_te = vectorizer.transform(X_test['RFM_Level'].values)\n",
        "\n",
        "print(\"After vectorizations\")\n",
        "print(rfm_tr.shape, y_train.shape)\n",
        "print(rfm_tr.shape, y_test.shape)\n"
      ]
    },
    {
      "cell_type": "code",
      "execution_count": null,
      "metadata": {
        "id": "K1Q6Ddj367F5"
      },
      "outputs": [],
      "source": []
    },
    {
      "cell_type": "markdown",
      "metadata": {
        "id": "manlqBBoCF0b"
      },
      "source": [
        "## Numerical features"
      ]
    },
    {
      "cell_type": "code",
      "execution_count": null,
      "metadata": {
        "id": "yGpKOkGVFSfL"
      },
      "outputs": [],
      "source": [
        "# numerical features\n",
        "num=['payment_sequential',\n",
        " 'payment_installments',\n",
        " 'payment_value',\n",
        " 'customer_zip_code_prefix',\n",
        " 'price',\n",
        " 'freight_value',\n",
        " 'product_name_lenght',\n",
        " 'product_description_lenght',\n",
        " 'product_photos_qty',\n",
        " 'product_weight_g',\n",
        " 'product_length_cm',\n",
        " 'product_height_cm',\n",
        " 'product_width_cm',\n",
        " 'recency',\n",
        " 'frequency',\n",
        " 'monetary',\n",
        " 'sellers_count',\n",
        " 'products_count',\n",
        " 'est_delivery_t',\n",
        " 'act_delivery_t',\n",
        " 'diff_in_delivery_t',\n",
        " 'on_time_delivery',\n",
        " 'avg_prdt_value',\n",
        " 'total_order_cost',\n",
        " 'order_freight_ratio',\n",
        " 'purchase_dayofweek',\n",
        " 'is_reviewed']"
      ]
    },
    {
      "cell_type": "code",
      "execution_count": null,
      "metadata": {
        "id": "Oic8NPhs67LL"
      },
      "outputs": [],
      "source": [
        "tr=[]\n",
        "te=[]\n",
        "for i in num:\n",
        "  a,b = normalizer(i)\n",
        "  tr.append(a)\n",
        "  te.append(b)\n",
        "\n"
      ]
    },
    {
      "cell_type": "code",
      "execution_count": null,
      "metadata": {
        "colab": {
          "base_uri": "https://localhost:8080/"
        },
        "id": "48PkXHkVE7ai",
        "outputId": "0af9dcf0-f8e5-4f39-a441-1348381922f1"
      },
      "outputs": [
        {
          "output_type": "stream",
          "name": "stdout",
          "text": [
            "Final Data matrix\n",
            "(92487, 27) (92487,)\n",
            "(23122, 27) (23122,)\n"
          ]
        }
      ],
      "source": [
        "from scipy.sparse import hstack,csr_matrix\n",
        "import numpy as np\n",
        "\n",
        "X_tr_num = np.hstack((tr))\n",
        "X_te_num = np.hstack((te))\n",
        "\n",
        "\n",
        "print(\"Final Data matrix\")\n",
        "print(X_tr_num.shape, y_train.shape)\n",
        "print(X_te_num.shape, y_test.shape)"
      ]
    },
    {
      "cell_type": "code",
      "execution_count": null,
      "metadata": {
        "colab": {
          "base_uri": "https://localhost:8080/"
        },
        "id": "IaBj7QzcHVdX",
        "outputId": "6bf054af-e718-4d9b-c919-9830a126773d"
      },
      "outputs": [
        {
          "output_type": "stream",
          "name": "stdout",
          "text": [
            "Final Data matrix\n",
            "(92487, 447) (92487,)\n",
            "(23122, 447) (23122,)\n",
            "====================================================================================================\n",
            "\n"
          ]
        }
      ],
      "source": [
        "# merge two sparse matrices: https://stackoverflow.com/a/19710648/4084039\n",
        "from scipy.sparse import hstack\n",
        "X_tr = hstack((tfidf_w2v_vectors_train,order_st_tr,pay_typ_tr,prod_cat_tr,state_tr,rfm_tr,X_tr_num)).tocsr()\n",
        "X_te = hstack((tfidf_w2v_vectors_test,order_st_te,pay_typ_te,prod_cat_te,state_te,rfm_te,X_te_num)).tocsr()\n",
        "\n",
        "print(\"Final Data matrix\")\n",
        "print(X_tr.shape, y_train.shape)\n",
        "\n",
        "print(X_te.shape, y_test.shape)\n",
        "print(\"=\"*100)\n",
        "print('')"
      ]
    },
    {
      "cell_type": "code",
      "execution_count": null,
      "metadata": {
        "id": "OHPsKXJEuZto"
      },
      "outputs": [],
      "source": [
        "pickle.dump(X_tr,open('X_tr.pkl','wb'))\n",
        "pickle.dump(X_te,open('X_te.pkl','wb'))\n"
      ]
    },
    {
      "cell_type": "code",
      "execution_count": null,
      "metadata": {
        "id": "-tp9tyOGy4z4"
      },
      "outputs": [],
      "source": [
        "X_tr = pickle.load(open('X_tr.pkl', 'rb'))\n",
        "X_te = pickle.load(open('X_te.pkl', 'rb'))\n"
      ]
    },
    {
      "cell_type": "markdown",
      "metadata": {
        "id": "jU_NIf-0LKYd"
      },
      "source": [
        "#4.2 Baseline Model:(Logistic Regression Model)"
      ]
    },
    {
      "cell_type": "code",
      "execution_count": null,
      "metadata": {
        "colab": {
          "base_uri": "https://localhost:8080/",
          "height": 469
        },
        "id": "DIDHdHm5HVm_",
        "outputId": "b76858e2-69cb-46c7-cf86-d9c886edf39b"
      },
      "outputs": [
        {
          "output_type": "stream",
          "name": "stdout",
          "text": [
            "Alpha =  1e-05 Train Score 0.7962455210251356 test Score 0.7982589031339031\n",
            "Alpha =  0.0001 Train Score 0.7803876142408842 test Score 0.7827799756288915\n",
            "Alpha =  0.001 Train Score 0.713537365426639 test Score 0.7196937578374314\n",
            "Alpha =  0.01 Train Score 0.6628598690593523 test Score 0.6647666541259591\n",
            "Alpha =  0.1 Train Score 0.45634577741725 test Score 0.45634948625708305\n",
            "Alpha =  1 Train Score 0.45634577741725 test Score 0.45634948625708305\n",
            "Alpha =  10 Train Score 0.45634577741725 test Score 0.45634948625708305\n",
            "Alpha =  100 Train Score 0.45634577741725 test Score 0.45634948625708305\n",
            "Alpha =  1000 Train Score 0.45634577741725 test Score 0.45634948625708305\n"
          ]
        },
        {
          "output_type": "execute_result",
          "data": {
            "text/plain": [
              "Text(0.5, 1.0, 'Alpha vs Score')"
            ]
          },
          "metadata": {},
          "execution_count": 79
        },
        {
          "output_type": "display_data",
          "data": {
            "text/plain": [
              "<Figure size 432x288 with 1 Axes>"
            ],
            "image/png": "[encoded data removed]"
          },
          "metadata": {
            "needs_background": "light"
          }
        }
      ],
      "source": [
        "# Training Logistic regression model and chekcing f1 score metric\n",
        "alpha = [10 ** x for x in range(-5, 4)]\n",
        "train_scores = [] # store train scores\n",
        "test_scores = [] # store test scores\n",
        "\n",
        "for i in alpha:\n",
        "    lr = SGDClassifier(loss='log', penalty='l2', alpha=i, n_jobs=-1, random_state=25)\n",
        "    lr.fit(X_tr,y_train)\n",
        "    train_sc = f1_score(y_train,lr.predict(X_tr),average='macro')\n",
        "    test_sc = f1_score(y_test,lr.predict(X_te),average='macro')\n",
        "    test_scores.append(test_sc)\n",
        "    train_scores.append(train_sc)\n",
        "    print('Alpha = ',i,'Train Score',train_sc,'test Score',test_sc)\n",
        "    \n",
        "# plotting the scores vs parameters\n",
        "plt.plot(np.log(alpha),train_scores,label='Train Score',color='black')\n",
        "plt.plot(np.log(alpha),test_scores,label='Test Score',color='#000080',alpha=0.7)\n",
        "plt.xlabel('Alpha')\n",
        "plt.ylabel('Score')\n",
        "plt.grid()\n",
        "plt.title('Alpha vs Score')"
      ]
    },
    {
      "cell_type": "code",
      "execution_count": null,
      "metadata": {
        "colab": {
          "base_uri": "https://localhost:8080/"
        },
        "id": "8PzMhcRnQ373",
        "outputId": "709815e8-16c8-4fa4-b5c5-a4d6fb481705"
      },
      "outputs": [
        {
          "output_type": "stream",
          "name": "stdout",
          "text": [
            "Fitting 5 folds for each of 9 candidates, totalling 45 fits\n",
            "mean test scores [0.80352594 0.75580968 0.68079953 0.66279404 0.45655571 0.45634578\n",
            " 0.45634578 0.45634578 0.45634578]\n",
            "mean train scores [0.80713412 0.75823059 0.68224009 0.66282692 0.45658985 0.45634578\n",
            " 0.45634578 0.45634578 0.45634578]\n"
          ]
        }
      ],
      "source": [
        "# Parameter tuning of Logistic regression using RandomisedSearch CV technique\n",
        "sgd = SGDClassifier(loss='log', n_jobs=-1, random_state=25)\n",
        " \n",
        "prams={ 'alpha': [10 ** x for x in range(-5, 4)] }\n",
        "\n",
        "random_cfl1 = RandomizedSearchCV(sgd,param_distributions=prams,verbose=10,scoring='f1_macro',n_jobs=-1,random_state=25,\n",
        "                               return_train_score=True)\n",
        "random_cfl1.fit(X_tr,y_train)\n",
        "\n",
        "print('mean test scores',random_cfl1.cv_results_['mean_test_score'])\n",
        "print('mean train scores',random_cfl1.cv_results_['mean_train_score'])"
      ]
    },
    {
      "cell_type": "code",
      "execution_count": null,
      "metadata": {
        "colab": {
          "base_uri": "https://localhost:8080/"
        },
        "id": "DKwwd05EnTxI",
        "outputId": "70caa9e5-2d80-45f1-ba9f-69bf49c12b7d"
      },
      "outputs": [
        {
          "output_type": "stream",
          "name": "stdout",
          "text": [
            "Best Parameters:  {'alpha': 1e-05}\n",
            "Best Score:  0.803525940534614\n"
          ]
        }
      ],
      "source": [
        "# printing best parameters and score\n",
        "print(\"Best Parameters: \",random_cfl1.best_params_)\n",
        "print(\"Best Score: \",random_cfl1.best_score_)"
      ]
    },
    {
      "cell_type": "code",
      "execution_count": null,
      "metadata": {
        "colab": {
          "base_uri": "https://localhost:8080/"
        },
        "id": "ykBlXqOTQ3_V",
        "outputId": "b653c072-1525-45fa-df5c-af9b494f6f4a"
      },
      "outputs": [
        {
          "output_type": "stream",
          "name": "stdout",
          "text": [
            "Train f1 score:  0.7962455210251356\n",
            "Test f1 score:  0.7982589031339031\n"
          ]
        }
      ],
      "source": [
        "# Fitting LogisticRegression mpdel on best parameters\n",
        "sgd = SGDClassifier(loss='log', alpha=1e-05, n_jobs=-1, random_state=25)\n",
        "sgd.fit(X_tr,y_train)\n",
        "\n",
        "\n",
        "y_train_pred = sgd.predict(X_tr)\n",
        "y_test_pred = sgd.predict(X_te)\n",
        "\n",
        "# printing train and test scores \n",
        "print('Train f1 score: ',f1_score(y_train,y_train_pred,average='macro'))\n",
        "print('Test f1 score: ',f1_score(y_test,y_test_pred,average='macro'))"
      ]
    },
    {
      "cell_type": "code",
      "execution_count": null,
      "metadata": {
        "colab": {
          "base_uri": "https://localhost:8080/",
          "height": 350
        },
        "id": "F4Ubkfmi-F-N",
        "outputId": "dfbf5d53-29bc-45ed-b6c7-396a8237f78d"
      },
      "outputs": [
        {
          "output_type": "display_data",
          "data": {
            "text/plain": [
              "<Figure size 1080x360 with 4 Axes>"
            ],
            "image/png": "[encoded data removed]"
          },
          "metadata": {
            "needs_background": "light"
          }
        }
      ],
      "source": [
        "confusion_matrices_plot(y_train,y_train_pred,y_test,y_test_pred,'feat_md_lr.png')"
      ]
    },
    {
      "cell_type": "code",
      "execution_count": null,
      "metadata": {
        "id": "-MZzfy_c6AQA"
      },
      "outputs": [],
      "source": []
    },
    {
      "cell_type": "markdown",
      "metadata": {
        "id": "SjYaalog3FEP"
      },
      "source": [
        "Observation(s):\n",
        "\n",
        "* After adding new features ,we have total 29 numerical features and 5 categorical features and text data(300 dim).\n",
        "\n",
        "* Train f1 score:  0.74714702593478647,Test f1 score:  0.7328464710133609\n",
        "* From the both train and test confusion matrix , we can observe that the false positive values are increased.we will try to reduce it by selection important features.\n"
      ]
    },
    {
      "cell_type": "code",
      "execution_count": null,
      "metadata": {
        "id": "r3F02oXwpdLX"
      },
      "outputs": [],
      "source": []
    },
    {
      "cell_type": "code",
      "execution_count": null,
      "metadata": {
        "id": "IEfWhc63PDfz"
      },
      "outputs": [],
      "source": []
    },
    {
      "cell_type": "markdown",
      "metadata": {
        "id": "qQh8CGQvCj8u"
      },
      "source": [
        "#5.Feature Extraction/Selection using AutoEncoders"
      ]
    },
    {
      "cell_type": "code",
      "execution_count": null,
      "metadata": {
        "id": "hJ9iVydlIoGE"
      },
      "outputs": [],
      "source": [
        "\n",
        "#Importing the Libraries\n",
        "from sklearn.preprocessing import MinMaxScaler\n",
        "from sklearn.model_selection import train_test_split\n",
        "from tensorflow.keras.layers import LeakyReLU\n",
        "from tensorflow.keras.models import Model\n",
        "from tensorflow.keras.layers import Input\n",
        "from tensorflow.keras.layers import Dense\n",
        "from tensorflow.keras.layers import BatchNormalization\n",
        "from tensorflow.keras.models import load_model\n",
        "\n"
      ]
    },
    {
      "cell_type": "code",
      "execution_count": null,
      "metadata": {
        "id": "EXu1WN6sIoJk"
      },
      "outputs": [],
      "source": []
    },
    {
      "cell_type": "code",
      "execution_count": null,
      "metadata": {
        "id": "U95s-L_aC7kz"
      },
      "outputs": [],
      "source": [
        "\n",
        "# AutoEncoder Model Preparation\n",
        "n_inputs = X_tr.shape[1]\n",
        "# define encoder\n",
        "input_data_shape= Input(shape=(n_inputs,))\n",
        "# encoder level 1\n",
        "encoder= Dense(round(float(n_inputs) / 2.0))(input_data_shape)\n",
        "encoder = BatchNormalization()(encoder)\n",
        "encoder= LeakyReLU()(encoder)\n",
        "# encoder level 2\n",
        "encoder= Dense(round(float(n_inputs) / 3.0))(encoder)\n",
        "encoder= BatchNormalization()(encoder)\n",
        "encoder= LeakyReLU()(encoder)\n",
        "# bottleneck (half of Input)\n",
        "n_bottleneck = round(float(n_inputs) / 4.0)\n",
        "bottleneck = Dense(n_bottleneck)(encoder)\n",
        "# define decoder, level 1\n",
        "decoder = Dense(round(float(n_inputs) / 3.0))(bottleneck)\n",
        "decoder = BatchNormalization()(decoder)\n",
        "decoder = LeakyReLU()(decoder)\n",
        "# decoder level 2\n",
        "decoder = Dense(round(float(n_inputs) / 2.0))(decoder)\n",
        "decoder = BatchNormalization()(decoder)\n",
        "decoder = LeakyReLU()(decoder)"
      ]
    },
    {
      "cell_type": "code",
      "execution_count": null,
      "metadata": {
        "id": "O-I5uc7u3jWb"
      },
      "outputs": [],
      "source": []
    },
    {
      "cell_type": "code",
      "execution_count": null,
      "metadata": {
        "id": "eBjYtB5IImV9"
      },
      "outputs": [],
      "source": [
        "# output layer\n",
        "output = Dense(n_inputs, activation='linear')(decoder)\n",
        "# define autoencoder model\n",
        "model = Model(inputs=input_data_shape, outputs=output)\n",
        "# compile autoencoder model\n",
        "model.compile(optimizer='adam', loss='mse')\n",
        "\n"
      ]
    },
    {
      "cell_type": "code",
      "execution_count": null,
      "metadata": {
        "colab": {
          "base_uri": "https://localhost:8080/"
        },
        "id": "CRCpG7yPIm30",
        "outputId": "65e96095-ebe3-432c-b89e-d78609e7a90b"
      },
      "outputs": [
        {
          "output_type": "stream",
          "name": "stdout",
          "text": [
            "Model: \"model\"\n",
            "_________________________________________________________________\n",
            " Layer (type)                Output Shape              Param #   \n",
            "=================================================================\n",
            " input_1 (InputLayer)        [(None, 447)]             0         \n",
            "                                                                 \n",
            " dense (Dense)               (None, 224)               100352    \n",
            "                                                                 \n",
            " batch_normalization (BatchN  (None, 224)              896       \n",
            " ormalization)                                                   \n",
            "                                                                 \n",
            " leaky_re_lu (LeakyReLU)     (None, 224)               0         \n",
            "                                                                 \n",
            " dense_1 (Dense)             (None, 149)               33525     \n",
            "                                                                 \n",
            " batch_normalization_1 (Batc  (None, 149)              596       \n",
            " hNormalization)                                                 \n",
            "                                                                 \n",
            " leaky_re_lu_1 (LeakyReLU)   (None, 149)               0         \n",
            "                                                                 \n",
            " dense_2 (Dense)             (None, 112)               16800     \n",
            "                                                                 \n",
            " dense_3 (Dense)             (None, 149)               16837     \n",
            "                                                                 \n",
            " batch_normalization_2 (Batc  (None, 149)              596       \n",
            " hNormalization)                                                 \n",
            "                                                                 \n",
            " leaky_re_lu_2 (LeakyReLU)   (None, 149)               0         \n",
            "                                                                 \n",
            " dense_4 (Dense)             (None, 224)               33600     \n",
            "                                                                 \n",
            " batch_normalization_3 (Batc  (None, 224)              896       \n",
            " hNormalization)                                                 \n",
            "                                                                 \n",
            " leaky_re_lu_3 (LeakyReLU)   (None, 224)               0         \n",
            "                                                                 \n",
            " dense_5 (Dense)             (None, 447)               100575    \n",
            "                                                                 \n",
            "=================================================================\n",
            "Total params: 304,673\n",
            "Trainable params: 303,181\n",
            "Non-trainable params: 1,492\n",
            "_________________________________________________________________\n"
          ]
        }
      ],
      "source": [
        "model.summary()"
      ]
    },
    {
      "cell_type": "code",
      "execution_count": null,
      "metadata": {
        "colab": {
          "base_uri": "https://localhost:8080/",
          "height": 1000
        },
        "id": "zwZWGUATSSzV",
        "outputId": "7de7608a-b08b-4283-9ff3-1a6adc2308d5"
      },
      "outputs": [
        {
          "output_type": "execute_result",
          "data": {
            "image/png": "[encoded data removed]",
            "text/plain": [
              "<IPython.core.display.Image object>"
            ]
          },
          "metadata": {},
          "execution_count": 88
        }
      ],
      "source": [
        "from keras.utils.vis_utils import plot_model\n",
        "plot_model(model, to_file='encode.png', show_shapes=True, show_layer_names=True)"
      ]
    },
    {
      "cell_type": "code",
      "execution_count": null,
      "metadata": {
        "colab": {
          "base_uri": "https://localhost:8080/"
        },
        "id": "eDNxmVQ8Im8A",
        "outputId": "7acfe779-619e-47aa-fef9-ac0963d0ba15"
      },
      "outputs": [
        {
          "output_type": "stream",
          "name": "stdout",
          "text": [
            "Epoch 1/50\n",
            "5781/5781 - 44s - loss: 0.0948 - val_loss: 0.0887 - 44s/epoch - 8ms/step\n",
            "Epoch 2/50\n",
            "5781/5781 - 38s - loss: 0.0820 - val_loss: 0.0723 - 38s/epoch - 7ms/step\n",
            "Epoch 3/50\n",
            "5781/5781 - 38s - loss: 0.0782 - val_loss: 0.0718 - 38s/epoch - 7ms/step\n",
            "Epoch 4/50\n",
            "5781/5781 - 39s - loss: 0.0756 - val_loss: 0.0754 - 39s/epoch - 7ms/step\n",
            "Epoch 5/50\n",
            "5781/5781 - 39s - loss: 0.0744 - val_loss: 0.0748 - 39s/epoch - 7ms/step\n",
            "Epoch 6/50\n",
            "5781/5781 - 38s - loss: 0.0732 - val_loss: 0.0722 - 38s/epoch - 7ms/step\n",
            "Epoch 7/50\n",
            "5781/5781 - 39s - loss: 0.0725 - val_loss: 0.0686 - 39s/epoch - 7ms/step\n",
            "Epoch 8/50\n",
            "5781/5781 - 38s - loss: 0.0719 - val_loss: 0.0699 - 38s/epoch - 7ms/step\n",
            "Epoch 9/50\n",
            "5781/5781 - 39s - loss: 0.0712 - val_loss: 0.0674 - 39s/epoch - 7ms/step\n",
            "Epoch 10/50\n",
            "5781/5781 - 39s - loss: 0.0709 - val_loss: 0.0678 - 39s/epoch - 7ms/step\n",
            "Epoch 11/50\n",
            "5781/5781 - 38s - loss: 0.0700 - val_loss: 0.0671 - 38s/epoch - 7ms/step\n",
            "Epoch 12/50\n",
            "5781/5781 - 39s - loss: 0.0696 - val_loss: 0.0707 - 39s/epoch - 7ms/step\n",
            "Epoch 13/50\n",
            "5781/5781 - 38s - loss: 0.0688 - val_loss: 0.0671 - 38s/epoch - 7ms/step\n",
            "Epoch 14/50\n",
            "5781/5781 - 38s - loss: 0.0683 - val_loss: 0.0667 - 38s/epoch - 7ms/step\n",
            "Epoch 15/50\n",
            "5781/5781 - 38s - loss: 0.0681 - val_loss: 0.0661 - 38s/epoch - 7ms/step\n",
            "Epoch 16/50\n",
            "5781/5781 - 38s - loss: 0.0676 - val_loss: 0.0668 - 38s/epoch - 7ms/step\n",
            "Epoch 17/50\n",
            "5781/5781 - 38s - loss: 0.0672 - val_loss: 0.0663 - 38s/epoch - 7ms/step\n",
            "Epoch 18/50\n",
            "5781/5781 - 38s - loss: 0.0671 - val_loss: 0.0673 - 38s/epoch - 7ms/step\n",
            "Epoch 19/50\n",
            "5781/5781 - 38s - loss: 0.0665 - val_loss: 0.0673 - 38s/epoch - 7ms/step\n",
            "Epoch 20/50\n",
            "5781/5781 - 38s - loss: 0.0665 - val_loss: 0.0669 - 38s/epoch - 7ms/step\n",
            "Epoch 21/50\n",
            "5781/5781 - 38s - loss: 0.0658 - val_loss: 0.0669 - 38s/epoch - 7ms/step\n",
            "Epoch 22/50\n",
            "5781/5781 - 38s - loss: 0.0658 - val_loss: 0.0670 - 38s/epoch - 7ms/step\n",
            "Epoch 23/50\n",
            "5781/5781 - 38s - loss: 0.0654 - val_loss: 0.0685 - 38s/epoch - 7ms/step\n",
            "Epoch 24/50\n",
            "5781/5781 - 38s - loss: 0.0649 - val_loss: 0.0663 - 38s/epoch - 7ms/step\n",
            "Epoch 25/50\n",
            "5781/5781 - 38s - loss: 0.0649 - val_loss: 0.0678 - 38s/epoch - 7ms/step\n",
            "Epoch 26/50\n",
            "5781/5781 - 38s - loss: 0.0642 - val_loss: 0.0661 - 38s/epoch - 7ms/step\n",
            "Epoch 27/50\n",
            "5781/5781 - 38s - loss: 0.0641 - val_loss: 0.0661 - 38s/epoch - 7ms/step\n",
            "Epoch 28/50\n",
            "5781/5781 - 38s - loss: 0.0641 - val_loss: 0.0662 - 38s/epoch - 7ms/step\n",
            "Epoch 29/50\n",
            "5781/5781 - 38s - loss: 0.0637 - val_loss: 0.0675 - 38s/epoch - 7ms/step\n",
            "Epoch 30/50\n",
            "5781/5781 - 38s - loss: 0.0632 - val_loss: 0.0670 - 38s/epoch - 7ms/step\n",
            "Epoch 31/50\n",
            "5781/5781 - 38s - loss: 0.0633 - val_loss: 0.0666 - 38s/epoch - 7ms/step\n",
            "Epoch 32/50\n",
            "5781/5781 - 38s - loss: 0.0630 - val_loss: 0.0671 - 38s/epoch - 7ms/step\n",
            "Epoch 33/50\n",
            "5781/5781 - 38s - loss: 0.0626 - val_loss: 0.0658 - 38s/epoch - 7ms/step\n",
            "Epoch 34/50\n",
            "5781/5781 - 38s - loss: 0.0625 - val_loss: 0.0668 - 38s/epoch - 7ms/step\n",
            "Epoch 35/50\n",
            "5781/5781 - 38s - loss: 0.0623 - val_loss: 0.0664 - 38s/epoch - 7ms/step\n",
            "Epoch 36/50\n",
            "5781/5781 - 38s - loss: 0.0617 - val_loss: 0.0658 - 38s/epoch - 7ms/step\n",
            "Epoch 37/50\n",
            "5781/5781 - 39s - loss: 0.0617 - val_loss: 0.0651 - 39s/epoch - 7ms/step\n",
            "Epoch 38/50\n",
            "5781/5781 - 38s - loss: 0.0616 - val_loss: 0.0655 - 38s/epoch - 7ms/step\n",
            "Epoch 39/50\n",
            "5781/5781 - 38s - loss: 0.0612 - val_loss: 0.0672 - 38s/epoch - 7ms/step\n",
            "Epoch 40/50\n",
            "5781/5781 - 38s - loss: 0.0614 - val_loss: 0.0656 - 38s/epoch - 7ms/step\n",
            "Epoch 41/50\n",
            "5781/5781 - 38s - loss: 0.0612 - val_loss: 0.0662 - 38s/epoch - 7ms/step\n",
            "Epoch 42/50\n",
            "5781/5781 - 38s - loss: 0.0606 - val_loss: 0.0674 - 38s/epoch - 7ms/step\n",
            "Epoch 43/50\n",
            "5781/5781 - 38s - loss: 0.0603 - val_loss: 0.0661 - 38s/epoch - 7ms/step\n",
            "Epoch 44/50\n",
            "5781/5781 - 38s - loss: 0.0602 - val_loss: 0.0657 - 38s/epoch - 7ms/step\n",
            "Epoch 45/50\n",
            "5781/5781 - 39s - loss: 0.0599 - val_loss: 0.0664 - 39s/epoch - 7ms/step\n",
            "Epoch 46/50\n",
            "5781/5781 - 38s - loss: 0.0598 - val_loss: 0.0657 - 38s/epoch - 7ms/step\n",
            "Epoch 47/50\n",
            "5781/5781 - 38s - loss: 0.0594 - val_loss: 0.0658 - 38s/epoch - 7ms/step\n",
            "Epoch 48/50\n",
            "5781/5781 - 38s - loss: 0.0594 - val_loss: 0.0661 - 38s/epoch - 7ms/step\n",
            "Epoch 49/50\n",
            "5781/5781 - 38s - loss: 0.0591 - val_loss: 0.0669 - 38s/epoch - 7ms/step\n",
            "Epoch 50/50\n",
            "5781/5781 - 38s - loss: 0.0587 - val_loss: 0.0648 - 38s/epoch - 7ms/step\n"
          ]
        }
      ],
      "source": [
        "# fit the autoencoder model to reconstruct input\n",
        "history = model.fit(X_tr, y_train, epochs=50, batch_size=16, verbose=2, validation_data=(X_te,y_test))"
      ]
    },
    {
      "cell_type": "code",
      "execution_count": null,
      "metadata": {
        "colab": {
          "base_uri": "https://localhost:8080/",
          "height": 295
        },
        "id": "COYVkXlyPEwY",
        "outputId": "53692a74-8717-4832-fee3-d81681e1ef01"
      },
      "outputs": [
        {
          "output_type": "display_data",
          "data": {
            "text/plain": [
              "<Figure size 432x288 with 1 Axes>"
            ],
            "image/png": "[encoded data removed]"
          },
          "metadata": {
            "needs_background": "light"
          }
        }
      ],
      "source": [
        "\n",
        "plt.plot(history.history['loss'],color='black')\n",
        "plt.plot(history.history['val_loss'],color='#000080',alpha=0.7)\n",
        "plt.title('Model Loss')\n",
        "plt.ylabel('Loss')\n",
        "plt.xlabel('Epoch')\n",
        "plt.legend(['Train', 'Val'], loc='lower right')\n",
        "plt.grid()\n",
        "plt.savefig('enc_loss.png', dpi=480, bbox_inches='tight')\n",
        "plt.show()"
      ]
    },
    {
      "cell_type": "code",
      "execution_count": null,
      "metadata": {
        "id": "K44HkkSUInAB",
        "colab": {
          "base_uri": "https://localhost:8080/"
        },
        "outputId": "65cf204b-c5f9-4581-889f-fa66546ee36f"
      },
      "outputs": [
        {
          "output_type": "stream",
          "name": "stderr",
          "text": [
            "WARNING:tensorflow:Compiled the loaded model, but the compiled metrics have yet to be built. `model.compile_metrics` will be empty until you train or evaluate the model.\n"
          ]
        }
      ],
      "source": [
        "# define an encoder model (without the decoder)\n",
        "encoder = Model(inputs=input_data_shape, outputs=bottleneck)\n",
        "# save the encoder to file\n",
        "encoder.save('encoder.h5')\n",
        "\n"
      ]
    },
    {
      "cell_type": "code",
      "execution_count": null,
      "metadata": {
        "colab": {
          "base_uri": "https://localhost:8080/"
        },
        "id": "2msYd2psMkA5",
        "outputId": "94586b0a-2493-4a82-d1d5-d612585cc74b"
      },
      "outputs": [
        {
          "output_type": "stream",
          "name": "stderr",
          "text": [
            "WARNING:tensorflow:No training configuration found in the save file, so the model was *not* compiled. Compile it manually.\n"
          ]
        },
        {
          "output_type": "stream",
          "name": "stdout",
          "text": [
            "X_train_encode (92487, 112)\n",
            "X_test_encode (23122, 112)\n"
          ]
        }
      ],
      "source": [
        "# load the model from file\n",
        "encoder = load_model('encoder.h5')\n",
        "\n",
        "# encode the train data\n",
        "X_train_encode = encoder.predict(X_tr)\n",
        "print('X_train_encode',X_train_encode.shape)\n",
        "# encode the test data\n",
        "X_test_encode = encoder.predict(X_te)\n",
        "print('X_test_encode',X_test_encode.shape)"
      ]
    },
    {
      "cell_type": "code",
      "execution_count": null,
      "metadata": {
        "colab": {
          "base_uri": "https://localhost:8080/",
          "height": 469
        },
        "id": "y94t73jiJ_ry",
        "outputId": "be954b5a-0939-4b27-d729-1c44cc3981e3"
      },
      "outputs": [
        {
          "output_type": "stream",
          "name": "stdout",
          "text": [
            "Alpha =  1e-05 Train Score 0.8287967070845299 test Score 0.8108359928197262\n",
            "Alpha =  0.0001 Train Score 0.7912250004418275 test Score 0.7743864312310977\n",
            "Alpha =  0.001 Train Score 0.8529854910132961 test Score 0.8254430860131959\n",
            "Alpha =  0.01 Train Score 0.8320238048849724 test Score 0.8059670045581453\n",
            "Alpha =  0.1 Train Score 0.8517767309758097 test Score 0.8215044748367213\n",
            "Alpha =  1 Train Score 0.8598254047613039 test Score 0.8280678805618026\n",
            "Alpha =  10 Train Score 0.8552352553822216 test Score 0.8262940030560773\n",
            "Alpha =  100 Train Score 0.838193057454892 test Score 0.8090139512462686\n",
            "Alpha =  1000 Train Score 0.5712396009983755 test Score 0.5608577497782238\n"
          ]
        },
        {
          "output_type": "execute_result",
          "data": {
            "text/plain": [
              "Text(0.5, 1.0, 'Alpha vs Score')"
            ]
          },
          "metadata": {},
          "execution_count": 93
        },
        {
          "output_type": "display_data",
          "data": {
            "text/plain": [
              "<Figure size 432x288 with 1 Axes>"
            ],
            "image/png": "[encoded data removed]"
          },
          "metadata": {
            "needs_background": "light"
          }
        }
      ],
      "source": [
        "# Training Logistic regression model and chekcing f1 score metric\n",
        "alpha = [10 ** x for x in range(-5, 4)]\n",
        "train_scores = [] # store train scores\n",
        "test_scores = [] # store test scores\n",
        "\n",
        "for i in alpha:\n",
        "    lr = SGDClassifier(loss='log', penalty='l2', alpha=i, n_jobs=-1, random_state=25)\n",
        "    lr.fit(X_train_encode,y_train)\n",
        "    train_sc = f1_score(y_train,lr.predict(X_train_encode),average='macro')\n",
        "    test_sc = f1_score(y_test,lr.predict(X_test_encode),average='macro')\n",
        "    test_scores.append(test_sc)\n",
        "    train_scores.append(train_sc)\n",
        "    print('Alpha = ',i,'Train Score',train_sc,'test Score',test_sc)\n",
        "    \n",
        "# plotting the scores vs parameters\n",
        "plt.plot(np.log(alpha),train_scores,label='Train Score',color='black')\n",
        "plt.plot(np.log(alpha),test_scores,label='Test Score',color='#000080',alpha=0.7)\n",
        "plt.xlabel('Alpha')\n",
        "plt.ylabel('Score')\n",
        "plt.grid()\n",
        "plt.title('Alpha vs Score')"
      ]
    },
    {
      "cell_type": "code",
      "execution_count": null,
      "metadata": {
        "colab": {
          "base_uri": "https://localhost:8080/"
        },
        "id": "2PYtPsfQL9Wx",
        "outputId": "1d0d22ce-fdda-4fe7-bf37-733693d1e06f"
      },
      "outputs": [
        {
          "output_type": "stream",
          "name": "stdout",
          "text": [
            "Fitting 5 folds for each of 9 candidates, totalling 45 fits\n",
            "mean test scores [0.77935618 0.81951624 0.82475275 0.8574577  0.85730213 0.86072504\n",
            " 0.85558924 0.8384062  0.57145035]\n",
            "mean train scores [0.78094178 0.81905584 0.82579737 0.85726746 0.85712637 0.86025866\n",
            " 0.85562093 0.83855619 0.57167152]\n"
          ]
        }
      ],
      "source": [
        "# Parameter tuning of Logistic regression using RandomisedSearch CV technique\n",
        "sgd = SGDClassifier(loss='log', n_jobs=-1, random_state=25)\n",
        " \n",
        "prams={ 'alpha': [10 ** x for x in range(-5, 4)] }\n",
        "\n",
        "random_cfl1 = RandomizedSearchCV(sgd,param_distributions=prams,verbose=10,scoring='f1_macro',n_jobs=-1,random_state=25,\n",
        "                               return_train_score=True)\n",
        "random_cfl1.fit(X_train_encode,y_train)\n",
        "\n",
        "print('mean test scores',random_cfl1.cv_results_['mean_test_score'])\n",
        "print('mean train scores',random_cfl1.cv_results_['mean_train_score'])"
      ]
    },
    {
      "cell_type": "code",
      "execution_count": null,
      "metadata": {
        "colab": {
          "base_uri": "https://localhost:8080/"
        },
        "id": "EYBXt8A3L96v",
        "outputId": "16563acc-0a23-4614-a330-16ba0e2da09d"
      },
      "outputs": [
        {
          "output_type": "stream",
          "name": "stdout",
          "text": [
            "Best Parameters:  {'alpha': 1}\n",
            "Best Score:  0.8607250406470653\n"
          ]
        }
      ],
      "source": [
        "# printing best parameters and score\n",
        "print(\"Best Parameters: \",random_cfl1.best_params_)\n",
        "print(\"Best Score: \",random_cfl1.best_score_)"
      ]
    },
    {
      "cell_type": "code",
      "execution_count": null,
      "metadata": {
        "colab": {
          "base_uri": "https://localhost:8080/"
        },
        "id": "w1SJhRaVMeU2",
        "outputId": "feeef129-4c64-4497-f702-bb91355e2b71"
      },
      "outputs": [
        {
          "output_type": "stream",
          "name": "stdout",
          "text": [
            "Train f1 score:  0.8517767309758097\n",
            "Test f1 score:  0.8215044748367213\n"
          ]
        }
      ],
      "source": [
        "# Fitting LogisticRegression mpdel on best parameters\n",
        "sgd = SGDClassifier(loss='log', alpha=0.1, n_jobs=-1, random_state=25)\n",
        "sgd.fit(X_train_encode,y_train)\n",
        "\n",
        "y_train_pred = sgd.predict(X_train_encode)\n",
        "y_test_pred = sgd.predict(X_test_encode)\n",
        "\n",
        "# printing train and test scores \n",
        "print('Train f1 score: ',f1_score(y_train,y_train_pred,average='macro'))\n",
        "print('Test f1 score: ',f1_score(y_test,y_test_pred,average='macro'))"
      ]
    },
    {
      "cell_type": "code",
      "execution_count": null,
      "metadata": {
        "colab": {
          "base_uri": "https://localhost:8080/",
          "height": 350
        },
        "id": "_kjOZF1HNGLm",
        "outputId": "a255f73c-5096-4d7c-8c8f-60e073a9029d"
      },
      "outputs": [
        {
          "output_type": "display_data",
          "data": {
            "text/plain": [
              "<Figure size 1080x360 with 4 Axes>"
            ],
            "image/png": "[encoded data removed]"
          },
          "metadata": {
            "needs_background": "light"
          }
        }
      ],
      "source": [
        "confusion_matrices_plot(y_train,y_train_pred,y_test,y_test_pred,'encoder.png')"
      ]
    },
    {
      "cell_type": "markdown",
      "metadata": {
        "id": "_W2E3X924sjO"
      },
      "source": [
        "Observation(s):\n",
        "\n",
        "* After extracting important featres using auto_encoder ,we have 112 features.\n",
        "* The train f1_score is increased to 0.8561932056894956 and and test f1-score to 0.8026991971236722.\n",
        "\n",
        "* lets try other machine learning models to improve the score"
      ]
    },
    {
      "cell_type": "code",
      "execution_count": null,
      "metadata": {
        "id": "P93ejIGnSMvW",
        "colab": {
          "base_uri": "https://localhost:8080/",
          "height": 399
        },
        "outputId": "9dbe7365-8947-4145-b396-91f74a16a086"
      },
      "outputs": [
        {
          "output_type": "stream",
          "name": "stdout",
          "text": [
            "Depth =  3 Train Score 0.8620132220424727 test Score 0.829856441571301\n",
            "Depth =  10 Train Score 0.8916094335757421 test Score 0.8287414809244926\n",
            "Depth =  50 Train Score 0.9920572593011814 test Score 0.786222503550379\n",
            "Depth =  100 Train Score 1.0 test Score 0.7788800682153525\n",
            "Depth =  250 Train Score 1.0 test Score 0.7788800682153525\n",
            "Depth =  500 Train Score 1.0 test Score 0.7788800682153525\n"
          ]
        },
        {
          "output_type": "display_data",
          "data": {
            "text/plain": [
              "<Figure size 432x288 with 1 Axes>"
            ],
            "image/png": "[encoded data removed]"
          },
          "metadata": {
            "needs_background": "light"
          }
        }
      ],
      "source": [
        "# Checking the variation of score with depth parameters of Decision Tree\n",
        "depth = [3,10,50,100,250,500]\n",
        "train_scores = []\n",
        "test_scores = []\n",
        "for i in depth:\n",
        "    clf = DecisionTreeClassifier(max_depth=i,random_state=25)\n",
        "    clf.fit(X_train_encode,y_train)\n",
        "    train_sc = f1_score(y_train,clf.predict(X_train_encode),average='macro')\n",
        "    test_sc = f1_score(y_test,clf.predict(X_test_encode),average='macro')\n",
        "    test_scores.append(test_sc)\n",
        "    train_scores.append(train_sc)\n",
        "    print('Depth = ',i,'Train Score',train_sc,'test Score',test_sc)\n",
        "\n",
        "# plotting the score vs depth\n",
        "plt.plot(depth,train_scores,label='Train Score',color='black')\n",
        "plt.plot(depth,test_scores,label='Test Score',color='#425a90',alpha=0.6)\n",
        "plt.xlabel('Depth')\n",
        "plt.ylabel('Score')\n",
        "plt.title('Depth vs Score')\n",
        "plt.grid()\n",
        "plt.show()"
      ]
    },
    {
      "cell_type": "code",
      "source": [
        "# Parameter tuning of DecisionTreeClassifier using RandomisedSearch CV technique\n",
        "\n",
        "dt = DecisionTreeClassifier(random_state=25)\n",
        "\n",
        "params = { \"max_depth\": sp_randint(3,500), \"min_samples_split\": sp_randint(50,200), \"min_samples_leaf\": sp_randint(2,50)}\n",
        "\n",
        "random_cfl1 = RandomizedSearchCV(dt, param_distributions=params,verbose=10,scoring='f1_macro',n_jobs=-1,random_state=25,\n",
        "                               return_train_score=True)\n",
        "random_cfl1.fit(X_train_encode,y_train)\n",
        "\n",
        "print('mean test scores',random_cfl1.cv_results_['mean_test_score'])\n",
        "print('mean train scores',random_cfl1.cv_results_['mean_train_score'])"
      ],
      "metadata": {
        "colab": {
          "base_uri": "https://localhost:8080/"
        },
        "id": "jE4P7OrKlqQv",
        "outputId": "75faa118-6d3a-4276-934e-8111cd516f74"
      },
      "execution_count": null,
      "outputs": [
        {
          "output_type": "stream",
          "name": "stdout",
          "text": [
            "Fitting 5 folds for each of 10 candidates, totalling 50 fits\n",
            "mean test scores [0.86592093 0.86559388 0.86004222 0.86647698 0.8599296  0.85914654\n",
            " 0.85119657 0.86472546 0.86466146 0.86420445]\n",
            "mean train scores [0.87597114 0.87643896 0.88353408 0.87654491 0.88459087 0.88494589\n",
            " 0.89687376 0.87942446 0.8783833  0.87841845]\n"
          ]
        }
      ]
    },
    {
      "cell_type": "code",
      "source": [
        "# printing best parameters and scores\n",
        "print(\"Best Parameters: \",random_cfl1.best_params_)\n",
        "print(\"Best Score: \",random_cfl1.best_score_)"
      ],
      "metadata": {
        "colab": {
          "base_uri": "https://localhost:8080/"
        },
        "id": "_dIUHEI7l-iB",
        "outputId": "1a6dd50b-4f61-472e-9e4e-d2c9ec959751"
      },
      "execution_count": null,
      "outputs": [
        {
          "output_type": "stream",
          "name": "stdout",
          "text": [
            "Best Parameters:  {'max_depth': 256, 'min_samples_leaf': 33, 'min_samples_split': 179}\n",
            "Best Score:  0.8664769796044803\n"
          ]
        }
      ]
    },
    {
      "cell_type": "code",
      "source": [
        "# Fitting the model on best parameters\n",
        "dt = DecisionTreeClassifier(max_depth = 135, min_samples_leaf = 28, min_samples_split = 193,random_state=25)\n",
        "dt.fit(X_train_encode,y_train)\n",
        "\n",
        "y_train_pred = dt.predict(X_train_encode)\n",
        "y_test_pred = dt.predict(X_test_encode)\n",
        "\n",
        "# printing train test score\n",
        "print('Train f1 score',f1_score(y_train,y_train_pred,average='macro'))\n",
        "print('Test f1 score',f1_score(y_test,y_test_pred,average='macro'))"
      ],
      "metadata": {
        "colab": {
          "base_uri": "https://localhost:8080/"
        },
        "id": "LqjWEtDLl_SX",
        "outputId": "3656be13-2916-45ae-f73f-08932ca07b41"
      },
      "execution_count": null,
      "outputs": [
        {
          "output_type": "stream",
          "name": "stdout",
          "text": [
            "Train f1 score 0.876993567201608\n",
            "Test f1 score 0.8284902136079639\n"
          ]
        }
      ]
    },
    {
      "cell_type": "code",
      "source": [
        "confusion_matrices_plot(y_train,y_train_pred,y_test,y_test_pred,'dt.png')"
      ],
      "metadata": {
        "colab": {
          "base_uri": "https://localhost:8080/",
          "height": 350
        },
        "id": "vt1irgBhmD0P",
        "outputId": "8a7b7223-b0ec-4731-9bdd-f883cbcf9ed0"
      },
      "execution_count": null,
      "outputs": [
        {
          "output_type": "display_data",
          "data": {
            "text/plain": [
              "<Figure size 1080x360 with 4 Axes>"
            ],
            "image/png": "[encoded data removed]"
          },
          "metadata": {
            "needs_background": "light"
          }
        }
      ]
    },
    {
      "cell_type": "code",
      "source": [
        "#Random forest\n",
        "estimators = [5,10,50,100,250,500]\n",
        "train_scores = []\n",
        "test_scores = []\n",
        "for i in estimators:\n",
        "    clf = RandomForestClassifier(bootstrap=True, class_weight=None, criterion='gini',\n",
        "            max_depth=5, max_features='auto', max_leaf_nodes=None,\n",
        "            min_impurity_decrease=0.0,\n",
        "            min_samples_leaf=52, min_samples_split=120,\n",
        "            min_weight_fraction_leaf=0.0, n_estimators=i, n_jobs=-1,random_state=25,verbose=0,warm_start=False)\n",
        "    clf.fit(X_train_encode,y_train)\n",
        "    train_sc = f1_score(y_train,clf.predict(X_train_encode),average='macro')\n",
        "    test_sc = f1_score(y_test,clf.predict(X_test_encode),average='macro')\n",
        "    test_scores.append(test_sc)\n",
        "    train_scores.append(train_sc)\n",
        "    print('Estimators = ',i,'Train Score',train_sc,'test Score',test_sc)\n",
        "plt.plot(estimators,train_scores,label='Train Score',color='black')\n",
        "plt.plot(estimators,test_scores,label='Test Score',color='#425a90',alpha=0.7)\n",
        "plt.xlabel('Estimators')\n",
        "plt.ylabel('Score')\n",
        "plt.title('Estimators vs score at depth of 5')\n",
        "plt.grid()"
      ],
      "metadata": {
        "colab": {
          "base_uri": "https://localhost:8080/",
          "height": 399
        },
        "id": "E5PGOjG-mIJd",
        "outputId": "22f4da74-443a-4fab-ba0e-d806b57417bc"
      },
      "execution_count": null,
      "outputs": [
        {
          "output_type": "stream",
          "name": "stdout",
          "text": [
            "Estimators =  5 Train Score 0.865430034472356 test Score 0.8305088182363036\n",
            "Estimators =  10 Train Score 0.8666596878189086 test Score 0.8320816758778288\n",
            "Estimators =  50 Train Score 0.8676786320414797 test Score 0.8323628846677086\n",
            "Estimators =  100 Train Score 0.8676463025412762 test Score 0.8327980581853178\n",
            "Estimators =  250 Train Score 0.8672305924517802 test Score 0.8327224426037871\n",
            "Estimators =  500 Train Score 0.8670334362774175 test Score 0.8331412592484913\n"
          ]
        },
        {
          "output_type": "display_data",
          "data": {
            "text/plain": [
              "<Figure size 432x288 with 1 Axes>"
            ],
            "image/png": "[encoded data removed]"
          },
          "metadata": {
            "needs_background": "light"
          }
        }
      ]
    },
    {
      "cell_type": "code",
      "source": [
        "depths = [3,9,11,15,20,35,50,70,130]\n",
        "train_scores = []\n",
        "test_scores = []\n",
        "for i in depths:\n",
        "    clf = RandomForestClassifier(bootstrap=True, class_weight=None, criterion='gini',\n",
        "            max_depth=i, max_features='auto', max_leaf_nodes=None,\n",
        "            min_impurity_decrease=0.0, \n",
        "            min_samples_leaf=52, min_samples_split=120,\n",
        "            min_weight_fraction_leaf=0.0, n_estimators=115, n_jobs=-1,random_state=25,verbose=0,warm_start=False)\n",
        "    clf.fit(X_train_encode,y_train)\n",
        "    train_sc = f1_score(y_train,clf.predict(X_train_encode),average='macro')\n",
        "    test_sc = f1_score(y_test,clf.predict(X_test_encode),average='macro')\n",
        "    test_scores.append(test_sc)\n",
        "    train_scores.append(train_sc)\n",
        "    print('depth = ',i,'Train Score',train_sc,'test Score',test_sc)\n",
        "plt.plot(depths,train_scores,label='Train Score',color='black')\n",
        "plt.plot(depths,test_scores,label='Test Score',color='#425a90',alpha=0.6)\n",
        "plt.xlabel('Depth')\n",
        "plt.ylabel('Score')\n",
        "plt.title('Depth vs score')\n",
        "plt.grid()\n",
        "plt.show()"
      ],
      "metadata": {
        "colab": {
          "base_uri": "https://localhost:8080/"
        },
        "id": "qgoh1y4bmfkn",
        "outputId": "2aed9af2-e4d5-43f8-faac-71aaf68781a4"
      },
      "execution_count": null,
      "outputs": [
        {
          "output_type": "stream",
          "name": "stdout",
          "text": [
            "depth =  3 Train Score 0.8560652339026922 test Score 0.8248270290764603\n",
            "depth =  9 Train Score 0.8753442743109014 test Score 0.834241075837538\n",
            "depth =  11 Train Score 0.8764962370403686 test Score 0.8339140400701643\n",
            "depth =  15 Train Score 0.8772161379480221 test Score 0.8335371952928904\n",
            "depth =  20 Train Score 0.8773245944433938 test Score 0.8339488443361502\n",
            "depth =  35 Train Score 0.8772453918144039 test Score 0.8340405642832551\n",
            "depth =  50 Train Score 0.8772123954998107 test Score 0.8341472677217096\n"
          ]
        }
      ]
    },
    {
      "cell_type": "code",
      "source": [
        "from sklearn.metrics import f1_score\n",
        "from sklearn.ensemble import RandomForestClassifier\n",
        "from sklearn.metrics import f1_score\n",
        "from sklearn.model_selection import RandomizedSearchCV\n",
        "from scipy.stats import randint as sp_randint\n",
        "from scipy.stats import uniform\n",
        "\n",
        "param_dist = {\"n_estimators\":sp_randint(105,125),\n",
        "              \"max_depth\": sp_randint(10,15),\n",
        "              \"min_samples_split\": sp_randint(110,190),\n",
        "              \"min_samples_leaf\": sp_randint(25,65)}\n",
        "\n",
        "clf = RandomForestClassifier(random_state=25,n_jobs=-1)\n",
        "\n",
        "rf_random = RandomizedSearchCV(clf, param_distributions=param_dist,\n",
        "                                   n_iter=5,cv=10,scoring='f1_macro',random_state=25,return_train_score=True )\n",
        "\n",
        "rf_random.fit(X_train_encode,y_train)\n",
        "print('mean test scores',rf_random.cv_results_['mean_test_score'])\n",
        "print('mean train scores',rf_random.cv_results_['mean_train_score'])"
      ],
      "metadata": {
        "id": "YwKpu_nYmnD7"
      },
      "execution_count": null,
      "outputs": []
    },
    {
      "cell_type": "code",
      "source": [
        "# printing best parameters and score\n",
        "print(\"Best Parameters: \",rf_random.best_params_)\n",
        "print(\"Best Score: \",rf_random.best_score_)"
      ],
      "metadata": {
        "id": "jsruP3-xmptO"
      },
      "execution_count": null,
      "outputs": []
    },
    {
      "cell_type": "code",
      "source": [
        "\n",
        "# Fitting the model on best parameters\n",
        "rf_classifier = RandomForestClassifier(max_depth = 13, min_samples_leaf = 49, min_samples_split = 165, n_estimators = 108,random_state=25,\n",
        "                           n_jobs=-1)\n",
        "rf_classifier.fit(X_train_encode,y_train)\n",
        "\n",
        "y_train_pred = rf_classifier.predict(X_train_encode)\n",
        "y_test_pred = rf_classifier.predict(X_test_encode)\n",
        "\n",
        "# printing train and test scores\n",
        "print('Train f1 score',f1_score(y_train,y_train_pred,average='macro'))\n",
        "print('Test f1 score',f1_score(y_test,y_test_pred,average='macro'))"
      ],
      "metadata": {
        "id": "bv1w6bk7mr93"
      },
      "execution_count": null,
      "outputs": []
    },
    {
      "cell_type": "code",
      "source": [
        "confusion_matrices_plot(y_train,y_train_pred,y_test,y_test_pred,'rf.png')"
      ],
      "metadata": {
        "colab": {
          "base_uri": "https://localhost:8080/",
          "height": 350
        },
        "id": "6_B8K7mdo1vU",
        "outputId": "53ffa014-9510-4d8b-f7ec-20845a168c42"
      },
      "execution_count": null,
      "outputs": [
        {
          "output_type": "display_data",
          "data": {
            "text/plain": [
              "<Figure size 1080x360 with 4 Axes>"
            ],
            "image/png": "[encoded data removed]"
          },
          "metadata": {
            "needs_background": "light"
          }
        }
      ]
    },
    {
      "cell_type": "code",
      "source": [
        "from sklearn.svm import SVC as svc \n",
        "\n",
        "train_scores = []\n",
        "test_scores = []\n",
        "for i in depth:\n",
        "    clf = svc(max_depth=i,random_state=25)\n",
        "    clf.fit(X_train_encode,y_train)\n",
        "    train_sc = f1_score(y_train,clf.predict(X_train_encode),average='macro')\n",
        "    test_sc = f1_score(y_test,clf.predict(X_test_encode),average='macro')\n",
        "    test_scores.append(test_sc)\n",
        "    train_scores.append(train_sc)\n",
        "    print('Depth = ',i,'Train Score',train_sc,'test Score',test_sc)\n",
        "\n",
        "# plotting the score vs depth\n",
        "plt.plot(depth,train_scores,label='Train Score',color='black')\n",
        "plt.plot(depth,test_scores,label='Test Score',color='#425a90',alpha=0.6)\n",
        "plt.xlabel('Depth')\n",
        "plt.ylabel('Score')\n",
        "plt.title('Depth vs Score')\n",
        "plt.grid()\n",
        "plt.show()"
      ],
      "metadata": {
        "id": "EJqzOzfRpE7z"
      },
      "execution_count": null,
      "outputs": []
    },
    {
      "cell_type": "code",
      "source": [
        "from scipy import stats\n",
        "mdl = svc(probability = True, random_state = 1)\n",
        "\n",
        "rand_list = {\"C\": stats.uniform(2, 10),\n",
        "             \"gamma\": stats.uniform(0.1, 1)}\n",
        "              \n",
        "rand_search = RandomizedSearchCV(mdl, param_distributions = rand_list, n_iter = 20, n_jobs = 4, cv = 3, random_state = 2017, scoring = auc) \n",
        "rand_search.fit(x, y) \n",
        "rand_search.cv_results_\n",
        "\n",
        "\n",
        "\n",
        "\n",
        "print('mean test scores',rand_search.cv_results_['mean_test_score'])\n",
        "print('mean train scores',rand_search.cv_results_['mean_train_score'])"
      ],
      "metadata": {
        "id": "csoIGGQGpQHe"
      },
      "execution_count": null,
      "outputs": []
    }
  ],
  "metadata": {
    "accelerator": "GPU",
    "colab": {
      "collapsed_sections": [],
      "machine_shape": "hm",
      "provenance": []
    },
    "kernelspec": {
      "display_name": "Python 3",
      "name": "python3"
    }
  },
  "nbformat": 4,
  "nbformat_minor": 0
}